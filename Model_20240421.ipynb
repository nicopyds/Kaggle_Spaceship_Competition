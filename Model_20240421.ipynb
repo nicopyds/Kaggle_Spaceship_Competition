{
 "cells": [
  {
   "cell_type": "markdown",
   "id": "f490e55d",
   "metadata": {},
   "source": [
    "# Imports"
   ]
  },
  {
   "cell_type": "code",
   "execution_count": 1,
   "id": "87199426-35a2-4b64-9668-ef7c6ffe9874",
   "metadata": {},
   "outputs": [],
   "source": [
    "import warnings\n",
    "warnings.filterwarnings(\"ignore\")\n",
    "\n",
    "import os\n",
    "import sys\n",
    "\n",
    "import datetime\n",
    "\n",
    "from typing import Union\n",
    "\n",
    "import numpy as np\n",
    "import pandas as pd\n",
    "\n",
    "import seaborn as sns\n",
    "\n",
    "import matplotlib\n",
    "import matplotlib.pyplot as plt\n",
    "%matplotlib inline\n",
    "\n",
    "from sklearn.base import BaseEstimator, TransformerMixin\n",
    "from sklearn.pipeline import Pipeline, FeatureUnion, FunctionTransformer\n",
    "from sklearn.compose import ColumnTransformer, make_column_selector, make_column_transformer\n",
    "from sklearn.impute import SimpleImputer\n",
    "from sklearn.preprocessing import Binarizer, OneHotEncoder, OrdinalEncoder, KBinsDiscretizer\n",
    "from sklearn.tree import DecisionTreeClassifier, plot_tree\n",
    "from sklearn.model_selection import cross_val_score\n",
    "from sklearn.ensemble import RandomForestClassifier, HistGradientBoostingClassifier, VotingClassifier\n",
    "\n",
    "import catboost\n",
    "import xgboost\n",
    "import lightgbm"
   ]
  },
  {
   "cell_type": "code",
   "execution_count": null,
   "id": "cfbe49ba-7217-44de-8194-1ef1efe88c06",
   "metadata": {},
   "outputs": [],
   "source": [
    "import sklearn\n",
    "from sklearn import set_config"
   ]
  },
  {
   "cell_type": "code",
   "execution_count": null,
   "id": "f0fd807c",
   "metadata": {},
   "outputs": [],
   "source": [
    "print(f\"scikit-learn version is {sklearn.__version__}\")"
   ]
  },
  {
   "cell_type": "code",
   "execution_count": null,
   "id": "70e7f5ad",
   "metadata": {},
   "outputs": [],
   "source": [
    "if sklearn.__version__ not in [\"1.2.0\", \"1.2.2\", \"1.4.1.post1\"]:\n",
    "    os.system(\"pip install scikit-learn==1.2.0\")"
   ]
  },
  {
   "cell_type": "markdown",
   "id": "a05b6d2c",
   "metadata": {},
   "source": [
    "# Global Configuration"
   ]
  },
  {
   "cell_type": "code",
   "execution_count": null,
   "id": "dd90fcd5-9e92-42d0-9516-b5e9848c21e9",
   "metadata": {},
   "outputs": [],
   "source": [
    "set_config(transform_output=\"pandas\")"
   ]
  },
  {
   "cell_type": "code",
   "execution_count": null,
   "id": "5b4991c5",
   "metadata": {},
   "outputs": [],
   "source": [
    "CWD = os.getcwd()\n",
    "KAGGLE = \"kaggle\" in CWD"
   ]
  },
  {
   "cell_type": "code",
   "execution_count": null,
   "id": "ca0d8ccc",
   "metadata": {},
   "outputs": [],
   "source": [
    "print(CWD)"
   ]
  },
  {
   "cell_type": "code",
   "execution_count": null,
   "id": "26b93958-9737-4950-b01a-b7500bd2fc52",
   "metadata": {},
   "outputs": [],
   "source": [
    "if not KAGGLE:\n",
    "    PATH_INPUT = os.path.join(CWD, \"input\")\n",
    "    PATH_INPUT_TRAIN = os.path.join(PATH_INPUT, \"train.csv\")\n",
    "    PATH_INPUT_TEST = os.path.join(PATH_INPUT, \"test.csv\")\n",
    "    \n",
    "    print(os.listdir(PATH_INPUT))\n",
    "    \n",
    "else:\n",
    "    PATH_INPUT_TRAIN = \"/kaggle/input/spaceship-titanic/train.csv\"\n",
    "    PATH_INPUT_TEST = \"/kaggle/input/spaceship-titanic/test.csv\""
   ]
  },
  {
   "cell_type": "code",
   "execution_count": null,
   "id": "208f90a7-8e63-4659-b83d-396ea490c5b3",
   "metadata": {},
   "outputs": [],
   "source": [
    "sorted(os.listdir(CWD))"
   ]
  },
  {
   "cell_type": "code",
   "execution_count": null,
   "id": "6088972b",
   "metadata": {},
   "outputs": [],
   "source": [
    "sys.path"
   ]
  },
  {
   "cell_type": "code",
   "execution_count": null,
   "id": "428e0e7b",
   "metadata": {},
   "outputs": [],
   "source": [
    "sys.path.insert(0, os.path.join(CWD, \"src\"))"
   ]
  },
  {
   "cell_type": "code",
   "execution_count": null,
   "id": "e6c1b461",
   "metadata": {},
   "outputs": [],
   "source": [
    "from src import (\n",
    "    SurnameExtractor,\n",
    "    CabinLetterExtractor,\n",
    "    CustomOrdinalEncoder\n",
    ")"
   ]
  },
  {
   "cell_type": "markdown",
   "id": "d5ed6d14",
   "metadata": {},
   "source": [
    "# Helper functions"
   ]
  },
  {
   "cell_type": "code",
   "execution_count": null,
   "id": "8bfa1522",
   "metadata": {},
   "outputs": [],
   "source": [
    "def load_data():\n",
    "    \n",
    "    X_train = pd.read_csv(PATH_INPUT_TRAIN).set_index(\"PassengerId\")\n",
    "    X_test = pd.read_csv(PATH_INPUT_TEST).set_index(\"PassengerId\")\n",
    "    \n",
    "    return X_train, X_test"
   ]
  },
  {
   "cell_type": "markdown",
   "id": "e8b8741f",
   "metadata": {},
   "source": [
    "# Data Loading"
   ]
  },
  {
   "cell_type": "code",
   "execution_count": null,
   "id": "e5b9a93c",
   "metadata": {},
   "outputs": [],
   "source": [
    "X_train, X_test = load_data()"
   ]
  },
  {
   "cell_type": "code",
   "execution_count": null,
   "id": "900dcd88",
   "metadata": {},
   "outputs": [],
   "source": [
    "X_train[X_train[\"Spa\"] > 100][\"Spa\"].plot(kind = \"hist\", bins = 100)"
   ]
  },
  {
   "cell_type": "code",
   "execution_count": null,
   "id": "fe91c156",
   "metadata": {},
   "outputs": [],
   "source": [
    "y = X_train.pop(\"Transported\")"
   ]
  },
  {
   "cell_type": "markdown",
   "id": "115e4536",
   "metadata": {},
   "source": [
    "# Impute data with Pipelines"
   ]
  },
  {
   "cell_type": "code",
   "execution_count": null,
   "id": "a1d43ec8-0644-47c7-82fd-1923ff693966",
   "metadata": {},
   "outputs": [],
   "source": [
    "ct_impute = ColumnTransformer(\n",
    "    transformers = [\n",
    "        (\"impute_numerical\", SimpleImputer(strategy=\"mean\"), make_column_selector(dtype_include=np.number)),\n",
    "        (\"impute_cabin\", SimpleImputer(strategy=\"constant\", fill_value=\"NA\"), [\"Cabin\"]),\n",
    "        (\n",
    "            \"impute_categorical\",\n",
    "            SimpleImputer(strategy=\"most_frequent\"),\n",
    "            ['HomePlanet', 'CryoSleep', 'Destination', 'VIP', 'Name']\n",
    "        )\n",
    "    ],\n",
    "    remainder = 'drop'\n",
    ")"
   ]
  },
  {
   "cell_type": "code",
   "execution_count": null,
   "id": "21a9fb41",
   "metadata": {},
   "outputs": [],
   "source": [
    "ct_impute"
   ]
  },
  {
   "cell_type": "markdown",
   "id": "735a9df8",
   "metadata": {},
   "source": [
    "# Preprocess Data Post Imputation"
   ]
  },
  {
   "cell_type": "code",
   "execution_count": null,
   "id": "882c7621",
   "metadata": {},
   "outputs": [],
   "source": [
    "class MiddleLetterExtractor(BaseEstimator, TransformerMixin):\n",
    "    \n",
    "    def fit(self, X, y=None):\n",
    "        return self\n",
    "    \n",
    "    def transform(self, X, y=None):\n",
    "        return X[\"impute_cabin__Cabin\"].apply(\n",
    "            lambda cabin: 2000 if cabin == \"NA\" else float(cabin.split(\"/\")[1])\n",
    "        ).to_frame()"
   ]
  },
  {
   "cell_type": "code",
   "execution_count": null,
   "id": "b358bd0f",
   "metadata": {},
   "outputs": [],
   "source": [
    "mle = MiddleLetterExtractor()"
   ]
  },
  {
   "cell_type": "code",
   "execution_count": null,
   "id": "8809be4a",
   "metadata": {},
   "outputs": [],
   "source": [
    "pipe_mle = Pipeline(\n",
    "    steps = [\n",
    "        (\"mle\", MiddleLetterExtractor()),\n",
    "        (\"fu_mle\", FeatureUnion(\n",
    "            transformer_list = [\n",
    "                (\"kbins_20\", KBinsDiscretizer(n_bins = 20, strategy = \"uniform\", encode = \"ordinal\")),\n",
    "                (\"kbins_50\", KBinsDiscretizer(n_bins = 50, strategy = \"uniform\", encode = \"ordinal\")),\n",
    "                (\"kbins_100\", KBinsDiscretizer(n_bins = 100, strategy = \"uniform\", encode = \"ordinal\"))\n",
    "            ]\n",
    "        ))   \n",
    "    ]\n",
    ")"
   ]
  },
  {
   "cell_type": "markdown",
   "id": "8c6bd97f",
   "metadata": {},
   "source": [
    "TO DO: define an EmbeddingTransfomer compatible with scikit-learn\n",
    "\n",
    "https://medium.com/@micahmelling/categorical-embeddings-in-scikit-learn-pipeline-c81071be5140"
   ]
  },
  {
   "cell_type": "code",
   "execution_count": null,
   "id": "aa2292b9",
   "metadata": {},
   "outputs": [],
   "source": [
    "fu_age = FeatureUnion(\n",
    "    transformer_list = [\n",
    "        (\"fe_age_12\", Binarizer(threshold=12)),\n",
    "        (\"fe_age_18\", Binarizer(threshold=18)),\n",
    "        (\"fe_age_buckets\", KBinsDiscretizer(encode = \"ordinal\", strategy = \"uniform\", n_bins = 8)),\n",
    "        (\"fe_age_pass\", \"passthrough\")       \n",
    "    ]\n",
    ")"
   ]
  },
  {
   "cell_type": "code",
   "execution_count": null,
   "id": "966e4c61",
   "metadata": {},
   "outputs": [],
   "source": [
    "fu_cabin = FeatureUnion(\n",
    "    transformer_list = [\n",
    "        (\"extract_first_letter\", CabinLetterExtractor(letter=\"first\")),\n",
    "        (\"extract_last_letter\", CabinLetterExtractor(letter=\"last\"))\n",
    "    ]\n",
    ")"
   ]
  },
  {
   "cell_type": "code",
   "execution_count": null,
   "id": "7947aa05",
   "metadata": {},
   "outputs": [],
   "source": [
    "fe_cabin = Pipeline(\n",
    "    steps = [\n",
    "        (\"extract_letters_from_cabin\", fu_cabin),\n",
    "        (\"ohe_first_letter\", OneHotEncoder(sparse_output=False)),\n",
    "    ]\n",
    ")"
   ]
  },
  {
   "cell_type": "code",
   "execution_count": null,
   "id": "36b595b0",
   "metadata": {},
   "outputs": [],
   "source": [
    "# We are getting all the surnames that exist in train and test\n",
    "# because our CustomOrdinalEncoder can faill when doing CV\n",
    "# or when predicting test\n",
    "surnames_ = pd.concat([X_train[[\"Name\"]], X_test[[\"Name\"]]]).dropna()"
   ]
  },
  {
   "cell_type": "code",
   "execution_count": null,
   "id": "22d79522",
   "metadata": {},
   "outputs": [],
   "source": [
    "SURNAMES = SurnameExtractor().fit_transform(surnames_).values"
   ]
  },
  {
   "cell_type": "code",
   "execution_count": null,
   "id": "7cc7efc2",
   "metadata": {},
   "outputs": [],
   "source": [
    "fe_surname = Pipeline(\n",
    "    steps = [\n",
    "        (\"extract_surname\", SurnameExtractor()),\n",
    "        (\"custom_ordinal_encoder\", CustomOrdinalEncoder(list_surnames=SURNAMES))\n",
    "    ]\n",
    ")"
   ]
  },
  {
   "cell_type": "code",
   "execution_count": null,
   "id": "8a319d39",
   "metadata": {},
   "outputs": [],
   "source": [
    "ct_fe = ColumnTransformer(\n",
    "    transformers = [\n",
    "        (\"fu_age\", fu_age, [\"impute_numerical__Age\"]),\n",
    "        (\"pass\", \"passthrough\", [1, 2, 3, 4, 5]),\n",
    "        (\"fe_cabin\", fe_cabin, [\"impute_cabin__Cabin\"]),\n",
    "        (\"mle\", pipe_mle, [\"impute_cabin__Cabin\"]),\n",
    "        (\n",
    "            \"ohe\",\n",
    "            OneHotEncoder(sparse_output=False),\n",
    "            [\"impute_categorical__HomePlanet\", \"impute_categorical__CryoSleep\", \"impute_categorical__VIP\"]\n",
    "        ),\n",
    "        (\"oe\", OrdinalEncoder(), [\"impute_categorical__Destination\"]),\n",
    "        (\"surname\", fe_surname, [\"impute_categorical__Name\"])\n",
    "    ],\n",
    "    remainder = \"passthrough\"\n",
    ")"
   ]
  },
  {
   "cell_type": "code",
   "execution_count": null,
   "id": "a6620ba2",
   "metadata": {},
   "outputs": [],
   "source": [
    "def drop_duplicated_columns(X):\n",
    "    return X.iloc[:, ~X.columns.duplicated()]"
   ]
  },
  {
   "cell_type": "code",
   "execution_count": null,
   "id": "0a75fadc",
   "metadata": {},
   "outputs": [],
   "source": [
    "def get_pipe_without_model():\n",
    "    \n",
    "    pipe = Pipeline(\n",
    "        steps = [\n",
    "            (\"impute\", ct_impute),\n",
    "            (\"fe\", ct_fe),\n",
    "            (\"drop_duplicated_columns\", FunctionTransformer(drop_duplicated_columns)),\n",
    "        ]\n",
    "    )\n",
    "    \n",
    "    return pipe"
   ]
  },
  {
   "cell_type": "code",
   "execution_count": null,
   "id": "109b8049-66f3-4be6-947b-53ad5fcee26e",
   "metadata": {},
   "outputs": [],
   "source": [
    "def get_pipe(model = None):\n",
    "    \n",
    "    if model is None:\n",
    "        return get_pipe_without_model()\n",
    "    \n",
    "    else:\n",
    "        \n",
    "        pipe = Pipeline(\n",
    "            steps = [\n",
    "                (\"impute\", ct_impute),\n",
    "                (\"fe\", ct_fe),\n",
    "                (\"drop_duplicated_columns\", FunctionTransformer(drop_duplicated_columns)),\n",
    "                (\"model\", model)\n",
    "            ]\n",
    "        )\n",
    "    \n",
    "        return pipe"
   ]
  },
  {
   "cell_type": "code",
   "execution_count": null,
   "id": "63ab9f48",
   "metadata": {},
   "outputs": [],
   "source": [
    "model = VotingClassifier(\n",
    "    estimators = [\n",
    "        (\"xgboost\", xgboost.XGBClassifier()),\n",
    "        (\"catboost\", catboost.CatBoostClassifier()),\n",
    "        (\"hgb\", HistGradientBoostingClassifier()),\n",
    "        (\"rf\", RandomForestClassifier())\n",
    "    ]\n",
    ")\n",
    "\n",
    "model = HistGradientBoostingClassifier()\n",
    "model = catboost.CatBoostClassifier()\n",
    "model = xgboost.XGBClassifier()"
   ]
  },
  {
   "cell_type": "code",
   "execution_count": null,
   "id": "51792835",
   "metadata": {},
   "outputs": [],
   "source": [
    "pipe = get_pipe(model = model)"
   ]
  },
  {
   "cell_type": "code",
   "execution_count": null,
   "id": "f002d333",
   "metadata": {},
   "outputs": [],
   "source": [
    "pipe"
   ]
  },
  {
   "cell_type": "code",
   "execution_count": null,
   "id": "14b18066",
   "metadata": {
    "scrolled": true
   },
   "outputs": [],
   "source": [
    "# cv_scores = cross_val_score(estimator=pipe, X=X_train, y=y, cv=10, n_jobs = -1)\n",
    "\n",
    "# cv_scores\n",
    "\n",
    "# np.mean(cv_scores)\n",
    "\n",
    "# np.std(cv_scores)"
   ]
  },
  {
   "cell_type": "markdown",
   "id": "da1583ea",
   "metadata": {},
   "source": [
    "# Model Explainability"
   ]
  },
  {
   "cell_type": "code",
   "execution_count": null,
   "id": "560128d8",
   "metadata": {},
   "outputs": [],
   "source": [
    "def get_fi(model):\n",
    "    \n",
    "    if isinstance(model, catboost.CatBoostClassifier):\n",
    "        return model.get_feature_importance()\n",
    "    \n",
    "    elif isinstance(model, xgboost.XGBClassifier):\n",
    "        return model.feature_importances_"
   ]
  },
  {
   "cell_type": "code",
   "execution_count": null,
   "id": "144da873",
   "metadata": {},
   "outputs": [],
   "source": [
    "def create_fi_df(model, X):\n",
    "    \n",
    "    fi = get_fi(model = model)\n",
    "    fn = X.columns\n",
    "    \n",
    "    fidf = pd.DataFrame(\n",
    "        data  = [\n",
    "            fn,\n",
    "            fi\n",
    "        ]\n",
    "    ).T\n",
    "    \n",
    "    fidf.rename(\n",
    "        columns = {\n",
    "            0:\"FeatureName\",\n",
    "            1:\"FeatureImportance\"\n",
    "        },\n",
    "        inplace = True\n",
    "    )\n",
    "    \n",
    "    return fidf.sort_values(\"FeatureImportance\", ascending = False)"
   ]
  },
  {
   "cell_type": "code",
   "execution_count": null,
   "id": "78628ba6",
   "metadata": {},
   "outputs": [],
   "source": [
    "def run_experiment(model, X_train, y):\n",
    "    \n",
    "    pipe = get_pipe(model = model)\n",
    "    \n",
    "    cv_scores = cross_val_score(\n",
    "        estimator = pipe,\n",
    "        X = X_train,\n",
    "        y = y,\n",
    "        cv = 10,\n",
    "        n_jobs = -1,\n",
    "        scoring = \"accuracy\"\n",
    "    )\n",
    "    \n",
    "    print(str(model))\n",
    "    print(cv_scores)\n",
    "    print(f\"Mean: {np.mean(cv_scores)}\")\n",
    "    print(f\"Std: {np.std(cv_scores)}\")\n",
    "    \n",
    "    Xt = pipe[:-1].fit_transform(X_train)\n",
    "    pipe.fit(X_train, y)\n",
    "    model_fitted = pipe[-1]\n",
    "    \n",
    "    try:\n",
    "        fidf = create_fi_df(model = model_fitted, X = Xt)\n",
    "    except:\n",
    "        fidf = None\n",
    "    \n",
    "    return pipe, cv_scores, Xt, model_fitted, fidf"
   ]
  },
  {
   "cell_type": "code",
   "execution_count": null,
   "id": "1c662336",
   "metadata": {},
   "outputs": [],
   "source": [
    "pipe_xgb, cv_scores_xgb, Xt_xgb, model_fitted_xgb, fidf_xgb = run_experiment(\n",
    "    model = xgboost.XGBClassifier(),\n",
    "    X_train = X_train,\n",
    "    y = y\n",
    ")"
   ]
  },
  {
   "cell_type": "code",
   "execution_count": null,
   "id": "365e4af5",
   "metadata": {},
   "outputs": [],
   "source": [
    "fidf_xgb"
   ]
  },
  {
   "cell_type": "code",
   "execution_count": null,
   "id": "40bc969f",
   "metadata": {},
   "outputs": [],
   "source": [
    "pipe_cat, cv_scores_cat, Xt_cat, model_fitted_cat, fidf_cat = run_experiment(\n",
    "    model = catboost.CatBoostClassifier(verbose = 0),\n",
    "    X_train = X_train,\n",
    "    y = y\n",
    ")"
   ]
  },
  {
   "cell_type": "code",
   "execution_count": null,
   "id": "b591501c",
   "metadata": {},
   "outputs": [],
   "source": [
    "fidf_cat"
   ]
  },
  {
   "cell_type": "code",
   "execution_count": null,
   "id": "9f465d5c",
   "metadata": {},
   "outputs": [],
   "source": [
    "model = VotingClassifier(\n",
    "    estimators = [\n",
    "        (\"xgboost\", xgboost.XGBClassifier(verbose = False)),\n",
    "        (\"catboost\", catboost.CatBoostClassifier(verbose = 0)),\n",
    "        (\"hgb\", HistGradientBoostingClassifier()),\n",
    "        (\"rf\", RandomForestClassifier())\n",
    "    ]\n",
    ")"
   ]
  },
  {
   "cell_type": "code",
   "execution_count": null,
   "id": "0a99ff16",
   "metadata": {},
   "outputs": [],
   "source": [
    "model"
   ]
  },
  {
   "cell_type": "code",
   "execution_count": null,
   "id": "ec3501fa",
   "metadata": {},
   "outputs": [],
   "source": [
    "pipe_vc, cv_scores_vc, Xt_vc, model_fitted_vc, fidf_vc = run_experiment(\n",
    "    model = model,\n",
    "    X_train = X_train,\n",
    "    y = y\n",
    ")"
   ]
  },
  {
   "cell_type": "markdown",
   "id": "c21f1de3",
   "metadata": {},
   "source": [
    "# Submission a Kaggle"
   ]
  },
  {
   "cell_type": "code",
   "execution_count": null,
   "id": "58d20884",
   "metadata": {},
   "outputs": [],
   "source": [
    "pipe = pipe_vc"
   ]
  },
  {
   "cell_type": "code",
   "execution_count": null,
   "id": "879d0bf3",
   "metadata": {},
   "outputs": [],
   "source": [
    "y_pred = pipe.predict(X_test)"
   ]
  },
  {
   "cell_type": "code",
   "execution_count": null,
   "id": "3d7d85d2",
   "metadata": {},
   "outputs": [],
   "source": [
    "timestamp = datetime.datetime.now().strftime(\"%Y_%m_%d_%H_%M_%S\")\n",
    "timestamp"
   ]
  },
  {
   "cell_type": "code",
   "execution_count": null,
   "id": "744c7adc",
   "metadata": {},
   "outputs": [],
   "source": [
    "X_test_copy = X_test.copy(deep = True)"
   ]
  },
  {
   "cell_type": "code",
   "execution_count": null,
   "id": "f051e2ef",
   "metadata": {},
   "outputs": [],
   "source": [
    "X_test_copy[\"Transported\"] = list(map(bool, y_pred))"
   ]
  },
  {
   "cell_type": "code",
   "execution_count": null,
   "id": "27a15a99",
   "metadata": {},
   "outputs": [],
   "source": [
    "if not KAGGLE:\n",
    "    path_export = os.path.join(CWD, \"outputs\", f\"submission_{timestamp}.csv\")\n",
    "else:\n",
    "    path_export = f\"submission_{timestamp}.csv\""
   ]
  },
  {
   "cell_type": "code",
   "execution_count": null,
   "id": "777cf1cc",
   "metadata": {},
   "outputs": [],
   "source": [
    "(\n",
    "    X_test_copy\n",
    "    .reset_index()\n",
    "    [[\"PassengerId\", \"Transported\"]]\n",
    "    .to_csv(path_export, index=False)\n",
    ")"
   ]
  },
  {
   "cell_type": "code",
   "execution_count": null,
   "id": "ba16c998",
   "metadata": {},
   "outputs": [],
   "source": [
    "# Benchmark -                        0.7234581961033293\n",
    "# New Model con OHE -                0.7155214740155814\n",
    "# New Model con 4 depth -            0.764529582159438\n",
    "# Model with 4 depth y CabinFe -     0.7709713900242054\n",
    "# HistGradient default params y -    0.7998441860772721\n",
    "# HistGradient default params y -    0.8028344113328835  # Leaderboard - 1359\n",
    "# default pipe + OE de Destionation\n",
    "\n",
    "# HistGradient default params y -    0.8036411253521687  # Leaderboard - 1359 - 0.79331\n",
    "# default pipe + OE de Destionation\n",
    "# First and Last letter de Cabin\n",
    "\n",
    "# HistGradient default params y -    0.8043334259222517 # Leaderboard -  1093 - 0.79682\n",
    "# default pipe + OE de Destionation\n",
    "# First and Last letter de Cabin\n",
    "# Surname CustomOrdinalEncoder\n",
    "\n",
    "# CatBoost default params y -        0.799844450617039 # Leaderboard -  985 - 0.79822\n",
    "# default pipe + OE de Destionation\n",
    "# First and Last letter de Cabin\n",
    "# Surname CustomOrdinalEncoder\n",
    "\n",
    "# CatBoost default params y -        0.8023753025673586 # Leaderboard -  965 - 0.79869\n",
    "# default pipe + OE de Destionation\n",
    "# First and Last letter de Cabin\n",
    "# Surname CustomOrdinalEncoder\n",
    "# KBinsDiscretizer + Age\n",
    "\n",
    "# Pipe with VotingClassifier        0.800306601589884   # Leaderboard - 966 - 0.79518\n",
    "# 4 models: cat, xgb, hgb, rf\n",
    "\n",
    "# Pipe with Catboost                \n",
    "# 20, 50, 100 KBinsDiscretizar Cabin 0.7833970874171661 # Leaderboard - 744 - 0.80149\n",
    "\n",
    "# Pipe with VotingClassfier (cat, xgb, rf, hgb)               \n",
    "# 20, 50, 100 KBinsDiscretizar Cabin 0.7830545084189782 # Leaderboard - 672 - 0.80243"
   ]
  },
  {
   "cell_type": "markdown",
   "id": "cf804175",
   "metadata": {},
   "source": [
    "# The End"
   ]
  }
 ],
 "metadata": {
  "kernelspec": {
   "display_name": "env_skrub",
   "language": "python",
   "name": "env_skrub"
  },
  "language_info": {
   "codemirror_mode": {
    "name": "ipython",
    "version": 3
   },
   "file_extension": ".py",
   "mimetype": "text/x-python",
   "name": "python",
   "nbconvert_exporter": "python",
   "pygments_lexer": "ipython3",
   "version": "3.10.14"
  }
 },
 "nbformat": 4,
 "nbformat_minor": 5
}
