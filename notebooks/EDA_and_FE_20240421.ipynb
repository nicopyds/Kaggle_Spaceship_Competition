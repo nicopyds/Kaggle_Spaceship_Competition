{
 "cells": [
  {
   "cell_type": "markdown",
   "id": "3c0c9542",
   "metadata": {},
   "source": [
    "# Imports"
   ]
  },
  {
   "cell_type": "code",
   "execution_count": 1,
   "id": "87199426-35a2-4b64-9668-ef7c6ffe9874",
   "metadata": {},
   "outputs": [],
   "source": [
    "import os\n",
    "\n",
    "import datetime\n",
    "\n",
    "from typing import Union\n",
    "\n",
    "import numpy as np\n",
    "import pandas as pd\n",
    "\n",
    "import seaborn as sns\n",
    "\n",
    "import matplotlib\n",
    "import matplotlib.pyplot as plt\n",
    "%matplotlib inline\n",
    "\n",
    "from sklearn.base import BaseEstimator, TransformerMixin\n",
    "from sklearn.pipeline import Pipeline, FeatureUnion, FunctionTransformer\n",
    "from sklearn.compose import ColumnTransformer, make_column_selector, make_column_transformer\n",
    "from sklearn.impute import SimpleImputer\n",
    "from sklearn.preprocessing import Binarizer, OneHotEncoder, OrdinalEncoder, KBinsDiscretizer\n",
    "from sklearn.tree import DecisionTreeClassifier, plot_tree\n",
    "from sklearn.model_selection import cross_val_score\n",
    "from sklearn.ensemble import RandomForestClassifier, HistGradientBoostingClassifier, VotingClassifier\n",
    "\n",
    "import catboost\n",
    "import xgboost"
   ]
  },
  {
   "cell_type": "code",
   "execution_count": 2,
   "id": "cfbe49ba-7217-44de-8194-1ef1efe88c06",
   "metadata": {},
   "outputs": [],
   "source": [
    "import sklearn\n",
    "from sklearn import set_config"
   ]
  },
  {
   "cell_type": "code",
   "execution_count": 3,
   "id": "f0fd807c",
   "metadata": {},
   "outputs": [
    {
     "name": "stdout",
     "output_type": "stream",
     "text": [
      "scikit-learn version is 1.4.1.post1\n"
     ]
    }
   ],
   "source": [
    "print(f\"scikit-learn version is {sklearn.__version__}\")"
   ]
  },
  {
   "cell_type": "code",
   "execution_count": 4,
   "id": "70e7f5ad",
   "metadata": {},
   "outputs": [],
   "source": [
    "if sklearn.__version__ not in [\"1.2.0\", \"1.2.2\", \"1.4.1.post1\"]:\n",
    "    os.system(\"pip install scikit-learn==1.2.0\")"
   ]
  },
  {
   "cell_type": "markdown",
   "id": "a05b6d2c",
   "metadata": {},
   "source": [
    "# Global Configuration"
   ]
  },
  {
   "cell_type": "code",
   "execution_count": 5,
   "id": "dd90fcd5-9e92-42d0-9516-b5e9848c21e9",
   "metadata": {},
   "outputs": [],
   "source": [
    "set_config(transform_output=\"pandas\")"
   ]
  },
  {
   "cell_type": "code",
   "execution_count": 6,
   "id": "5b4991c5",
   "metadata": {},
   "outputs": [],
   "source": [
    "CWD = os.getcwd()\n",
    "KAGGLE = \"kaggle\" in CWD"
   ]
  },
  {
   "cell_type": "code",
   "execution_count": 7,
   "id": "ca0d8ccc",
   "metadata": {},
   "outputs": [
    {
     "name": "stdout",
     "output_type": "stream",
     "text": [
      "/Users/nicolaepopescul/Desktop/streams/20240328_sklearn_modelo_benchmark_ml\n"
     ]
    }
   ],
   "source": [
    "print(CWD)"
   ]
  },
  {
   "cell_type": "code",
   "execution_count": 8,
   "id": "26b93958-9737-4950-b01a-b7500bd2fc52",
   "metadata": {},
   "outputs": [
    {
     "name": "stdout",
     "output_type": "stream",
     "text": [
      "['test.csv', 'spaceship-titanic.zip', 'train.csv', 'sample_submission.csv']\n"
     ]
    }
   ],
   "source": [
    "if not KAGGLE:\n",
    "    PATH_INPUT = os.path.join(CWD, \"input\")\n",
    "    PATH_INPUT_TRAIN = os.path.join(PATH_INPUT, \"train.csv\")\n",
    "    PATH_INPUT_TEST = os.path.join(PATH_INPUT, \"test.csv\")\n",
    "    \n",
    "    print(os.listdir(PATH_INPUT))\n",
    "    \n",
    "else:\n",
    "    PATH_INPUT_TRAIN = \"/kaggle/input/spaceship-titanic/train.csv\"\n",
    "    PATH_INPUT_TEST = \"/kaggle/input/spaceship-titanic/test.csv\""
   ]
  },
  {
   "cell_type": "code",
   "execution_count": 9,
   "id": "208f90a7-8e63-4659-b83d-396ea490c5b3",
   "metadata": {},
   "outputs": [
    {
     "data": {
      "text/plain": [
       "['.DS_Store',\n",
       " '.ipynb_checkpoints',\n",
       " 'Benchmark_20240421.ipynb',\n",
       " 'catboost_info',\n",
       " 'input',\n",
       " 'notebooks',\n",
       " 'outputs',\n",
       " 'requirements.txt',\n",
       " 'requirements_py310.txt',\n",
       " 'venvs',\n",
       " 'videos']"
      ]
     },
     "execution_count": 9,
     "metadata": {},
     "output_type": "execute_result"
    }
   ],
   "source": [
    "sorted(os.listdir(CWD))"
   ]
  },
  {
   "cell_type": "markdown",
   "id": "d5ed6d14",
   "metadata": {},
   "source": [
    "# Helper functions"
   ]
  },
  {
   "cell_type": "code",
   "execution_count": 10,
   "id": "8bfa1522",
   "metadata": {},
   "outputs": [],
   "source": [
    "def load_data():\n",
    "    \n",
    "    X_train = pd.read_csv(PATH_INPUT_TRAIN).set_index(\"PassengerId\")\n",
    "    X_test = pd.read_csv(PATH_INPUT_TEST).set_index(\"PassengerId\")\n",
    "    \n",
    "    return X_train, X_test"
   ]
  },
  {
   "cell_type": "markdown",
   "id": "0b484da1",
   "metadata": {},
   "source": [
    "# Dataset loading & EDA"
   ]
  },
  {
   "cell_type": "code",
   "execution_count": 52,
   "id": "627d4f0d-2d43-478a-861b-89111db18547",
   "metadata": {},
   "outputs": [],
   "source": [
    "X, _ = load_data()"
   ]
  },
  {
   "cell_type": "code",
   "execution_count": 158,
   "id": "41d3ea38",
   "metadata": {},
   "outputs": [
    {
     "data": {
      "text/plain": [
       "PassengerId\n",
       "0001_01       0.0\n",
       "0002_01     549.0\n",
       "0003_01    6715.0\n",
       "0003_02    3329.0\n",
       "0004_01     565.0\n",
       "            ...  \n",
       "9276_01    1643.0\n",
       "9278_01       0.0\n",
       "9279_01       1.0\n",
       "9280_01     353.0\n",
       "9280_02       0.0\n",
       "Name: Spa, Length: 8693, dtype: float64"
      ]
     },
     "execution_count": 158,
     "metadata": {},
     "output_type": "execute_result"
    }
   ],
   "source": [
    "X[\"Spa\"]"
   ]
  },
  {
   "cell_type": "code",
   "execution_count": 54,
   "id": "ac774fed",
   "metadata": {},
   "outputs": [
    {
     "data": {
      "text/plain": [
       "PassengerId\n",
       "0001_01       B/0/P\n",
       "0002_01       F/0/S\n",
       "0003_01       A/0/S\n",
       "0003_02       A/0/S\n",
       "0004_01       F/1/S\n",
       "             ...   \n",
       "9276_01      A/98/P\n",
       "9278_01    G/1499/S\n",
       "9279_01    G/1500/S\n",
       "9280_01     E/608/S\n",
       "9280_02     E/608/S\n",
       "Name: Cabin, Length: 8693, dtype: object"
      ]
     },
     "execution_count": 54,
     "metadata": {},
     "output_type": "execute_result"
    }
   ],
   "source": [
    "X[\"Cabin\"]"
   ]
  },
  {
   "cell_type": "code",
   "execution_count": 57,
   "id": "c09ce138",
   "metadata": {},
   "outputs": [],
   "source": [
    "X_ = X[\"Cabin\"].str.split(\"/\", expand = True)"
   ]
  },
  {
   "cell_type": "code",
   "execution_count": 61,
   "id": "6d2c4675",
   "metadata": {},
   "outputs": [],
   "source": [
    "X_.rename(\n",
    "    columns = {\n",
    "        0:\"FirstLetter\",\n",
    "        1:\"MiddleLetter\",\n",
    "        2:\"LastLetter\"\n",
    "    },\n",
    "    inplace = True\n",
    ")"
   ]
  },
  {
   "cell_type": "code",
   "execution_count": 64,
   "id": "267626dd",
   "metadata": {},
   "outputs": [],
   "source": [
    "X = pd.concat(\n",
    "    [\n",
    "        X,\n",
    "        X_\n",
    "    ],\n",
    "    axis = 1\n",
    ")"
   ]
  },
  {
   "cell_type": "code",
   "execution_count": 67,
   "id": "6b252e48",
   "metadata": {},
   "outputs": [
    {
     "data": {
      "text/plain": [
       "(8693, 16)"
      ]
     },
     "execution_count": 67,
     "metadata": {},
     "output_type": "execute_result"
    }
   ],
   "source": [
    "X.shape"
   ]
  },
  {
   "cell_type": "code",
   "execution_count": 66,
   "id": "af4c4161",
   "metadata": {},
   "outputs": [
    {
     "data": {
      "text/plain": [
       "1817"
      ]
     },
     "execution_count": 66,
     "metadata": {},
     "output_type": "execute_result"
    }
   ],
   "source": [
    "X[\"MiddleLetter\"].nunique()"
   ]
  },
  {
   "cell_type": "code",
   "execution_count": 70,
   "id": "bbfdaa8f",
   "metadata": {},
   "outputs": [
    {
     "data": {
      "text/plain": [
       "199"
      ]
     },
     "execution_count": 70,
     "metadata": {},
     "output_type": "execute_result"
    }
   ],
   "source": [
    "X[\"MiddleLetter\"].isnull().sum()"
   ]
  },
  {
   "cell_type": "code",
   "execution_count": 72,
   "id": "8e58b1eb",
   "metadata": {},
   "outputs": [],
   "source": [
    "X[\"MiddleLetter\"] = X[\"MiddleLetter\"].astype(float)"
   ]
  },
  {
   "cell_type": "code",
   "execution_count": 93,
   "id": "7fc57d21",
   "metadata": {},
   "outputs": [],
   "source": [
    "X[\"MiddleLetter\"] = X[\"MiddleLetter\"].fillna(2_000)"
   ]
  },
  {
   "cell_type": "code",
   "execution_count": 115,
   "id": "348a83cf",
   "metadata": {},
   "outputs": [
    {
     "name": "stderr",
     "output_type": "stream",
     "text": [
      "/var/folders/m8/pkh7yz5j3_318g64strn1y680000gn/T/ipykernel_48438/244760768.py:2: FutureWarning: The provided callable <function mean at 0x1074d7d90> is currently using SeriesGroupBy.mean. In a future version of pandas, the provided callable will be used directly. To keep current behavior pass the string \"mean\" instead.\n",
      "  X\n"
     ]
    }
   ],
   "source": [
    "gbdf = (\n",
    "    X\n",
    "    .groupby([\"MiddleLetter\"])\n",
    "    .agg(\n",
    "        mean_transported  = (\"Transported\", np.mean),\n",
    "        nr_transported  = (\"Transported\", len)\n",
    "    )\n",
    "    .reset_index()\n",
    ")"
   ]
  },
  {
   "cell_type": "code",
   "execution_count": 116,
   "id": "4bb16b76",
   "metadata": {},
   "outputs": [
    {
     "data": {
      "text/html": [
       "<div>\n",
       "<style scoped>\n",
       "    .dataframe tbody tr th:only-of-type {\n",
       "        vertical-align: middle;\n",
       "    }\n",
       "\n",
       "    .dataframe tbody tr th {\n",
       "        vertical-align: top;\n",
       "    }\n",
       "\n",
       "    .dataframe thead th {\n",
       "        text-align: right;\n",
       "    }\n",
       "</style>\n",
       "<table border=\"1\" class=\"dataframe\">\n",
       "  <thead>\n",
       "    <tr style=\"text-align: right;\">\n",
       "      <th></th>\n",
       "      <th>MiddleLetter</th>\n",
       "      <th>mean_transported</th>\n",
       "      <th>nr_transported</th>\n",
       "    </tr>\n",
       "  </thead>\n",
       "  <tbody>\n",
       "    <tr>\n",
       "      <th>0</th>\n",
       "      <td>0.0</td>\n",
       "      <td>0.333333</td>\n",
       "      <td>18</td>\n",
       "    </tr>\n",
       "    <tr>\n",
       "      <th>1</th>\n",
       "      <td>1.0</td>\n",
       "      <td>0.666667</td>\n",
       "      <td>15</td>\n",
       "    </tr>\n",
       "    <tr>\n",
       "      <th>2</th>\n",
       "      <td>2.0</td>\n",
       "      <td>0.454545</td>\n",
       "      <td>11</td>\n",
       "    </tr>\n",
       "    <tr>\n",
       "      <th>3</th>\n",
       "      <td>3.0</td>\n",
       "      <td>0.687500</td>\n",
       "      <td>16</td>\n",
       "    </tr>\n",
       "    <tr>\n",
       "      <th>4</th>\n",
       "      <td>4.0</td>\n",
       "      <td>0.285714</td>\n",
       "      <td>7</td>\n",
       "    </tr>\n",
       "    <tr>\n",
       "      <th>...</th>\n",
       "      <td>...</td>\n",
       "      <td>...</td>\n",
       "      <td>...</td>\n",
       "    </tr>\n",
       "    <tr>\n",
       "      <th>1813</th>\n",
       "      <td>1891.0</td>\n",
       "      <td>1.000000</td>\n",
       "      <td>1</td>\n",
       "    </tr>\n",
       "    <tr>\n",
       "      <th>1814</th>\n",
       "      <td>1892.0</td>\n",
       "      <td>0.000000</td>\n",
       "      <td>1</td>\n",
       "    </tr>\n",
       "    <tr>\n",
       "      <th>1815</th>\n",
       "      <td>1893.0</td>\n",
       "      <td>1.000000</td>\n",
       "      <td>1</td>\n",
       "    </tr>\n",
       "    <tr>\n",
       "      <th>1816</th>\n",
       "      <td>1894.0</td>\n",
       "      <td>0.000000</td>\n",
       "      <td>1</td>\n",
       "    </tr>\n",
       "    <tr>\n",
       "      <th>1817</th>\n",
       "      <td>2000.0</td>\n",
       "      <td>0.502513</td>\n",
       "      <td>199</td>\n",
       "    </tr>\n",
       "  </tbody>\n",
       "</table>\n",
       "<p>1818 rows × 3 columns</p>\n",
       "</div>"
      ],
      "text/plain": [
       "      MiddleLetter  mean_transported  nr_transported\n",
       "0              0.0          0.333333              18\n",
       "1              1.0          0.666667              15\n",
       "2              2.0          0.454545              11\n",
       "3              3.0          0.687500              16\n",
       "4              4.0          0.285714               7\n",
       "...            ...               ...             ...\n",
       "1813        1891.0          1.000000               1\n",
       "1814        1892.0          0.000000               1\n",
       "1815        1893.0          1.000000               1\n",
       "1816        1894.0          0.000000               1\n",
       "1817        2000.0          0.502513             199\n",
       "\n",
       "[1818 rows x 3 columns]"
      ]
     },
     "execution_count": 116,
     "metadata": {},
     "output_type": "execute_result"
    }
   ],
   "source": [
    "gbdf"
   ]
  },
  {
   "cell_type": "code",
   "execution_count": 117,
   "id": "6e15c220",
   "metadata": {},
   "outputs": [
    {
     "data": {
      "text/html": [
       "<div>\n",
       "<style scoped>\n",
       "    .dataframe tbody tr th:only-of-type {\n",
       "        vertical-align: middle;\n",
       "    }\n",
       "\n",
       "    .dataframe tbody tr th {\n",
       "        vertical-align: top;\n",
       "    }\n",
       "\n",
       "    .dataframe thead th {\n",
       "        text-align: right;\n",
       "    }\n",
       "</style>\n",
       "<table border=\"1\" class=\"dataframe\">\n",
       "  <thead>\n",
       "    <tr style=\"text-align: right;\">\n",
       "      <th></th>\n",
       "      <th>MiddleLetter</th>\n",
       "      <th>mean_transported</th>\n",
       "      <th>nr_transported</th>\n",
       "    </tr>\n",
       "  </thead>\n",
       "  <tbody>\n",
       "    <tr>\n",
       "      <th>998</th>\n",
       "      <td>1000.0</td>\n",
       "      <td>0.500000</td>\n",
       "      <td>6</td>\n",
       "    </tr>\n",
       "    <tr>\n",
       "      <th>999</th>\n",
       "      <td>1001.0</td>\n",
       "      <td>0.666667</td>\n",
       "      <td>3</td>\n",
       "    </tr>\n",
       "    <tr>\n",
       "      <th>1000</th>\n",
       "      <td>1002.0</td>\n",
       "      <td>0.666667</td>\n",
       "      <td>6</td>\n",
       "    </tr>\n",
       "    <tr>\n",
       "      <th>1001</th>\n",
       "      <td>1003.0</td>\n",
       "      <td>0.500000</td>\n",
       "      <td>2</td>\n",
       "    </tr>\n",
       "    <tr>\n",
       "      <th>1002</th>\n",
       "      <td>1004.0</td>\n",
       "      <td>1.000000</td>\n",
       "      <td>3</td>\n",
       "    </tr>\n",
       "    <tr>\n",
       "      <th>...</th>\n",
       "      <td>...</td>\n",
       "      <td>...</td>\n",
       "      <td>...</td>\n",
       "    </tr>\n",
       "    <tr>\n",
       "      <th>1813</th>\n",
       "      <td>1891.0</td>\n",
       "      <td>1.000000</td>\n",
       "      <td>1</td>\n",
       "    </tr>\n",
       "    <tr>\n",
       "      <th>1814</th>\n",
       "      <td>1892.0</td>\n",
       "      <td>0.000000</td>\n",
       "      <td>1</td>\n",
       "    </tr>\n",
       "    <tr>\n",
       "      <th>1815</th>\n",
       "      <td>1893.0</td>\n",
       "      <td>1.000000</td>\n",
       "      <td>1</td>\n",
       "    </tr>\n",
       "    <tr>\n",
       "      <th>1816</th>\n",
       "      <td>1894.0</td>\n",
       "      <td>0.000000</td>\n",
       "      <td>1</td>\n",
       "    </tr>\n",
       "    <tr>\n",
       "      <th>1817</th>\n",
       "      <td>2000.0</td>\n",
       "      <td>0.502513</td>\n",
       "      <td>199</td>\n",
       "    </tr>\n",
       "  </tbody>\n",
       "</table>\n",
       "<p>820 rows × 3 columns</p>\n",
       "</div>"
      ],
      "text/plain": [
       "      MiddleLetter  mean_transported  nr_transported\n",
       "998         1000.0          0.500000               6\n",
       "999         1001.0          0.666667               3\n",
       "1000        1002.0          0.666667               6\n",
       "1001        1003.0          0.500000               2\n",
       "1002        1004.0          1.000000               3\n",
       "...            ...               ...             ...\n",
       "1813        1891.0          1.000000               1\n",
       "1814        1892.0          0.000000               1\n",
       "1815        1893.0          1.000000               1\n",
       "1816        1894.0          0.000000               1\n",
       "1817        2000.0          0.502513             199\n",
       "\n",
       "[820 rows x 3 columns]"
      ]
     },
     "execution_count": 117,
     "metadata": {},
     "output_type": "execute_result"
    }
   ],
   "source": [
    "gbdf[gbdf[\"MiddleLetter\"] >= 1_000]"
   ]
  },
  {
   "cell_type": "code",
   "execution_count": 118,
   "id": "498ff131",
   "metadata": {},
   "outputs": [
    {
     "data": {
      "text/html": [
       "<div>\n",
       "<style scoped>\n",
       "    .dataframe tbody tr th:only-of-type {\n",
       "        vertical-align: middle;\n",
       "    }\n",
       "\n",
       "    .dataframe tbody tr th {\n",
       "        vertical-align: top;\n",
       "    }\n",
       "\n",
       "    .dataframe thead th {\n",
       "        text-align: right;\n",
       "    }\n",
       "</style>\n",
       "<table border=\"1\" class=\"dataframe\">\n",
       "  <thead>\n",
       "    <tr style=\"text-align: right;\">\n",
       "      <th></th>\n",
       "      <th>MiddleLetter</th>\n",
       "      <th>mean_transported</th>\n",
       "      <th>nr_transported</th>\n",
       "    </tr>\n",
       "  </thead>\n",
       "  <tbody>\n",
       "    <tr>\n",
       "      <th>1015</th>\n",
       "      <td>1017.0</td>\n",
       "      <td>0.0</td>\n",
       "      <td>1</td>\n",
       "    </tr>\n",
       "    <tr>\n",
       "      <th>1038</th>\n",
       "      <td>1040.0</td>\n",
       "      <td>1.0</td>\n",
       "      <td>1</td>\n",
       "    </tr>\n",
       "    <tr>\n",
       "      <th>1045</th>\n",
       "      <td>1048.0</td>\n",
       "      <td>0.0</td>\n",
       "      <td>1</td>\n",
       "    </tr>\n",
       "    <tr>\n",
       "      <th>1046</th>\n",
       "      <td>1049.0</td>\n",
       "      <td>0.0</td>\n",
       "      <td>1</td>\n",
       "    </tr>\n",
       "    <tr>\n",
       "      <th>1048</th>\n",
       "      <td>1051.0</td>\n",
       "      <td>0.0</td>\n",
       "      <td>1</td>\n",
       "    </tr>\n",
       "    <tr>\n",
       "      <th>...</th>\n",
       "      <td>...</td>\n",
       "      <td>...</td>\n",
       "      <td>...</td>\n",
       "    </tr>\n",
       "    <tr>\n",
       "      <th>1811</th>\n",
       "      <td>1886.0</td>\n",
       "      <td>1.0</td>\n",
       "      <td>1</td>\n",
       "    </tr>\n",
       "    <tr>\n",
       "      <th>1813</th>\n",
       "      <td>1891.0</td>\n",
       "      <td>1.0</td>\n",
       "      <td>1</td>\n",
       "    </tr>\n",
       "    <tr>\n",
       "      <th>1814</th>\n",
       "      <td>1892.0</td>\n",
       "      <td>0.0</td>\n",
       "      <td>1</td>\n",
       "    </tr>\n",
       "    <tr>\n",
       "      <th>1815</th>\n",
       "      <td>1893.0</td>\n",
       "      <td>1.0</td>\n",
       "      <td>1</td>\n",
       "    </tr>\n",
       "    <tr>\n",
       "      <th>1816</th>\n",
       "      <td>1894.0</td>\n",
       "      <td>0.0</td>\n",
       "      <td>1</td>\n",
       "    </tr>\n",
       "  </tbody>\n",
       "</table>\n",
       "<p>233 rows × 3 columns</p>\n",
       "</div>"
      ],
      "text/plain": [
       "      MiddleLetter  mean_transported  nr_transported\n",
       "1015        1017.0               0.0               1\n",
       "1038        1040.0               1.0               1\n",
       "1045        1048.0               0.0               1\n",
       "1046        1049.0               0.0               1\n",
       "1048        1051.0               0.0               1\n",
       "...            ...               ...             ...\n",
       "1811        1886.0               1.0               1\n",
       "1813        1891.0               1.0               1\n",
       "1814        1892.0               0.0               1\n",
       "1815        1893.0               1.0               1\n",
       "1816        1894.0               0.0               1\n",
       "\n",
       "[233 rows x 3 columns]"
      ]
     },
     "execution_count": 118,
     "metadata": {},
     "output_type": "execute_result"
    }
   ],
   "source": [
    "gbdf[(gbdf[\"nr_transported\"] == 1) & (gbdf[\"MiddleLetter\"] >= 1_000)]"
   ]
  },
  {
   "cell_type": "code",
   "execution_count": 119,
   "id": "e43ba1bf",
   "metadata": {},
   "outputs": [
    {
     "data": {
      "text/html": [
       "<div>\n",
       "<style scoped>\n",
       "    .dataframe tbody tr th:only-of-type {\n",
       "        vertical-align: middle;\n",
       "    }\n",
       "\n",
       "    .dataframe tbody tr th {\n",
       "        vertical-align: top;\n",
       "    }\n",
       "\n",
       "    .dataframe thead th {\n",
       "        text-align: right;\n",
       "    }\n",
       "</style>\n",
       "<table border=\"1\" class=\"dataframe\">\n",
       "  <thead>\n",
       "    <tr style=\"text-align: right;\">\n",
       "      <th></th>\n",
       "      <th>MiddleLetter</th>\n",
       "      <th>mean_transported</th>\n",
       "      <th>nr_transported</th>\n",
       "    </tr>\n",
       "  </thead>\n",
       "  <tbody>\n",
       "    <tr>\n",
       "      <th>1015</th>\n",
       "      <td>1017.0</td>\n",
       "      <td>0.0</td>\n",
       "      <td>1</td>\n",
       "    </tr>\n",
       "    <tr>\n",
       "      <th>1038</th>\n",
       "      <td>1040.0</td>\n",
       "      <td>1.0</td>\n",
       "      <td>1</td>\n",
       "    </tr>\n",
       "    <tr>\n",
       "      <th>1045</th>\n",
       "      <td>1048.0</td>\n",
       "      <td>0.0</td>\n",
       "      <td>1</td>\n",
       "    </tr>\n",
       "    <tr>\n",
       "      <th>1046</th>\n",
       "      <td>1049.0</td>\n",
       "      <td>0.0</td>\n",
       "      <td>1</td>\n",
       "    </tr>\n",
       "    <tr>\n",
       "      <th>1048</th>\n",
       "      <td>1051.0</td>\n",
       "      <td>0.0</td>\n",
       "      <td>1</td>\n",
       "    </tr>\n",
       "    <tr>\n",
       "      <th>...</th>\n",
       "      <td>...</td>\n",
       "      <td>...</td>\n",
       "      <td>...</td>\n",
       "    </tr>\n",
       "    <tr>\n",
       "      <th>1811</th>\n",
       "      <td>1886.0</td>\n",
       "      <td>1.0</td>\n",
       "      <td>1</td>\n",
       "    </tr>\n",
       "    <tr>\n",
       "      <th>1813</th>\n",
       "      <td>1891.0</td>\n",
       "      <td>1.0</td>\n",
       "      <td>1</td>\n",
       "    </tr>\n",
       "    <tr>\n",
       "      <th>1814</th>\n",
       "      <td>1892.0</td>\n",
       "      <td>0.0</td>\n",
       "      <td>1</td>\n",
       "    </tr>\n",
       "    <tr>\n",
       "      <th>1815</th>\n",
       "      <td>1893.0</td>\n",
       "      <td>1.0</td>\n",
       "      <td>1</td>\n",
       "    </tr>\n",
       "    <tr>\n",
       "      <th>1816</th>\n",
       "      <td>1894.0</td>\n",
       "      <td>0.0</td>\n",
       "      <td>1</td>\n",
       "    </tr>\n",
       "  </tbody>\n",
       "</table>\n",
       "<p>233 rows × 3 columns</p>\n",
       "</div>"
      ],
      "text/plain": [
       "      MiddleLetter  mean_transported  nr_transported\n",
       "1015        1017.0               0.0               1\n",
       "1038        1040.0               1.0               1\n",
       "1045        1048.0               0.0               1\n",
       "1046        1049.0               0.0               1\n",
       "1048        1051.0               0.0               1\n",
       "...            ...               ...             ...\n",
       "1811        1886.0               1.0               1\n",
       "1813        1891.0               1.0               1\n",
       "1814        1892.0               0.0               1\n",
       "1815        1893.0               1.0               1\n",
       "1816        1894.0               0.0               1\n",
       "\n",
       "[233 rows x 3 columns]"
      ]
     },
     "execution_count": 119,
     "metadata": {},
     "output_type": "execute_result"
    }
   ],
   "source": [
    "gbdf[(gbdf[\"nr_transported\"] == 1) & (gbdf[\"MiddleLetter\"] >= 1_000)]"
   ]
  },
  {
   "cell_type": "code",
   "execution_count": 120,
   "id": "60a168a4",
   "metadata": {},
   "outputs": [
    {
     "data": {
      "text/html": [
       "<div>\n",
       "<style scoped>\n",
       "    .dataframe tbody tr th:only-of-type {\n",
       "        vertical-align: middle;\n",
       "    }\n",
       "\n",
       "    .dataframe tbody tr th {\n",
       "        vertical-align: top;\n",
       "    }\n",
       "\n",
       "    .dataframe thead th {\n",
       "        text-align: right;\n",
       "    }\n",
       "</style>\n",
       "<table border=\"1\" class=\"dataframe\">\n",
       "  <thead>\n",
       "    <tr style=\"text-align: right;\">\n",
       "      <th></th>\n",
       "      <th>MiddleLetter</th>\n",
       "      <th>mean_transported</th>\n",
       "      <th>nr_transported</th>\n",
       "    </tr>\n",
       "  </thead>\n",
       "  <tbody>\n",
       "    <tr>\n",
       "      <th>345</th>\n",
       "      <td>345.0</td>\n",
       "      <td>0.0</td>\n",
       "      <td>1</td>\n",
       "    </tr>\n",
       "    <tr>\n",
       "      <th>353</th>\n",
       "      <td>353.0</td>\n",
       "      <td>1.0</td>\n",
       "      <td>1</td>\n",
       "    </tr>\n",
       "    <tr>\n",
       "      <th>382</th>\n",
       "      <td>382.0</td>\n",
       "      <td>0.0</td>\n",
       "      <td>1</td>\n",
       "    </tr>\n",
       "    <tr>\n",
       "      <th>560</th>\n",
       "      <td>560.0</td>\n",
       "      <td>1.0</td>\n",
       "      <td>1</td>\n",
       "    </tr>\n",
       "    <tr>\n",
       "      <th>605</th>\n",
       "      <td>605.0</td>\n",
       "      <td>1.0</td>\n",
       "      <td>1</td>\n",
       "    </tr>\n",
       "    <tr>\n",
       "      <th>...</th>\n",
       "      <td>...</td>\n",
       "      <td>...</td>\n",
       "      <td>...</td>\n",
       "    </tr>\n",
       "    <tr>\n",
       "      <th>1811</th>\n",
       "      <td>1886.0</td>\n",
       "      <td>1.0</td>\n",
       "      <td>1</td>\n",
       "    </tr>\n",
       "    <tr>\n",
       "      <th>1813</th>\n",
       "      <td>1891.0</td>\n",
       "      <td>1.0</td>\n",
       "      <td>1</td>\n",
       "    </tr>\n",
       "    <tr>\n",
       "      <th>1814</th>\n",
       "      <td>1892.0</td>\n",
       "      <td>0.0</td>\n",
       "      <td>1</td>\n",
       "    </tr>\n",
       "    <tr>\n",
       "      <th>1815</th>\n",
       "      <td>1893.0</td>\n",
       "      <td>1.0</td>\n",
       "      <td>1</td>\n",
       "    </tr>\n",
       "    <tr>\n",
       "      <th>1816</th>\n",
       "      <td>1894.0</td>\n",
       "      <td>0.0</td>\n",
       "      <td>1</td>\n",
       "    </tr>\n",
       "  </tbody>\n",
       "</table>\n",
       "<p>268 rows × 3 columns</p>\n",
       "</div>"
      ],
      "text/plain": [
       "      MiddleLetter  mean_transported  nr_transported\n",
       "345          345.0               0.0               1\n",
       "353          353.0               1.0               1\n",
       "382          382.0               0.0               1\n",
       "560          560.0               1.0               1\n",
       "605          605.0               1.0               1\n",
       "...            ...               ...             ...\n",
       "1811        1886.0               1.0               1\n",
       "1813        1891.0               1.0               1\n",
       "1814        1892.0               0.0               1\n",
       "1815        1893.0               1.0               1\n",
       "1816        1894.0               0.0               1\n",
       "\n",
       "[268 rows x 3 columns]"
      ]
     },
     "execution_count": 120,
     "metadata": {},
     "output_type": "execute_result"
    }
   ],
   "source": [
    "gbdf[gbdf[\"nr_transported\"] == 1]"
   ]
  },
  {
   "cell_type": "code",
   "execution_count": 121,
   "id": "5e1f2a72",
   "metadata": {},
   "outputs": [
    {
     "data": {
      "text/plain": [
       "<Axes: ylabel='Density'>"
      ]
     },
     "execution_count": 121,
     "metadata": {},
     "output_type": "execute_result"
    },
    {
     "data": {
      "image/png": "[encoded data removed]",
      "text/plain": [
       "<Figure size 640x480 with 1 Axes>"
      ]
     },
     "metadata": {},
     "output_type": "display_data"
    }
   ],
   "source": [
    "(\n",
    "    X[\"MiddleLetter\"]\n",
    "    .value_counts()\n",
    "    .sort_index()\n",
    "    .plot(kind = \"kde\")\n",
    ")"
   ]
  },
  {
   "cell_type": "code",
   "execution_count": 153,
   "id": "b3ff0542",
   "metadata": {},
   "outputs": [
    {
     "name": "stderr",
     "output_type": "stream",
     "text": [
      "/Users/nicolaepopescul/Desktop/streams/20240328_sklearn_modelo_benchmark_ml/venvs/env_skrub/lib/python3.10/site-packages/sklearn/preprocessing/_discretization.py:248: FutureWarning: In version 1.5 onwards, subsample=200_000 will be used by default. Set subsample explicitly to silence this warning in the mean time. Set subsample=None to disable subsampling explicitly.\n",
      "  warnings.warn(\n"
     ]
    }
   ],
   "source": [
    "kbins = KBinsDiscretizer(\n",
    "    n_bins = 20,\n",
    "    strategy = \"uniform\",\n",
    "    encode = \"ordinal\"\n",
    ")\n",
    "\n",
    "X[\"MiddleLetterBinned\"] = kbins.fit_transform(X[[\"MiddleLetter\"]])"
   ]
  },
  {
   "cell_type": "code",
   "execution_count": 154,
   "id": "4736d124",
   "metadata": {},
   "outputs": [
    {
     "name": "stderr",
     "output_type": "stream",
     "text": [
      "/var/folders/m8/pkh7yz5j3_318g64strn1y680000gn/T/ipykernel_48438/501919948.py:2: FutureWarning: The provided callable <function mean at 0x1074d7d90> is currently using SeriesGroupBy.mean. In a future version of pandas, the provided callable will be used directly. To keep current behavior pass the string \"mean\" instead.\n",
      "  X\n"
     ]
    }
   ],
   "source": [
    "gbdf = (\n",
    "    X\n",
    "    .groupby([\"MiddleLetterBinned\"])\n",
    "    .agg(\n",
    "        mean_transported  = (\"Transported\", np.mean),\n",
    "        nr_transported  = (\"Transported\", len)\n",
    "    )\n",
    "    .reset_index()\n",
    ")"
   ]
  },
  {
   "cell_type": "code",
   "execution_count": 155,
   "id": "a53d9707",
   "metadata": {},
   "outputs": [
    {
     "data": {
      "text/html": [
       "<div>\n",
       "<style scoped>\n",
       "    .dataframe tbody tr th:only-of-type {\n",
       "        vertical-align: middle;\n",
       "    }\n",
       "\n",
       "    .dataframe tbody tr th {\n",
       "        vertical-align: top;\n",
       "    }\n",
       "\n",
       "    .dataframe thead th {\n",
       "        text-align: right;\n",
       "    }\n",
       "</style>\n",
       "<table border=\"1\" class=\"dataframe\">\n",
       "  <thead>\n",
       "    <tr style=\"text-align: right;\">\n",
       "      <th></th>\n",
       "      <th>MiddleLetterBinned</th>\n",
       "      <th>mean_transported</th>\n",
       "      <th>nr_transported</th>\n",
       "    </tr>\n",
       "  </thead>\n",
       "  <tbody>\n",
       "    <tr>\n",
       "      <th>0</th>\n",
       "      <td>0.0</td>\n",
       "      <td>0.530428</td>\n",
       "      <td>1331</td>\n",
       "    </tr>\n",
       "    <tr>\n",
       "      <th>1</th>\n",
       "      <td>1.0</td>\n",
       "      <td>0.537801</td>\n",
       "      <td>1164</td>\n",
       "    </tr>\n",
       "    <tr>\n",
       "      <th>2</th>\n",
       "      <td>2.0</td>\n",
       "      <td>0.548357</td>\n",
       "      <td>1065</td>\n",
       "    </tr>\n",
       "    <tr>\n",
       "      <th>3</th>\n",
       "      <td>3.0</td>\n",
       "      <td>0.434397</td>\n",
       "      <td>564</td>\n",
       "    </tr>\n",
       "    <tr>\n",
       "      <th>4</th>\n",
       "      <td>4.0</td>\n",
       "      <td>0.362445</td>\n",
       "      <td>458</td>\n",
       "    </tr>\n",
       "  </tbody>\n",
       "</table>\n",
       "</div>"
      ],
      "text/plain": [
       "   MiddleLetterBinned  mean_transported  nr_transported\n",
       "0                 0.0          0.530428            1331\n",
       "1                 1.0          0.537801            1164\n",
       "2                 2.0          0.548357            1065\n",
       "3                 3.0          0.434397             564\n",
       "4                 4.0          0.362445             458"
      ]
     },
     "execution_count": 155,
     "metadata": {},
     "output_type": "execute_result"
    }
   ],
   "source": [
    "gbdf.head()"
   ]
  },
  {
   "cell_type": "code",
   "execution_count": 156,
   "id": "479086f1",
   "metadata": {},
   "outputs": [
    {
     "data": {
      "text/plain": [
       "<Axes: ylabel='MiddleLetterBinned'>"
      ]
     },
     "execution_count": 156,
     "metadata": {},
     "output_type": "execute_result"
    },
    {
     "data": {
      "image/png": "[encoded data removed]",
      "text/plain": [
       "<Figure size 640x480 with 2 Axes>"
      ]
     },
     "metadata": {},
     "output_type": "display_data"
    }
   ],
   "source": [
    "sns.heatmap(gbdf.set_index(\"MiddleLetterBinned\")[[\"mean_transported\"]])"
   ]
  },
  {
   "cell_type": "code",
   "execution_count": 152,
   "id": "f95085d2",
   "metadata": {},
   "outputs": [],
   "source": [
    "X[\"TotalExpenses\"] = X.iloc[:, 6:11].sum(axis = 1)"
   ]
  },
  {
   "cell_type": "code",
   "execution_count": 15,
   "id": "249ed166",
   "metadata": {},
   "outputs": [
    {
     "name": "stderr",
     "output_type": "stream",
     "text": [
      "/var/folders/m8/pkh7yz5j3_318g64strn1y680000gn/T/ipykernel_48438/2080782346.py:2: FutureWarning: The provided callable <function sum at 0x1074d6e60> is currently using SeriesGroupBy.sum. In a future version of pandas, the provided callable will be used directly. To keep current behavior pass the string \"sum\" instead.\n",
      "  X\n",
      "/var/folders/m8/pkh7yz5j3_318g64strn1y680000gn/T/ipykernel_48438/2080782346.py:2: FutureWarning: The provided callable <function mean at 0x1074d7d90> is currently using SeriesGroupBy.mean. In a future version of pandas, the provided callable will be used directly. To keep current behavior pass the string \"mean\" instead.\n",
      "  X\n"
     ]
    },
    {
     "data": {
      "text/html": [
       "<div>\n",
       "<style scoped>\n",
       "    .dataframe tbody tr th:only-of-type {\n",
       "        vertical-align: middle;\n",
       "    }\n",
       "\n",
       "    .dataframe tbody tr th {\n",
       "        vertical-align: top;\n",
       "    }\n",
       "\n",
       "    .dataframe thead th {\n",
       "        text-align: right;\n",
       "    }\n",
       "</style>\n",
       "<table border=\"1\" class=\"dataframe\">\n",
       "  <thead>\n",
       "    <tr style=\"text-align: right;\">\n",
       "      <th></th>\n",
       "      <th>sum_expenses</th>\n",
       "      <th>mean_expenses</th>\n",
       "      <th>mean_transported</th>\n",
       "    </tr>\n",
       "    <tr>\n",
       "      <th>HomePlanet</th>\n",
       "      <th></th>\n",
       "      <th></th>\n",
       "      <th></th>\n",
       "    </tr>\n",
       "  </thead>\n",
       "  <tbody>\n",
       "    <tr>\n",
       "      <th>Earth</th>\n",
       "      <td>3098699.0</td>\n",
       "      <td>673.337462</td>\n",
       "      <td>0.423946</td>\n",
       "    </tr>\n",
       "    <tr>\n",
       "      <th>Europa</th>\n",
       "      <td>7355412.0</td>\n",
       "      <td>3451.624589</td>\n",
       "      <td>0.658846</td>\n",
       "    </tr>\n",
       "    <tr>\n",
       "      <th>Mars</th>\n",
       "      <td>1849161.0</td>\n",
       "      <td>1051.256964</td>\n",
       "      <td>0.523024</td>\n",
       "    </tr>\n",
       "  </tbody>\n",
       "</table>\n",
       "</div>"
      ],
      "text/plain": [
       "            sum_expenses  mean_expenses  mean_transported\n",
       "HomePlanet                                               \n",
       "Earth          3098699.0     673.337462          0.423946\n",
       "Europa         7355412.0    3451.624589          0.658846\n",
       "Mars           1849161.0    1051.256964          0.523024"
      ]
     },
     "execution_count": 15,
     "metadata": {},
     "output_type": "execute_result"
    }
   ],
   "source": [
    "(\n",
    "    X\n",
    "    .groupby([\"HomePlanet\"])\n",
    "    .agg(\n",
    "        sum_expenses = (\"TotalExpenses\", np.sum),\n",
    "        mean_expenses = (\"TotalExpenses\", np.mean),\n",
    "        mean_transported = (\"Transported\", np.mean)\n",
    "    )\n",
    ")"
   ]
  },
  {
   "cell_type": "code",
   "execution_count": 16,
   "id": "6bfbf54d",
   "metadata": {},
   "outputs": [
    {
     "data": {
      "text/plain": [
       "PassengerId\n",
       "0001_01        0.0\n",
       "0002_01      736.0\n",
       "0003_01    10383.0\n",
       "0003_02     5176.0\n",
       "0004_01     1091.0\n",
       "            ...   \n",
       "9276_01     8536.0\n",
       "9278_01        0.0\n",
       "9279_01     1873.0\n",
       "9280_01     4637.0\n",
       "9280_02     4826.0\n",
       "Name: TotalExpenses, Length: 8693, dtype: float64"
      ]
     },
     "execution_count": 16,
     "metadata": {},
     "output_type": "execute_result"
    }
   ],
   "source": [
    "X[\"TotalExpenses\"]"
   ]
  },
  {
   "cell_type": "code",
   "execution_count": 17,
   "id": "ded24ff5",
   "metadata": {},
   "outputs": [
    {
     "data": {
      "text/plain": [
       "<Axes: ylabel='Density'>"
      ]
     },
     "execution_count": 17,
     "metadata": {},
     "output_type": "execute_result"
    },
    {
     "data": {
      "image/png": "[encoded data removed]",
      "text/plain": [
       "<Figure size 640x480 with 1 Axes>"
      ]
     },
     "metadata": {},
     "output_type": "display_data"
    }
   ],
   "source": [
    "X[\"RoomService\"].plot(kind = \"kde\")"
   ]
  },
  {
   "cell_type": "code",
   "execution_count": 18,
   "id": "d13615ca",
   "metadata": {},
   "outputs": [
    {
     "data": {
      "text/plain": [
       "RoomService\n",
       "0.0        5577\n",
       "1.0         117\n",
       "2.0          79\n",
       "3.0          61\n",
       "4.0          47\n",
       "           ... \n",
       "8209.0        1\n",
       "8243.0        1\n",
       "8586.0        1\n",
       "9920.0        1\n",
       "14327.0       1\n",
       "Name: count, Length: 1273, dtype: int64"
      ]
     },
     "execution_count": 18,
     "metadata": {},
     "output_type": "execute_result"
    }
   ],
   "source": [
    "X[\"RoomService\"].value_counts().sort_index()"
   ]
  },
  {
   "cell_type": "code",
   "execution_count": 19,
   "id": "7dc52417",
   "metadata": {},
   "outputs": [],
   "source": [
    "nulls_per_row = X.isnull()"
   ]
  },
  {
   "cell_type": "code",
   "execution_count": 20,
   "id": "b01ade8c",
   "metadata": {},
   "outputs": [
    {
     "data": {
      "image/png": "[encoded data removed]",
      "text/plain": [
       "<Figure size 640x480 with 2 Axes>"
      ]
     },
     "metadata": {},
     "output_type": "display_data"
    }
   ],
   "source": [
    "sns.heatmap(nulls_per_row);"
   ]
  },
  {
   "cell_type": "code",
   "execution_count": 21,
   "id": "eb125f17",
   "metadata": {},
   "outputs": [],
   "source": [
    "def bucketize_age(age):\n",
    "    \n",
    "    if 0 <= age < 10:\n",
    "        return \"[0-10)\"\n",
    "    \n",
    "    elif 10 <= age < 20:\n",
    "        return \"[10-20)\"\n",
    "    \n",
    "    elif 20 <= age < 30:\n",
    "        return \"[20-30)\"\n",
    "    \n",
    "    elif 30 <= age < 40:\n",
    "        return \"[30-40)\"\n",
    "    \n",
    "    elif 40 <= age < 50:\n",
    "        return \"[40-50)\"\n",
    "    \n",
    "    elif 50 <= age < 60:\n",
    "        return \"[50-60)\" \n",
    "    \n",
    "    elif 60 <= age < 70:\n",
    "        return \"[60-70)\"\n",
    "    \n",
    "    elif age >= 70:\n",
    "        return \"[70 - inf\""
   ]
  },
  {
   "cell_type": "code",
   "execution_count": 22,
   "id": "d315cc4a",
   "metadata": {},
   "outputs": [],
   "source": [
    "Xc = X.copy(deep=True).dropna()"
   ]
  },
  {
   "cell_type": "code",
   "execution_count": 23,
   "id": "52d286a1",
   "metadata": {},
   "outputs": [
    {
     "name": "stderr",
     "output_type": "stream",
     "text": [
      "/Users/nicolaepopescul/Desktop/streams/20240328_sklearn_modelo_benchmark_ml/venvs/env_skrub/lib/python3.10/site-packages/sklearn/preprocessing/_discretization.py:248: FutureWarning: In version 1.5 onwards, subsample=200_000 will be used by default. Set subsample explicitly to silence this warning in the mean time. Set subsample=None to disable subsampling explicitly.\n",
      "  warnings.warn(\n"
     ]
    }
   ],
   "source": [
    "Xc[\"AgeBuketized\"] = Xc[\"Age\"].apply(bucketize_age)\n",
    "\n",
    "Xc[\"AgeKBinsDiscretized\"] = KBinsDiscretizer(\n",
    "    encode = \"ordinal\",\n",
    "    strategy = \"uniform\",\n",
    "    n_bins = 8\n",
    ").fit_transform(Xc[[\"Age\"]].dropna())"
   ]
  },
  {
   "cell_type": "code",
   "execution_count": 26,
   "id": "b48c0c2f",
   "metadata": {},
   "outputs": [
    {
     "data": {
      "text/html": [
       "<div>\n",
       "<style scoped>\n",
       "    .dataframe tbody tr th:only-of-type {\n",
       "        vertical-align: middle;\n",
       "    }\n",
       "\n",
       "    .dataframe tbody tr th {\n",
       "        vertical-align: top;\n",
       "    }\n",
       "\n",
       "    .dataframe thead th {\n",
       "        text-align: right;\n",
       "    }\n",
       "</style>\n",
       "<table border=\"1\" class=\"dataframe\">\n",
       "  <thead>\n",
       "    <tr style=\"text-align: right;\">\n",
       "      <th></th>\n",
       "      <th>AgeKBinsDiscretized</th>\n",
       "      <th>AgeBuketized</th>\n",
       "    </tr>\n",
       "    <tr>\n",
       "      <th>PassengerId</th>\n",
       "      <th></th>\n",
       "      <th></th>\n",
       "    </tr>\n",
       "  </thead>\n",
       "  <tbody>\n",
       "    <tr>\n",
       "      <th>0017_01</th>\n",
       "      <td>0.0</td>\n",
       "      <td>[0-10)</td>\n",
       "    </tr>\n",
       "    <tr>\n",
       "      <th>0004_01</th>\n",
       "      <td>1.0</td>\n",
       "      <td>[10-20)</td>\n",
       "    </tr>\n",
       "    <tr>\n",
       "      <th>0002_01</th>\n",
       "      <td>2.0</td>\n",
       "      <td>[20-30)</td>\n",
       "    </tr>\n",
       "    <tr>\n",
       "      <th>0001_01</th>\n",
       "      <td>3.0</td>\n",
       "      <td>[30-40)</td>\n",
       "    </tr>\n",
       "    <tr>\n",
       "      <th>0005_01</th>\n",
       "      <td>4.0</td>\n",
       "      <td>[40-50)</td>\n",
       "    </tr>\n",
       "    <tr>\n",
       "      <th>0003_01</th>\n",
       "      <td>5.0</td>\n",
       "      <td>[50-60)</td>\n",
       "    </tr>\n",
       "    <tr>\n",
       "      <th>0062_01</th>\n",
       "      <td>6.0</td>\n",
       "      <td>[60-70)</td>\n",
       "    </tr>\n",
       "    <tr>\n",
       "      <th>0378_03</th>\n",
       "      <td>7.0</td>\n",
       "      <td>[70 - inf</td>\n",
       "    </tr>\n",
       "  </tbody>\n",
       "</table>\n",
       "</div>"
      ],
      "text/plain": [
       "             AgeKBinsDiscretized AgeBuketized\n",
       "PassengerId                                  \n",
       "0017_01                      0.0       [0-10)\n",
       "0004_01                      1.0      [10-20)\n",
       "0002_01                      2.0      [20-30)\n",
       "0001_01                      3.0      [30-40)\n",
       "0005_01                      4.0      [40-50)\n",
       "0003_01                      5.0      [50-60)\n",
       "0062_01                      6.0      [60-70)\n",
       "0378_03                      7.0    [70 - inf"
      ]
     },
     "execution_count": 26,
     "metadata": {},
     "output_type": "execute_result"
    }
   ],
   "source": [
    "Xc[[\"AgeKBinsDiscretized\", \"AgeBuketized\"]].drop_duplicates().sort_values(\"AgeKBinsDiscretized\")"
   ]
  },
  {
   "cell_type": "code",
   "execution_count": 27,
   "id": "4fe560c9",
   "metadata": {},
   "outputs": [
    {
     "data": {
      "text/html": [
       "<div>\n",
       "<style scoped>\n",
       "    .dataframe tbody tr th:only-of-type {\n",
       "        vertical-align: middle;\n",
       "    }\n",
       "\n",
       "    .dataframe tbody tr th {\n",
       "        vertical-align: top;\n",
       "    }\n",
       "\n",
       "    .dataframe thead th {\n",
       "        text-align: right;\n",
       "    }\n",
       "</style>\n",
       "<table border=\"1\" class=\"dataframe\">\n",
       "  <thead>\n",
       "    <tr style=\"text-align: right;\">\n",
       "      <th>AgeKBinsDiscretized</th>\n",
       "      <th>0.0</th>\n",
       "      <th>1.0</th>\n",
       "      <th>2.0</th>\n",
       "      <th>3.0</th>\n",
       "      <th>4.0</th>\n",
       "      <th>5.0</th>\n",
       "      <th>6.0</th>\n",
       "      <th>7.0</th>\n",
       "      <th>All</th>\n",
       "    </tr>\n",
       "    <tr>\n",
       "      <th>AgeBuketized</th>\n",
       "      <th></th>\n",
       "      <th></th>\n",
       "      <th></th>\n",
       "      <th></th>\n",
       "      <th></th>\n",
       "      <th></th>\n",
       "      <th></th>\n",
       "      <th></th>\n",
       "      <th></th>\n",
       "    </tr>\n",
       "  </thead>\n",
       "  <tbody>\n",
       "    <tr>\n",
       "      <th>[0-10)</th>\n",
       "      <td>532</td>\n",
       "      <td>0</td>\n",
       "      <td>0</td>\n",
       "      <td>0</td>\n",
       "      <td>0</td>\n",
       "      <td>0</td>\n",
       "      <td>0</td>\n",
       "      <td>0</td>\n",
       "      <td>532</td>\n",
       "    </tr>\n",
       "    <tr>\n",
       "      <th>[10-20)</th>\n",
       "      <td>0</td>\n",
       "      <td>1138</td>\n",
       "      <td>0</td>\n",
       "      <td>0</td>\n",
       "      <td>0</td>\n",
       "      <td>0</td>\n",
       "      <td>0</td>\n",
       "      <td>0</td>\n",
       "      <td>1138</td>\n",
       "    </tr>\n",
       "    <tr>\n",
       "      <th>[20-30)</th>\n",
       "      <td>0</td>\n",
       "      <td>0</td>\n",
       "      <td>2131</td>\n",
       "      <td>0</td>\n",
       "      <td>0</td>\n",
       "      <td>0</td>\n",
       "      <td>0</td>\n",
       "      <td>0</td>\n",
       "      <td>2131</td>\n",
       "    </tr>\n",
       "    <tr>\n",
       "      <th>[30-40)</th>\n",
       "      <td>0</td>\n",
       "      <td>0</td>\n",
       "      <td>0</td>\n",
       "      <td>1358</td>\n",
       "      <td>0</td>\n",
       "      <td>0</td>\n",
       "      <td>0</td>\n",
       "      <td>0</td>\n",
       "      <td>1358</td>\n",
       "    </tr>\n",
       "    <tr>\n",
       "      <th>[40-50)</th>\n",
       "      <td>0</td>\n",
       "      <td>0</td>\n",
       "      <td>0</td>\n",
       "      <td>0</td>\n",
       "      <td>812</td>\n",
       "      <td>0</td>\n",
       "      <td>0</td>\n",
       "      <td>0</td>\n",
       "      <td>812</td>\n",
       "    </tr>\n",
       "    <tr>\n",
       "      <th>[50-60)</th>\n",
       "      <td>0</td>\n",
       "      <td>0</td>\n",
       "      <td>0</td>\n",
       "      <td>0</td>\n",
       "      <td>0</td>\n",
       "      <td>438</td>\n",
       "      <td>0</td>\n",
       "      <td>0</td>\n",
       "      <td>438</td>\n",
       "    </tr>\n",
       "    <tr>\n",
       "      <th>[60-70)</th>\n",
       "      <td>0</td>\n",
       "      <td>0</td>\n",
       "      <td>0</td>\n",
       "      <td>0</td>\n",
       "      <td>0</td>\n",
       "      <td>0</td>\n",
       "      <td>161</td>\n",
       "      <td>0</td>\n",
       "      <td>161</td>\n",
       "    </tr>\n",
       "    <tr>\n",
       "      <th>[70 - inf</th>\n",
       "      <td>0</td>\n",
       "      <td>0</td>\n",
       "      <td>0</td>\n",
       "      <td>0</td>\n",
       "      <td>0</td>\n",
       "      <td>0</td>\n",
       "      <td>0</td>\n",
       "      <td>36</td>\n",
       "      <td>36</td>\n",
       "    </tr>\n",
       "    <tr>\n",
       "      <th>All</th>\n",
       "      <td>532</td>\n",
       "      <td>1138</td>\n",
       "      <td>2131</td>\n",
       "      <td>1358</td>\n",
       "      <td>812</td>\n",
       "      <td>438</td>\n",
       "      <td>161</td>\n",
       "      <td>36</td>\n",
       "      <td>6606</td>\n",
       "    </tr>\n",
       "  </tbody>\n",
       "</table>\n",
       "</div>"
      ],
      "text/plain": [
       "AgeKBinsDiscretized  0.0   1.0   2.0   3.0  4.0  5.0  6.0  7.0   All\n",
       "AgeBuketized                                                        \n",
       "[0-10)               532     0     0     0    0    0    0    0   532\n",
       "[10-20)                0  1138     0     0    0    0    0    0  1138\n",
       "[20-30)                0     0  2131     0    0    0    0    0  2131\n",
       "[30-40)                0     0     0  1358    0    0    0    0  1358\n",
       "[40-50)                0     0     0     0  812    0    0    0   812\n",
       "[50-60)                0     0     0     0    0  438    0    0   438\n",
       "[60-70)                0     0     0     0    0    0  161    0   161\n",
       "[70 - inf              0     0     0     0    0    0    0   36    36\n",
       "All                  532  1138  2131  1358  812  438  161   36  6606"
      ]
     },
     "execution_count": 27,
     "metadata": {},
     "output_type": "execute_result"
    }
   ],
   "source": [
    "(\n",
    "    Xc\n",
    "    .pivot_table(\n",
    "        index = \"AgeBuketized\",\n",
    "        columns = \"AgeKBinsDiscretized\",\n",
    "        values = \"Age\",\n",
    "        aggfunc = len,\n",
    "        margins = True,\n",
    "        fill_value = 0\n",
    "    )\n",
    ")"
   ]
  },
  {
   "cell_type": "code",
   "execution_count": 28,
   "id": "b1c75a55",
   "metadata": {},
   "outputs": [
    {
     "data": {
      "text/html": [
       "<div>\n",
       "<style scoped>\n",
       "    .dataframe tbody tr th:only-of-type {\n",
       "        vertical-align: middle;\n",
       "    }\n",
       "\n",
       "    .dataframe tbody tr th {\n",
       "        vertical-align: top;\n",
       "    }\n",
       "\n",
       "    .dataframe thead th {\n",
       "        text-align: right;\n",
       "    }\n",
       "</style>\n",
       "<table border=\"1\" class=\"dataframe\">\n",
       "  <thead>\n",
       "    <tr style=\"text-align: right;\">\n",
       "      <th></th>\n",
       "      <th>AgeKBinsDiscretized</th>\n",
       "      <th>AgeBuketized</th>\n",
       "      <th>Age</th>\n",
       "    </tr>\n",
       "    <tr>\n",
       "      <th>PassengerId</th>\n",
       "      <th></th>\n",
       "      <th></th>\n",
       "      <th></th>\n",
       "    </tr>\n",
       "  </thead>\n",
       "  <tbody>\n",
       "    <tr>\n",
       "      <th>0017_01</th>\n",
       "      <td>0.0</td>\n",
       "      <td>[0-10)</td>\n",
       "      <td>0.0</td>\n",
       "    </tr>\n",
       "    <tr>\n",
       "      <th>0020_01</th>\n",
       "      <td>0.0</td>\n",
       "      <td>[0-10)</td>\n",
       "      <td>1.0</td>\n",
       "    </tr>\n",
       "    <tr>\n",
       "      <th>0031_02</th>\n",
       "      <td>0.0</td>\n",
       "      <td>[0-10)</td>\n",
       "      <td>2.0</td>\n",
       "    </tr>\n",
       "    <tr>\n",
       "      <th>0092_03</th>\n",
       "      <td>0.0</td>\n",
       "      <td>[0-10)</td>\n",
       "      <td>3.0</td>\n",
       "    </tr>\n",
       "    <tr>\n",
       "      <th>0044_02</th>\n",
       "      <td>0.0</td>\n",
       "      <td>[0-10)</td>\n",
       "      <td>4.0</td>\n",
       "    </tr>\n",
       "    <tr>\n",
       "      <th>...</th>\n",
       "      <td>...</td>\n",
       "      <td>...</td>\n",
       "      <td>...</td>\n",
       "    </tr>\n",
       "    <tr>\n",
       "      <th>1222_01</th>\n",
       "      <td>7.0</td>\n",
       "      <td>[70 - inf</td>\n",
       "      <td>75.0</td>\n",
       "    </tr>\n",
       "    <tr>\n",
       "      <th>1455_05</th>\n",
       "      <td>7.0</td>\n",
       "      <td>[70 - inf</td>\n",
       "      <td>76.0</td>\n",
       "    </tr>\n",
       "    <tr>\n",
       "      <th>3176_01</th>\n",
       "      <td>7.0</td>\n",
       "      <td>[70 - inf</td>\n",
       "      <td>77.0</td>\n",
       "    </tr>\n",
       "    <tr>\n",
       "      <th>1507_03</th>\n",
       "      <td>7.0</td>\n",
       "      <td>[70 - inf</td>\n",
       "      <td>78.0</td>\n",
       "    </tr>\n",
       "    <tr>\n",
       "      <th>0378_03</th>\n",
       "      <td>7.0</td>\n",
       "      <td>[70 - inf</td>\n",
       "      <td>79.0</td>\n",
       "    </tr>\n",
       "  </tbody>\n",
       "</table>\n",
       "<p>80 rows × 3 columns</p>\n",
       "</div>"
      ],
      "text/plain": [
       "             AgeKBinsDiscretized AgeBuketized   Age\n",
       "PassengerId                                        \n",
       "0017_01                      0.0       [0-10)   0.0\n",
       "0020_01                      0.0       [0-10)   1.0\n",
       "0031_02                      0.0       [0-10)   2.0\n",
       "0092_03                      0.0       [0-10)   3.0\n",
       "0044_02                      0.0       [0-10)   4.0\n",
       "...                          ...          ...   ...\n",
       "1222_01                      7.0    [70 - inf  75.0\n",
       "1455_05                      7.0    [70 - inf  76.0\n",
       "3176_01                      7.0    [70 - inf  77.0\n",
       "1507_03                      7.0    [70 - inf  78.0\n",
       "0378_03                      7.0    [70 - inf  79.0\n",
       "\n",
       "[80 rows x 3 columns]"
      ]
     },
     "execution_count": 28,
     "metadata": {},
     "output_type": "execute_result"
    }
   ],
   "source": [
    "Xc[[\"AgeKBinsDiscretized\", \"AgeBuketized\", \"Age\"]].drop_duplicates().sort_values(\"Age\")"
   ]
  },
  {
   "cell_type": "code",
   "execution_count": 29,
   "id": "3e0fbf9a",
   "metadata": {},
   "outputs": [
    {
     "name": "stderr",
     "output_type": "stream",
     "text": [
      "/var/folders/m8/pkh7yz5j3_318g64strn1y680000gn/T/ipykernel_48438/125699061.py:2: FutureWarning: The provided callable <function mean at 0x1074d7d90> is currently using SeriesGroupBy.mean. In a future version of pandas, the provided callable will be used directly. To keep current behavior pass the string \"mean\" instead.\n",
      "  Xc\n"
     ]
    }
   ],
   "source": [
    "r_ = (\n",
    "    Xc\n",
    "    .groupby(\"AgeBuketized\")\n",
    "    .agg(\n",
    "        nr = (\"CryoSleep\", len),\n",
    "        mean_transported = (\"Transported\", np.mean)\n",
    "    )\n",
    "    .reset_index()\n",
    ")"
   ]
  },
  {
   "cell_type": "code",
   "execution_count": 30,
   "id": "5cb28ce7",
   "metadata": {},
   "outputs": [
    {
     "data": {
      "text/html": [
       "<div>\n",
       "<style scoped>\n",
       "    .dataframe tbody tr th:only-of-type {\n",
       "        vertical-align: middle;\n",
       "    }\n",
       "\n",
       "    .dataframe tbody tr th {\n",
       "        vertical-align: top;\n",
       "    }\n",
       "\n",
       "    .dataframe thead th {\n",
       "        text-align: right;\n",
       "    }\n",
       "</style>\n",
       "<table border=\"1\" class=\"dataframe\">\n",
       "  <thead>\n",
       "    <tr style=\"text-align: right;\">\n",
       "      <th></th>\n",
       "      <th>AgeBuketized</th>\n",
       "      <th>nr</th>\n",
       "      <th>mean_transported</th>\n",
       "    </tr>\n",
       "  </thead>\n",
       "  <tbody>\n",
       "    <tr>\n",
       "      <th>0</th>\n",
       "      <td>[0-10)</td>\n",
       "      <td>532</td>\n",
       "      <td>0.721805</td>\n",
       "    </tr>\n",
       "    <tr>\n",
       "      <th>1</th>\n",
       "      <td>[10-20)</td>\n",
       "      <td>1138</td>\n",
       "      <td>0.534271</td>\n",
       "    </tr>\n",
       "    <tr>\n",
       "      <th>2</th>\n",
       "      <td>[20-30)</td>\n",
       "      <td>2131</td>\n",
       "      <td>0.474894</td>\n",
       "    </tr>\n",
       "    <tr>\n",
       "      <th>3</th>\n",
       "      <td>[30-40)</td>\n",
       "      <td>1358</td>\n",
       "      <td>0.443299</td>\n",
       "    </tr>\n",
       "    <tr>\n",
       "      <th>4</th>\n",
       "      <td>[40-50)</td>\n",
       "      <td>812</td>\n",
       "      <td>0.502463</td>\n",
       "    </tr>\n",
       "    <tr>\n",
       "      <th>5</th>\n",
       "      <td>[50-60)</td>\n",
       "      <td>438</td>\n",
       "      <td>0.495434</td>\n",
       "    </tr>\n",
       "    <tr>\n",
       "      <th>6</th>\n",
       "      <td>[60-70)</td>\n",
       "      <td>161</td>\n",
       "      <td>0.503106</td>\n",
       "    </tr>\n",
       "    <tr>\n",
       "      <th>7</th>\n",
       "      <td>[70 - inf</td>\n",
       "      <td>36</td>\n",
       "      <td>0.416667</td>\n",
       "    </tr>\n",
       "  </tbody>\n",
       "</table>\n",
       "</div>"
      ],
      "text/plain": [
       "  AgeBuketized    nr  mean_transported\n",
       "0       [0-10)   532          0.721805\n",
       "1      [10-20)  1138          0.534271\n",
       "2      [20-30)  2131          0.474894\n",
       "3      [30-40)  1358          0.443299\n",
       "4      [40-50)   812          0.502463\n",
       "5      [50-60)   438          0.495434\n",
       "6      [60-70)   161          0.503106\n",
       "7    [70 - inf    36          0.416667"
      ]
     },
     "execution_count": 30,
     "metadata": {},
     "output_type": "execute_result"
    }
   ],
   "source": [
    "r_"
   ]
  },
  {
   "cell_type": "code",
   "execution_count": 31,
   "id": "773b2aef",
   "metadata": {},
   "outputs": [
    {
     "data": {
      "image/png": "[encoded data removed]",
      "text/plain": [
       "<Figure size 640x480 with 2 Axes>"
      ]
     },
     "metadata": {},
     "output_type": "display_data"
    }
   ],
   "source": [
    "fig = plt.figure()\n",
    "ax = fig.subplots()\n",
    "\n",
    "ax.bar(x = r_[\"AgeBuketized\"], height = r_[\"nr\"], color = \"#A4CE95\")\n",
    "\n",
    "ax.set_ylim(bottom=0, top=3000)\n",
    "\n",
    "ax2 = ax.twinx()\n",
    "\n",
    "ax2.plot(r_[\"mean_transported\"], color = \"#6196A6\");"
   ]
  },
  {
   "cell_type": "code",
   "execution_count": 32,
   "id": "a7f7e950",
   "metadata": {},
   "outputs": [
    {
     "data": {
      "text/plain": [
       "0"
      ]
     },
     "execution_count": 32,
     "metadata": {},
     "output_type": "execute_result"
    }
   ],
   "source": [
    "(X.isnull().sum(axis = 1) == X.shape[1]).sum()"
   ]
  },
  {
   "cell_type": "code",
   "execution_count": 33,
   "id": "a1f3a261",
   "metadata": {},
   "outputs": [
    {
     "data": {
      "image/png": "[encoded data removed]",
      "text/plain": [
       "<Figure size 640x480 with 1 Axes>"
      ]
     },
     "metadata": {},
     "output_type": "display_data"
    }
   ],
   "source": [
    "(\n",
    "    X\n",
    "    .groupby(\"HomePlanet\")\n",
    "    [\"Transported\"]\n",
    "    .mean()\n",
    "    .sort_values(ascending = False)\n",
    "    .plot(kind = \"bar\")\n",
    ");"
   ]
  },
  {
   "cell_type": "code",
   "execution_count": 34,
   "id": "87a66d16",
   "metadata": {},
   "outputs": [
    {
     "data": {
      "text/html": [
       "<div>\n",
       "<style scoped>\n",
       "    .dataframe tbody tr th:only-of-type {\n",
       "        vertical-align: middle;\n",
       "    }\n",
       "\n",
       "    .dataframe tbody tr th {\n",
       "        vertical-align: top;\n",
       "    }\n",
       "\n",
       "    .dataframe thead th {\n",
       "        text-align: right;\n",
       "    }\n",
       "</style>\n",
       "<table border=\"1\" class=\"dataframe\">\n",
       "  <thead>\n",
       "    <tr style=\"text-align: right;\">\n",
       "      <th></th>\n",
       "      <th>HomePlanet</th>\n",
       "      <th>CryoSleep</th>\n",
       "      <th>Cabin</th>\n",
       "      <th>Destination</th>\n",
       "      <th>Age</th>\n",
       "      <th>VIP</th>\n",
       "      <th>RoomService</th>\n",
       "      <th>FoodCourt</th>\n",
       "      <th>ShoppingMall</th>\n",
       "      <th>Spa</th>\n",
       "      <th>VRDeck</th>\n",
       "      <th>Name</th>\n",
       "      <th>Transported</th>\n",
       "      <th>TotalExpenses</th>\n",
       "    </tr>\n",
       "    <tr>\n",
       "      <th>PassengerId</th>\n",
       "      <th></th>\n",
       "      <th></th>\n",
       "      <th></th>\n",
       "      <th></th>\n",
       "      <th></th>\n",
       "      <th></th>\n",
       "      <th></th>\n",
       "      <th></th>\n",
       "      <th></th>\n",
       "      <th></th>\n",
       "      <th></th>\n",
       "      <th></th>\n",
       "      <th></th>\n",
       "      <th></th>\n",
       "    </tr>\n",
       "  </thead>\n",
       "  <tbody>\n",
       "    <tr>\n",
       "      <th>0001_01</th>\n",
       "      <td>Europa</td>\n",
       "      <td>False</td>\n",
       "      <td>B/0/P</td>\n",
       "      <td>TRAPPIST-1e</td>\n",
       "      <td>39.0</td>\n",
       "      <td>False</td>\n",
       "      <td>0.0</td>\n",
       "      <td>0.0</td>\n",
       "      <td>0.0</td>\n",
       "      <td>0.0</td>\n",
       "      <td>0.0</td>\n",
       "      <td>Maham Ofracculy</td>\n",
       "      <td>False</td>\n",
       "      <td>0.0</td>\n",
       "    </tr>\n",
       "    <tr>\n",
       "      <th>0002_01</th>\n",
       "      <td>Earth</td>\n",
       "      <td>False</td>\n",
       "      <td>F/0/S</td>\n",
       "      <td>TRAPPIST-1e</td>\n",
       "      <td>24.0</td>\n",
       "      <td>False</td>\n",
       "      <td>109.0</td>\n",
       "      <td>9.0</td>\n",
       "      <td>25.0</td>\n",
       "      <td>549.0</td>\n",
       "      <td>44.0</td>\n",
       "      <td>Juanna Vines</td>\n",
       "      <td>True</td>\n",
       "      <td>736.0</td>\n",
       "    </tr>\n",
       "    <tr>\n",
       "      <th>0003_01</th>\n",
       "      <td>Europa</td>\n",
       "      <td>False</td>\n",
       "      <td>A/0/S</td>\n",
       "      <td>TRAPPIST-1e</td>\n",
       "      <td>58.0</td>\n",
       "      <td>True</td>\n",
       "      <td>43.0</td>\n",
       "      <td>3576.0</td>\n",
       "      <td>0.0</td>\n",
       "      <td>6715.0</td>\n",
       "      <td>49.0</td>\n",
       "      <td>Altark Susent</td>\n",
       "      <td>False</td>\n",
       "      <td>10383.0</td>\n",
       "    </tr>\n",
       "    <tr>\n",
       "      <th>0003_02</th>\n",
       "      <td>Europa</td>\n",
       "      <td>False</td>\n",
       "      <td>A/0/S</td>\n",
       "      <td>TRAPPIST-1e</td>\n",
       "      <td>33.0</td>\n",
       "      <td>False</td>\n",
       "      <td>0.0</td>\n",
       "      <td>1283.0</td>\n",
       "      <td>371.0</td>\n",
       "      <td>3329.0</td>\n",
       "      <td>193.0</td>\n",
       "      <td>Solam Susent</td>\n",
       "      <td>False</td>\n",
       "      <td>5176.0</td>\n",
       "    </tr>\n",
       "    <tr>\n",
       "      <th>0004_01</th>\n",
       "      <td>Earth</td>\n",
       "      <td>False</td>\n",
       "      <td>F/1/S</td>\n",
       "      <td>TRAPPIST-1e</td>\n",
       "      <td>16.0</td>\n",
       "      <td>False</td>\n",
       "      <td>303.0</td>\n",
       "      <td>70.0</td>\n",
       "      <td>151.0</td>\n",
       "      <td>565.0</td>\n",
       "      <td>2.0</td>\n",
       "      <td>Willy Santantines</td>\n",
       "      <td>True</td>\n",
       "      <td>1091.0</td>\n",
       "    </tr>\n",
       "  </tbody>\n",
       "</table>\n",
       "</div>"
      ],
      "text/plain": [
       "            HomePlanet CryoSleep  Cabin  Destination   Age    VIP  \\\n",
       "PassengerId                                                         \n",
       "0001_01         Europa     False  B/0/P  TRAPPIST-1e  39.0  False   \n",
       "0002_01          Earth     False  F/0/S  TRAPPIST-1e  24.0  False   \n",
       "0003_01         Europa     False  A/0/S  TRAPPIST-1e  58.0   True   \n",
       "0003_02         Europa     False  A/0/S  TRAPPIST-1e  33.0  False   \n",
       "0004_01          Earth     False  F/1/S  TRAPPIST-1e  16.0  False   \n",
       "\n",
       "             RoomService  FoodCourt  ShoppingMall     Spa  VRDeck  \\\n",
       "PassengerId                                                         \n",
       "0001_01              0.0        0.0           0.0     0.0     0.0   \n",
       "0002_01            109.0        9.0          25.0   549.0    44.0   \n",
       "0003_01             43.0     3576.0           0.0  6715.0    49.0   \n",
       "0003_02              0.0     1283.0         371.0  3329.0   193.0   \n",
       "0004_01            303.0       70.0         151.0   565.0     2.0   \n",
       "\n",
       "                          Name  Transported  TotalExpenses  \n",
       "PassengerId                                                 \n",
       "0001_01        Maham Ofracculy        False            0.0  \n",
       "0002_01           Juanna Vines         True          736.0  \n",
       "0003_01          Altark Susent        False        10383.0  \n",
       "0003_02           Solam Susent        False         5176.0  \n",
       "0004_01      Willy Santantines         True         1091.0  "
      ]
     },
     "execution_count": 34,
     "metadata": {},
     "output_type": "execute_result"
    }
   ],
   "source": [
    "X.head()"
   ]
  },
  {
   "cell_type": "code",
   "execution_count": 35,
   "id": "af7ce311",
   "metadata": {},
   "outputs": [
    {
     "name": "stderr",
     "output_type": "stream",
     "text": [
      "/var/folders/m8/pkh7yz5j3_318g64strn1y680000gn/T/ipykernel_48438/3554285840.py:2: FutureWarning: The provided callable <function mean at 0x1074d7d90> is currently using SeriesGroupBy.mean. In a future version of pandas, the provided callable will be used directly. To keep current behavior pass the string \"mean\" instead.\n",
      "  X\n"
     ]
    }
   ],
   "source": [
    "_ = (\n",
    "    X\n",
    "    .groupby([\"HomePlanet\", \"CryoSleep\"])\n",
    "    .agg(\n",
    "        nr_rows = (\"Cabin\", len),\n",
    "        transported_ratio = (\"Transported\", np.mean)\n",
    "    )\n",
    "    .assign(\n",
    "        nr_rows_pct = lambda df: round((df[\"nr_rows\"]/df[\"nr_rows\"].sum())*100, 2),\n",
    "        transported_ratio = lambda df: round(df[\"transported_ratio\"] * 100, 2)\n",
    "    )\n",
    ");"
   ]
  },
  {
   "cell_type": "code",
   "execution_count": 36,
   "id": "b29bee69",
   "metadata": {},
   "outputs": [
    {
     "data": {
      "text/html": [
       "<div>\n",
       "<style scoped>\n",
       "    .dataframe tbody tr th:only-of-type {\n",
       "        vertical-align: middle;\n",
       "    }\n",
       "\n",
       "    .dataframe tbody tr th {\n",
       "        vertical-align: top;\n",
       "    }\n",
       "\n",
       "    .dataframe thead th {\n",
       "        text-align: right;\n",
       "    }\n",
       "</style>\n",
       "<table border=\"1\" class=\"dataframe\">\n",
       "  <thead>\n",
       "    <tr style=\"text-align: right;\">\n",
       "      <th></th>\n",
       "      <th></th>\n",
       "      <th>nr_rows</th>\n",
       "      <th>transported_ratio</th>\n",
       "      <th>nr_rows_pct</th>\n",
       "    </tr>\n",
       "    <tr>\n",
       "      <th>HomePlanet</th>\n",
       "      <th>CryoSleep</th>\n",
       "      <th></th>\n",
       "      <th></th>\n",
       "      <th></th>\n",
       "    </tr>\n",
       "  </thead>\n",
       "  <tbody>\n",
       "    <tr>\n",
       "      <th rowspan=\"2\" valign=\"top\">Earth</th>\n",
       "      <th>False</th>\n",
       "      <td>3106</td>\n",
       "      <td>32.10</td>\n",
       "      <td>37.53</td>\n",
       "    </tr>\n",
       "    <tr>\n",
       "      <th>True</th>\n",
       "      <td>1382</td>\n",
       "      <td>65.63</td>\n",
       "      <td>16.70</td>\n",
       "    </tr>\n",
       "    <tr>\n",
       "      <th rowspan=\"2\" valign=\"top\">Europa</th>\n",
       "      <th>False</th>\n",
       "      <td>1162</td>\n",
       "      <td>40.02</td>\n",
       "      <td>14.04</td>\n",
       "    </tr>\n",
       "    <tr>\n",
       "      <th>True</th>\n",
       "      <td>911</td>\n",
       "      <td>98.90</td>\n",
       "      <td>11.01</td>\n",
       "    </tr>\n",
       "    <tr>\n",
       "      <th rowspan=\"2\" valign=\"top\">Mars</th>\n",
       "      <th>False</th>\n",
       "      <td>1047</td>\n",
       "      <td>27.70</td>\n",
       "      <td>12.65</td>\n",
       "    </tr>\n",
       "    <tr>\n",
       "      <th>True</th>\n",
       "      <td>669</td>\n",
       "      <td>91.18</td>\n",
       "      <td>8.08</td>\n",
       "    </tr>\n",
       "  </tbody>\n",
       "</table>\n",
       "</div>"
      ],
      "text/plain": [
       "                      nr_rows  transported_ratio  nr_rows_pct\n",
       "HomePlanet CryoSleep                                         \n",
       "Earth      False         3106              32.10        37.53\n",
       "           True          1382              65.63        16.70\n",
       "Europa     False         1162              40.02        14.04\n",
       "           True           911              98.90        11.01\n",
       "Mars       False         1047              27.70        12.65\n",
       "           True           669              91.18         8.08"
      ]
     },
     "execution_count": 36,
     "metadata": {},
     "output_type": "execute_result"
    }
   ],
   "source": [
    "_"
   ]
  },
  {
   "cell_type": "code",
   "execution_count": 37,
   "id": "ad900dbc",
   "metadata": {},
   "outputs": [],
   "source": [
    "X[\"LenCabin\"] = X[\"Cabin\"].apply(lambda cabin: len(str(cabin)))"
   ]
  },
  {
   "cell_type": "code",
   "execution_count": 38,
   "id": "1f31923a",
   "metadata": {},
   "outputs": [
    {
     "data": {
      "text/plain": [
       "LenCabin\n",
       "3     199\n",
       "5     130\n",
       "6    1201\n",
       "7    5043\n",
       "8    2120\n",
       "dtype: int64"
      ]
     },
     "execution_count": 38,
     "metadata": {},
     "output_type": "execute_result"
    }
   ],
   "source": [
    "X.groupby([\"LenCabin\"]).size()"
   ]
  },
  {
   "cell_type": "code",
   "execution_count": 39,
   "id": "e4d13379",
   "metadata": {},
   "outputs": [
    {
     "data": {
      "text/html": [
       "<div>\n",
       "<style scoped>\n",
       "    .dataframe tbody tr th:only-of-type {\n",
       "        vertical-align: middle;\n",
       "    }\n",
       "\n",
       "    .dataframe tbody tr th {\n",
       "        vertical-align: top;\n",
       "    }\n",
       "\n",
       "    .dataframe thead th {\n",
       "        text-align: right;\n",
       "    }\n",
       "</style>\n",
       "<table border=\"1\" class=\"dataframe\">\n",
       "  <thead>\n",
       "    <tr style=\"text-align: right;\">\n",
       "      <th></th>\n",
       "      <th>HomePlanet</th>\n",
       "      <th>CryoSleep</th>\n",
       "      <th>Cabin</th>\n",
       "      <th>Destination</th>\n",
       "      <th>Age</th>\n",
       "      <th>VIP</th>\n",
       "      <th>RoomService</th>\n",
       "      <th>FoodCourt</th>\n",
       "      <th>ShoppingMall</th>\n",
       "      <th>Spa</th>\n",
       "      <th>VRDeck</th>\n",
       "      <th>Name</th>\n",
       "      <th>Transported</th>\n",
       "      <th>TotalExpenses</th>\n",
       "      <th>LenCabin</th>\n",
       "    </tr>\n",
       "    <tr>\n",
       "      <th>PassengerId</th>\n",
       "      <th></th>\n",
       "      <th></th>\n",
       "      <th></th>\n",
       "      <th></th>\n",
       "      <th></th>\n",
       "      <th></th>\n",
       "      <th></th>\n",
       "      <th></th>\n",
       "      <th></th>\n",
       "      <th></th>\n",
       "      <th></th>\n",
       "      <th></th>\n",
       "      <th></th>\n",
       "      <th></th>\n",
       "      <th></th>\n",
       "    </tr>\n",
       "  </thead>\n",
       "  <tbody>\n",
       "    <tr>\n",
       "      <th>0001_01</th>\n",
       "      <td>Europa</td>\n",
       "      <td>False</td>\n",
       "      <td>B/0/P</td>\n",
       "      <td>TRAPPIST-1e</td>\n",
       "      <td>39.0</td>\n",
       "      <td>False</td>\n",
       "      <td>0.0</td>\n",
       "      <td>0.0</td>\n",
       "      <td>0.0</td>\n",
       "      <td>0.0</td>\n",
       "      <td>0.0</td>\n",
       "      <td>Maham Ofracculy</td>\n",
       "      <td>False</td>\n",
       "      <td>0.0</td>\n",
       "      <td>5</td>\n",
       "    </tr>\n",
       "    <tr>\n",
       "      <th>0002_01</th>\n",
       "      <td>Earth</td>\n",
       "      <td>False</td>\n",
       "      <td>F/0/S</td>\n",
       "      <td>TRAPPIST-1e</td>\n",
       "      <td>24.0</td>\n",
       "      <td>False</td>\n",
       "      <td>109.0</td>\n",
       "      <td>9.0</td>\n",
       "      <td>25.0</td>\n",
       "      <td>549.0</td>\n",
       "      <td>44.0</td>\n",
       "      <td>Juanna Vines</td>\n",
       "      <td>True</td>\n",
       "      <td>736.0</td>\n",
       "      <td>5</td>\n",
       "    </tr>\n",
       "    <tr>\n",
       "      <th>0003_01</th>\n",
       "      <td>Europa</td>\n",
       "      <td>False</td>\n",
       "      <td>A/0/S</td>\n",
       "      <td>TRAPPIST-1e</td>\n",
       "      <td>58.0</td>\n",
       "      <td>True</td>\n",
       "      <td>43.0</td>\n",
       "      <td>3576.0</td>\n",
       "      <td>0.0</td>\n",
       "      <td>6715.0</td>\n",
       "      <td>49.0</td>\n",
       "      <td>Altark Susent</td>\n",
       "      <td>False</td>\n",
       "      <td>10383.0</td>\n",
       "      <td>5</td>\n",
       "    </tr>\n",
       "    <tr>\n",
       "      <th>0003_02</th>\n",
       "      <td>Europa</td>\n",
       "      <td>False</td>\n",
       "      <td>A/0/S</td>\n",
       "      <td>TRAPPIST-1e</td>\n",
       "      <td>33.0</td>\n",
       "      <td>False</td>\n",
       "      <td>0.0</td>\n",
       "      <td>1283.0</td>\n",
       "      <td>371.0</td>\n",
       "      <td>3329.0</td>\n",
       "      <td>193.0</td>\n",
       "      <td>Solam Susent</td>\n",
       "      <td>False</td>\n",
       "      <td>5176.0</td>\n",
       "      <td>5</td>\n",
       "    </tr>\n",
       "    <tr>\n",
       "      <th>0004_01</th>\n",
       "      <td>Earth</td>\n",
       "      <td>False</td>\n",
       "      <td>F/1/S</td>\n",
       "      <td>TRAPPIST-1e</td>\n",
       "      <td>16.0</td>\n",
       "      <td>False</td>\n",
       "      <td>303.0</td>\n",
       "      <td>70.0</td>\n",
       "      <td>151.0</td>\n",
       "      <td>565.0</td>\n",
       "      <td>2.0</td>\n",
       "      <td>Willy Santantines</td>\n",
       "      <td>True</td>\n",
       "      <td>1091.0</td>\n",
       "      <td>5</td>\n",
       "    </tr>\n",
       "  </tbody>\n",
       "</table>\n",
       "</div>"
      ],
      "text/plain": [
       "            HomePlanet CryoSleep  Cabin  Destination   Age    VIP  \\\n",
       "PassengerId                                                         \n",
       "0001_01         Europa     False  B/0/P  TRAPPIST-1e  39.0  False   \n",
       "0002_01          Earth     False  F/0/S  TRAPPIST-1e  24.0  False   \n",
       "0003_01         Europa     False  A/0/S  TRAPPIST-1e  58.0   True   \n",
       "0003_02         Europa     False  A/0/S  TRAPPIST-1e  33.0  False   \n",
       "0004_01          Earth     False  F/1/S  TRAPPIST-1e  16.0  False   \n",
       "\n",
       "             RoomService  FoodCourt  ShoppingMall     Spa  VRDeck  \\\n",
       "PassengerId                                                         \n",
       "0001_01              0.0        0.0           0.0     0.0     0.0   \n",
       "0002_01            109.0        9.0          25.0   549.0    44.0   \n",
       "0003_01             43.0     3576.0           0.0  6715.0    49.0   \n",
       "0003_02              0.0     1283.0         371.0  3329.0   193.0   \n",
       "0004_01            303.0       70.0         151.0   565.0     2.0   \n",
       "\n",
       "                          Name  Transported  TotalExpenses  LenCabin  \n",
       "PassengerId                                                           \n",
       "0001_01        Maham Ofracculy        False            0.0         5  \n",
       "0002_01           Juanna Vines         True          736.0         5  \n",
       "0003_01          Altark Susent        False        10383.0         5  \n",
       "0003_02           Solam Susent        False         5176.0         5  \n",
       "0004_01      Willy Santantines         True         1091.0         5  "
      ]
     },
     "execution_count": 39,
     "metadata": {},
     "output_type": "execute_result"
    }
   ],
   "source": [
    "X[X[\"LenCabin\"] == 5].head()"
   ]
  },
  {
   "cell_type": "code",
   "execution_count": 40,
   "id": "34ca359f",
   "metadata": {},
   "outputs": [
    {
     "name": "stderr",
     "output_type": "stream",
     "text": [
      "/var/folders/m8/pkh7yz5j3_318g64strn1y680000gn/T/ipykernel_48438/3468940878.py:1: FutureWarning: A value is trying to be set on a copy of a DataFrame or Series through chained assignment using an inplace method.\n",
      "The behavior will change in pandas 3.0. This inplace method will never work because the intermediate object on which we are setting values always behaves as a copy.\n",
      "\n",
      "For example, when doing 'df[col].method(value, inplace=True)', try using 'df.method({col: value}, inplace=True)' or df[col] = df[col].method(value) instead, to perform the operation inplace on the original object.\n",
      "\n",
      "\n",
      "  X[\"Cabin\"].fillna(\"NA\", inplace = True)\n"
     ]
    }
   ],
   "source": [
    "X[\"Cabin\"].fillna(\"NA\", inplace = True)"
   ]
  },
  {
   "cell_type": "code",
   "execution_count": 41,
   "id": "75cae4e2",
   "metadata": {},
   "outputs": [],
   "source": [
    "X[\"CabinFirstLetter\"] = X[\"Cabin\"].apply(lambda cabin: cabin[0] if cabin != \"NA\" else cabin)\n",
    "X[\"CabinLastLetter\"] = X[\"Cabin\"].apply(lambda cabin: cabin[-1] if cabin != \"NA\" else cabin)"
   ]
  },
  {
   "cell_type": "code",
   "execution_count": 42,
   "id": "29075ff0",
   "metadata": {},
   "outputs": [
    {
     "data": {
      "text/plain": [
       "CabinFirstLetter\n",
       "A      256\n",
       "B      779\n",
       "C      747\n",
       "D      478\n",
       "E      876\n",
       "F     2794\n",
       "G     2559\n",
       "NA     199\n",
       "T        5\n",
       "Name: count, dtype: int64"
      ]
     },
     "execution_count": 42,
     "metadata": {},
     "output_type": "execute_result"
    }
   ],
   "source": [
    "X[\"CabinFirstLetter\"].value_counts().sort_index()"
   ]
  },
  {
   "cell_type": "code",
   "execution_count": 43,
   "id": "8b493322",
   "metadata": {},
   "outputs": [
    {
     "data": {
      "text/plain": [
       "CabinLastLetter\n",
       "NA     199\n",
       "P     4206\n",
       "S     4288\n",
       "Name: count, dtype: int64"
      ]
     },
     "execution_count": 43,
     "metadata": {},
     "output_type": "execute_result"
    }
   ],
   "source": [
    "X[\"CabinLastLetter\"].value_counts().sort_index()"
   ]
  },
  {
   "cell_type": "code",
   "execution_count": 44,
   "id": "c2d4c839",
   "metadata": {},
   "outputs": [
    {
     "data": {
      "text/plain": [
       "PassengerId\n",
       "5480_01          NA\n",
       "8135_01     C/267/P\n",
       "6229_01    F/1286/P\n",
       "2409_02     G/390/P\n",
       "6968_01    F/1447/P\n",
       "3395_01     G/542/S\n",
       "9152_01    G/1491/P\n",
       "1562_01     F/306/P\n",
       "1700_02      B/74/S\n",
       "8930_01    F/1725/S\n",
       "Name: Cabin, dtype: object"
      ]
     },
     "execution_count": 44,
     "metadata": {},
     "output_type": "execute_result"
    }
   ],
   "source": [
    "X[\"Cabin\"].sample(10)"
   ]
  },
  {
   "cell_type": "code",
   "execution_count": 45,
   "id": "bcf993d3",
   "metadata": {},
   "outputs": [
    {
     "data": {
      "text/plain": [
       "CabinFirstLetter\n",
       "A     0.496094\n",
       "B     0.734275\n",
       "C     0.680054\n",
       "D     0.433054\n",
       "E     0.357306\n",
       "F     0.439871\n",
       "G     0.516217\n",
       "NA    0.502513\n",
       "T     0.200000\n",
       "Name: Transported, dtype: float64"
      ]
     },
     "execution_count": 45,
     "metadata": {},
     "output_type": "execute_result"
    }
   ],
   "source": [
    "(\n",
    "    X\n",
    "    .groupby([\"CabinFirstLetter\"])\n",
    "    [\"Transported\"]\n",
    "    .mean()\n",
    "    .sort_index()\n",
    ")"
   ]
  },
  {
   "cell_type": "code",
   "execution_count": 46,
   "id": "b5138e57",
   "metadata": {},
   "outputs": [
    {
     "data": {
      "text/plain": [
       "CabinLastLetter\n",
       "NA    0.502513\n",
       "P     0.451260\n",
       "S     0.555037\n",
       "Name: Transported, dtype: float64"
      ]
     },
     "execution_count": 46,
     "metadata": {},
     "output_type": "execute_result"
    }
   ],
   "source": [
    "(\n",
    "    X\n",
    "    .groupby([\"CabinLastLetter\"])\n",
    "    [\"Transported\"]\n",
    "    .mean()\n",
    "    .sort_index()\n",
    ")"
   ]
  },
  {
   "cell_type": "code",
   "execution_count": 47,
   "id": "dd5d3341",
   "metadata": {},
   "outputs": [
    {
     "data": {
      "text/html": [
       "<div>\n",
       "<style scoped>\n",
       "    .dataframe tbody tr th:only-of-type {\n",
       "        vertical-align: middle;\n",
       "    }\n",
       "\n",
       "    .dataframe tbody tr th {\n",
       "        vertical-align: top;\n",
       "    }\n",
       "\n",
       "    .dataframe thead th {\n",
       "        text-align: right;\n",
       "    }\n",
       "</style>\n",
       "<table border=\"1\" class=\"dataframe\">\n",
       "  <thead>\n",
       "    <tr style=\"text-align: right;\">\n",
       "      <th></th>\n",
       "      <th>NA</th>\n",
       "      <th>P</th>\n",
       "      <th>S</th>\n",
       "      <th>Transported</th>\n",
       "    </tr>\n",
       "    <tr>\n",
       "      <th>CabinFirstLetter</th>\n",
       "      <th></th>\n",
       "      <th></th>\n",
       "      <th></th>\n",
       "      <th></th>\n",
       "    </tr>\n",
       "  </thead>\n",
       "  <tbody>\n",
       "    <tr>\n",
       "      <th>A</th>\n",
       "      <td>NaN</td>\n",
       "      <td>0.435897</td>\n",
       "      <td>0.546763</td>\n",
       "      <td>0.496094</td>\n",
       "    </tr>\n",
       "    <tr>\n",
       "      <th>B</th>\n",
       "      <td>NaN</td>\n",
       "      <td>0.674221</td>\n",
       "      <td>0.784038</td>\n",
       "      <td>0.734275</td>\n",
       "    </tr>\n",
       "    <tr>\n",
       "      <th>C</th>\n",
       "      <td>NaN</td>\n",
       "      <td>0.580645</td>\n",
       "      <td>0.763547</td>\n",
       "      <td>0.680054</td>\n",
       "    </tr>\n",
       "    <tr>\n",
       "      <th>D</th>\n",
       "      <td>NaN</td>\n",
       "      <td>0.403226</td>\n",
       "      <td>0.465217</td>\n",
       "      <td>0.433054</td>\n",
       "    </tr>\n",
       "    <tr>\n",
       "      <th>E</th>\n",
       "      <td>NaN</td>\n",
       "      <td>0.342657</td>\n",
       "      <td>0.371365</td>\n",
       "      <td>0.357306</td>\n",
       "    </tr>\n",
       "    <tr>\n",
       "      <th>F</th>\n",
       "      <td>NaN</td>\n",
       "      <td>0.410987</td>\n",
       "      <td>0.470501</td>\n",
       "      <td>0.439871</td>\n",
       "    </tr>\n",
       "    <tr>\n",
       "      <th>G</th>\n",
       "      <td>NaN</td>\n",
       "      <td>0.448276</td>\n",
       "      <td>0.583788</td>\n",
       "      <td>0.516217</td>\n",
       "    </tr>\n",
       "    <tr>\n",
       "      <th>NA</th>\n",
       "      <td>0.502513</td>\n",
       "      <td>NaN</td>\n",
       "      <td>NaN</td>\n",
       "      <td>0.502513</td>\n",
       "    </tr>\n",
       "    <tr>\n",
       "      <th>T</th>\n",
       "      <td>NaN</td>\n",
       "      <td>0.250000</td>\n",
       "      <td>0.000000</td>\n",
       "      <td>0.200000</td>\n",
       "    </tr>\n",
       "  </tbody>\n",
       "</table>\n",
       "</div>"
      ],
      "text/plain": [
       "                        NA         P         S  Transported\n",
       "CabinFirstLetter                                           \n",
       "A                      NaN  0.435897  0.546763     0.496094\n",
       "B                      NaN  0.674221  0.784038     0.734275\n",
       "C                      NaN  0.580645  0.763547     0.680054\n",
       "D                      NaN  0.403226  0.465217     0.433054\n",
       "E                      NaN  0.342657  0.371365     0.357306\n",
       "F                      NaN  0.410987  0.470501     0.439871\n",
       "G                      NaN  0.448276  0.583788     0.516217\n",
       "NA                0.502513       NaN       NaN     0.502513\n",
       "T                      NaN  0.250000  0.000000     0.200000"
      ]
     },
     "execution_count": 47,
     "metadata": {},
     "output_type": "execute_result"
    }
   ],
   "source": [
    "pd.concat([\n",
    "    (\n",
    "        X\n",
    "        .groupby([\"CabinFirstLetter\", \"CabinLastLetter\"])\n",
    "        [\"Transported\"]\n",
    "        .mean()\n",
    "        .sort_index()\n",
    "        .unstack()\n",
    "    ),\n",
    "    (\n",
    "        X\n",
    "        .groupby([\"CabinFirstLetter\"])\n",
    "        [\"Transported\"]\n",
    "        .mean()\n",
    "        .sort_index()\n",
    "    )], axis = 1)"
   ]
  },
  {
   "cell_type": "code",
   "execution_count": 48,
   "id": "66565f24-b1e3-42fd-aadb-511c504645b2",
   "metadata": {},
   "outputs": [
    {
     "data": {
      "text/html": [
       "<div>\n",
       "<style scoped>\n",
       "    .dataframe tbody tr th:only-of-type {\n",
       "        vertical-align: middle;\n",
       "    }\n",
       "\n",
       "    .dataframe tbody tr th {\n",
       "        vertical-align: top;\n",
       "    }\n",
       "\n",
       "    .dataframe thead th {\n",
       "        text-align: right;\n",
       "    }\n",
       "</style>\n",
       "<table border=\"1\" class=\"dataframe\">\n",
       "  <thead>\n",
       "    <tr style=\"text-align: right;\">\n",
       "      <th></th>\n",
       "      <th>Age</th>\n",
       "      <th>RoomService</th>\n",
       "      <th>FoodCourt</th>\n",
       "      <th>ShoppingMall</th>\n",
       "      <th>Spa</th>\n",
       "      <th>VRDeck</th>\n",
       "      <th>TotalExpenses</th>\n",
       "      <th>LenCabin</th>\n",
       "    </tr>\n",
       "  </thead>\n",
       "  <tbody>\n",
       "    <tr>\n",
       "      <th>count</th>\n",
       "      <td>8514.000000</td>\n",
       "      <td>8512.000000</td>\n",
       "      <td>8510.000000</td>\n",
       "      <td>8485.000000</td>\n",
       "      <td>8510.000000</td>\n",
       "      <td>8505.000000</td>\n",
       "      <td>8693.000000</td>\n",
       "      <td>8693.000000</td>\n",
       "    </tr>\n",
       "    <tr>\n",
       "      <th>mean</th>\n",
       "      <td>28.827930</td>\n",
       "      <td>224.687617</td>\n",
       "      <td>458.077203</td>\n",
       "      <td>173.729169</td>\n",
       "      <td>311.138778</td>\n",
       "      <td>304.854791</td>\n",
       "      <td>1440.866329</td>\n",
       "      <td>6.984240</td>\n",
       "    </tr>\n",
       "    <tr>\n",
       "      <th>std</th>\n",
       "      <td>14.489021</td>\n",
       "      <td>666.717663</td>\n",
       "      <td>1611.489240</td>\n",
       "      <td>604.696458</td>\n",
       "      <td>1136.705535</td>\n",
       "      <td>1145.717189</td>\n",
       "      <td>2803.045694</td>\n",
       "      <td>0.898869</td>\n",
       "    </tr>\n",
       "    <tr>\n",
       "      <th>min</th>\n",
       "      <td>0.000000</td>\n",
       "      <td>0.000000</td>\n",
       "      <td>0.000000</td>\n",
       "      <td>0.000000</td>\n",
       "      <td>0.000000</td>\n",
       "      <td>0.000000</td>\n",
       "      <td>0.000000</td>\n",
       "      <td>3.000000</td>\n",
       "    </tr>\n",
       "    <tr>\n",
       "      <th>25%</th>\n",
       "      <td>19.000000</td>\n",
       "      <td>0.000000</td>\n",
       "      <td>0.000000</td>\n",
       "      <td>0.000000</td>\n",
       "      <td>0.000000</td>\n",
       "      <td>0.000000</td>\n",
       "      <td>0.000000</td>\n",
       "      <td>7.000000</td>\n",
       "    </tr>\n",
       "    <tr>\n",
       "      <th>50%</th>\n",
       "      <td>27.000000</td>\n",
       "      <td>0.000000</td>\n",
       "      <td>0.000000</td>\n",
       "      <td>0.000000</td>\n",
       "      <td>0.000000</td>\n",
       "      <td>0.000000</td>\n",
       "      <td>716.000000</td>\n",
       "      <td>7.000000</td>\n",
       "    </tr>\n",
       "    <tr>\n",
       "      <th>75%</th>\n",
       "      <td>38.000000</td>\n",
       "      <td>47.000000</td>\n",
       "      <td>76.000000</td>\n",
       "      <td>27.000000</td>\n",
       "      <td>59.000000</td>\n",
       "      <td>46.000000</td>\n",
       "      <td>1441.000000</td>\n",
       "      <td>7.000000</td>\n",
       "    </tr>\n",
       "    <tr>\n",
       "      <th>max</th>\n",
       "      <td>79.000000</td>\n",
       "      <td>14327.000000</td>\n",
       "      <td>29813.000000</td>\n",
       "      <td>23492.000000</td>\n",
       "      <td>22408.000000</td>\n",
       "      <td>24133.000000</td>\n",
       "      <td>35987.000000</td>\n",
       "      <td>8.000000</td>\n",
       "    </tr>\n",
       "  </tbody>\n",
       "</table>\n",
       "</div>"
      ],
      "text/plain": [
       "               Age   RoomService     FoodCourt  ShoppingMall           Spa  \\\n",
       "count  8514.000000   8512.000000   8510.000000   8485.000000   8510.000000   \n",
       "mean     28.827930    224.687617    458.077203    173.729169    311.138778   \n",
       "std      14.489021    666.717663   1611.489240    604.696458   1136.705535   \n",
       "min       0.000000      0.000000      0.000000      0.000000      0.000000   \n",
       "25%      19.000000      0.000000      0.000000      0.000000      0.000000   \n",
       "50%      27.000000      0.000000      0.000000      0.000000      0.000000   \n",
       "75%      38.000000     47.000000     76.000000     27.000000     59.000000   \n",
       "max      79.000000  14327.000000  29813.000000  23492.000000  22408.000000   \n",
       "\n",
       "             VRDeck  TotalExpenses     LenCabin  \n",
       "count   8505.000000    8693.000000  8693.000000  \n",
       "mean     304.854791    1440.866329     6.984240  \n",
       "std     1145.717189    2803.045694     0.898869  \n",
       "min        0.000000       0.000000     3.000000  \n",
       "25%        0.000000       0.000000     7.000000  \n",
       "50%        0.000000     716.000000     7.000000  \n",
       "75%       46.000000    1441.000000     7.000000  \n",
       "max    24133.000000   35987.000000     8.000000  "
      ]
     },
     "execution_count": 48,
     "metadata": {},
     "output_type": "execute_result"
    }
   ],
   "source": [
    "X.describe()"
   ]
  },
  {
   "cell_type": "code",
   "execution_count": 49,
   "id": "463efae3-d71e-4cf2-943c-711c20e1110f",
   "metadata": {},
   "outputs": [
    {
     "data": {
      "text/plain": [
       "HomePlanet          201\n",
       "CryoSleep           217\n",
       "Cabin                 0\n",
       "Destination         182\n",
       "Age                 179\n",
       "VIP                 203\n",
       "RoomService         181\n",
       "FoodCourt           183\n",
       "ShoppingMall        208\n",
       "Spa                 183\n",
       "VRDeck              188\n",
       "Name                200\n",
       "Transported           0\n",
       "TotalExpenses         0\n",
       "LenCabin              0\n",
       "CabinFirstLetter      0\n",
       "CabinLastLetter       0\n",
       "dtype: int64"
      ]
     },
     "execution_count": 49,
     "metadata": {},
     "output_type": "execute_result"
    }
   ],
   "source": [
    "X.isnull().sum()"
   ]
  },
  {
   "cell_type": "code",
   "execution_count": 50,
   "id": "28234a6f-21ee-45a3-82b8-a15647ea2862",
   "metadata": {},
   "outputs": [
    {
     "data": {
      "text/plain": [
       "(8693, 17)"
      ]
     },
     "execution_count": 50,
     "metadata": {},
     "output_type": "execute_result"
    }
   ],
   "source": [
    "X.shape"
   ]
  },
  {
   "cell_type": "code",
   "execution_count": 51,
   "id": "c832f7e5",
   "metadata": {},
   "outputs": [
    {
     "name": "stderr",
     "output_type": "stream",
     "text": [
      "/var/folders/m8/pkh7yz5j3_318g64strn1y680000gn/T/ipykernel_48438/4213924544.py:2: FutureWarning: The provided callable <function mean at 0x1074d7d90> is currently using DataFrameGroupBy.mean. In a future version of pandas, the provided callable will be used directly. To keep current behavior pass the string \"mean\" instead.\n",
      "  X\n",
      "/var/folders/m8/pkh7yz5j3_318g64strn1y680000gn/T/ipykernel_48438/4213924544.py:2: FutureWarning: The provided callable <function mean at 0x1074d7d90> is currently using DataFrameGroupBy.mean. In a future version of pandas, the provided callable will be used directly. To keep current behavior pass the string \"mean\" instead.\n",
      "  X\n",
      "/var/folders/m8/pkh7yz5j3_318g64strn1y680000gn/T/ipykernel_48438/4213924544.py:2: FutureWarning: The provided callable <function mean at 0x1074d7d90> is currently using DataFrameGroupBy.mean. In a future version of pandas, the provided callable will be used directly. To keep current behavior pass the string \"mean\" instead.\n",
      "  X\n"
     ]
    },
    {
     "data": {
      "text/html": [
       "<div>\n",
       "<style scoped>\n",
       "    .dataframe tbody tr th:only-of-type {\n",
       "        vertical-align: middle;\n",
       "    }\n",
       "\n",
       "    .dataframe tbody tr th {\n",
       "        vertical-align: top;\n",
       "    }\n",
       "\n",
       "    .dataframe thead tr th {\n",
       "        text-align: left;\n",
       "    }\n",
       "\n",
       "    .dataframe thead tr:last-of-type th {\n",
       "        text-align: right;\n",
       "    }\n",
       "</style>\n",
       "<table border=\"1\" class=\"dataframe\">\n",
       "  <thead>\n",
       "    <tr>\n",
       "      <th></th>\n",
       "      <th colspan=\"4\" halign=\"left\">len</th>\n",
       "      <th colspan=\"4\" halign=\"left\">mean</th>\n",
       "    </tr>\n",
       "    <tr>\n",
       "      <th>Destination</th>\n",
       "      <th>55 Cancri e</th>\n",
       "      <th>PSO J318.5-22</th>\n",
       "      <th>TRAPPIST-1e</th>\n",
       "      <th>All</th>\n",
       "      <th>55 Cancri e</th>\n",
       "      <th>PSO J318.5-22</th>\n",
       "      <th>TRAPPIST-1e</th>\n",
       "      <th>All</th>\n",
       "    </tr>\n",
       "    <tr>\n",
       "      <th>HomePlanet</th>\n",
       "      <th></th>\n",
       "      <th></th>\n",
       "      <th></th>\n",
       "      <th></th>\n",
       "      <th></th>\n",
       "      <th></th>\n",
       "      <th></th>\n",
       "      <th></th>\n",
       "    </tr>\n",
       "  </thead>\n",
       "  <tbody>\n",
       "    <tr>\n",
       "      <th>Earth</th>\n",
       "      <td>690</td>\n",
       "      <td>712</td>\n",
       "      <td>3101</td>\n",
       "      <td>4503</td>\n",
       "      <td>0.504348</td>\n",
       "      <td>0.498596</td>\n",
       "      <td>0.389229</td>\n",
       "      <td>0.424162</td>\n",
       "    </tr>\n",
       "    <tr>\n",
       "      <th>Europa</th>\n",
       "      <td>886</td>\n",
       "      <td>19</td>\n",
       "      <td>1189</td>\n",
       "      <td>2094</td>\n",
       "      <td>0.689616</td>\n",
       "      <td>0.736842</td>\n",
       "      <td>0.634987</td>\n",
       "      <td>0.659026</td>\n",
       "    </tr>\n",
       "    <tr>\n",
       "      <th>Mars</th>\n",
       "      <td>193</td>\n",
       "      <td>49</td>\n",
       "      <td>1475</td>\n",
       "      <td>1717</td>\n",
       "      <td>0.611399</td>\n",
       "      <td>0.448980</td>\n",
       "      <td>0.511864</td>\n",
       "      <td>0.521258</td>\n",
       "    </tr>\n",
       "    <tr>\n",
       "      <th>All</th>\n",
       "      <td>1769</td>\n",
       "      <td>780</td>\n",
       "      <td>5765</td>\n",
       "      <td>8314</td>\n",
       "      <td>0.608819</td>\n",
       "      <td>0.501282</td>\n",
       "      <td>0.471292</td>\n",
       "      <td>0.503368</td>\n",
       "    </tr>\n",
       "  </tbody>\n",
       "</table>\n",
       "</div>"
      ],
      "text/plain": [
       "                    len                                        mean  \\\n",
       "Destination 55 Cancri e PSO J318.5-22 TRAPPIST-1e   All 55 Cancri e   \n",
       "HomePlanet                                                            \n",
       "Earth               690           712        3101  4503    0.504348   \n",
       "Europa              886            19        1189  2094    0.689616   \n",
       "Mars                193            49        1475  1717    0.611399   \n",
       "All                1769           780        5765  8314    0.608819   \n",
       "\n",
       "                                                 \n",
       "Destination PSO J318.5-22 TRAPPIST-1e       All  \n",
       "HomePlanet                                       \n",
       "Earth            0.498596    0.389229  0.424162  \n",
       "Europa           0.736842    0.634987  0.659026  \n",
       "Mars             0.448980    0.511864  0.521258  \n",
       "All              0.501282    0.471292  0.503368  "
      ]
     },
     "execution_count": 51,
     "metadata": {},
     "output_type": "execute_result"
    }
   ],
   "source": [
    "(\n",
    "    X\n",
    "    .pivot_table(\n",
    "        index = \"HomePlanet\",\n",
    "        columns = \"Destination\",\n",
    "        values = \"Transported\",\n",
    "        aggfunc = [len, np.mean],\n",
    "        margins = True\n",
    "    )\n",
    ")"
   ]
  },
  {
   "cell_type": "code",
   "execution_count": null,
   "id": "1b091bf4",
   "metadata": {},
   "outputs": [],
   "source": [
    "X[\"Name\"].fillna(\"NA\").apply(lambda name: len(name.split(\" \"))).value_counts()"
   ]
  },
  {
   "cell_type": "code",
   "execution_count": null,
   "id": "0c0b55c8",
   "metadata": {},
   "outputs": [],
   "source": [
    "X.head()"
   ]
  },
  {
   "cell_type": "code",
   "execution_count": null,
   "id": "0c70a8c1",
   "metadata": {},
   "outputs": [],
   "source": [
    "X[\"Surname\"] = X[\"Name\"].fillna(\"NA\").apply(lambda name: name.split(\" \")[1] if name != \"NA\" else name)"
   ]
  },
  {
   "cell_type": "code",
   "execution_count": null,
   "id": "ef7df9dc",
   "metadata": {},
   "outputs": [],
   "source": [
    "X[\"Surname\"]"
   ]
  },
  {
   "cell_type": "code",
   "execution_count": null,
   "id": "724160cf",
   "metadata": {},
   "outputs": [],
   "source": [
    "(\n",
    "    X\n",
    "    .groupby([\"Surname\"])\n",
    "    [\"Transported\"]\n",
    "    .mean()\n",
    ")"
   ]
  },
  {
   "cell_type": "code",
   "execution_count": null,
   "id": "a31bb6fe",
   "metadata": {},
   "outputs": [],
   "source": [
    "(\n",
    "    X\n",
    "    .groupby([\"Surname\"])\n",
    "    [\"Transported\"]\n",
    "    .mean()\n",
    "    .value_counts(normalize=True)\n",
    "    .sort_index()\n",
    ")"
   ]
  },
  {
   "cell_type": "code",
   "execution_count": null,
   "id": "81e3c6a8",
   "metadata": {},
   "outputs": [],
   "source": [
    "del X, _"
   ]
  }
 ],
 "metadata": {
  "kernelspec": {
   "display_name": "env_skrub",
   "language": "python",
   "name": "env_skrub"
  },
  "language_info": {
   "codemirror_mode": {
    "name": "ipython",
    "version": 3
   },
   "file_extension": ".py",
   "mimetype": "text/x-python",
   "name": "python",
   "nbconvert_exporter": "python",
   "pygments_lexer": "ipython3",
   "version": "3.10.14"
  }
 },
 "nbformat": 4,
 "nbformat_minor": 5
}
