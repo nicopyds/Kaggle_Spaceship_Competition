{
 "cells": [
  {
   "cell_type": "markdown",
   "id": "3c0c9542",
   "metadata": {},
   "source": [
    "# Imports"
   ]
  },
  {
   "cell_type": "code",
   "execution_count": 1,
   "id": "87199426-35a2-4b64-9668-ef7c6ffe9874",
   "metadata": {},
   "outputs": [],
   "source": [
    "import os\n",
    "\n",
    "import datetime\n",
    "\n",
    "import numpy as np\n",
    "import pandas as pd\n",
    "\n",
    "import matplotlib\n",
    "import matplotlib.pyplot as plt\n",
    "%matplotlib inline\n",
    "\n",
    "from sklearn.base import BaseEstimator, TransformerMixin\n",
    "from sklearn.pipeline import Pipeline, FeatureUnion, FunctionTransformer\n",
    "from sklearn.compose import ColumnTransformer, make_column_selector, make_column_transformer\n",
    "from sklearn.impute import SimpleImputer\n",
    "from sklearn.preprocessing import Binarizer, OneHotEncoder, OrdinalEncoder\n",
    "from sklearn.tree import DecisionTreeClassifier, plot_tree\n",
    "from sklearn.model_selection import cross_val_score\n",
    "from sklearn.ensemble import RandomForestClassifier, HistGradientBoostingClassifier"
   ]
  },
  {
   "cell_type": "code",
   "execution_count": 2,
   "id": "cfbe49ba-7217-44de-8194-1ef1efe88c06",
   "metadata": {},
   "outputs": [],
   "source": [
    "import sklearn\n",
    "from sklearn import set_config"
   ]
  },
  {
   "cell_type": "code",
   "execution_count": 3,
   "id": "f0fd807c",
   "metadata": {},
   "outputs": [
    {
     "data": {
      "text/plain": [
       "'1.2.0'"
      ]
     },
     "execution_count": 3,
     "metadata": {},
     "output_type": "execute_result"
    }
   ],
   "source": [
    "sklearn.__version__"
   ]
  },
  {
   "cell_type": "markdown",
   "id": "a05b6d2c",
   "metadata": {},
   "source": [
    "# Global Configuration"
   ]
  },
  {
   "cell_type": "code",
   "execution_count": 4,
   "id": "dd90fcd5-9e92-42d0-9516-b5e9848c21e9",
   "metadata": {},
   "outputs": [],
   "source": [
    "set_config(transform_output=\"pandas\")"
   ]
  },
  {
   "cell_type": "code",
   "execution_count": 76,
   "id": "5b4991c5",
   "metadata": {},
   "outputs": [],
   "source": [
    "CWD = os.getcwd()"
   ]
  },
  {
   "cell_type": "code",
   "execution_count": 77,
   "id": "ca0d8ccc",
   "metadata": {},
   "outputs": [
    {
     "data": {
      "text/plain": [
       "'/Users/nicolaepopescul/Desktop/streams/20240328_sklearn_modelo_benchmark_ml'"
      ]
     },
     "execution_count": 77,
     "metadata": {},
     "output_type": "execute_result"
    }
   ],
   "source": [
    "CWD"
   ]
  },
  {
   "cell_type": "code",
   "execution_count": 82,
   "id": "179d5ec2",
   "metadata": {},
   "outputs": [],
   "source": [
    "PATH_INPUT = os.path.join(CWD, \"input\")"
   ]
  },
  {
   "cell_type": "code",
   "execution_count": 83,
   "id": "245e4175",
   "metadata": {},
   "outputs": [
    {
     "data": {
      "text/plain": [
       "'/Users/nicolaepopescul/Desktop/streams/20240328_sklearn_modelo_benchmark_ml/input'"
      ]
     },
     "execution_count": 83,
     "metadata": {},
     "output_type": "execute_result"
    }
   ],
   "source": [
    "PATH_INPUT"
   ]
  },
  {
   "cell_type": "code",
   "execution_count": 5,
   "id": "26b93958-9737-4950-b01a-b7500bd2fc52",
   "metadata": {},
   "outputs": [],
   "source": [
    "PATH_INPUT_TRAIN = os.path.join(PATH_INPUT, \"train.csv\")\n",
    "PATH_INPUT_TEST = os.path.join(PATH_INPUT, \"test.csv\")"
   ]
  },
  {
   "cell_type": "code",
   "execution_count": 6,
   "id": "208f90a7-8e63-4659-b83d-396ea490c5b3",
   "metadata": {},
   "outputs": [
    {
     "data": {
      "text/plain": [
       "['submission_2024_03_30_19_20_52.csv',\n",
       " '.DS_Store',\n",
       " 'requirements.txt',\n",
       " 'Benchmark_20240328.ipynb',\n",
       " 'input',\n",
       " 'venvs',\n",
       " 'Benchmark_20240329.ipynb',\n",
       " 'Benchmark_20240330.ipynb',\n",
       " 'submission_2024_03_30_19_35_18.csv',\n",
       " 'submission_2024_03_30_19_25_22.csv',\n",
       " '2104203884-734476011-3058cb37-b96a-458a-9087-5d1085783958.mp4',\n",
       " '.ipynb_checkpoints']"
      ]
     },
     "execution_count": 6,
     "metadata": {},
     "output_type": "execute_result"
    }
   ],
   "source": [
    "os.listdir(CWD)"
   ]
  },
  {
   "cell_type": "code",
   "execution_count": 7,
   "id": "7e38fc74-3bbe-428e-8cb5-835afc6873fe",
   "metadata": {},
   "outputs": [
    {
     "data": {
      "text/plain": [
       "['test.csv', 'spaceship-titanic.zip', 'train.csv', 'sample_submission.csv']"
      ]
     },
     "execution_count": 7,
     "metadata": {},
     "output_type": "execute_result"
    }
   ],
   "source": [
    "os.listdir(PATH_INPUT)"
   ]
  },
  {
   "cell_type": "markdown",
   "id": "d5ed6d14",
   "metadata": {},
   "source": [
    "# Helper functions"
   ]
  },
  {
   "cell_type": "code",
   "execution_count": 8,
   "id": "8bfa1522",
   "metadata": {},
   "outputs": [],
   "source": [
    "def load_data():\n",
    "    \n",
    "    X_train = pd.read_csv(PATH_INPUT_TRAIN).set_index(\"PassengerId\")\n",
    "    X_test = pd.read_csv(PATH_INPUT_TEST).set_index(\"PassengerId\")\n",
    "    \n",
    "    return X_train, X_test"
   ]
  },
  {
   "cell_type": "markdown",
   "id": "0b484da1",
   "metadata": {},
   "source": [
    "# Dataset loading & EDA"
   ]
  },
  {
   "cell_type": "code",
   "execution_count": 9,
   "id": "627d4f0d-2d43-478a-861b-89111db18547",
   "metadata": {},
   "outputs": [],
   "source": [
    "X, _ = load_data()"
   ]
  },
  {
   "cell_type": "code",
   "execution_count": 10,
   "id": "a1f3a261",
   "metadata": {},
   "outputs": [
    {
     "data": {
      "image/png": "[encoded data removed]",
      "text/plain": [
       "<Figure size 640x480 with 1 Axes>"
      ]
     },
     "metadata": {},
     "output_type": "display_data"
    }
   ],
   "source": [
    "(\n",
    "    X\n",
    "    .groupby(\"HomePlanet\")\n",
    "    [\"Transported\"]\n",
    "    .mean()\n",
    "    .sort_values(ascending = False)\n",
    "    .plot(kind = \"bar\")\n",
    ");"
   ]
  },
  {
   "cell_type": "code",
   "execution_count": 11,
   "id": "87a66d16",
   "metadata": {},
   "outputs": [
    {
     "data": {
      "text/html": [
       "<div>\n",
       "<style scoped>\n",
       "    .dataframe tbody tr th:only-of-type {\n",
       "        vertical-align: middle;\n",
       "    }\n",
       "\n",
       "    .dataframe tbody tr th {\n",
       "        vertical-align: top;\n",
       "    }\n",
       "\n",
       "    .dataframe thead th {\n",
       "        text-align: right;\n",
       "    }\n",
       "</style>\n",
       "<table border=\"1\" class=\"dataframe\">\n",
       "  <thead>\n",
       "    <tr style=\"text-align: right;\">\n",
       "      <th></th>\n",
       "      <th>HomePlanet</th>\n",
       "      <th>CryoSleep</th>\n",
       "      <th>Cabin</th>\n",
       "      <th>Destination</th>\n",
       "      <th>Age</th>\n",
       "      <th>VIP</th>\n",
       "      <th>RoomService</th>\n",
       "      <th>FoodCourt</th>\n",
       "      <th>ShoppingMall</th>\n",
       "      <th>Spa</th>\n",
       "      <th>VRDeck</th>\n",
       "      <th>Name</th>\n",
       "      <th>Transported</th>\n",
       "    </tr>\n",
       "    <tr>\n",
       "      <th>PassengerId</th>\n",
       "      <th></th>\n",
       "      <th></th>\n",
       "      <th></th>\n",
       "      <th></th>\n",
       "      <th></th>\n",
       "      <th></th>\n",
       "      <th></th>\n",
       "      <th></th>\n",
       "      <th></th>\n",
       "      <th></th>\n",
       "      <th></th>\n",
       "      <th></th>\n",
       "      <th></th>\n",
       "    </tr>\n",
       "  </thead>\n",
       "  <tbody>\n",
       "    <tr>\n",
       "      <th>0001_01</th>\n",
       "      <td>Europa</td>\n",
       "      <td>False</td>\n",
       "      <td>B/0/P</td>\n",
       "      <td>TRAPPIST-1e</td>\n",
       "      <td>39.0</td>\n",
       "      <td>False</td>\n",
       "      <td>0.0</td>\n",
       "      <td>0.0</td>\n",
       "      <td>0.0</td>\n",
       "      <td>0.0</td>\n",
       "      <td>0.0</td>\n",
       "      <td>Maham Ofracculy</td>\n",
       "      <td>False</td>\n",
       "    </tr>\n",
       "    <tr>\n",
       "      <th>0002_01</th>\n",
       "      <td>Earth</td>\n",
       "      <td>False</td>\n",
       "      <td>F/0/S</td>\n",
       "      <td>TRAPPIST-1e</td>\n",
       "      <td>24.0</td>\n",
       "      <td>False</td>\n",
       "      <td>109.0</td>\n",
       "      <td>9.0</td>\n",
       "      <td>25.0</td>\n",
       "      <td>549.0</td>\n",
       "      <td>44.0</td>\n",
       "      <td>Juanna Vines</td>\n",
       "      <td>True</td>\n",
       "    </tr>\n",
       "    <tr>\n",
       "      <th>0003_01</th>\n",
       "      <td>Europa</td>\n",
       "      <td>False</td>\n",
       "      <td>A/0/S</td>\n",
       "      <td>TRAPPIST-1e</td>\n",
       "      <td>58.0</td>\n",
       "      <td>True</td>\n",
       "      <td>43.0</td>\n",
       "      <td>3576.0</td>\n",
       "      <td>0.0</td>\n",
       "      <td>6715.0</td>\n",
       "      <td>49.0</td>\n",
       "      <td>Altark Susent</td>\n",
       "      <td>False</td>\n",
       "    </tr>\n",
       "    <tr>\n",
       "      <th>0003_02</th>\n",
       "      <td>Europa</td>\n",
       "      <td>False</td>\n",
       "      <td>A/0/S</td>\n",
       "      <td>TRAPPIST-1e</td>\n",
       "      <td>33.0</td>\n",
       "      <td>False</td>\n",
       "      <td>0.0</td>\n",
       "      <td>1283.0</td>\n",
       "      <td>371.0</td>\n",
       "      <td>3329.0</td>\n",
       "      <td>193.0</td>\n",
       "      <td>Solam Susent</td>\n",
       "      <td>False</td>\n",
       "    </tr>\n",
       "    <tr>\n",
       "      <th>0004_01</th>\n",
       "      <td>Earth</td>\n",
       "      <td>False</td>\n",
       "      <td>F/1/S</td>\n",
       "      <td>TRAPPIST-1e</td>\n",
       "      <td>16.0</td>\n",
       "      <td>False</td>\n",
       "      <td>303.0</td>\n",
       "      <td>70.0</td>\n",
       "      <td>151.0</td>\n",
       "      <td>565.0</td>\n",
       "      <td>2.0</td>\n",
       "      <td>Willy Santantines</td>\n",
       "      <td>True</td>\n",
       "    </tr>\n",
       "  </tbody>\n",
       "</table>\n",
       "</div>"
      ],
      "text/plain": [
       "            HomePlanet CryoSleep  Cabin  Destination   Age    VIP  \\\n",
       "PassengerId                                                         \n",
       "0001_01         Europa     False  B/0/P  TRAPPIST-1e  39.0  False   \n",
       "0002_01          Earth     False  F/0/S  TRAPPIST-1e  24.0  False   \n",
       "0003_01         Europa     False  A/0/S  TRAPPIST-1e  58.0   True   \n",
       "0003_02         Europa     False  A/0/S  TRAPPIST-1e  33.0  False   \n",
       "0004_01          Earth     False  F/1/S  TRAPPIST-1e  16.0  False   \n",
       "\n",
       "             RoomService  FoodCourt  ShoppingMall     Spa  VRDeck  \\\n",
       "PassengerId                                                         \n",
       "0001_01              0.0        0.0           0.0     0.0     0.0   \n",
       "0002_01            109.0        9.0          25.0   549.0    44.0   \n",
       "0003_01             43.0     3576.0           0.0  6715.0    49.0   \n",
       "0003_02              0.0     1283.0         371.0  3329.0   193.0   \n",
       "0004_01            303.0       70.0         151.0   565.0     2.0   \n",
       "\n",
       "                          Name  Transported  \n",
       "PassengerId                                  \n",
       "0001_01        Maham Ofracculy        False  \n",
       "0002_01           Juanna Vines         True  \n",
       "0003_01          Altark Susent        False  \n",
       "0003_02           Solam Susent        False  \n",
       "0004_01      Willy Santantines         True  "
      ]
     },
     "execution_count": 11,
     "metadata": {},
     "output_type": "execute_result"
    }
   ],
   "source": [
    "X.head()"
   ]
  },
  {
   "cell_type": "code",
   "execution_count": 12,
   "id": "af7ce311",
   "metadata": {},
   "outputs": [
    {
     "name": "stderr",
     "output_type": "stream",
     "text": [
      "/var/folders/m8/pkh7yz5j3_318g64strn1y680000gn/T/ipykernel_2543/1725775422.py:2: FutureWarning: The provided callable <function mean at 0x111d1e550> is currently using SeriesGroupBy.mean. In a future version of pandas, the provided callable will be used directly. To keep current behavior pass the string \"mean\" instead.\n",
      "  X\n"
     ]
    }
   ],
   "source": [
    "_ = (\n",
    "    X\n",
    "    .groupby([\"HomePlanet\", \"CryoSleep\"])\n",
    "    .agg(\n",
    "        nr_rows = (\"Cabin\", len),\n",
    "        transported_ratio = (\"Transported\", np.mean)\n",
    "    )\n",
    "    .assign(\n",
    "        nr_rows_pct = lambda df: round((df[\"nr_rows\"]/df[\"nr_rows\"].sum())*100, 2),\n",
    "        transported_ratio = lambda df: round(df[\"transported_ratio\"] * 100, 2)\n",
    "    )\n",
    ")"
   ]
  },
  {
   "cell_type": "code",
   "execution_count": 13,
   "id": "b29bee69",
   "metadata": {},
   "outputs": [
    {
     "data": {
      "text/html": [
       "<div>\n",
       "<style scoped>\n",
       "    .dataframe tbody tr th:only-of-type {\n",
       "        vertical-align: middle;\n",
       "    }\n",
       "\n",
       "    .dataframe tbody tr th {\n",
       "        vertical-align: top;\n",
       "    }\n",
       "\n",
       "    .dataframe thead th {\n",
       "        text-align: right;\n",
       "    }\n",
       "</style>\n",
       "<table border=\"1\" class=\"dataframe\">\n",
       "  <thead>\n",
       "    <tr style=\"text-align: right;\">\n",
       "      <th></th>\n",
       "      <th></th>\n",
       "      <th>nr_rows</th>\n",
       "      <th>transported_ratio</th>\n",
       "      <th>nr_rows_pct</th>\n",
       "    </tr>\n",
       "    <tr>\n",
       "      <th>HomePlanet</th>\n",
       "      <th>CryoSleep</th>\n",
       "      <th></th>\n",
       "      <th></th>\n",
       "      <th></th>\n",
       "    </tr>\n",
       "  </thead>\n",
       "  <tbody>\n",
       "    <tr>\n",
       "      <th rowspan=\"2\" valign=\"top\">Earth</th>\n",
       "      <th>False</th>\n",
       "      <td>3106</td>\n",
       "      <td>32.10</td>\n",
       "      <td>37.53</td>\n",
       "    </tr>\n",
       "    <tr>\n",
       "      <th>True</th>\n",
       "      <td>1382</td>\n",
       "      <td>65.63</td>\n",
       "      <td>16.70</td>\n",
       "    </tr>\n",
       "    <tr>\n",
       "      <th rowspan=\"2\" valign=\"top\">Europa</th>\n",
       "      <th>False</th>\n",
       "      <td>1162</td>\n",
       "      <td>40.02</td>\n",
       "      <td>14.04</td>\n",
       "    </tr>\n",
       "    <tr>\n",
       "      <th>True</th>\n",
       "      <td>911</td>\n",
       "      <td>98.90</td>\n",
       "      <td>11.01</td>\n",
       "    </tr>\n",
       "    <tr>\n",
       "      <th rowspan=\"2\" valign=\"top\">Mars</th>\n",
       "      <th>False</th>\n",
       "      <td>1047</td>\n",
       "      <td>27.70</td>\n",
       "      <td>12.65</td>\n",
       "    </tr>\n",
       "    <tr>\n",
       "      <th>True</th>\n",
       "      <td>669</td>\n",
       "      <td>91.18</td>\n",
       "      <td>8.08</td>\n",
       "    </tr>\n",
       "  </tbody>\n",
       "</table>\n",
       "</div>"
      ],
      "text/plain": [
       "                      nr_rows  transported_ratio  nr_rows_pct\n",
       "HomePlanet CryoSleep                                         \n",
       "Earth      False         3106              32.10        37.53\n",
       "           True          1382              65.63        16.70\n",
       "Europa     False         1162              40.02        14.04\n",
       "           True           911              98.90        11.01\n",
       "Mars       False         1047              27.70        12.65\n",
       "           True           669              91.18         8.08"
      ]
     },
     "execution_count": 13,
     "metadata": {},
     "output_type": "execute_result"
    }
   ],
   "source": [
    "_"
   ]
  },
  {
   "cell_type": "code",
   "execution_count": 14,
   "id": "ad900dbc",
   "metadata": {},
   "outputs": [],
   "source": [
    "X[\"LenCabin\"] = X[\"Cabin\"].apply(lambda cabin: len(str(cabin)))"
   ]
  },
  {
   "cell_type": "code",
   "execution_count": 15,
   "id": "1f31923a",
   "metadata": {},
   "outputs": [
    {
     "data": {
      "text/plain": [
       "LenCabin\n",
       "3     199\n",
       "5     130\n",
       "6    1201\n",
       "7    5043\n",
       "8    2120\n",
       "dtype: int64"
      ]
     },
     "execution_count": 15,
     "metadata": {},
     "output_type": "execute_result"
    }
   ],
   "source": [
    "X.groupby([\"LenCabin\"]).size()"
   ]
  },
  {
   "cell_type": "code",
   "execution_count": 16,
   "id": "e4d13379",
   "metadata": {},
   "outputs": [
    {
     "data": {
      "text/html": [
       "<div>\n",
       "<style scoped>\n",
       "    .dataframe tbody tr th:only-of-type {\n",
       "        vertical-align: middle;\n",
       "    }\n",
       "\n",
       "    .dataframe tbody tr th {\n",
       "        vertical-align: top;\n",
       "    }\n",
       "\n",
       "    .dataframe thead th {\n",
       "        text-align: right;\n",
       "    }\n",
       "</style>\n",
       "<table border=\"1\" class=\"dataframe\">\n",
       "  <thead>\n",
       "    <tr style=\"text-align: right;\">\n",
       "      <th></th>\n",
       "      <th>HomePlanet</th>\n",
       "      <th>CryoSleep</th>\n",
       "      <th>Cabin</th>\n",
       "      <th>Destination</th>\n",
       "      <th>Age</th>\n",
       "      <th>VIP</th>\n",
       "      <th>RoomService</th>\n",
       "      <th>FoodCourt</th>\n",
       "      <th>ShoppingMall</th>\n",
       "      <th>Spa</th>\n",
       "      <th>VRDeck</th>\n",
       "      <th>Name</th>\n",
       "      <th>Transported</th>\n",
       "      <th>LenCabin</th>\n",
       "    </tr>\n",
       "    <tr>\n",
       "      <th>PassengerId</th>\n",
       "      <th></th>\n",
       "      <th></th>\n",
       "      <th></th>\n",
       "      <th></th>\n",
       "      <th></th>\n",
       "      <th></th>\n",
       "      <th></th>\n",
       "      <th></th>\n",
       "      <th></th>\n",
       "      <th></th>\n",
       "      <th></th>\n",
       "      <th></th>\n",
       "      <th></th>\n",
       "      <th></th>\n",
       "    </tr>\n",
       "  </thead>\n",
       "  <tbody>\n",
       "    <tr>\n",
       "      <th>0001_01</th>\n",
       "      <td>Europa</td>\n",
       "      <td>False</td>\n",
       "      <td>B/0/P</td>\n",
       "      <td>TRAPPIST-1e</td>\n",
       "      <td>39.0</td>\n",
       "      <td>False</td>\n",
       "      <td>0.0</td>\n",
       "      <td>0.0</td>\n",
       "      <td>0.0</td>\n",
       "      <td>0.0</td>\n",
       "      <td>0.0</td>\n",
       "      <td>Maham Ofracculy</td>\n",
       "      <td>False</td>\n",
       "      <td>5</td>\n",
       "    </tr>\n",
       "    <tr>\n",
       "      <th>0002_01</th>\n",
       "      <td>Earth</td>\n",
       "      <td>False</td>\n",
       "      <td>F/0/S</td>\n",
       "      <td>TRAPPIST-1e</td>\n",
       "      <td>24.0</td>\n",
       "      <td>False</td>\n",
       "      <td>109.0</td>\n",
       "      <td>9.0</td>\n",
       "      <td>25.0</td>\n",
       "      <td>549.0</td>\n",
       "      <td>44.0</td>\n",
       "      <td>Juanna Vines</td>\n",
       "      <td>True</td>\n",
       "      <td>5</td>\n",
       "    </tr>\n",
       "    <tr>\n",
       "      <th>0003_01</th>\n",
       "      <td>Europa</td>\n",
       "      <td>False</td>\n",
       "      <td>A/0/S</td>\n",
       "      <td>TRAPPIST-1e</td>\n",
       "      <td>58.0</td>\n",
       "      <td>True</td>\n",
       "      <td>43.0</td>\n",
       "      <td>3576.0</td>\n",
       "      <td>0.0</td>\n",
       "      <td>6715.0</td>\n",
       "      <td>49.0</td>\n",
       "      <td>Altark Susent</td>\n",
       "      <td>False</td>\n",
       "      <td>5</td>\n",
       "    </tr>\n",
       "    <tr>\n",
       "      <th>0003_02</th>\n",
       "      <td>Europa</td>\n",
       "      <td>False</td>\n",
       "      <td>A/0/S</td>\n",
       "      <td>TRAPPIST-1e</td>\n",
       "      <td>33.0</td>\n",
       "      <td>False</td>\n",
       "      <td>0.0</td>\n",
       "      <td>1283.0</td>\n",
       "      <td>371.0</td>\n",
       "      <td>3329.0</td>\n",
       "      <td>193.0</td>\n",
       "      <td>Solam Susent</td>\n",
       "      <td>False</td>\n",
       "      <td>5</td>\n",
       "    </tr>\n",
       "    <tr>\n",
       "      <th>0004_01</th>\n",
       "      <td>Earth</td>\n",
       "      <td>False</td>\n",
       "      <td>F/1/S</td>\n",
       "      <td>TRAPPIST-1e</td>\n",
       "      <td>16.0</td>\n",
       "      <td>False</td>\n",
       "      <td>303.0</td>\n",
       "      <td>70.0</td>\n",
       "      <td>151.0</td>\n",
       "      <td>565.0</td>\n",
       "      <td>2.0</td>\n",
       "      <td>Willy Santantines</td>\n",
       "      <td>True</td>\n",
       "      <td>5</td>\n",
       "    </tr>\n",
       "  </tbody>\n",
       "</table>\n",
       "</div>"
      ],
      "text/plain": [
       "            HomePlanet CryoSleep  Cabin  Destination   Age    VIP  \\\n",
       "PassengerId                                                         \n",
       "0001_01         Europa     False  B/0/P  TRAPPIST-1e  39.0  False   \n",
       "0002_01          Earth     False  F/0/S  TRAPPIST-1e  24.0  False   \n",
       "0003_01         Europa     False  A/0/S  TRAPPIST-1e  58.0   True   \n",
       "0003_02         Europa     False  A/0/S  TRAPPIST-1e  33.0  False   \n",
       "0004_01          Earth     False  F/1/S  TRAPPIST-1e  16.0  False   \n",
       "\n",
       "             RoomService  FoodCourt  ShoppingMall     Spa  VRDeck  \\\n",
       "PassengerId                                                         \n",
       "0001_01              0.0        0.0           0.0     0.0     0.0   \n",
       "0002_01            109.0        9.0          25.0   549.0    44.0   \n",
       "0003_01             43.0     3576.0           0.0  6715.0    49.0   \n",
       "0003_02              0.0     1283.0         371.0  3329.0   193.0   \n",
       "0004_01            303.0       70.0         151.0   565.0     2.0   \n",
       "\n",
       "                          Name  Transported  LenCabin  \n",
       "PassengerId                                            \n",
       "0001_01        Maham Ofracculy        False         5  \n",
       "0002_01           Juanna Vines         True         5  \n",
       "0003_01          Altark Susent        False         5  \n",
       "0003_02           Solam Susent        False         5  \n",
       "0004_01      Willy Santantines         True         5  "
      ]
     },
     "execution_count": 16,
     "metadata": {},
     "output_type": "execute_result"
    }
   ],
   "source": [
    "X[X[\"LenCabin\"] == 5].head()"
   ]
  },
  {
   "cell_type": "code",
   "execution_count": 17,
   "id": "34ca359f",
   "metadata": {},
   "outputs": [
    {
     "name": "stderr",
     "output_type": "stream",
     "text": [
      "/var/folders/m8/pkh7yz5j3_318g64strn1y680000gn/T/ipykernel_2543/3468940878.py:1: FutureWarning: A value is trying to be set on a copy of a DataFrame or Series through chained assignment using an inplace method.\n",
      "The behavior will change in pandas 3.0. This inplace method will never work because the intermediate object on which we are setting values always behaves as a copy.\n",
      "\n",
      "For example, when doing 'df[col].method(value, inplace=True)', try using 'df.method({col: value}, inplace=True)' or df[col] = df[col].method(value) instead, to perform the operation inplace on the original object.\n",
      "\n",
      "\n",
      "  X[\"Cabin\"].fillna(\"NA\", inplace = True)\n"
     ]
    }
   ],
   "source": [
    "X[\"Cabin\"].fillna(\"NA\", inplace = True)"
   ]
  },
  {
   "cell_type": "code",
   "execution_count": 18,
   "id": "75cae4e2",
   "metadata": {},
   "outputs": [],
   "source": [
    "X[\"CabinFirstLetter\"] = X[\"Cabin\"].apply(lambda cabin: cabin[0] if cabin != \"NA\" else cabin)\n",
    "X[\"CabinLastLetter\"] = X[\"Cabin\"].apply(lambda cabin: cabin[-1] if cabin != \"NA\" else cabin)"
   ]
  },
  {
   "cell_type": "code",
   "execution_count": 19,
   "id": "29075ff0",
   "metadata": {},
   "outputs": [
    {
     "data": {
      "text/plain": [
       "CabinFirstLetter\n",
       "A      256\n",
       "B      779\n",
       "C      747\n",
       "D      478\n",
       "E      876\n",
       "F     2794\n",
       "G     2559\n",
       "NA     199\n",
       "T        5\n",
       "Name: count, dtype: int64"
      ]
     },
     "execution_count": 19,
     "metadata": {},
     "output_type": "execute_result"
    }
   ],
   "source": [
    "X[\"CabinFirstLetter\"].value_counts().sort_index()"
   ]
  },
  {
   "cell_type": "code",
   "execution_count": 20,
   "id": "8b493322",
   "metadata": {},
   "outputs": [
    {
     "data": {
      "text/plain": [
       "CabinLastLetter\n",
       "NA     199\n",
       "P     4206\n",
       "S     4288\n",
       "Name: count, dtype: int64"
      ]
     },
     "execution_count": 20,
     "metadata": {},
     "output_type": "execute_result"
    }
   ],
   "source": [
    "X[\"CabinLastLetter\"].value_counts().sort_index()"
   ]
  },
  {
   "cell_type": "code",
   "execution_count": 21,
   "id": "c2d4c839",
   "metadata": {},
   "outputs": [
    {
     "data": {
      "text/plain": [
       "PassengerId\n",
       "1728_01     G/280/P\n",
       "8845_01    F/1823/P\n",
       "6774_02    G/1100/P\n",
       "7644_01    G/1227/P\n",
       "7038_01    G/1137/P\n",
       "8978_01    F/1841/P\n",
       "6443_01    G/1046/S\n",
       "3260_01     F/615/S\n",
       "2092_01      D/70/S\n",
       "2628_02      A/21/P\n",
       "Name: Cabin, dtype: object"
      ]
     },
     "execution_count": 21,
     "metadata": {},
     "output_type": "execute_result"
    }
   ],
   "source": [
    "X[\"Cabin\"].sample(10)"
   ]
  },
  {
   "cell_type": "code",
   "execution_count": 22,
   "id": "bcf993d3",
   "metadata": {},
   "outputs": [
    {
     "data": {
      "text/plain": [
       "CabinFirstLetter\n",
       "A     0.496094\n",
       "B     0.734275\n",
       "C     0.680054\n",
       "D     0.433054\n",
       "E     0.357306\n",
       "F     0.439871\n",
       "G     0.516217\n",
       "NA    0.502513\n",
       "T     0.200000\n",
       "Name: Transported, dtype: float64"
      ]
     },
     "execution_count": 22,
     "metadata": {},
     "output_type": "execute_result"
    }
   ],
   "source": [
    "(\n",
    "    X\n",
    "    .groupby([\"CabinFirstLetter\"])\n",
    "    [\"Transported\"]\n",
    "    .mean()\n",
    "    .sort_index()\n",
    ")"
   ]
  },
  {
   "cell_type": "code",
   "execution_count": 23,
   "id": "b5138e57",
   "metadata": {},
   "outputs": [
    {
     "data": {
      "text/plain": [
       "CabinLastLetter\n",
       "NA    0.502513\n",
       "P     0.451260\n",
       "S     0.555037\n",
       "Name: Transported, dtype: float64"
      ]
     },
     "execution_count": 23,
     "metadata": {},
     "output_type": "execute_result"
    }
   ],
   "source": [
    "(\n",
    "    X\n",
    "    .groupby([\"CabinLastLetter\"])\n",
    "    [\"Transported\"]\n",
    "    .mean()\n",
    "    .sort_index()\n",
    ")"
   ]
  },
  {
   "cell_type": "code",
   "execution_count": 24,
   "id": "dd5d3341",
   "metadata": {},
   "outputs": [
    {
     "data": {
      "text/html": [
       "<div>\n",
       "<style scoped>\n",
       "    .dataframe tbody tr th:only-of-type {\n",
       "        vertical-align: middle;\n",
       "    }\n",
       "\n",
       "    .dataframe tbody tr th {\n",
       "        vertical-align: top;\n",
       "    }\n",
       "\n",
       "    .dataframe thead th {\n",
       "        text-align: right;\n",
       "    }\n",
       "</style>\n",
       "<table border=\"1\" class=\"dataframe\">\n",
       "  <thead>\n",
       "    <tr style=\"text-align: right;\">\n",
       "      <th></th>\n",
       "      <th>NA</th>\n",
       "      <th>P</th>\n",
       "      <th>S</th>\n",
       "      <th>Transported</th>\n",
       "    </tr>\n",
       "    <tr>\n",
       "      <th>CabinFirstLetter</th>\n",
       "      <th></th>\n",
       "      <th></th>\n",
       "      <th></th>\n",
       "      <th></th>\n",
       "    </tr>\n",
       "  </thead>\n",
       "  <tbody>\n",
       "    <tr>\n",
       "      <th>A</th>\n",
       "      <td>NaN</td>\n",
       "      <td>0.435897</td>\n",
       "      <td>0.546763</td>\n",
       "      <td>0.496094</td>\n",
       "    </tr>\n",
       "    <tr>\n",
       "      <th>B</th>\n",
       "      <td>NaN</td>\n",
       "      <td>0.674221</td>\n",
       "      <td>0.784038</td>\n",
       "      <td>0.734275</td>\n",
       "    </tr>\n",
       "    <tr>\n",
       "      <th>C</th>\n",
       "      <td>NaN</td>\n",
       "      <td>0.580645</td>\n",
       "      <td>0.763547</td>\n",
       "      <td>0.680054</td>\n",
       "    </tr>\n",
       "    <tr>\n",
       "      <th>D</th>\n",
       "      <td>NaN</td>\n",
       "      <td>0.403226</td>\n",
       "      <td>0.465217</td>\n",
       "      <td>0.433054</td>\n",
       "    </tr>\n",
       "    <tr>\n",
       "      <th>E</th>\n",
       "      <td>NaN</td>\n",
       "      <td>0.342657</td>\n",
       "      <td>0.371365</td>\n",
       "      <td>0.357306</td>\n",
       "    </tr>\n",
       "    <tr>\n",
       "      <th>F</th>\n",
       "      <td>NaN</td>\n",
       "      <td>0.410987</td>\n",
       "      <td>0.470501</td>\n",
       "      <td>0.439871</td>\n",
       "    </tr>\n",
       "    <tr>\n",
       "      <th>G</th>\n",
       "      <td>NaN</td>\n",
       "      <td>0.448276</td>\n",
       "      <td>0.583788</td>\n",
       "      <td>0.516217</td>\n",
       "    </tr>\n",
       "    <tr>\n",
       "      <th>NA</th>\n",
       "      <td>0.502513</td>\n",
       "      <td>NaN</td>\n",
       "      <td>NaN</td>\n",
       "      <td>0.502513</td>\n",
       "    </tr>\n",
       "    <tr>\n",
       "      <th>T</th>\n",
       "      <td>NaN</td>\n",
       "      <td>0.250000</td>\n",
       "      <td>0.000000</td>\n",
       "      <td>0.200000</td>\n",
       "    </tr>\n",
       "  </tbody>\n",
       "</table>\n",
       "</div>"
      ],
      "text/plain": [
       "                        NA         P         S  Transported\n",
       "CabinFirstLetter                                           \n",
       "A                      NaN  0.435897  0.546763     0.496094\n",
       "B                      NaN  0.674221  0.784038     0.734275\n",
       "C                      NaN  0.580645  0.763547     0.680054\n",
       "D                      NaN  0.403226  0.465217     0.433054\n",
       "E                      NaN  0.342657  0.371365     0.357306\n",
       "F                      NaN  0.410987  0.470501     0.439871\n",
       "G                      NaN  0.448276  0.583788     0.516217\n",
       "NA                0.502513       NaN       NaN     0.502513\n",
       "T                      NaN  0.250000  0.000000     0.200000"
      ]
     },
     "execution_count": 24,
     "metadata": {},
     "output_type": "execute_result"
    }
   ],
   "source": [
    "pd.concat([\n",
    "    (\n",
    "        X\n",
    "        .groupby([\"CabinFirstLetter\", \"CabinLastLetter\"])\n",
    "        [\"Transported\"]\n",
    "        .mean()\n",
    "        .sort_index()\n",
    "        .unstack()\n",
    "    ),\n",
    "    (\n",
    "        X\n",
    "        .groupby([\"CabinFirstLetter\"])\n",
    "        [\"Transported\"]\n",
    "        .mean()\n",
    "        .sort_index()\n",
    "    )], axis = 1)"
   ]
  },
  {
   "cell_type": "code",
   "execution_count": 25,
   "id": "66565f24-b1e3-42fd-aadb-511c504645b2",
   "metadata": {},
   "outputs": [
    {
     "data": {
      "text/html": [
       "<div>\n",
       "<style scoped>\n",
       "    .dataframe tbody tr th:only-of-type {\n",
       "        vertical-align: middle;\n",
       "    }\n",
       "\n",
       "    .dataframe tbody tr th {\n",
       "        vertical-align: top;\n",
       "    }\n",
       "\n",
       "    .dataframe thead th {\n",
       "        text-align: right;\n",
       "    }\n",
       "</style>\n",
       "<table border=\"1\" class=\"dataframe\">\n",
       "  <thead>\n",
       "    <tr style=\"text-align: right;\">\n",
       "      <th></th>\n",
       "      <th>Age</th>\n",
       "      <th>RoomService</th>\n",
       "      <th>FoodCourt</th>\n",
       "      <th>ShoppingMall</th>\n",
       "      <th>Spa</th>\n",
       "      <th>VRDeck</th>\n",
       "      <th>LenCabin</th>\n",
       "    </tr>\n",
       "  </thead>\n",
       "  <tbody>\n",
       "    <tr>\n",
       "      <th>count</th>\n",
       "      <td>8514.000000</td>\n",
       "      <td>8512.000000</td>\n",
       "      <td>8510.000000</td>\n",
       "      <td>8485.000000</td>\n",
       "      <td>8510.000000</td>\n",
       "      <td>8505.000000</td>\n",
       "      <td>8693.000000</td>\n",
       "    </tr>\n",
       "    <tr>\n",
       "      <th>mean</th>\n",
       "      <td>28.827930</td>\n",
       "      <td>224.687617</td>\n",
       "      <td>458.077203</td>\n",
       "      <td>173.729169</td>\n",
       "      <td>311.138778</td>\n",
       "      <td>304.854791</td>\n",
       "      <td>6.984240</td>\n",
       "    </tr>\n",
       "    <tr>\n",
       "      <th>std</th>\n",
       "      <td>14.489021</td>\n",
       "      <td>666.717663</td>\n",
       "      <td>1611.489240</td>\n",
       "      <td>604.696458</td>\n",
       "      <td>1136.705535</td>\n",
       "      <td>1145.717189</td>\n",
       "      <td>0.898869</td>\n",
       "    </tr>\n",
       "    <tr>\n",
       "      <th>min</th>\n",
       "      <td>0.000000</td>\n",
       "      <td>0.000000</td>\n",
       "      <td>0.000000</td>\n",
       "      <td>0.000000</td>\n",
       "      <td>0.000000</td>\n",
       "      <td>0.000000</td>\n",
       "      <td>3.000000</td>\n",
       "    </tr>\n",
       "    <tr>\n",
       "      <th>25%</th>\n",
       "      <td>19.000000</td>\n",
       "      <td>0.000000</td>\n",
       "      <td>0.000000</td>\n",
       "      <td>0.000000</td>\n",
       "      <td>0.000000</td>\n",
       "      <td>0.000000</td>\n",
       "      <td>7.000000</td>\n",
       "    </tr>\n",
       "    <tr>\n",
       "      <th>50%</th>\n",
       "      <td>27.000000</td>\n",
       "      <td>0.000000</td>\n",
       "      <td>0.000000</td>\n",
       "      <td>0.000000</td>\n",
       "      <td>0.000000</td>\n",
       "      <td>0.000000</td>\n",
       "      <td>7.000000</td>\n",
       "    </tr>\n",
       "    <tr>\n",
       "      <th>75%</th>\n",
       "      <td>38.000000</td>\n",
       "      <td>47.000000</td>\n",
       "      <td>76.000000</td>\n",
       "      <td>27.000000</td>\n",
       "      <td>59.000000</td>\n",
       "      <td>46.000000</td>\n",
       "      <td>7.000000</td>\n",
       "    </tr>\n",
       "    <tr>\n",
       "      <th>max</th>\n",
       "      <td>79.000000</td>\n",
       "      <td>14327.000000</td>\n",
       "      <td>29813.000000</td>\n",
       "      <td>23492.000000</td>\n",
       "      <td>22408.000000</td>\n",
       "      <td>24133.000000</td>\n",
       "      <td>8.000000</td>\n",
       "    </tr>\n",
       "  </tbody>\n",
       "</table>\n",
       "</div>"
      ],
      "text/plain": [
       "               Age   RoomService     FoodCourt  ShoppingMall           Spa  \\\n",
       "count  8514.000000   8512.000000   8510.000000   8485.000000   8510.000000   \n",
       "mean     28.827930    224.687617    458.077203    173.729169    311.138778   \n",
       "std      14.489021    666.717663   1611.489240    604.696458   1136.705535   \n",
       "min       0.000000      0.000000      0.000000      0.000000      0.000000   \n",
       "25%      19.000000      0.000000      0.000000      0.000000      0.000000   \n",
       "50%      27.000000      0.000000      0.000000      0.000000      0.000000   \n",
       "75%      38.000000     47.000000     76.000000     27.000000     59.000000   \n",
       "max      79.000000  14327.000000  29813.000000  23492.000000  22408.000000   \n",
       "\n",
       "             VRDeck     LenCabin  \n",
       "count   8505.000000  8693.000000  \n",
       "mean     304.854791     6.984240  \n",
       "std     1145.717189     0.898869  \n",
       "min        0.000000     3.000000  \n",
       "25%        0.000000     7.000000  \n",
       "50%        0.000000     7.000000  \n",
       "75%       46.000000     7.000000  \n",
       "max    24133.000000     8.000000  "
      ]
     },
     "execution_count": 25,
     "metadata": {},
     "output_type": "execute_result"
    }
   ],
   "source": [
    "X.describe()"
   ]
  },
  {
   "cell_type": "code",
   "execution_count": 26,
   "id": "463efae3-d71e-4cf2-943c-711c20e1110f",
   "metadata": {},
   "outputs": [
    {
     "data": {
      "text/plain": [
       "HomePlanet          201\n",
       "CryoSleep           217\n",
       "Cabin                 0\n",
       "Destination         182\n",
       "Age                 179\n",
       "VIP                 203\n",
       "RoomService         181\n",
       "FoodCourt           183\n",
       "ShoppingMall        208\n",
       "Spa                 183\n",
       "VRDeck              188\n",
       "Name                200\n",
       "Transported           0\n",
       "LenCabin              0\n",
       "CabinFirstLetter      0\n",
       "CabinLastLetter       0\n",
       "dtype: int64"
      ]
     },
     "execution_count": 26,
     "metadata": {},
     "output_type": "execute_result"
    }
   ],
   "source": [
    "X.isnull().sum()"
   ]
  },
  {
   "cell_type": "code",
   "execution_count": 27,
   "id": "28234a6f-21ee-45a3-82b8-a15647ea2862",
   "metadata": {},
   "outputs": [
    {
     "data": {
      "text/plain": [
       "(8693, 16)"
      ]
     },
     "execution_count": 27,
     "metadata": {},
     "output_type": "execute_result"
    }
   ],
   "source": [
    "X.shape"
   ]
  },
  {
   "cell_type": "code",
   "execution_count": 28,
   "id": "c832f7e5",
   "metadata": {},
   "outputs": [
    {
     "name": "stderr",
     "output_type": "stream",
     "text": [
      "/var/folders/m8/pkh7yz5j3_318g64strn1y680000gn/T/ipykernel_2543/4213924544.py:2: FutureWarning: The provided callable <function mean at 0x111d1e550> is currently using DataFrameGroupBy.mean. In a future version of pandas, the provided callable will be used directly. To keep current behavior pass the string \"mean\" instead.\n",
      "  X\n",
      "/var/folders/m8/pkh7yz5j3_318g64strn1y680000gn/T/ipykernel_2543/4213924544.py:2: FutureWarning: The provided callable <function mean at 0x111d1e550> is currently using DataFrameGroupBy.mean. In a future version of pandas, the provided callable will be used directly. To keep current behavior pass the string \"mean\" instead.\n",
      "  X\n",
      "/var/folders/m8/pkh7yz5j3_318g64strn1y680000gn/T/ipykernel_2543/4213924544.py:2: FutureWarning: The provided callable <function mean at 0x111d1e550> is currently using DataFrameGroupBy.mean. In a future version of pandas, the provided callable will be used directly. To keep current behavior pass the string \"mean\" instead.\n",
      "  X\n"
     ]
    },
    {
     "data": {
      "text/html": [
       "<div>\n",
       "<style scoped>\n",
       "    .dataframe tbody tr th:only-of-type {\n",
       "        vertical-align: middle;\n",
       "    }\n",
       "\n",
       "    .dataframe tbody tr th {\n",
       "        vertical-align: top;\n",
       "    }\n",
       "\n",
       "    .dataframe thead tr th {\n",
       "        text-align: left;\n",
       "    }\n",
       "\n",
       "    .dataframe thead tr:last-of-type th {\n",
       "        text-align: right;\n",
       "    }\n",
       "</style>\n",
       "<table border=\"1\" class=\"dataframe\">\n",
       "  <thead>\n",
       "    <tr>\n",
       "      <th></th>\n",
       "      <th colspan=\"4\" halign=\"left\">len</th>\n",
       "      <th colspan=\"4\" halign=\"left\">mean</th>\n",
       "    </tr>\n",
       "    <tr>\n",
       "      <th>Destination</th>\n",
       "      <th>55 Cancri e</th>\n",
       "      <th>PSO J318.5-22</th>\n",
       "      <th>TRAPPIST-1e</th>\n",
       "      <th>All</th>\n",
       "      <th>55 Cancri e</th>\n",
       "      <th>PSO J318.5-22</th>\n",
       "      <th>TRAPPIST-1e</th>\n",
       "      <th>All</th>\n",
       "    </tr>\n",
       "    <tr>\n",
       "      <th>HomePlanet</th>\n",
       "      <th></th>\n",
       "      <th></th>\n",
       "      <th></th>\n",
       "      <th></th>\n",
       "      <th></th>\n",
       "      <th></th>\n",
       "      <th></th>\n",
       "      <th></th>\n",
       "    </tr>\n",
       "  </thead>\n",
       "  <tbody>\n",
       "    <tr>\n",
       "      <th>Earth</th>\n",
       "      <td>690</td>\n",
       "      <td>712</td>\n",
       "      <td>3101</td>\n",
       "      <td>4503</td>\n",
       "      <td>0.504348</td>\n",
       "      <td>0.498596</td>\n",
       "      <td>0.389229</td>\n",
       "      <td>0.424162</td>\n",
       "    </tr>\n",
       "    <tr>\n",
       "      <th>Europa</th>\n",
       "      <td>886</td>\n",
       "      <td>19</td>\n",
       "      <td>1189</td>\n",
       "      <td>2094</td>\n",
       "      <td>0.689616</td>\n",
       "      <td>0.736842</td>\n",
       "      <td>0.634987</td>\n",
       "      <td>0.659026</td>\n",
       "    </tr>\n",
       "    <tr>\n",
       "      <th>Mars</th>\n",
       "      <td>193</td>\n",
       "      <td>49</td>\n",
       "      <td>1475</td>\n",
       "      <td>1717</td>\n",
       "      <td>0.611399</td>\n",
       "      <td>0.448980</td>\n",
       "      <td>0.511864</td>\n",
       "      <td>0.521258</td>\n",
       "    </tr>\n",
       "    <tr>\n",
       "      <th>All</th>\n",
       "      <td>1769</td>\n",
       "      <td>780</td>\n",
       "      <td>5765</td>\n",
       "      <td>8314</td>\n",
       "      <td>0.608819</td>\n",
       "      <td>0.501282</td>\n",
       "      <td>0.471292</td>\n",
       "      <td>0.503368</td>\n",
       "    </tr>\n",
       "  </tbody>\n",
       "</table>\n",
       "</div>"
      ],
      "text/plain": [
       "                    len                                        mean  \\\n",
       "Destination 55 Cancri e PSO J318.5-22 TRAPPIST-1e   All 55 Cancri e   \n",
       "HomePlanet                                                            \n",
       "Earth               690           712        3101  4503    0.504348   \n",
       "Europa              886            19        1189  2094    0.689616   \n",
       "Mars                193            49        1475  1717    0.611399   \n",
       "All                1769           780        5765  8314    0.608819   \n",
       "\n",
       "                                                 \n",
       "Destination PSO J318.5-22 TRAPPIST-1e       All  \n",
       "HomePlanet                                       \n",
       "Earth            0.498596    0.389229  0.424162  \n",
       "Europa           0.736842    0.634987  0.659026  \n",
       "Mars             0.448980    0.511864  0.521258  \n",
       "All              0.501282    0.471292  0.503368  "
      ]
     },
     "execution_count": 28,
     "metadata": {},
     "output_type": "execute_result"
    }
   ],
   "source": [
    "(\n",
    "    X\n",
    "    .pivot_table(\n",
    "        index = \"HomePlanet\",\n",
    "        columns = \"Destination\",\n",
    "        values = \"Transported\",\n",
    "        aggfunc = [len, np.mean],\n",
    "        margins = True\n",
    "    )\n",
    ")"
   ]
  },
  {
   "cell_type": "code",
   "execution_count": 29,
   "id": "1b091bf4",
   "metadata": {},
   "outputs": [
    {
     "data": {
      "text/plain": [
       "Name\n",
       "2    8493\n",
       "1     200\n",
       "Name: count, dtype: int64"
      ]
     },
     "execution_count": 29,
     "metadata": {},
     "output_type": "execute_result"
    }
   ],
   "source": [
    "X[\"Name\"].fillna(\"NA\").apply(lambda name: len(name.split(\" \"))).value_counts()"
   ]
  },
  {
   "cell_type": "code",
   "execution_count": 30,
   "id": "0c70a8c1",
   "metadata": {},
   "outputs": [],
   "source": [
    "X[\"Surname\"] = X[\"Name\"].fillna(\"NA\").apply(lambda name: name.split(\" \")[1] if name != \"NA\" else name)"
   ]
  },
  {
   "cell_type": "code",
   "execution_count": 31,
   "id": "a31bb6fe",
   "metadata": {},
   "outputs": [
    {
     "data": {
      "text/plain": [
       "Surname\n",
       "Acobson        0.250000\n",
       "Acobsond       0.333333\n",
       "Adavisons      0.444444\n",
       "Adkinson       0.000000\n",
       "Admingried     0.750000\n",
       "                 ...   \n",
       "Wynneyerson    0.500000\n",
       "Yanton         0.285714\n",
       "Yatters        0.500000\n",
       "Yorkland       0.636364\n",
       "Youngrayes     0.333333\n",
       "Name: Transported, Length: 2218, dtype: float64"
      ]
     },
     "execution_count": 31,
     "metadata": {},
     "output_type": "execute_result"
    }
   ],
   "source": [
    "X.groupby([\"Surname\"])[\"Transported\"].mean()"
   ]
  },
  {
   "cell_type": "code",
   "execution_count": 32,
   "id": "81e3c6a8",
   "metadata": {},
   "outputs": [],
   "source": [
    "del X, _"
   ]
  },
  {
   "cell_type": "markdown",
   "id": "e8b8741f",
   "metadata": {},
   "source": [
    "# Preprocessing and Modelling"
   ]
  },
  {
   "cell_type": "code",
   "execution_count": 33,
   "id": "e5b9a93c",
   "metadata": {},
   "outputs": [],
   "source": [
    "X_train, X_test = load_data()"
   ]
  },
  {
   "cell_type": "code",
   "execution_count": 34,
   "id": "fe91c156",
   "metadata": {},
   "outputs": [],
   "source": [
    "y = X_train.pop(\"Transported\")"
   ]
  },
  {
   "cell_type": "code",
   "execution_count": 35,
   "id": "fa652ff9",
   "metadata": {},
   "outputs": [
    {
     "data": {
      "text/plain": [
       "['HomePlanet', 'CryoSleep', 'Cabin', 'Destination', 'VIP', 'Name']"
      ]
     },
     "execution_count": 35,
     "metadata": {},
     "output_type": "execute_result"
    }
   ],
   "source": [
    "X_train.select_dtypes(exclude=np.number).columns.tolist()"
   ]
  },
  {
   "cell_type": "code",
   "execution_count": 36,
   "id": "0d99915f",
   "metadata": {},
   "outputs": [],
   "source": [
    "class CabinTransformer(BaseEstimator, TransformerMixin):\n",
    "    \n",
    "    def __init__(self, verbose=False):\n",
    "        self.verbose = verbose\n",
    "    \n",
    "    def fit(self, X, y=None):\n",
    "        return self\n",
    "    \n",
    "    def transform(self, X, y=None):\n",
    "        \n",
    "        if self.verbose:\n",
    "            print(\"Cabin Transformer\")\n",
    "            print(type(X))\n",
    "        \n",
    "        return X.iloc[:, 0].apply(lambda cabin: cabin[0] if cabin != \"NA\" else cabin).to_frame()"
   ]
  },
  {
   "cell_type": "code",
   "execution_count": 37,
   "id": "a1d43ec8-0644-47c7-82fd-1923ff693966",
   "metadata": {},
   "outputs": [],
   "source": [
    "ct_impute = ColumnTransformer(\n",
    "    transformers = [\n",
    "        (\"impute_numerical\", SimpleImputer(strategy=\"mean\"), make_column_selector(dtype_include=np.number)),\n",
    "        (\"impute_cabin\", SimpleImputer(strategy=\"constant\", fill_value=\"NA\"), [\"Cabin\"]),\n",
    "        (\n",
    "            \"impute_categorical\",\n",
    "            SimpleImputer(strategy=\"most_frequent\"),\n",
    "            ['HomePlanet', 'CryoSleep', 'Destination', 'VIP', 'Name']\n",
    "        )\n",
    "    ],\n",
    "    remainder = 'drop'\n",
    ")"
   ]
  },
  {
   "cell_type": "code",
   "execution_count": 38,
   "id": "21a9fb41",
   "metadata": {},
   "outputs": [
    {
     "data": {
      "text/html": [
       "<style>#sk-container-id-1 {color: black;background-color: white;}#sk-container-id-1 pre{padding: 0;}#sk-container-id-1 div.sk-toggleable {background-color: white;}#sk-container-id-1 label.sk-toggleable__label {cursor: pointer;display: block;width: 100%;margin-bottom: 0;padding: 0.3em;box-sizing: border-box;text-align: center;}#sk-container-id-1 label.sk-toggleable__label-arrow:before {content: \"▸\";float: left;margin-right: 0.25em;color: #696969;}#sk-container-id-1 label.sk-toggleable__label-arrow:hover:before {color: black;}#sk-container-id-1 div.sk-estimator:hover label.sk-toggleable__label-arrow:before {color: black;}#sk-container-id-1 div.sk-toggleable__content {max-height: 0;max-width: 0;overflow: hidden;text-align: left;background-color: #f0f8ff;}#sk-container-id-1 div.sk-toggleable__content pre {margin: 0.2em;color: black;border-radius: 0.25em;background-color: #f0f8ff;}#sk-container-id-1 input.sk-toggleable__control:checked~div.sk-toggleable__content {max-height: 200px;max-width: 100%;overflow: auto;}#sk-container-id-1 input.sk-toggleable__control:checked~label.sk-toggleable__label-arrow:before {content: \"▾\";}#sk-container-id-1 div.sk-estimator input.sk-toggleable__control:checked~label.sk-toggleable__label {background-color: #d4ebff;}#sk-container-id-1 div.sk-label input.sk-toggleable__control:checked~label.sk-toggleable__label {background-color: #d4ebff;}#sk-container-id-1 input.sk-hidden--visually {border: 0;clip: rect(1px 1px 1px 1px);clip: rect(1px, 1px, 1px, 1px);height: 1px;margin: -1px;overflow: hidden;padding: 0;position: absolute;width: 1px;}#sk-container-id-1 div.sk-estimator {font-family: monospace;background-color: #f0f8ff;border: 1px dotted black;border-radius: 0.25em;box-sizing: border-box;margin-bottom: 0.5em;}#sk-container-id-1 div.sk-estimator:hover {background-color: #d4ebff;}#sk-container-id-1 div.sk-parallel-item::after {content: \"\";width: 100%;border-bottom: 1px solid gray;flex-grow: 1;}#sk-container-id-1 div.sk-label:hover label.sk-toggleable__label {background-color: #d4ebff;}#sk-container-id-1 div.sk-serial::before {content: \"\";position: absolute;border-left: 1px solid gray;box-sizing: border-box;top: 0;bottom: 0;left: 50%;z-index: 0;}#sk-container-id-1 div.sk-serial {display: flex;flex-direction: column;align-items: center;background-color: white;padding-right: 0.2em;padding-left: 0.2em;position: relative;}#sk-container-id-1 div.sk-item {position: relative;z-index: 1;}#sk-container-id-1 div.sk-parallel {display: flex;align-items: stretch;justify-content: center;background-color: white;position: relative;}#sk-container-id-1 div.sk-item::before, #sk-container-id-1 div.sk-parallel-item::before {content: \"\";position: absolute;border-left: 1px solid gray;box-sizing: border-box;top: 0;bottom: 0;left: 50%;z-index: -1;}#sk-container-id-1 div.sk-parallel-item {display: flex;flex-direction: column;z-index: 1;position: relative;background-color: white;}#sk-container-id-1 div.sk-parallel-item:first-child::after {align-self: flex-end;width: 50%;}#sk-container-id-1 div.sk-parallel-item:last-child::after {align-self: flex-start;width: 50%;}#sk-container-id-1 div.sk-parallel-item:only-child::after {width: 0;}#sk-container-id-1 div.sk-dashed-wrapped {border: 1px dashed gray;margin: 0 0.4em 0.5em 0.4em;box-sizing: border-box;padding-bottom: 0.4em;background-color: white;}#sk-container-id-1 div.sk-label label {font-family: monospace;font-weight: bold;display: inline-block;line-height: 1.2em;}#sk-container-id-1 div.sk-label-container {text-align: center;}#sk-container-id-1 div.sk-container {/* jupyter's `normalize.less` sets `[hidden] { display: none; }` but bootstrap.min.css set `[hidden] { display: none !important; }` so we also need the `!important` here to be able to override the default hidden behavior on the sphinx rendered scikit-learn.org. See: https://github.com/scikit-learn/scikit-learn/issues/21755 */display: inline-block !important;position: relative;}#sk-container-id-1 div.sk-text-repr-fallback {display: none;}</style><div id=\"sk-container-id-1\" class=\"sk-top-container\"><div class=\"sk-text-repr-fallback\"><pre>ColumnTransformer(transformers=[(&#x27;impute_numerical&#x27;, SimpleImputer(),\n",
       "                                 &lt;sklearn.compose._column_transformer.make_column_selector object at 0x166636e80&gt;),\n",
       "                                (&#x27;impute_cabin&#x27;,\n",
       "                                 SimpleImputer(fill_value=&#x27;NA&#x27;,\n",
       "                                               strategy=&#x27;constant&#x27;),\n",
       "                                 [&#x27;Cabin&#x27;]),\n",
       "                                (&#x27;impute_categorical&#x27;,\n",
       "                                 SimpleImputer(strategy=&#x27;most_frequent&#x27;),\n",
       "                                 [&#x27;HomePlanet&#x27;, &#x27;CryoSleep&#x27;, &#x27;Destination&#x27;,\n",
       "                                  &#x27;VIP&#x27;, &#x27;Name&#x27;])])</pre><b>In a Jupyter environment, please rerun this cell to show the HTML representation or trust the notebook. <br />On GitHub, the HTML representation is unable to render, please try loading this page with nbviewer.org.</b></div><div class=\"sk-container\" hidden><div class=\"sk-item sk-dashed-wrapped\"><div class=\"sk-label-container\"><div class=\"sk-label sk-toggleable\"><input class=\"sk-toggleable__control sk-hidden--visually\" id=\"sk-estimator-id-1\" type=\"checkbox\" ><label for=\"sk-estimator-id-1\" class=\"sk-toggleable__label sk-toggleable__label-arrow\">ColumnTransformer</label><div class=\"sk-toggleable__content\"><pre>ColumnTransformer(transformers=[(&#x27;impute_numerical&#x27;, SimpleImputer(),\n",
       "                                 &lt;sklearn.compose._column_transformer.make_column_selector object at 0x166636e80&gt;),\n",
       "                                (&#x27;impute_cabin&#x27;,\n",
       "                                 SimpleImputer(fill_value=&#x27;NA&#x27;,\n",
       "                                               strategy=&#x27;constant&#x27;),\n",
       "                                 [&#x27;Cabin&#x27;]),\n",
       "                                (&#x27;impute_categorical&#x27;,\n",
       "                                 SimpleImputer(strategy=&#x27;most_frequent&#x27;),\n",
       "                                 [&#x27;HomePlanet&#x27;, &#x27;CryoSleep&#x27;, &#x27;Destination&#x27;,\n",
       "                                  &#x27;VIP&#x27;, &#x27;Name&#x27;])])</pre></div></div></div><div class=\"sk-parallel\"><div class=\"sk-parallel-item\"><div class=\"sk-item\"><div class=\"sk-label-container\"><div class=\"sk-label sk-toggleable\"><input class=\"sk-toggleable__control sk-hidden--visually\" id=\"sk-estimator-id-2\" type=\"checkbox\" ><label for=\"sk-estimator-id-2\" class=\"sk-toggleable__label sk-toggleable__label-arrow\">impute_numerical</label><div class=\"sk-toggleable__content\"><pre>&lt;sklearn.compose._column_transformer.make_column_selector object at 0x166636e80&gt;</pre></div></div></div><div class=\"sk-serial\"><div class=\"sk-item\"><div class=\"sk-estimator sk-toggleable\"><input class=\"sk-toggleable__control sk-hidden--visually\" id=\"sk-estimator-id-3\" type=\"checkbox\" ><label for=\"sk-estimator-id-3\" class=\"sk-toggleable__label sk-toggleable__label-arrow\">SimpleImputer</label><div class=\"sk-toggleable__content\"><pre>SimpleImputer()</pre></div></div></div></div></div></div><div class=\"sk-parallel-item\"><div class=\"sk-item\"><div class=\"sk-label-container\"><div class=\"sk-label sk-toggleable\"><input class=\"sk-toggleable__control sk-hidden--visually\" id=\"sk-estimator-id-4\" type=\"checkbox\" ><label for=\"sk-estimator-id-4\" class=\"sk-toggleable__label sk-toggleable__label-arrow\">impute_cabin</label><div class=\"sk-toggleable__content\"><pre>[&#x27;Cabin&#x27;]</pre></div></div></div><div class=\"sk-serial\"><div class=\"sk-item\"><div class=\"sk-estimator sk-toggleable\"><input class=\"sk-toggleable__control sk-hidden--visually\" id=\"sk-estimator-id-5\" type=\"checkbox\" ><label for=\"sk-estimator-id-5\" class=\"sk-toggleable__label sk-toggleable__label-arrow\">SimpleImputer</label><div class=\"sk-toggleable__content\"><pre>SimpleImputer(fill_value=&#x27;NA&#x27;, strategy=&#x27;constant&#x27;)</pre></div></div></div></div></div></div><div class=\"sk-parallel-item\"><div class=\"sk-item\"><div class=\"sk-label-container\"><div class=\"sk-label sk-toggleable\"><input class=\"sk-toggleable__control sk-hidden--visually\" id=\"sk-estimator-id-6\" type=\"checkbox\" ><label for=\"sk-estimator-id-6\" class=\"sk-toggleable__label sk-toggleable__label-arrow\">impute_categorical</label><div class=\"sk-toggleable__content\"><pre>[&#x27;HomePlanet&#x27;, &#x27;CryoSleep&#x27;, &#x27;Destination&#x27;, &#x27;VIP&#x27;, &#x27;Name&#x27;]</pre></div></div></div><div class=\"sk-serial\"><div class=\"sk-item\"><div class=\"sk-estimator sk-toggleable\"><input class=\"sk-toggleable__control sk-hidden--visually\" id=\"sk-estimator-id-7\" type=\"checkbox\" ><label for=\"sk-estimator-id-7\" class=\"sk-toggleable__label sk-toggleable__label-arrow\">SimpleImputer</label><div class=\"sk-toggleable__content\"><pre>SimpleImputer(strategy=&#x27;most_frequent&#x27;)</pre></div></div></div></div></div></div></div></div></div></div>"
      ],
      "text/plain": [
       "ColumnTransformer(transformers=[('impute_numerical', SimpleImputer(),\n",
       "                                 <sklearn.compose._column_transformer.make_column_selector object at 0x166636e80>),\n",
       "                                ('impute_cabin',\n",
       "                                 SimpleImputer(fill_value='NA',\n",
       "                                               strategy='constant'),\n",
       "                                 ['Cabin']),\n",
       "                                ('impute_categorical',\n",
       "                                 SimpleImputer(strategy='most_frequent'),\n",
       "                                 ['HomePlanet', 'CryoSleep', 'Destination',\n",
       "                                  'VIP', 'Name'])])"
      ]
     },
     "execution_count": 38,
     "metadata": {},
     "output_type": "execute_result"
    }
   ],
   "source": [
    "ct_impute"
   ]
  },
  {
   "cell_type": "code",
   "execution_count": 39,
   "id": "710c14be-2fa6-475c-9606-fc7378b6384e",
   "metadata": {},
   "outputs": [],
   "source": [
    "Xt = ct_impute.fit_transform(X_train)"
   ]
  },
  {
   "cell_type": "code",
   "execution_count": 40,
   "id": "dbeeebda",
   "metadata": {},
   "outputs": [
    {
     "data": {
      "text/plain": [
       "(8693, 12)"
      ]
     },
     "execution_count": 40,
     "metadata": {},
     "output_type": "execute_result"
    }
   ],
   "source": [
    "Xt.shape"
   ]
  },
  {
   "cell_type": "code",
   "execution_count": 41,
   "id": "e5a30579",
   "metadata": {},
   "outputs": [
    {
     "data": {
      "text/html": [
       "<div>\n",
       "<style scoped>\n",
       "    .dataframe tbody tr th:only-of-type {\n",
       "        vertical-align: middle;\n",
       "    }\n",
       "\n",
       "    .dataframe tbody tr th {\n",
       "        vertical-align: top;\n",
       "    }\n",
       "\n",
       "    .dataframe thead th {\n",
       "        text-align: right;\n",
       "    }\n",
       "</style>\n",
       "<table border=\"1\" class=\"dataframe\">\n",
       "  <thead>\n",
       "    <tr style=\"text-align: right;\">\n",
       "      <th></th>\n",
       "      <th>impute_numerical__Age</th>\n",
       "      <th>impute_numerical__RoomService</th>\n",
       "      <th>impute_numerical__FoodCourt</th>\n",
       "      <th>impute_numerical__ShoppingMall</th>\n",
       "      <th>impute_numerical__Spa</th>\n",
       "      <th>impute_numerical__VRDeck</th>\n",
       "      <th>impute_cabin__Cabin</th>\n",
       "      <th>impute_categorical__HomePlanet</th>\n",
       "      <th>impute_categorical__CryoSleep</th>\n",
       "      <th>impute_categorical__Destination</th>\n",
       "      <th>impute_categorical__VIP</th>\n",
       "      <th>impute_categorical__Name</th>\n",
       "    </tr>\n",
       "    <tr>\n",
       "      <th>PassengerId</th>\n",
       "      <th></th>\n",
       "      <th></th>\n",
       "      <th></th>\n",
       "      <th></th>\n",
       "      <th></th>\n",
       "      <th></th>\n",
       "      <th></th>\n",
       "      <th></th>\n",
       "      <th></th>\n",
       "      <th></th>\n",
       "      <th></th>\n",
       "      <th></th>\n",
       "    </tr>\n",
       "  </thead>\n",
       "  <tbody>\n",
       "    <tr>\n",
       "      <th>0001_01</th>\n",
       "      <td>39.0</td>\n",
       "      <td>0.0</td>\n",
       "      <td>0.0</td>\n",
       "      <td>0.0</td>\n",
       "      <td>0.0</td>\n",
       "      <td>0.0</td>\n",
       "      <td>B/0/P</td>\n",
       "      <td>Europa</td>\n",
       "      <td>False</td>\n",
       "      <td>TRAPPIST-1e</td>\n",
       "      <td>False</td>\n",
       "      <td>Maham Ofracculy</td>\n",
       "    </tr>\n",
       "    <tr>\n",
       "      <th>0002_01</th>\n",
       "      <td>24.0</td>\n",
       "      <td>109.0</td>\n",
       "      <td>9.0</td>\n",
       "      <td>25.0</td>\n",
       "      <td>549.0</td>\n",
       "      <td>44.0</td>\n",
       "      <td>F/0/S</td>\n",
       "      <td>Earth</td>\n",
       "      <td>False</td>\n",
       "      <td>TRAPPIST-1e</td>\n",
       "      <td>False</td>\n",
       "      <td>Juanna Vines</td>\n",
       "    </tr>\n",
       "    <tr>\n",
       "      <th>0003_01</th>\n",
       "      <td>58.0</td>\n",
       "      <td>43.0</td>\n",
       "      <td>3576.0</td>\n",
       "      <td>0.0</td>\n",
       "      <td>6715.0</td>\n",
       "      <td>49.0</td>\n",
       "      <td>A/0/S</td>\n",
       "      <td>Europa</td>\n",
       "      <td>False</td>\n",
       "      <td>TRAPPIST-1e</td>\n",
       "      <td>True</td>\n",
       "      <td>Altark Susent</td>\n",
       "    </tr>\n",
       "    <tr>\n",
       "      <th>0003_02</th>\n",
       "      <td>33.0</td>\n",
       "      <td>0.0</td>\n",
       "      <td>1283.0</td>\n",
       "      <td>371.0</td>\n",
       "      <td>3329.0</td>\n",
       "      <td>193.0</td>\n",
       "      <td>A/0/S</td>\n",
       "      <td>Europa</td>\n",
       "      <td>False</td>\n",
       "      <td>TRAPPIST-1e</td>\n",
       "      <td>False</td>\n",
       "      <td>Solam Susent</td>\n",
       "    </tr>\n",
       "    <tr>\n",
       "      <th>0004_01</th>\n",
       "      <td>16.0</td>\n",
       "      <td>303.0</td>\n",
       "      <td>70.0</td>\n",
       "      <td>151.0</td>\n",
       "      <td>565.0</td>\n",
       "      <td>2.0</td>\n",
       "      <td>F/1/S</td>\n",
       "      <td>Earth</td>\n",
       "      <td>False</td>\n",
       "      <td>TRAPPIST-1e</td>\n",
       "      <td>False</td>\n",
       "      <td>Willy Santantines</td>\n",
       "    </tr>\n",
       "  </tbody>\n",
       "</table>\n",
       "</div>"
      ],
      "text/plain": [
       "             impute_numerical__Age  impute_numerical__RoomService  \\\n",
       "PassengerId                                                         \n",
       "0001_01                       39.0                            0.0   \n",
       "0002_01                       24.0                          109.0   \n",
       "0003_01                       58.0                           43.0   \n",
       "0003_02                       33.0                            0.0   \n",
       "0004_01                       16.0                          303.0   \n",
       "\n",
       "             impute_numerical__FoodCourt  impute_numerical__ShoppingMall  \\\n",
       "PassengerId                                                                \n",
       "0001_01                              0.0                             0.0   \n",
       "0002_01                              9.0                            25.0   \n",
       "0003_01                           3576.0                             0.0   \n",
       "0003_02                           1283.0                           371.0   \n",
       "0004_01                             70.0                           151.0   \n",
       "\n",
       "             impute_numerical__Spa  impute_numerical__VRDeck  \\\n",
       "PassengerId                                                    \n",
       "0001_01                        0.0                       0.0   \n",
       "0002_01                      549.0                      44.0   \n",
       "0003_01                     6715.0                      49.0   \n",
       "0003_02                     3329.0                     193.0   \n",
       "0004_01                      565.0                       2.0   \n",
       "\n",
       "            impute_cabin__Cabin impute_categorical__HomePlanet  \\\n",
       "PassengerId                                                      \n",
       "0001_01                   B/0/P                         Europa   \n",
       "0002_01                   F/0/S                          Earth   \n",
       "0003_01                   A/0/S                         Europa   \n",
       "0003_02                   A/0/S                         Europa   \n",
       "0004_01                   F/1/S                          Earth   \n",
       "\n",
       "            impute_categorical__CryoSleep impute_categorical__Destination  \\\n",
       "PassengerId                                                                 \n",
       "0001_01                             False                     TRAPPIST-1e   \n",
       "0002_01                             False                     TRAPPIST-1e   \n",
       "0003_01                             False                     TRAPPIST-1e   \n",
       "0003_02                             False                     TRAPPIST-1e   \n",
       "0004_01                             False                     TRAPPIST-1e   \n",
       "\n",
       "            impute_categorical__VIP impute_categorical__Name  \n",
       "PassengerId                                                   \n",
       "0001_01                       False          Maham Ofracculy  \n",
       "0002_01                       False             Juanna Vines  \n",
       "0003_01                        True            Altark Susent  \n",
       "0003_02                       False             Solam Susent  \n",
       "0004_01                       False        Willy Santantines  "
      ]
     },
     "execution_count": 41,
     "metadata": {},
     "output_type": "execute_result"
    }
   ],
   "source": [
    "Xt.head()"
   ]
  },
  {
   "cell_type": "code",
   "execution_count": 42,
   "id": "4f5a4783",
   "metadata": {},
   "outputs": [],
   "source": [
    "# CabinTransformer().fit_transform(Xt[\"impute_cabin__Cabin\"])"
   ]
  },
  {
   "cell_type": "code",
   "execution_count": 43,
   "id": "655406d5",
   "metadata": {},
   "outputs": [
    {
     "data": {
      "text/html": [
       "<div>\n",
       "<style scoped>\n",
       "    .dataframe tbody tr th:only-of-type {\n",
       "        vertical-align: middle;\n",
       "    }\n",
       "\n",
       "    .dataframe tbody tr th {\n",
       "        vertical-align: top;\n",
       "    }\n",
       "\n",
       "    .dataframe thead th {\n",
       "        text-align: right;\n",
       "    }\n",
       "</style>\n",
       "<table border=\"1\" class=\"dataframe\">\n",
       "  <thead>\n",
       "    <tr style=\"text-align: right;\">\n",
       "      <th></th>\n",
       "      <th>impute_cabin__Cabin</th>\n",
       "    </tr>\n",
       "    <tr>\n",
       "      <th>PassengerId</th>\n",
       "      <th></th>\n",
       "    </tr>\n",
       "  </thead>\n",
       "  <tbody>\n",
       "    <tr>\n",
       "      <th>0001_01</th>\n",
       "      <td>B</td>\n",
       "    </tr>\n",
       "    <tr>\n",
       "      <th>0002_01</th>\n",
       "      <td>F</td>\n",
       "    </tr>\n",
       "    <tr>\n",
       "      <th>0003_01</th>\n",
       "      <td>A</td>\n",
       "    </tr>\n",
       "    <tr>\n",
       "      <th>0003_02</th>\n",
       "      <td>A</td>\n",
       "    </tr>\n",
       "    <tr>\n",
       "      <th>0004_01</th>\n",
       "      <td>F</td>\n",
       "    </tr>\n",
       "    <tr>\n",
       "      <th>...</th>\n",
       "      <td>...</td>\n",
       "    </tr>\n",
       "    <tr>\n",
       "      <th>9276_01</th>\n",
       "      <td>A</td>\n",
       "    </tr>\n",
       "    <tr>\n",
       "      <th>9278_01</th>\n",
       "      <td>G</td>\n",
       "    </tr>\n",
       "    <tr>\n",
       "      <th>9279_01</th>\n",
       "      <td>G</td>\n",
       "    </tr>\n",
       "    <tr>\n",
       "      <th>9280_01</th>\n",
       "      <td>E</td>\n",
       "    </tr>\n",
       "    <tr>\n",
       "      <th>9280_02</th>\n",
       "      <td>E</td>\n",
       "    </tr>\n",
       "  </tbody>\n",
       "</table>\n",
       "<p>8693 rows × 1 columns</p>\n",
       "</div>"
      ],
      "text/plain": [
       "            impute_cabin__Cabin\n",
       "PassengerId                    \n",
       "0001_01                       B\n",
       "0002_01                       F\n",
       "0003_01                       A\n",
       "0003_02                       A\n",
       "0004_01                       F\n",
       "...                         ...\n",
       "9276_01                       A\n",
       "9278_01                       G\n",
       "9279_01                       G\n",
       "9280_01                       E\n",
       "9280_02                       E\n",
       "\n",
       "[8693 rows x 1 columns]"
      ]
     },
     "execution_count": 43,
     "metadata": {},
     "output_type": "execute_result"
    }
   ],
   "source": [
    "CabinTransformer().fit_transform(Xt[[\"impute_cabin__Cabin\"]])"
   ]
  },
  {
   "cell_type": "code",
   "execution_count": 44,
   "id": "2a22d66a",
   "metadata": {},
   "outputs": [],
   "source": [
    "# CabinTransformer().fit_transform(Xt[[\"impute_cabin__Cabin\"]]).value_counts().sort_index()"
   ]
  },
  {
   "cell_type": "code",
   "execution_count": 45,
   "id": "f30c3f21",
   "metadata": {},
   "outputs": [
    {
     "data": {
      "text/plain": [
       "impute_cabin__Cabin\n",
       "A                        98\n",
       "B                       362\n",
       "C                       355\n",
       "D                       242\n",
       "E                       447\n",
       "F                      1445\n",
       "G                      1222\n",
       "NA                      100\n",
       "T                         6\n",
       "Name: count, dtype: int64"
      ]
     },
     "execution_count": 45,
     "metadata": {},
     "output_type": "execute_result"
    }
   ],
   "source": [
    "CabinTransformer().transform(ct_impute.transform(X_test)[[\"impute_cabin__Cabin\"]]).value_counts().sort_index()"
   ]
  },
  {
   "cell_type": "code",
   "execution_count": 46,
   "id": "afc4869d",
   "metadata": {},
   "outputs": [],
   "source": [
    "fu_age = FeatureUnion(\n",
    "    transformer_list = [\n",
    "        (\"fe_age_12\", Binarizer(threshold=12)),\n",
    "        (\"fe_age_18\", Binarizer(threshold=18)),\n",
    "        (\"fe_age_pass\", \"passthrough\")       \n",
    "    ]\n",
    ")"
   ]
  },
  {
   "cell_type": "code",
   "execution_count": 47,
   "id": "5523d9d4",
   "metadata": {},
   "outputs": [
    {
     "data": {
      "text/plain": [
       "['impute_numerical__Age',\n",
       " 'impute_numerical__RoomService',\n",
       " 'impute_numerical__FoodCourt',\n",
       " 'impute_numerical__ShoppingMall',\n",
       " 'impute_numerical__Spa',\n",
       " 'impute_numerical__VRDeck',\n",
       " 'impute_cabin__Cabin',\n",
       " 'impute_categorical__HomePlanet',\n",
       " 'impute_categorical__CryoSleep',\n",
       " 'impute_categorical__Destination',\n",
       " 'impute_categorical__VIP',\n",
       " 'impute_categorical__Name']"
      ]
     },
     "execution_count": 47,
     "metadata": {},
     "output_type": "execute_result"
    }
   ],
   "source": [
    "Xt.columns.tolist()"
   ]
  },
  {
   "cell_type": "code",
   "execution_count": 48,
   "id": "bb82494e",
   "metadata": {},
   "outputs": [],
   "source": [
    "# Xt[\"impute_cabin__Cabin\"]"
   ]
  },
  {
   "cell_type": "code",
   "execution_count": 49,
   "id": "07fccceb",
   "metadata": {},
   "outputs": [],
   "source": [
    "class DebuggerTransformer(BaseEstimator, TransformerMixin):\n",
    "    \n",
    "    def fit(self, X, y=None):\n",
    "        return self\n",
    "    \n",
    "    def transform(self, X, y=None):\n",
    "        print(\"DummyTransformer\")\n",
    "        return X"
   ]
  },
  {
   "cell_type": "code",
   "execution_count": 50,
   "id": "cc51b81f",
   "metadata": {},
   "outputs": [],
   "source": [
    "fe_cabin = Pipeline(\n",
    "    steps = [\n",
    "        (\"extract_first_letter\", CabinTransformer()),\n",
    "        (\"ohe_first_letter\", OneHotEncoder(sparse_output=False)),\n",
    "    ]\n",
    ")"
   ]
  },
  {
   "cell_type": "code",
   "execution_count": 51,
   "id": "4f28857d",
   "metadata": {},
   "outputs": [],
   "source": [
    "# Xt[\"impute_cabin__Cabin\"]"
   ]
  },
  {
   "cell_type": "code",
   "execution_count": 52,
   "id": "fc1b2f3e",
   "metadata": {},
   "outputs": [
    {
     "data": {
      "text/html": [
       "<div>\n",
       "<style scoped>\n",
       "    .dataframe tbody tr th:only-of-type {\n",
       "        vertical-align: middle;\n",
       "    }\n",
       "\n",
       "    .dataframe tbody tr th {\n",
       "        vertical-align: top;\n",
       "    }\n",
       "\n",
       "    .dataframe thead th {\n",
       "        text-align: right;\n",
       "    }\n",
       "</style>\n",
       "<table border=\"1\" class=\"dataframe\">\n",
       "  <thead>\n",
       "    <tr style=\"text-align: right;\">\n",
       "      <th></th>\n",
       "      <th>impute_cabin__Cabin</th>\n",
       "    </tr>\n",
       "    <tr>\n",
       "      <th>PassengerId</th>\n",
       "      <th></th>\n",
       "    </tr>\n",
       "  </thead>\n",
       "  <tbody>\n",
       "    <tr>\n",
       "      <th>0001_01</th>\n",
       "      <td>B</td>\n",
       "    </tr>\n",
       "    <tr>\n",
       "      <th>0002_01</th>\n",
       "      <td>F</td>\n",
       "    </tr>\n",
       "    <tr>\n",
       "      <th>0003_01</th>\n",
       "      <td>A</td>\n",
       "    </tr>\n",
       "    <tr>\n",
       "      <th>0003_02</th>\n",
       "      <td>A</td>\n",
       "    </tr>\n",
       "    <tr>\n",
       "      <th>0004_01</th>\n",
       "      <td>F</td>\n",
       "    </tr>\n",
       "    <tr>\n",
       "      <th>...</th>\n",
       "      <td>...</td>\n",
       "    </tr>\n",
       "    <tr>\n",
       "      <th>9276_01</th>\n",
       "      <td>A</td>\n",
       "    </tr>\n",
       "    <tr>\n",
       "      <th>9278_01</th>\n",
       "      <td>G</td>\n",
       "    </tr>\n",
       "    <tr>\n",
       "      <th>9279_01</th>\n",
       "      <td>G</td>\n",
       "    </tr>\n",
       "    <tr>\n",
       "      <th>9280_01</th>\n",
       "      <td>E</td>\n",
       "    </tr>\n",
       "    <tr>\n",
       "      <th>9280_02</th>\n",
       "      <td>E</td>\n",
       "    </tr>\n",
       "  </tbody>\n",
       "</table>\n",
       "<p>8693 rows × 1 columns</p>\n",
       "</div>"
      ],
      "text/plain": [
       "            impute_cabin__Cabin\n",
       "PassengerId                    \n",
       "0001_01                       B\n",
       "0002_01                       F\n",
       "0003_01                       A\n",
       "0003_02                       A\n",
       "0004_01                       F\n",
       "...                         ...\n",
       "9276_01                       A\n",
       "9278_01                       G\n",
       "9279_01                       G\n",
       "9280_01                       E\n",
       "9280_02                       E\n",
       "\n",
       "[8693 rows x 1 columns]"
      ]
     },
     "execution_count": 52,
     "metadata": {},
     "output_type": "execute_result"
    }
   ],
   "source": [
    "fe_cabin[0].fit_transform(Xt[[\"impute_cabin__Cabin\"]])"
   ]
  },
  {
   "cell_type": "code",
   "execution_count": 53,
   "id": "9299ca48",
   "metadata": {},
   "outputs": [
    {
     "data": {
      "text/html": [
       "<div>\n",
       "<style scoped>\n",
       "    .dataframe tbody tr th:only-of-type {\n",
       "        vertical-align: middle;\n",
       "    }\n",
       "\n",
       "    .dataframe tbody tr th {\n",
       "        vertical-align: top;\n",
       "    }\n",
       "\n",
       "    .dataframe thead th {\n",
       "        text-align: right;\n",
       "    }\n",
       "</style>\n",
       "<table border=\"1\" class=\"dataframe\">\n",
       "  <thead>\n",
       "    <tr style=\"text-align: right;\">\n",
       "      <th></th>\n",
       "      <th>impute_cabin__Cabin_A</th>\n",
       "      <th>impute_cabin__Cabin_B</th>\n",
       "      <th>impute_cabin__Cabin_C</th>\n",
       "      <th>impute_cabin__Cabin_D</th>\n",
       "      <th>impute_cabin__Cabin_E</th>\n",
       "      <th>impute_cabin__Cabin_F</th>\n",
       "      <th>impute_cabin__Cabin_G</th>\n",
       "      <th>impute_cabin__Cabin_NA</th>\n",
       "      <th>impute_cabin__Cabin_T</th>\n",
       "    </tr>\n",
       "    <tr>\n",
       "      <th>PassengerId</th>\n",
       "      <th></th>\n",
       "      <th></th>\n",
       "      <th></th>\n",
       "      <th></th>\n",
       "      <th></th>\n",
       "      <th></th>\n",
       "      <th></th>\n",
       "      <th></th>\n",
       "      <th></th>\n",
       "    </tr>\n",
       "  </thead>\n",
       "  <tbody>\n",
       "    <tr>\n",
       "      <th>0001_01</th>\n",
       "      <td>0.0</td>\n",
       "      <td>1.0</td>\n",
       "      <td>0.0</td>\n",
       "      <td>0.0</td>\n",
       "      <td>0.0</td>\n",
       "      <td>0.0</td>\n",
       "      <td>0.0</td>\n",
       "      <td>0.0</td>\n",
       "      <td>0.0</td>\n",
       "    </tr>\n",
       "    <tr>\n",
       "      <th>0002_01</th>\n",
       "      <td>0.0</td>\n",
       "      <td>0.0</td>\n",
       "      <td>0.0</td>\n",
       "      <td>0.0</td>\n",
       "      <td>0.0</td>\n",
       "      <td>1.0</td>\n",
       "      <td>0.0</td>\n",
       "      <td>0.0</td>\n",
       "      <td>0.0</td>\n",
       "    </tr>\n",
       "    <tr>\n",
       "      <th>0003_01</th>\n",
       "      <td>1.0</td>\n",
       "      <td>0.0</td>\n",
       "      <td>0.0</td>\n",
       "      <td>0.0</td>\n",
       "      <td>0.0</td>\n",
       "      <td>0.0</td>\n",
       "      <td>0.0</td>\n",
       "      <td>0.0</td>\n",
       "      <td>0.0</td>\n",
       "    </tr>\n",
       "    <tr>\n",
       "      <th>0003_02</th>\n",
       "      <td>1.0</td>\n",
       "      <td>0.0</td>\n",
       "      <td>0.0</td>\n",
       "      <td>0.0</td>\n",
       "      <td>0.0</td>\n",
       "      <td>0.0</td>\n",
       "      <td>0.0</td>\n",
       "      <td>0.0</td>\n",
       "      <td>0.0</td>\n",
       "    </tr>\n",
       "    <tr>\n",
       "      <th>0004_01</th>\n",
       "      <td>0.0</td>\n",
       "      <td>0.0</td>\n",
       "      <td>0.0</td>\n",
       "      <td>0.0</td>\n",
       "      <td>0.0</td>\n",
       "      <td>1.0</td>\n",
       "      <td>0.0</td>\n",
       "      <td>0.0</td>\n",
       "      <td>0.0</td>\n",
       "    </tr>\n",
       "    <tr>\n",
       "      <th>...</th>\n",
       "      <td>...</td>\n",
       "      <td>...</td>\n",
       "      <td>...</td>\n",
       "      <td>...</td>\n",
       "      <td>...</td>\n",
       "      <td>...</td>\n",
       "      <td>...</td>\n",
       "      <td>...</td>\n",
       "      <td>...</td>\n",
       "    </tr>\n",
       "    <tr>\n",
       "      <th>9276_01</th>\n",
       "      <td>1.0</td>\n",
       "      <td>0.0</td>\n",
       "      <td>0.0</td>\n",
       "      <td>0.0</td>\n",
       "      <td>0.0</td>\n",
       "      <td>0.0</td>\n",
       "      <td>0.0</td>\n",
       "      <td>0.0</td>\n",
       "      <td>0.0</td>\n",
       "    </tr>\n",
       "    <tr>\n",
       "      <th>9278_01</th>\n",
       "      <td>0.0</td>\n",
       "      <td>0.0</td>\n",
       "      <td>0.0</td>\n",
       "      <td>0.0</td>\n",
       "      <td>0.0</td>\n",
       "      <td>0.0</td>\n",
       "      <td>1.0</td>\n",
       "      <td>0.0</td>\n",
       "      <td>0.0</td>\n",
       "    </tr>\n",
       "    <tr>\n",
       "      <th>9279_01</th>\n",
       "      <td>0.0</td>\n",
       "      <td>0.0</td>\n",
       "      <td>0.0</td>\n",
       "      <td>0.0</td>\n",
       "      <td>0.0</td>\n",
       "      <td>0.0</td>\n",
       "      <td>1.0</td>\n",
       "      <td>0.0</td>\n",
       "      <td>0.0</td>\n",
       "    </tr>\n",
       "    <tr>\n",
       "      <th>9280_01</th>\n",
       "      <td>0.0</td>\n",
       "      <td>0.0</td>\n",
       "      <td>0.0</td>\n",
       "      <td>0.0</td>\n",
       "      <td>1.0</td>\n",
       "      <td>0.0</td>\n",
       "      <td>0.0</td>\n",
       "      <td>0.0</td>\n",
       "      <td>0.0</td>\n",
       "    </tr>\n",
       "    <tr>\n",
       "      <th>9280_02</th>\n",
       "      <td>0.0</td>\n",
       "      <td>0.0</td>\n",
       "      <td>0.0</td>\n",
       "      <td>0.0</td>\n",
       "      <td>1.0</td>\n",
       "      <td>0.0</td>\n",
       "      <td>0.0</td>\n",
       "      <td>0.0</td>\n",
       "      <td>0.0</td>\n",
       "    </tr>\n",
       "  </tbody>\n",
       "</table>\n",
       "<p>8693 rows × 9 columns</p>\n",
       "</div>"
      ],
      "text/plain": [
       "             impute_cabin__Cabin_A  impute_cabin__Cabin_B  \\\n",
       "PassengerId                                                 \n",
       "0001_01                        0.0                    1.0   \n",
       "0002_01                        0.0                    0.0   \n",
       "0003_01                        1.0                    0.0   \n",
       "0003_02                        1.0                    0.0   \n",
       "0004_01                        0.0                    0.0   \n",
       "...                            ...                    ...   \n",
       "9276_01                        1.0                    0.0   \n",
       "9278_01                        0.0                    0.0   \n",
       "9279_01                        0.0                    0.0   \n",
       "9280_01                        0.0                    0.0   \n",
       "9280_02                        0.0                    0.0   \n",
       "\n",
       "             impute_cabin__Cabin_C  impute_cabin__Cabin_D  \\\n",
       "PassengerId                                                 \n",
       "0001_01                        0.0                    0.0   \n",
       "0002_01                        0.0                    0.0   \n",
       "0003_01                        0.0                    0.0   \n",
       "0003_02                        0.0                    0.0   \n",
       "0004_01                        0.0                    0.0   \n",
       "...                            ...                    ...   \n",
       "9276_01                        0.0                    0.0   \n",
       "9278_01                        0.0                    0.0   \n",
       "9279_01                        0.0                    0.0   \n",
       "9280_01                        0.0                    0.0   \n",
       "9280_02                        0.0                    0.0   \n",
       "\n",
       "             impute_cabin__Cabin_E  impute_cabin__Cabin_F  \\\n",
       "PassengerId                                                 \n",
       "0001_01                        0.0                    0.0   \n",
       "0002_01                        0.0                    1.0   \n",
       "0003_01                        0.0                    0.0   \n",
       "0003_02                        0.0                    0.0   \n",
       "0004_01                        0.0                    1.0   \n",
       "...                            ...                    ...   \n",
       "9276_01                        0.0                    0.0   \n",
       "9278_01                        0.0                    0.0   \n",
       "9279_01                        0.0                    0.0   \n",
       "9280_01                        1.0                    0.0   \n",
       "9280_02                        1.0                    0.0   \n",
       "\n",
       "             impute_cabin__Cabin_G  impute_cabin__Cabin_NA  \\\n",
       "PassengerId                                                  \n",
       "0001_01                        0.0                     0.0   \n",
       "0002_01                        0.0                     0.0   \n",
       "0003_01                        0.0                     0.0   \n",
       "0003_02                        0.0                     0.0   \n",
       "0004_01                        0.0                     0.0   \n",
       "...                            ...                     ...   \n",
       "9276_01                        0.0                     0.0   \n",
       "9278_01                        1.0                     0.0   \n",
       "9279_01                        1.0                     0.0   \n",
       "9280_01                        0.0                     0.0   \n",
       "9280_02                        0.0                     0.0   \n",
       "\n",
       "             impute_cabin__Cabin_T  \n",
       "PassengerId                         \n",
       "0001_01                        0.0  \n",
       "0002_01                        0.0  \n",
       "0003_01                        0.0  \n",
       "0003_02                        0.0  \n",
       "0004_01                        0.0  \n",
       "...                            ...  \n",
       "9276_01                        0.0  \n",
       "9278_01                        0.0  \n",
       "9279_01                        0.0  \n",
       "9280_01                        0.0  \n",
       "9280_02                        0.0  \n",
       "\n",
       "[8693 rows x 9 columns]"
      ]
     },
     "execution_count": 53,
     "metadata": {},
     "output_type": "execute_result"
    }
   ],
   "source": [
    "fe_cabin.fit_transform(Xt[[\"impute_cabin__Cabin\"]])"
   ]
  },
  {
   "cell_type": "code",
   "execution_count": 54,
   "id": "1f359050",
   "metadata": {},
   "outputs": [],
   "source": [
    "# fe_cabin[1].fit_transform(fe_cabin[0].fit_transform(Xt[\"impute_cabin__Cabin\"]).values.reshape(-1, 1))"
   ]
  },
  {
   "cell_type": "markdown",
   "id": "7aa61059",
   "metadata": {},
   "source": [
    "(\"cabin_fe\", make_column_transformer(\n",
    "    (\n",
    "        CabinTransformer(), [\"impute_cabin__Cabin\"])\n",
    "    )\n",
    "),"
   ]
  },
  {
   "cell_type": "code",
   "execution_count": 55,
   "id": "8a319d39",
   "metadata": {},
   "outputs": [],
   "source": [
    "ct_fe = ColumnTransformer(\n",
    "    transformers = [\n",
    "        (\"fu_age\", fu_age, [\"impute_numerical__Age\"]),\n",
    "        (\"pass\", \"passthrough\", [1, 2, 3, 4, 5]),\n",
    "        (\"fe_cabin\", fe_cabin, [\"impute_cabin__Cabin\"]),\n",
    "        (\n",
    "            \"ohe\",\n",
    "            OneHotEncoder(sparse_output=False),\n",
    "            [\"impute_categorical__HomePlanet\", \"impute_categorical__CryoSleep\", \"impute_categorical__VIP\"]\n",
    "        ),\n",
    "        (\"or\", OrdinalEncoder(), [\"impute_categorical__Destination\"])\n",
    "    ],\n",
    "    remainder = \"drop\"\n",
    ")"
   ]
  },
  {
   "cell_type": "code",
   "execution_count": 56,
   "id": "44d13db9",
   "metadata": {},
   "outputs": [
    {
     "data": {
      "text/html": [
       "<style>#sk-container-id-2 {color: black;background-color: white;}#sk-container-id-2 pre{padding: 0;}#sk-container-id-2 div.sk-toggleable {background-color: white;}#sk-container-id-2 label.sk-toggleable__label {cursor: pointer;display: block;width: 100%;margin-bottom: 0;padding: 0.3em;box-sizing: border-box;text-align: center;}#sk-container-id-2 label.sk-toggleable__label-arrow:before {content: \"▸\";float: left;margin-right: 0.25em;color: #696969;}#sk-container-id-2 label.sk-toggleable__label-arrow:hover:before {color: black;}#sk-container-id-2 div.sk-estimator:hover label.sk-toggleable__label-arrow:before {color: black;}#sk-container-id-2 div.sk-toggleable__content {max-height: 0;max-width: 0;overflow: hidden;text-align: left;background-color: #f0f8ff;}#sk-container-id-2 div.sk-toggleable__content pre {margin: 0.2em;color: black;border-radius: 0.25em;background-color: #f0f8ff;}#sk-container-id-2 input.sk-toggleable__control:checked~div.sk-toggleable__content {max-height: 200px;max-width: 100%;overflow: auto;}#sk-container-id-2 input.sk-toggleable__control:checked~label.sk-toggleable__label-arrow:before {content: \"▾\";}#sk-container-id-2 div.sk-estimator input.sk-toggleable__control:checked~label.sk-toggleable__label {background-color: #d4ebff;}#sk-container-id-2 div.sk-label input.sk-toggleable__control:checked~label.sk-toggleable__label {background-color: #d4ebff;}#sk-container-id-2 input.sk-hidden--visually {border: 0;clip: rect(1px 1px 1px 1px);clip: rect(1px, 1px, 1px, 1px);height: 1px;margin: -1px;overflow: hidden;padding: 0;position: absolute;width: 1px;}#sk-container-id-2 div.sk-estimator {font-family: monospace;background-color: #f0f8ff;border: 1px dotted black;border-radius: 0.25em;box-sizing: border-box;margin-bottom: 0.5em;}#sk-container-id-2 div.sk-estimator:hover {background-color: #d4ebff;}#sk-container-id-2 div.sk-parallel-item::after {content: \"\";width: 100%;border-bottom: 1px solid gray;flex-grow: 1;}#sk-container-id-2 div.sk-label:hover label.sk-toggleable__label {background-color: #d4ebff;}#sk-container-id-2 div.sk-serial::before {content: \"\";position: absolute;border-left: 1px solid gray;box-sizing: border-box;top: 0;bottom: 0;left: 50%;z-index: 0;}#sk-container-id-2 div.sk-serial {display: flex;flex-direction: column;align-items: center;background-color: white;padding-right: 0.2em;padding-left: 0.2em;position: relative;}#sk-container-id-2 div.sk-item {position: relative;z-index: 1;}#sk-container-id-2 div.sk-parallel {display: flex;align-items: stretch;justify-content: center;background-color: white;position: relative;}#sk-container-id-2 div.sk-item::before, #sk-container-id-2 div.sk-parallel-item::before {content: \"\";position: absolute;border-left: 1px solid gray;box-sizing: border-box;top: 0;bottom: 0;left: 50%;z-index: -1;}#sk-container-id-2 div.sk-parallel-item {display: flex;flex-direction: column;z-index: 1;position: relative;background-color: white;}#sk-container-id-2 div.sk-parallel-item:first-child::after {align-self: flex-end;width: 50%;}#sk-container-id-2 div.sk-parallel-item:last-child::after {align-self: flex-start;width: 50%;}#sk-container-id-2 div.sk-parallel-item:only-child::after {width: 0;}#sk-container-id-2 div.sk-dashed-wrapped {border: 1px dashed gray;margin: 0 0.4em 0.5em 0.4em;box-sizing: border-box;padding-bottom: 0.4em;background-color: white;}#sk-container-id-2 div.sk-label label {font-family: monospace;font-weight: bold;display: inline-block;line-height: 1.2em;}#sk-container-id-2 div.sk-label-container {text-align: center;}#sk-container-id-2 div.sk-container {/* jupyter's `normalize.less` sets `[hidden] { display: none; }` but bootstrap.min.css set `[hidden] { display: none !important; }` so we also need the `!important` here to be able to override the default hidden behavior on the sphinx rendered scikit-learn.org. See: https://github.com/scikit-learn/scikit-learn/issues/21755 */display: inline-block !important;position: relative;}#sk-container-id-2 div.sk-text-repr-fallback {display: none;}</style><div id=\"sk-container-id-2\" class=\"sk-top-container\"><div class=\"sk-text-repr-fallback\"><pre>ColumnTransformer(transformers=[(&#x27;fu_age&#x27;,\n",
       "                                 FeatureUnion(transformer_list=[(&#x27;fe_age_12&#x27;,\n",
       "                                                                 Binarizer(threshold=12)),\n",
       "                                                                (&#x27;fe_age_18&#x27;,\n",
       "                                                                 Binarizer(threshold=18)),\n",
       "                                                                (&#x27;fe_age_pass&#x27;,\n",
       "                                                                 &#x27;passthrough&#x27;)]),\n",
       "                                 [&#x27;impute_numerical__Age&#x27;]),\n",
       "                                (&#x27;pass&#x27;, &#x27;passthrough&#x27;, [1, 2, 3, 4, 5]),\n",
       "                                (&#x27;fe_cabin&#x27;,\n",
       "                                 Pipeline(steps=[(&#x27;extract_first_letter&#x27;,\n",
       "                                                  CabinTransformer()),\n",
       "                                                 (&#x27;ohe_first_letter&#x27;,\n",
       "                                                  OneHotEncoder(sparse_output=False))]),\n",
       "                                 [&#x27;impute_cabin__Cabin&#x27;]),\n",
       "                                (&#x27;ohe&#x27;, OneHotEncoder(sparse_output=False),\n",
       "                                 [&#x27;impute_categorical__HomePlanet&#x27;,\n",
       "                                  &#x27;impute_categorical__CryoSleep&#x27;,\n",
       "                                  &#x27;impute_categorical__VIP&#x27;]),\n",
       "                                (&#x27;or&#x27;, OrdinalEncoder(),\n",
       "                                 [&#x27;impute_categorical__Destination&#x27;])])</pre><b>In a Jupyter environment, please rerun this cell to show the HTML representation or trust the notebook. <br />On GitHub, the HTML representation is unable to render, please try loading this page with nbviewer.org.</b></div><div class=\"sk-container\" hidden><div class=\"sk-item sk-dashed-wrapped\"><div class=\"sk-label-container\"><div class=\"sk-label sk-toggleable\"><input class=\"sk-toggleable__control sk-hidden--visually\" id=\"sk-estimator-id-8\" type=\"checkbox\" ><label for=\"sk-estimator-id-8\" class=\"sk-toggleable__label sk-toggleable__label-arrow\">ColumnTransformer</label><div class=\"sk-toggleable__content\"><pre>ColumnTransformer(transformers=[(&#x27;fu_age&#x27;,\n",
       "                                 FeatureUnion(transformer_list=[(&#x27;fe_age_12&#x27;,\n",
       "                                                                 Binarizer(threshold=12)),\n",
       "                                                                (&#x27;fe_age_18&#x27;,\n",
       "                                                                 Binarizer(threshold=18)),\n",
       "                                                                (&#x27;fe_age_pass&#x27;,\n",
       "                                                                 &#x27;passthrough&#x27;)]),\n",
       "                                 [&#x27;impute_numerical__Age&#x27;]),\n",
       "                                (&#x27;pass&#x27;, &#x27;passthrough&#x27;, [1, 2, 3, 4, 5]),\n",
       "                                (&#x27;fe_cabin&#x27;,\n",
       "                                 Pipeline(steps=[(&#x27;extract_first_letter&#x27;,\n",
       "                                                  CabinTransformer()),\n",
       "                                                 (&#x27;ohe_first_letter&#x27;,\n",
       "                                                  OneHotEncoder(sparse_output=False))]),\n",
       "                                 [&#x27;impute_cabin__Cabin&#x27;]),\n",
       "                                (&#x27;ohe&#x27;, OneHotEncoder(sparse_output=False),\n",
       "                                 [&#x27;impute_categorical__HomePlanet&#x27;,\n",
       "                                  &#x27;impute_categorical__CryoSleep&#x27;,\n",
       "                                  &#x27;impute_categorical__VIP&#x27;]),\n",
       "                                (&#x27;or&#x27;, OrdinalEncoder(),\n",
       "                                 [&#x27;impute_categorical__Destination&#x27;])])</pre></div></div></div><div class=\"sk-parallel\"><div class=\"sk-parallel-item\"><div class=\"sk-item\"><div class=\"sk-label-container\"><div class=\"sk-label sk-toggleable\"><input class=\"sk-toggleable__control sk-hidden--visually\" id=\"sk-estimator-id-9\" type=\"checkbox\" ><label for=\"sk-estimator-id-9\" class=\"sk-toggleable__label sk-toggleable__label-arrow\">fu_age</label><div class=\"sk-toggleable__content\"><pre>[&#x27;impute_numerical__Age&#x27;]</pre></div></div></div><div class=\"sk-serial\"><div class=\"sk-item sk-dashed-wrapped\"><div class=\"sk-parallel\"><div class=\"sk-parallel-item\"><div class=\"sk-item\"><div class=\"sk-label-container\"><div class=\"sk-label sk-toggleable\"><label>fe_age_12</label></div></div><div class=\"sk-serial\"><div class=\"sk-item\"><div class=\"sk-estimator sk-toggleable\"><input class=\"sk-toggleable__control sk-hidden--visually\" id=\"sk-estimator-id-10\" type=\"checkbox\" ><label for=\"sk-estimator-id-10\" class=\"sk-toggleable__label sk-toggleable__label-arrow\">Binarizer</label><div class=\"sk-toggleable__content\"><pre>Binarizer(threshold=12)</pre></div></div></div></div></div></div><div class=\"sk-parallel-item\"><div class=\"sk-item\"><div class=\"sk-label-container\"><div class=\"sk-label sk-toggleable\"><label>fe_age_18</label></div></div><div class=\"sk-serial\"><div class=\"sk-item\"><div class=\"sk-estimator sk-toggleable\"><input class=\"sk-toggleable__control sk-hidden--visually\" id=\"sk-estimator-id-11\" type=\"checkbox\" ><label for=\"sk-estimator-id-11\" class=\"sk-toggleable__label sk-toggleable__label-arrow\">Binarizer</label><div class=\"sk-toggleable__content\"><pre>Binarizer(threshold=18)</pre></div></div></div></div></div></div><div class=\"sk-parallel-item\"><div class=\"sk-item\"><div class=\"sk-label-container\"><div class=\"sk-label sk-toggleable\"><label>fe_age_pass</label></div></div><div class=\"sk-serial\"><div class=\"sk-item\"><div class=\"sk-estimator sk-toggleable\"><input class=\"sk-toggleable__control sk-hidden--visually\" id=\"sk-estimator-id-12\" type=\"checkbox\" ><label for=\"sk-estimator-id-12\" class=\"sk-toggleable__label sk-toggleable__label-arrow\">passthrough</label><div class=\"sk-toggleable__content\"><pre>passthrough</pre></div></div></div></div></div></div></div></div></div></div></div><div class=\"sk-parallel-item\"><div class=\"sk-item\"><div class=\"sk-label-container\"><div class=\"sk-label sk-toggleable\"><input class=\"sk-toggleable__control sk-hidden--visually\" id=\"sk-estimator-id-13\" type=\"checkbox\" ><label for=\"sk-estimator-id-13\" class=\"sk-toggleable__label sk-toggleable__label-arrow\">pass</label><div class=\"sk-toggleable__content\"><pre>[1, 2, 3, 4, 5]</pre></div></div></div><div class=\"sk-serial\"><div class=\"sk-item\"><div class=\"sk-estimator sk-toggleable\"><input class=\"sk-toggleable__control sk-hidden--visually\" id=\"sk-estimator-id-14\" type=\"checkbox\" ><label for=\"sk-estimator-id-14\" class=\"sk-toggleable__label sk-toggleable__label-arrow\">passthrough</label><div class=\"sk-toggleable__content\"><pre>passthrough</pre></div></div></div></div></div></div><div class=\"sk-parallel-item\"><div class=\"sk-item\"><div class=\"sk-label-container\"><div class=\"sk-label sk-toggleable\"><input class=\"sk-toggleable__control sk-hidden--visually\" id=\"sk-estimator-id-15\" type=\"checkbox\" ><label for=\"sk-estimator-id-15\" class=\"sk-toggleable__label sk-toggleable__label-arrow\">fe_cabin</label><div class=\"sk-toggleable__content\"><pre>[&#x27;impute_cabin__Cabin&#x27;]</pre></div></div></div><div class=\"sk-serial\"><div class=\"sk-item\"><div class=\"sk-serial\"><div class=\"sk-item\"><div class=\"sk-estimator sk-toggleable\"><input class=\"sk-toggleable__control sk-hidden--visually\" id=\"sk-estimator-id-16\" type=\"checkbox\" ><label for=\"sk-estimator-id-16\" class=\"sk-toggleable__label sk-toggleable__label-arrow\">CabinTransformer</label><div class=\"sk-toggleable__content\"><pre>CabinTransformer()</pre></div></div></div><div class=\"sk-item\"><div class=\"sk-estimator sk-toggleable\"><input class=\"sk-toggleable__control sk-hidden--visually\" id=\"sk-estimator-id-17\" type=\"checkbox\" ><label for=\"sk-estimator-id-17\" class=\"sk-toggleable__label sk-toggleable__label-arrow\">OneHotEncoder</label><div class=\"sk-toggleable__content\"><pre>OneHotEncoder(sparse_output=False)</pre></div></div></div></div></div></div></div></div><div class=\"sk-parallel-item\"><div class=\"sk-item\"><div class=\"sk-label-container\"><div class=\"sk-label sk-toggleable\"><input class=\"sk-toggleable__control sk-hidden--visually\" id=\"sk-estimator-id-18\" type=\"checkbox\" ><label for=\"sk-estimator-id-18\" class=\"sk-toggleable__label sk-toggleable__label-arrow\">ohe</label><div class=\"sk-toggleable__content\"><pre>[&#x27;impute_categorical__HomePlanet&#x27;, &#x27;impute_categorical__CryoSleep&#x27;, &#x27;impute_categorical__VIP&#x27;]</pre></div></div></div><div class=\"sk-serial\"><div class=\"sk-item\"><div class=\"sk-estimator sk-toggleable\"><input class=\"sk-toggleable__control sk-hidden--visually\" id=\"sk-estimator-id-19\" type=\"checkbox\" ><label for=\"sk-estimator-id-19\" class=\"sk-toggleable__label sk-toggleable__label-arrow\">OneHotEncoder</label><div class=\"sk-toggleable__content\"><pre>OneHotEncoder(sparse_output=False)</pre></div></div></div></div></div></div><div class=\"sk-parallel-item\"><div class=\"sk-item\"><div class=\"sk-label-container\"><div class=\"sk-label sk-toggleable\"><input class=\"sk-toggleable__control sk-hidden--visually\" id=\"sk-estimator-id-20\" type=\"checkbox\" ><label for=\"sk-estimator-id-20\" class=\"sk-toggleable__label sk-toggleable__label-arrow\">or</label><div class=\"sk-toggleable__content\"><pre>[&#x27;impute_categorical__Destination&#x27;]</pre></div></div></div><div class=\"sk-serial\"><div class=\"sk-item\"><div class=\"sk-estimator sk-toggleable\"><input class=\"sk-toggleable__control sk-hidden--visually\" id=\"sk-estimator-id-21\" type=\"checkbox\" ><label for=\"sk-estimator-id-21\" class=\"sk-toggleable__label sk-toggleable__label-arrow\">OrdinalEncoder</label><div class=\"sk-toggleable__content\"><pre>OrdinalEncoder()</pre></div></div></div></div></div></div></div></div></div></div>"
      ],
      "text/plain": [
       "ColumnTransformer(transformers=[('fu_age',\n",
       "                                 FeatureUnion(transformer_list=[('fe_age_12',\n",
       "                                                                 Binarizer(threshold=12)),\n",
       "                                                                ('fe_age_18',\n",
       "                                                                 Binarizer(threshold=18)),\n",
       "                                                                ('fe_age_pass',\n",
       "                                                                 'passthrough')]),\n",
       "                                 ['impute_numerical__Age']),\n",
       "                                ('pass', 'passthrough', [1, 2, 3, 4, 5]),\n",
       "                                ('fe_cabin',\n",
       "                                 Pipeline(steps=[('extract_first_letter',\n",
       "                                                  CabinTransformer()),\n",
       "                                                 ('ohe_first_letter',\n",
       "                                                  OneHotEncoder(sparse_output=False))]),\n",
       "                                 ['impute_cabin__Cabin']),\n",
       "                                ('ohe', OneHotEncoder(sparse_output=False),\n",
       "                                 ['impute_categorical__HomePlanet',\n",
       "                                  'impute_categorical__CryoSleep',\n",
       "                                  'impute_categorical__VIP']),\n",
       "                                ('or', OrdinalEncoder(),\n",
       "                                 ['impute_categorical__Destination'])])"
      ]
     },
     "execution_count": 56,
     "metadata": {},
     "output_type": "execute_result"
    }
   ],
   "source": [
    "ct_fe"
   ]
  },
  {
   "cell_type": "code",
   "execution_count": 57,
   "id": "109b8049-66f3-4be6-947b-53ad5fcee26e",
   "metadata": {},
   "outputs": [],
   "source": [
    "pipe = Pipeline(\n",
    "    steps = [\n",
    "        (\"impute\", ct_impute),\n",
    "        (\"fe\", ct_fe),\n",
    "        # (\"model\", DecisionTreeClassifier(max_depth=5))\n",
    "        # (\"model\", RandomForestClassifier(n_estimators = 50, max_depth = 5))\n",
    "        (\"model\",HistGradientBoostingClassifier())\n",
    "    ]\n",
    ")"
   ]
  },
  {
   "cell_type": "code",
   "execution_count": 58,
   "id": "cc7eff3d",
   "metadata": {},
   "outputs": [
    {
     "data": {
      "text/html": [
       "<style>#sk-container-id-3 {color: black;background-color: white;}#sk-container-id-3 pre{padding: 0;}#sk-container-id-3 div.sk-toggleable {background-color: white;}#sk-container-id-3 label.sk-toggleable__label {cursor: pointer;display: block;width: 100%;margin-bottom: 0;padding: 0.3em;box-sizing: border-box;text-align: center;}#sk-container-id-3 label.sk-toggleable__label-arrow:before {content: \"▸\";float: left;margin-right: 0.25em;color: #696969;}#sk-container-id-3 label.sk-toggleable__label-arrow:hover:before {color: black;}#sk-container-id-3 div.sk-estimator:hover label.sk-toggleable__label-arrow:before {color: black;}#sk-container-id-3 div.sk-toggleable__content {max-height: 0;max-width: 0;overflow: hidden;text-align: left;background-color: #f0f8ff;}#sk-container-id-3 div.sk-toggleable__content pre {margin: 0.2em;color: black;border-radius: 0.25em;background-color: #f0f8ff;}#sk-container-id-3 input.sk-toggleable__control:checked~div.sk-toggleable__content {max-height: 200px;max-width: 100%;overflow: auto;}#sk-container-id-3 input.sk-toggleable__control:checked~label.sk-toggleable__label-arrow:before {content: \"▾\";}#sk-container-id-3 div.sk-estimator input.sk-toggleable__control:checked~label.sk-toggleable__label {background-color: #d4ebff;}#sk-container-id-3 div.sk-label input.sk-toggleable__control:checked~label.sk-toggleable__label {background-color: #d4ebff;}#sk-container-id-3 input.sk-hidden--visually {border: 0;clip: rect(1px 1px 1px 1px);clip: rect(1px, 1px, 1px, 1px);height: 1px;margin: -1px;overflow: hidden;padding: 0;position: absolute;width: 1px;}#sk-container-id-3 div.sk-estimator {font-family: monospace;background-color: #f0f8ff;border: 1px dotted black;border-radius: 0.25em;box-sizing: border-box;margin-bottom: 0.5em;}#sk-container-id-3 div.sk-estimator:hover {background-color: #d4ebff;}#sk-container-id-3 div.sk-parallel-item::after {content: \"\";width: 100%;border-bottom: 1px solid gray;flex-grow: 1;}#sk-container-id-3 div.sk-label:hover label.sk-toggleable__label {background-color: #d4ebff;}#sk-container-id-3 div.sk-serial::before {content: \"\";position: absolute;border-left: 1px solid gray;box-sizing: border-box;top: 0;bottom: 0;left: 50%;z-index: 0;}#sk-container-id-3 div.sk-serial {display: flex;flex-direction: column;align-items: center;background-color: white;padding-right: 0.2em;padding-left: 0.2em;position: relative;}#sk-container-id-3 div.sk-item {position: relative;z-index: 1;}#sk-container-id-3 div.sk-parallel {display: flex;align-items: stretch;justify-content: center;background-color: white;position: relative;}#sk-container-id-3 div.sk-item::before, #sk-container-id-3 div.sk-parallel-item::before {content: \"\";position: absolute;border-left: 1px solid gray;box-sizing: border-box;top: 0;bottom: 0;left: 50%;z-index: -1;}#sk-container-id-3 div.sk-parallel-item {display: flex;flex-direction: column;z-index: 1;position: relative;background-color: white;}#sk-container-id-3 div.sk-parallel-item:first-child::after {align-self: flex-end;width: 50%;}#sk-container-id-3 div.sk-parallel-item:last-child::after {align-self: flex-start;width: 50%;}#sk-container-id-3 div.sk-parallel-item:only-child::after {width: 0;}#sk-container-id-3 div.sk-dashed-wrapped {border: 1px dashed gray;margin: 0 0.4em 0.5em 0.4em;box-sizing: border-box;padding-bottom: 0.4em;background-color: white;}#sk-container-id-3 div.sk-label label {font-family: monospace;font-weight: bold;display: inline-block;line-height: 1.2em;}#sk-container-id-3 div.sk-label-container {text-align: center;}#sk-container-id-3 div.sk-container {/* jupyter's `normalize.less` sets `[hidden] { display: none; }` but bootstrap.min.css set `[hidden] { display: none !important; }` so we also need the `!important` here to be able to override the default hidden behavior on the sphinx rendered scikit-learn.org. See: https://github.com/scikit-learn/scikit-learn/issues/21755 */display: inline-block !important;position: relative;}#sk-container-id-3 div.sk-text-repr-fallback {display: none;}</style><div id=\"sk-container-id-3\" class=\"sk-top-container\"><div class=\"sk-text-repr-fallback\"><pre>Pipeline(steps=[(&#x27;impute&#x27;,\n",
       "                 ColumnTransformer(transformers=[(&#x27;impute_numerical&#x27;,\n",
       "                                                  SimpleImputer(),\n",
       "                                                  &lt;sklearn.compose._column_transformer.make_column_selector object at 0x166636e80&gt;),\n",
       "                                                 (&#x27;impute_cabin&#x27;,\n",
       "                                                  SimpleImputer(fill_value=&#x27;NA&#x27;,\n",
       "                                                                strategy=&#x27;constant&#x27;),\n",
       "                                                  [&#x27;Cabin&#x27;]),\n",
       "                                                 (&#x27;impute_categorical&#x27;,\n",
       "                                                  SimpleImputer(strategy=&#x27;most_frequent&#x27;),\n",
       "                                                  [&#x27;HomePlanet&#x27;, &#x27;CryoSleep&#x27;,\n",
       "                                                   &#x27;Destinatio...\n",
       "                                                  Pipeline(steps=[(&#x27;extract_first_letter&#x27;,\n",
       "                                                                   CabinTransformer()),\n",
       "                                                                  (&#x27;ohe_first_letter&#x27;,\n",
       "                                                                   OneHotEncoder(sparse_output=False))]),\n",
       "                                                  [&#x27;impute_cabin__Cabin&#x27;]),\n",
       "                                                 (&#x27;ohe&#x27;,\n",
       "                                                  OneHotEncoder(sparse_output=False),\n",
       "                                                  [&#x27;impute_categorical__HomePlanet&#x27;,\n",
       "                                                   &#x27;impute_categorical__CryoSleep&#x27;,\n",
       "                                                   &#x27;impute_categorical__VIP&#x27;]),\n",
       "                                                 (&#x27;or&#x27;, OrdinalEncoder(),\n",
       "                                                  [&#x27;impute_categorical__Destination&#x27;])])),\n",
       "                (&#x27;model&#x27;, HistGradientBoostingClassifier())])</pre><b>In a Jupyter environment, please rerun this cell to show the HTML representation or trust the notebook. <br />On GitHub, the HTML representation is unable to render, please try loading this page with nbviewer.org.</b></div><div class=\"sk-container\" hidden><div class=\"sk-item sk-dashed-wrapped\"><div class=\"sk-label-container\"><div class=\"sk-label sk-toggleable\"><input class=\"sk-toggleable__control sk-hidden--visually\" id=\"sk-estimator-id-22\" type=\"checkbox\" ><label for=\"sk-estimator-id-22\" class=\"sk-toggleable__label sk-toggleable__label-arrow\">Pipeline</label><div class=\"sk-toggleable__content\"><pre>Pipeline(steps=[(&#x27;impute&#x27;,\n",
       "                 ColumnTransformer(transformers=[(&#x27;impute_numerical&#x27;,\n",
       "                                                  SimpleImputer(),\n",
       "                                                  &lt;sklearn.compose._column_transformer.make_column_selector object at 0x166636e80&gt;),\n",
       "                                                 (&#x27;impute_cabin&#x27;,\n",
       "                                                  SimpleImputer(fill_value=&#x27;NA&#x27;,\n",
       "                                                                strategy=&#x27;constant&#x27;),\n",
       "                                                  [&#x27;Cabin&#x27;]),\n",
       "                                                 (&#x27;impute_categorical&#x27;,\n",
       "                                                  SimpleImputer(strategy=&#x27;most_frequent&#x27;),\n",
       "                                                  [&#x27;HomePlanet&#x27;, &#x27;CryoSleep&#x27;,\n",
       "                                                   &#x27;Destinatio...\n",
       "                                                  Pipeline(steps=[(&#x27;extract_first_letter&#x27;,\n",
       "                                                                   CabinTransformer()),\n",
       "                                                                  (&#x27;ohe_first_letter&#x27;,\n",
       "                                                                   OneHotEncoder(sparse_output=False))]),\n",
       "                                                  [&#x27;impute_cabin__Cabin&#x27;]),\n",
       "                                                 (&#x27;ohe&#x27;,\n",
       "                                                  OneHotEncoder(sparse_output=False),\n",
       "                                                  [&#x27;impute_categorical__HomePlanet&#x27;,\n",
       "                                                   &#x27;impute_categorical__CryoSleep&#x27;,\n",
       "                                                   &#x27;impute_categorical__VIP&#x27;]),\n",
       "                                                 (&#x27;or&#x27;, OrdinalEncoder(),\n",
       "                                                  [&#x27;impute_categorical__Destination&#x27;])])),\n",
       "                (&#x27;model&#x27;, HistGradientBoostingClassifier())])</pre></div></div></div><div class=\"sk-serial\"><div class=\"sk-item sk-dashed-wrapped\"><div class=\"sk-label-container\"><div class=\"sk-label sk-toggleable\"><input class=\"sk-toggleable__control sk-hidden--visually\" id=\"sk-estimator-id-23\" type=\"checkbox\" ><label for=\"sk-estimator-id-23\" class=\"sk-toggleable__label sk-toggleable__label-arrow\">impute: ColumnTransformer</label><div class=\"sk-toggleable__content\"><pre>ColumnTransformer(transformers=[(&#x27;impute_numerical&#x27;, SimpleImputer(),\n",
       "                                 &lt;sklearn.compose._column_transformer.make_column_selector object at 0x166636e80&gt;),\n",
       "                                (&#x27;impute_cabin&#x27;,\n",
       "                                 SimpleImputer(fill_value=&#x27;NA&#x27;,\n",
       "                                               strategy=&#x27;constant&#x27;),\n",
       "                                 [&#x27;Cabin&#x27;]),\n",
       "                                (&#x27;impute_categorical&#x27;,\n",
       "                                 SimpleImputer(strategy=&#x27;most_frequent&#x27;),\n",
       "                                 [&#x27;HomePlanet&#x27;, &#x27;CryoSleep&#x27;, &#x27;Destination&#x27;,\n",
       "                                  &#x27;VIP&#x27;, &#x27;Name&#x27;])])</pre></div></div></div><div class=\"sk-parallel\"><div class=\"sk-parallel-item\"><div class=\"sk-item\"><div class=\"sk-label-container\"><div class=\"sk-label sk-toggleable\"><input class=\"sk-toggleable__control sk-hidden--visually\" id=\"sk-estimator-id-24\" type=\"checkbox\" ><label for=\"sk-estimator-id-24\" class=\"sk-toggleable__label sk-toggleable__label-arrow\">impute_numerical</label><div class=\"sk-toggleable__content\"><pre>&lt;sklearn.compose._column_transformer.make_column_selector object at 0x166636e80&gt;</pre></div></div></div><div class=\"sk-serial\"><div class=\"sk-item\"><div class=\"sk-estimator sk-toggleable\"><input class=\"sk-toggleable__control sk-hidden--visually\" id=\"sk-estimator-id-25\" type=\"checkbox\" ><label for=\"sk-estimator-id-25\" class=\"sk-toggleable__label sk-toggleable__label-arrow\">SimpleImputer</label><div class=\"sk-toggleable__content\"><pre>SimpleImputer()</pre></div></div></div></div></div></div><div class=\"sk-parallel-item\"><div class=\"sk-item\"><div class=\"sk-label-container\"><div class=\"sk-label sk-toggleable\"><input class=\"sk-toggleable__control sk-hidden--visually\" id=\"sk-estimator-id-26\" type=\"checkbox\" ><label for=\"sk-estimator-id-26\" class=\"sk-toggleable__label sk-toggleable__label-arrow\">impute_cabin</label><div class=\"sk-toggleable__content\"><pre>[&#x27;Cabin&#x27;]</pre></div></div></div><div class=\"sk-serial\"><div class=\"sk-item\"><div class=\"sk-estimator sk-toggleable\"><input class=\"sk-toggleable__control sk-hidden--visually\" id=\"sk-estimator-id-27\" type=\"checkbox\" ><label for=\"sk-estimator-id-27\" class=\"sk-toggleable__label sk-toggleable__label-arrow\">SimpleImputer</label><div class=\"sk-toggleable__content\"><pre>SimpleImputer(fill_value=&#x27;NA&#x27;, strategy=&#x27;constant&#x27;)</pre></div></div></div></div></div></div><div class=\"sk-parallel-item\"><div class=\"sk-item\"><div class=\"sk-label-container\"><div class=\"sk-label sk-toggleable\"><input class=\"sk-toggleable__control sk-hidden--visually\" id=\"sk-estimator-id-28\" type=\"checkbox\" ><label for=\"sk-estimator-id-28\" class=\"sk-toggleable__label sk-toggleable__label-arrow\">impute_categorical</label><div class=\"sk-toggleable__content\"><pre>[&#x27;HomePlanet&#x27;, &#x27;CryoSleep&#x27;, &#x27;Destination&#x27;, &#x27;VIP&#x27;, &#x27;Name&#x27;]</pre></div></div></div><div class=\"sk-serial\"><div class=\"sk-item\"><div class=\"sk-estimator sk-toggleable\"><input class=\"sk-toggleable__control sk-hidden--visually\" id=\"sk-estimator-id-29\" type=\"checkbox\" ><label for=\"sk-estimator-id-29\" class=\"sk-toggleable__label sk-toggleable__label-arrow\">SimpleImputer</label><div class=\"sk-toggleable__content\"><pre>SimpleImputer(strategy=&#x27;most_frequent&#x27;)</pre></div></div></div></div></div></div></div></div><div class=\"sk-item sk-dashed-wrapped\"><div class=\"sk-label-container\"><div class=\"sk-label sk-toggleable\"><input class=\"sk-toggleable__control sk-hidden--visually\" id=\"sk-estimator-id-30\" type=\"checkbox\" ><label for=\"sk-estimator-id-30\" class=\"sk-toggleable__label sk-toggleable__label-arrow\">fe: ColumnTransformer</label><div class=\"sk-toggleable__content\"><pre>ColumnTransformer(transformers=[(&#x27;fu_age&#x27;,\n",
       "                                 FeatureUnion(transformer_list=[(&#x27;fe_age_12&#x27;,\n",
       "                                                                 Binarizer(threshold=12)),\n",
       "                                                                (&#x27;fe_age_18&#x27;,\n",
       "                                                                 Binarizer(threshold=18)),\n",
       "                                                                (&#x27;fe_age_pass&#x27;,\n",
       "                                                                 &#x27;passthrough&#x27;)]),\n",
       "                                 [&#x27;impute_numerical__Age&#x27;]),\n",
       "                                (&#x27;pass&#x27;, &#x27;passthrough&#x27;, [1, 2, 3, 4, 5]),\n",
       "                                (&#x27;fe_cabin&#x27;,\n",
       "                                 Pipeline(steps=[(&#x27;extract_first_letter&#x27;,\n",
       "                                                  CabinTransformer()),\n",
       "                                                 (&#x27;ohe_first_letter&#x27;,\n",
       "                                                  OneHotEncoder(sparse_output=False))]),\n",
       "                                 [&#x27;impute_cabin__Cabin&#x27;]),\n",
       "                                (&#x27;ohe&#x27;, OneHotEncoder(sparse_output=False),\n",
       "                                 [&#x27;impute_categorical__HomePlanet&#x27;,\n",
       "                                  &#x27;impute_categorical__CryoSleep&#x27;,\n",
       "                                  &#x27;impute_categorical__VIP&#x27;]),\n",
       "                                (&#x27;or&#x27;, OrdinalEncoder(),\n",
       "                                 [&#x27;impute_categorical__Destination&#x27;])])</pre></div></div></div><div class=\"sk-parallel\"><div class=\"sk-parallel-item\"><div class=\"sk-item\"><div class=\"sk-label-container\"><div class=\"sk-label sk-toggleable\"><input class=\"sk-toggleable__control sk-hidden--visually\" id=\"sk-estimator-id-31\" type=\"checkbox\" ><label for=\"sk-estimator-id-31\" class=\"sk-toggleable__label sk-toggleable__label-arrow\">fu_age</label><div class=\"sk-toggleable__content\"><pre>[&#x27;impute_numerical__Age&#x27;]</pre></div></div></div><div class=\"sk-serial\"><div class=\"sk-item sk-dashed-wrapped\"><div class=\"sk-parallel\"><div class=\"sk-parallel-item\"><div class=\"sk-item\"><div class=\"sk-label-container\"><div class=\"sk-label sk-toggleable\"><label>fe_age_12</label></div></div><div class=\"sk-serial\"><div class=\"sk-item\"><div class=\"sk-estimator sk-toggleable\"><input class=\"sk-toggleable__control sk-hidden--visually\" id=\"sk-estimator-id-32\" type=\"checkbox\" ><label for=\"sk-estimator-id-32\" class=\"sk-toggleable__label sk-toggleable__label-arrow\">Binarizer</label><div class=\"sk-toggleable__content\"><pre>Binarizer(threshold=12)</pre></div></div></div></div></div></div><div class=\"sk-parallel-item\"><div class=\"sk-item\"><div class=\"sk-label-container\"><div class=\"sk-label sk-toggleable\"><label>fe_age_18</label></div></div><div class=\"sk-serial\"><div class=\"sk-item\"><div class=\"sk-estimator sk-toggleable\"><input class=\"sk-toggleable__control sk-hidden--visually\" id=\"sk-estimator-id-33\" type=\"checkbox\" ><label for=\"sk-estimator-id-33\" class=\"sk-toggleable__label sk-toggleable__label-arrow\">Binarizer</label><div class=\"sk-toggleable__content\"><pre>Binarizer(threshold=18)</pre></div></div></div></div></div></div><div class=\"sk-parallel-item\"><div class=\"sk-item\"><div class=\"sk-label-container\"><div class=\"sk-label sk-toggleable\"><label>fe_age_pass</label></div></div><div class=\"sk-serial\"><div class=\"sk-item\"><div class=\"sk-estimator sk-toggleable\"><input class=\"sk-toggleable__control sk-hidden--visually\" id=\"sk-estimator-id-34\" type=\"checkbox\" ><label for=\"sk-estimator-id-34\" class=\"sk-toggleable__label sk-toggleable__label-arrow\">passthrough</label><div class=\"sk-toggleable__content\"><pre>passthrough</pre></div></div></div></div></div></div></div></div></div></div></div><div class=\"sk-parallel-item\"><div class=\"sk-item\"><div class=\"sk-label-container\"><div class=\"sk-label sk-toggleable\"><input class=\"sk-toggleable__control sk-hidden--visually\" id=\"sk-estimator-id-35\" type=\"checkbox\" ><label for=\"sk-estimator-id-35\" class=\"sk-toggleable__label sk-toggleable__label-arrow\">pass</label><div class=\"sk-toggleable__content\"><pre>[1, 2, 3, 4, 5]</pre></div></div></div><div class=\"sk-serial\"><div class=\"sk-item\"><div class=\"sk-estimator sk-toggleable\"><input class=\"sk-toggleable__control sk-hidden--visually\" id=\"sk-estimator-id-36\" type=\"checkbox\" ><label for=\"sk-estimator-id-36\" class=\"sk-toggleable__label sk-toggleable__label-arrow\">passthrough</label><div class=\"sk-toggleable__content\"><pre>passthrough</pre></div></div></div></div></div></div><div class=\"sk-parallel-item\"><div class=\"sk-item\"><div class=\"sk-label-container\"><div class=\"sk-label sk-toggleable\"><input class=\"sk-toggleable__control sk-hidden--visually\" id=\"sk-estimator-id-37\" type=\"checkbox\" ><label for=\"sk-estimator-id-37\" class=\"sk-toggleable__label sk-toggleable__label-arrow\">fe_cabin</label><div class=\"sk-toggleable__content\"><pre>[&#x27;impute_cabin__Cabin&#x27;]</pre></div></div></div><div class=\"sk-serial\"><div class=\"sk-item\"><div class=\"sk-serial\"><div class=\"sk-item\"><div class=\"sk-estimator sk-toggleable\"><input class=\"sk-toggleable__control sk-hidden--visually\" id=\"sk-estimator-id-38\" type=\"checkbox\" ><label for=\"sk-estimator-id-38\" class=\"sk-toggleable__label sk-toggleable__label-arrow\">CabinTransformer</label><div class=\"sk-toggleable__content\"><pre>CabinTransformer()</pre></div></div></div><div class=\"sk-item\"><div class=\"sk-estimator sk-toggleable\"><input class=\"sk-toggleable__control sk-hidden--visually\" id=\"sk-estimator-id-39\" type=\"checkbox\" ><label for=\"sk-estimator-id-39\" class=\"sk-toggleable__label sk-toggleable__label-arrow\">OneHotEncoder</label><div class=\"sk-toggleable__content\"><pre>OneHotEncoder(sparse_output=False)</pre></div></div></div></div></div></div></div></div><div class=\"sk-parallel-item\"><div class=\"sk-item\"><div class=\"sk-label-container\"><div class=\"sk-label sk-toggleable\"><input class=\"sk-toggleable__control sk-hidden--visually\" id=\"sk-estimator-id-40\" type=\"checkbox\" ><label for=\"sk-estimator-id-40\" class=\"sk-toggleable__label sk-toggleable__label-arrow\">ohe</label><div class=\"sk-toggleable__content\"><pre>[&#x27;impute_categorical__HomePlanet&#x27;, &#x27;impute_categorical__CryoSleep&#x27;, &#x27;impute_categorical__VIP&#x27;]</pre></div></div></div><div class=\"sk-serial\"><div class=\"sk-item\"><div class=\"sk-estimator sk-toggleable\"><input class=\"sk-toggleable__control sk-hidden--visually\" id=\"sk-estimator-id-41\" type=\"checkbox\" ><label for=\"sk-estimator-id-41\" class=\"sk-toggleable__label sk-toggleable__label-arrow\">OneHotEncoder</label><div class=\"sk-toggleable__content\"><pre>OneHotEncoder(sparse_output=False)</pre></div></div></div></div></div></div><div class=\"sk-parallel-item\"><div class=\"sk-item\"><div class=\"sk-label-container\"><div class=\"sk-label sk-toggleable\"><input class=\"sk-toggleable__control sk-hidden--visually\" id=\"sk-estimator-id-42\" type=\"checkbox\" ><label for=\"sk-estimator-id-42\" class=\"sk-toggleable__label sk-toggleable__label-arrow\">or</label><div class=\"sk-toggleable__content\"><pre>[&#x27;impute_categorical__Destination&#x27;]</pre></div></div></div><div class=\"sk-serial\"><div class=\"sk-item\"><div class=\"sk-estimator sk-toggleable\"><input class=\"sk-toggleable__control sk-hidden--visually\" id=\"sk-estimator-id-43\" type=\"checkbox\" ><label for=\"sk-estimator-id-43\" class=\"sk-toggleable__label sk-toggleable__label-arrow\">OrdinalEncoder</label><div class=\"sk-toggleable__content\"><pre>OrdinalEncoder()</pre></div></div></div></div></div></div></div></div><div class=\"sk-item\"><div class=\"sk-estimator sk-toggleable\"><input class=\"sk-toggleable__control sk-hidden--visually\" id=\"sk-estimator-id-44\" type=\"checkbox\" ><label for=\"sk-estimator-id-44\" class=\"sk-toggleable__label sk-toggleable__label-arrow\">HistGradientBoostingClassifier</label><div class=\"sk-toggleable__content\"><pre>HistGradientBoostingClassifier()</pre></div></div></div></div></div></div></div>"
      ],
      "text/plain": [
       "Pipeline(steps=[('impute',\n",
       "                 ColumnTransformer(transformers=[('impute_numerical',\n",
       "                                                  SimpleImputer(),\n",
       "                                                  <sklearn.compose._column_transformer.make_column_selector object at 0x166636e80>),\n",
       "                                                 ('impute_cabin',\n",
       "                                                  SimpleImputer(fill_value='NA',\n",
       "                                                                strategy='constant'),\n",
       "                                                  ['Cabin']),\n",
       "                                                 ('impute_categorical',\n",
       "                                                  SimpleImputer(strategy='most_frequent'),\n",
       "                                                  ['HomePlanet', 'CryoSleep',\n",
       "                                                   'Destinatio...\n",
       "                                                  Pipeline(steps=[('extract_first_letter',\n",
       "                                                                   CabinTransformer()),\n",
       "                                                                  ('ohe_first_letter',\n",
       "                                                                   OneHotEncoder(sparse_output=False))]),\n",
       "                                                  ['impute_cabin__Cabin']),\n",
       "                                                 ('ohe',\n",
       "                                                  OneHotEncoder(sparse_output=False),\n",
       "                                                  ['impute_categorical__HomePlanet',\n",
       "                                                   'impute_categorical__CryoSleep',\n",
       "                                                   'impute_categorical__VIP']),\n",
       "                                                 ('or', OrdinalEncoder(),\n",
       "                                                  ['impute_categorical__Destination'])])),\n",
       "                ('model', HistGradientBoostingClassifier())])"
      ]
     },
     "execution_count": 58,
     "metadata": {},
     "output_type": "execute_result"
    }
   ],
   "source": [
    "pipe"
   ]
  },
  {
   "cell_type": "code",
   "execution_count": 59,
   "id": "dc9a888e-a41a-4553-ba00-41625165f740",
   "metadata": {},
   "outputs": [],
   "source": [
    "X_train_ = pipe[:2].fit_transform(X_train)"
   ]
  },
  {
   "cell_type": "code",
   "execution_count": 60,
   "id": "6a2b52aa",
   "metadata": {},
   "outputs": [
    {
     "data": {
      "text/html": [
       "<div>\n",
       "<style scoped>\n",
       "    .dataframe tbody tr th:only-of-type {\n",
       "        vertical-align: middle;\n",
       "    }\n",
       "\n",
       "    .dataframe tbody tr th {\n",
       "        vertical-align: top;\n",
       "    }\n",
       "\n",
       "    .dataframe thead th {\n",
       "        text-align: right;\n",
       "    }\n",
       "</style>\n",
       "<table border=\"1\" class=\"dataframe\">\n",
       "  <thead>\n",
       "    <tr style=\"text-align: right;\">\n",
       "      <th></th>\n",
       "      <th>fu_age__fe_age_12__impute_numerical__Age</th>\n",
       "      <th>fu_age__fe_age_18__impute_numerical__Age</th>\n",
       "      <th>fu_age__fe_age_pass__impute_numerical__Age</th>\n",
       "      <th>pass__impute_numerical__RoomService</th>\n",
       "      <th>pass__impute_numerical__FoodCourt</th>\n",
       "      <th>pass__impute_numerical__ShoppingMall</th>\n",
       "      <th>pass__impute_numerical__Spa</th>\n",
       "      <th>pass__impute_numerical__VRDeck</th>\n",
       "      <th>fe_cabin__impute_cabin__Cabin_A</th>\n",
       "      <th>fe_cabin__impute_cabin__Cabin_B</th>\n",
       "      <th>...</th>\n",
       "      <th>fe_cabin__impute_cabin__Cabin_NA</th>\n",
       "      <th>fe_cabin__impute_cabin__Cabin_T</th>\n",
       "      <th>ohe__impute_categorical__HomePlanet_Earth</th>\n",
       "      <th>ohe__impute_categorical__HomePlanet_Europa</th>\n",
       "      <th>ohe__impute_categorical__HomePlanet_Mars</th>\n",
       "      <th>ohe__impute_categorical__CryoSleep_False</th>\n",
       "      <th>ohe__impute_categorical__CryoSleep_True</th>\n",
       "      <th>ohe__impute_categorical__VIP_False</th>\n",
       "      <th>ohe__impute_categorical__VIP_True</th>\n",
       "      <th>or__impute_categorical__Destination</th>\n",
       "    </tr>\n",
       "    <tr>\n",
       "      <th>PassengerId</th>\n",
       "      <th></th>\n",
       "      <th></th>\n",
       "      <th></th>\n",
       "      <th></th>\n",
       "      <th></th>\n",
       "      <th></th>\n",
       "      <th></th>\n",
       "      <th></th>\n",
       "      <th></th>\n",
       "      <th></th>\n",
       "      <th></th>\n",
       "      <th></th>\n",
       "      <th></th>\n",
       "      <th></th>\n",
       "      <th></th>\n",
       "      <th></th>\n",
       "      <th></th>\n",
       "      <th></th>\n",
       "      <th></th>\n",
       "      <th></th>\n",
       "      <th></th>\n",
       "    </tr>\n",
       "  </thead>\n",
       "  <tbody>\n",
       "    <tr>\n",
       "      <th>0001_01</th>\n",
       "      <td>1.0</td>\n",
       "      <td>1.0</td>\n",
       "      <td>39.0</td>\n",
       "      <td>0.0</td>\n",
       "      <td>0.0</td>\n",
       "      <td>0.0</td>\n",
       "      <td>0.0</td>\n",
       "      <td>0.0</td>\n",
       "      <td>0.0</td>\n",
       "      <td>1.0</td>\n",
       "      <td>...</td>\n",
       "      <td>0.0</td>\n",
       "      <td>0.0</td>\n",
       "      <td>0.0</td>\n",
       "      <td>1.0</td>\n",
       "      <td>0.0</td>\n",
       "      <td>1.0</td>\n",
       "      <td>0.0</td>\n",
       "      <td>1.0</td>\n",
       "      <td>0.0</td>\n",
       "      <td>2.0</td>\n",
       "    </tr>\n",
       "    <tr>\n",
       "      <th>0002_01</th>\n",
       "      <td>1.0</td>\n",
       "      <td>1.0</td>\n",
       "      <td>24.0</td>\n",
       "      <td>109.0</td>\n",
       "      <td>9.0</td>\n",
       "      <td>25.0</td>\n",
       "      <td>549.0</td>\n",
       "      <td>44.0</td>\n",
       "      <td>0.0</td>\n",
       "      <td>0.0</td>\n",
       "      <td>...</td>\n",
       "      <td>0.0</td>\n",
       "      <td>0.0</td>\n",
       "      <td>1.0</td>\n",
       "      <td>0.0</td>\n",
       "      <td>0.0</td>\n",
       "      <td>1.0</td>\n",
       "      <td>0.0</td>\n",
       "      <td>1.0</td>\n",
       "      <td>0.0</td>\n",
       "      <td>2.0</td>\n",
       "    </tr>\n",
       "    <tr>\n",
       "      <th>0003_01</th>\n",
       "      <td>1.0</td>\n",
       "      <td>1.0</td>\n",
       "      <td>58.0</td>\n",
       "      <td>43.0</td>\n",
       "      <td>3576.0</td>\n",
       "      <td>0.0</td>\n",
       "      <td>6715.0</td>\n",
       "      <td>49.0</td>\n",
       "      <td>1.0</td>\n",
       "      <td>0.0</td>\n",
       "      <td>...</td>\n",
       "      <td>0.0</td>\n",
       "      <td>0.0</td>\n",
       "      <td>0.0</td>\n",
       "      <td>1.0</td>\n",
       "      <td>0.0</td>\n",
       "      <td>1.0</td>\n",
       "      <td>0.0</td>\n",
       "      <td>0.0</td>\n",
       "      <td>1.0</td>\n",
       "      <td>2.0</td>\n",
       "    </tr>\n",
       "  </tbody>\n",
       "</table>\n",
       "<p>3 rows × 25 columns</p>\n",
       "</div>"
      ],
      "text/plain": [
       "             fu_age__fe_age_12__impute_numerical__Age  \\\n",
       "PassengerId                                             \n",
       "0001_01                                           1.0   \n",
       "0002_01                                           1.0   \n",
       "0003_01                                           1.0   \n",
       "\n",
       "             fu_age__fe_age_18__impute_numerical__Age  \\\n",
       "PassengerId                                             \n",
       "0001_01                                           1.0   \n",
       "0002_01                                           1.0   \n",
       "0003_01                                           1.0   \n",
       "\n",
       "             fu_age__fe_age_pass__impute_numerical__Age  \\\n",
       "PassengerId                                               \n",
       "0001_01                                            39.0   \n",
       "0002_01                                            24.0   \n",
       "0003_01                                            58.0   \n",
       "\n",
       "             pass__impute_numerical__RoomService  \\\n",
       "PassengerId                                        \n",
       "0001_01                                      0.0   \n",
       "0002_01                                    109.0   \n",
       "0003_01                                     43.0   \n",
       "\n",
       "             pass__impute_numerical__FoodCourt  \\\n",
       "PassengerId                                      \n",
       "0001_01                                    0.0   \n",
       "0002_01                                    9.0   \n",
       "0003_01                                 3576.0   \n",
       "\n",
       "             pass__impute_numerical__ShoppingMall  \\\n",
       "PassengerId                                         \n",
       "0001_01                                       0.0   \n",
       "0002_01                                      25.0   \n",
       "0003_01                                       0.0   \n",
       "\n",
       "             pass__impute_numerical__Spa  pass__impute_numerical__VRDeck  \\\n",
       "PassengerId                                                                \n",
       "0001_01                              0.0                             0.0   \n",
       "0002_01                            549.0                            44.0   \n",
       "0003_01                           6715.0                            49.0   \n",
       "\n",
       "             fe_cabin__impute_cabin__Cabin_A  fe_cabin__impute_cabin__Cabin_B  \\\n",
       "PassengerId                                                                     \n",
       "0001_01                                  0.0                              1.0   \n",
       "0002_01                                  0.0                              0.0   \n",
       "0003_01                                  1.0                              0.0   \n",
       "\n",
       "             ...  fe_cabin__impute_cabin__Cabin_NA  \\\n",
       "PassengerId  ...                                     \n",
       "0001_01      ...                               0.0   \n",
       "0002_01      ...                               0.0   \n",
       "0003_01      ...                               0.0   \n",
       "\n",
       "             fe_cabin__impute_cabin__Cabin_T  \\\n",
       "PassengerId                                    \n",
       "0001_01                                  0.0   \n",
       "0002_01                                  0.0   \n",
       "0003_01                                  0.0   \n",
       "\n",
       "             ohe__impute_categorical__HomePlanet_Earth  \\\n",
       "PassengerId                                              \n",
       "0001_01                                            0.0   \n",
       "0002_01                                            1.0   \n",
       "0003_01                                            0.0   \n",
       "\n",
       "             ohe__impute_categorical__HomePlanet_Europa  \\\n",
       "PassengerId                                               \n",
       "0001_01                                             1.0   \n",
       "0002_01                                             0.0   \n",
       "0003_01                                             1.0   \n",
       "\n",
       "             ohe__impute_categorical__HomePlanet_Mars  \\\n",
       "PassengerId                                             \n",
       "0001_01                                           0.0   \n",
       "0002_01                                           0.0   \n",
       "0003_01                                           0.0   \n",
       "\n",
       "             ohe__impute_categorical__CryoSleep_False  \\\n",
       "PassengerId                                             \n",
       "0001_01                                           1.0   \n",
       "0002_01                                           1.0   \n",
       "0003_01                                           1.0   \n",
       "\n",
       "             ohe__impute_categorical__CryoSleep_True  \\\n",
       "PassengerId                                            \n",
       "0001_01                                          0.0   \n",
       "0002_01                                          0.0   \n",
       "0003_01                                          0.0   \n",
       "\n",
       "             ohe__impute_categorical__VIP_False  \\\n",
       "PassengerId                                       \n",
       "0001_01                                     1.0   \n",
       "0002_01                                     1.0   \n",
       "0003_01                                     0.0   \n",
       "\n",
       "             ohe__impute_categorical__VIP_True  \\\n",
       "PassengerId                                      \n",
       "0001_01                                    0.0   \n",
       "0002_01                                    0.0   \n",
       "0003_01                                    1.0   \n",
       "\n",
       "             or__impute_categorical__Destination  \n",
       "PassengerId                                       \n",
       "0001_01                                      2.0  \n",
       "0002_01                                      2.0  \n",
       "0003_01                                      2.0  \n",
       "\n",
       "[3 rows x 25 columns]"
      ]
     },
     "execution_count": 60,
     "metadata": {},
     "output_type": "execute_result"
    }
   ],
   "source": [
    "X_train_.head(3)"
   ]
  },
  {
   "cell_type": "code",
   "execution_count": 61,
   "id": "4b8f724c-6b82-4193-97ff-f332edc776b0",
   "metadata": {},
   "outputs": [
    {
     "data": {
      "text/plain": [
       "Transported\n",
       "True     4378\n",
       "False    4315\n",
       "Name: count, dtype: int64"
      ]
     },
     "execution_count": 61,
     "metadata": {},
     "output_type": "execute_result"
    }
   ],
   "source": [
    "y.value_counts()"
   ]
  },
  {
   "cell_type": "code",
   "execution_count": 62,
   "id": "216c8e26-7297-445d-80a0-231adfbd2fff",
   "metadata": {},
   "outputs": [],
   "source": [
    "_ = cross_val_score(estimator=pipe, X=X_train, y=y, cv=10)"
   ]
  },
  {
   "cell_type": "code",
   "execution_count": 63,
   "id": "ccae1d0d-01b2-447a-8998-be2f1daa6920",
   "metadata": {},
   "outputs": [
    {
     "data": {
      "text/plain": [
       "0.8028344113328835"
      ]
     },
     "execution_count": 63,
     "metadata": {},
     "output_type": "execute_result"
    }
   ],
   "source": [
    "# Benchmark -                     0.7234581961033293\n",
    "# New Model con OHE -             0.7155214740155814\n",
    "# New Model con 4 depth -         0.764529582159438\n",
    "# Model with 4 depth y CabinFe -  0.7709713900242054\n",
    "# HistGradient default params y - 0.7998441860772721\n",
    "# HistGradient default params y - 0.8028344113328835  # Leaderboard - 1359\n",
    "# default pipe + OE de Destionation\n",
    "np.mean(_)"
   ]
  },
  {
   "cell_type": "code",
   "execution_count": 64,
   "id": "48fc6828",
   "metadata": {},
   "outputs": [
    {
     "data": {
      "text/plain": [
       "0.01176739213356235"
      ]
     },
     "execution_count": 64,
     "metadata": {},
     "output_type": "execute_result"
    }
   ],
   "source": [
    "np.std(_)"
   ]
  },
  {
   "cell_type": "code",
   "execution_count": 65,
   "id": "18986773-c897-4254-ba6f-34bd89cce57f",
   "metadata": {},
   "outputs": [
    {
     "data": {
      "text/plain": [
       "array([0.79425287, 0.7816092 , 0.79310345, 0.81357883, 0.79171461,\n",
       "       0.80782509, 0.81357883, 0.81127733, 0.82048331, 0.8009206 ])"
      ]
     },
     "execution_count": 65,
     "metadata": {},
     "output_type": "execute_result"
    }
   ],
   "source": [
    "_"
   ]
  },
  {
   "cell_type": "code",
   "execution_count": 66,
   "id": "be715024",
   "metadata": {},
   "outputs": [
    {
     "data": {
      "text/html": [
       "<style>#sk-container-id-4 {color: black;background-color: white;}#sk-container-id-4 pre{padding: 0;}#sk-container-id-4 div.sk-toggleable {background-color: white;}#sk-container-id-4 label.sk-toggleable__label {cursor: pointer;display: block;width: 100%;margin-bottom: 0;padding: 0.3em;box-sizing: border-box;text-align: center;}#sk-container-id-4 label.sk-toggleable__label-arrow:before {content: \"▸\";float: left;margin-right: 0.25em;color: #696969;}#sk-container-id-4 label.sk-toggleable__label-arrow:hover:before {color: black;}#sk-container-id-4 div.sk-estimator:hover label.sk-toggleable__label-arrow:before {color: black;}#sk-container-id-4 div.sk-toggleable__content {max-height: 0;max-width: 0;overflow: hidden;text-align: left;background-color: #f0f8ff;}#sk-container-id-4 div.sk-toggleable__content pre {margin: 0.2em;color: black;border-radius: 0.25em;background-color: #f0f8ff;}#sk-container-id-4 input.sk-toggleable__control:checked~div.sk-toggleable__content {max-height: 200px;max-width: 100%;overflow: auto;}#sk-container-id-4 input.sk-toggleable__control:checked~label.sk-toggleable__label-arrow:before {content: \"▾\";}#sk-container-id-4 div.sk-estimator input.sk-toggleable__control:checked~label.sk-toggleable__label {background-color: #d4ebff;}#sk-container-id-4 div.sk-label input.sk-toggleable__control:checked~label.sk-toggleable__label {background-color: #d4ebff;}#sk-container-id-4 input.sk-hidden--visually {border: 0;clip: rect(1px 1px 1px 1px);clip: rect(1px, 1px, 1px, 1px);height: 1px;margin: -1px;overflow: hidden;padding: 0;position: absolute;width: 1px;}#sk-container-id-4 div.sk-estimator {font-family: monospace;background-color: #f0f8ff;border: 1px dotted black;border-radius: 0.25em;box-sizing: border-box;margin-bottom: 0.5em;}#sk-container-id-4 div.sk-estimator:hover {background-color: #d4ebff;}#sk-container-id-4 div.sk-parallel-item::after {content: \"\";width: 100%;border-bottom: 1px solid gray;flex-grow: 1;}#sk-container-id-4 div.sk-label:hover label.sk-toggleable__label {background-color: #d4ebff;}#sk-container-id-4 div.sk-serial::before {content: \"\";position: absolute;border-left: 1px solid gray;box-sizing: border-box;top: 0;bottom: 0;left: 50%;z-index: 0;}#sk-container-id-4 div.sk-serial {display: flex;flex-direction: column;align-items: center;background-color: white;padding-right: 0.2em;padding-left: 0.2em;position: relative;}#sk-container-id-4 div.sk-item {position: relative;z-index: 1;}#sk-container-id-4 div.sk-parallel {display: flex;align-items: stretch;justify-content: center;background-color: white;position: relative;}#sk-container-id-4 div.sk-item::before, #sk-container-id-4 div.sk-parallel-item::before {content: \"\";position: absolute;border-left: 1px solid gray;box-sizing: border-box;top: 0;bottom: 0;left: 50%;z-index: -1;}#sk-container-id-4 div.sk-parallel-item {display: flex;flex-direction: column;z-index: 1;position: relative;background-color: white;}#sk-container-id-4 div.sk-parallel-item:first-child::after {align-self: flex-end;width: 50%;}#sk-container-id-4 div.sk-parallel-item:last-child::after {align-self: flex-start;width: 50%;}#sk-container-id-4 div.sk-parallel-item:only-child::after {width: 0;}#sk-container-id-4 div.sk-dashed-wrapped {border: 1px dashed gray;margin: 0 0.4em 0.5em 0.4em;box-sizing: border-box;padding-bottom: 0.4em;background-color: white;}#sk-container-id-4 div.sk-label label {font-family: monospace;font-weight: bold;display: inline-block;line-height: 1.2em;}#sk-container-id-4 div.sk-label-container {text-align: center;}#sk-container-id-4 div.sk-container {/* jupyter's `normalize.less` sets `[hidden] { display: none; }` but bootstrap.min.css set `[hidden] { display: none !important; }` so we also need the `!important` here to be able to override the default hidden behavior on the sphinx rendered scikit-learn.org. See: https://github.com/scikit-learn/scikit-learn/issues/21755 */display: inline-block !important;position: relative;}#sk-container-id-4 div.sk-text-repr-fallback {display: none;}</style><div id=\"sk-container-id-4\" class=\"sk-top-container\"><div class=\"sk-text-repr-fallback\"><pre>Pipeline(steps=[(&#x27;impute&#x27;,\n",
       "                 ColumnTransformer(transformers=[(&#x27;impute_numerical&#x27;,\n",
       "                                                  SimpleImputer(),\n",
       "                                                  &lt;sklearn.compose._column_transformer.make_column_selector object at 0x166636e80&gt;),\n",
       "                                                 (&#x27;impute_cabin&#x27;,\n",
       "                                                  SimpleImputer(fill_value=&#x27;NA&#x27;,\n",
       "                                                                strategy=&#x27;constant&#x27;),\n",
       "                                                  [&#x27;Cabin&#x27;]),\n",
       "                                                 (&#x27;impute_categorical&#x27;,\n",
       "                                                  SimpleImputer(strategy=&#x27;most_frequent&#x27;),\n",
       "                                                  [&#x27;HomePlanet&#x27;, &#x27;CryoSleep&#x27;,\n",
       "                                                   &#x27;Destinatio...\n",
       "                                                  Pipeline(steps=[(&#x27;extract_first_letter&#x27;,\n",
       "                                                                   CabinTransformer()),\n",
       "                                                                  (&#x27;ohe_first_letter&#x27;,\n",
       "                                                                   OneHotEncoder(sparse_output=False))]),\n",
       "                                                  [&#x27;impute_cabin__Cabin&#x27;]),\n",
       "                                                 (&#x27;ohe&#x27;,\n",
       "                                                  OneHotEncoder(sparse_output=False),\n",
       "                                                  [&#x27;impute_categorical__HomePlanet&#x27;,\n",
       "                                                   &#x27;impute_categorical__CryoSleep&#x27;,\n",
       "                                                   &#x27;impute_categorical__VIP&#x27;]),\n",
       "                                                 (&#x27;or&#x27;, OrdinalEncoder(),\n",
       "                                                  [&#x27;impute_categorical__Destination&#x27;])])),\n",
       "                (&#x27;model&#x27;, HistGradientBoostingClassifier())])</pre><b>In a Jupyter environment, please rerun this cell to show the HTML representation or trust the notebook. <br />On GitHub, the HTML representation is unable to render, please try loading this page with nbviewer.org.</b></div><div class=\"sk-container\" hidden><div class=\"sk-item sk-dashed-wrapped\"><div class=\"sk-label-container\"><div class=\"sk-label sk-toggleable\"><input class=\"sk-toggleable__control sk-hidden--visually\" id=\"sk-estimator-id-45\" type=\"checkbox\" ><label for=\"sk-estimator-id-45\" class=\"sk-toggleable__label sk-toggleable__label-arrow\">Pipeline</label><div class=\"sk-toggleable__content\"><pre>Pipeline(steps=[(&#x27;impute&#x27;,\n",
       "                 ColumnTransformer(transformers=[(&#x27;impute_numerical&#x27;,\n",
       "                                                  SimpleImputer(),\n",
       "                                                  &lt;sklearn.compose._column_transformer.make_column_selector object at 0x166636e80&gt;),\n",
       "                                                 (&#x27;impute_cabin&#x27;,\n",
       "                                                  SimpleImputer(fill_value=&#x27;NA&#x27;,\n",
       "                                                                strategy=&#x27;constant&#x27;),\n",
       "                                                  [&#x27;Cabin&#x27;]),\n",
       "                                                 (&#x27;impute_categorical&#x27;,\n",
       "                                                  SimpleImputer(strategy=&#x27;most_frequent&#x27;),\n",
       "                                                  [&#x27;HomePlanet&#x27;, &#x27;CryoSleep&#x27;,\n",
       "                                                   &#x27;Destinatio...\n",
       "                                                  Pipeline(steps=[(&#x27;extract_first_letter&#x27;,\n",
       "                                                                   CabinTransformer()),\n",
       "                                                                  (&#x27;ohe_first_letter&#x27;,\n",
       "                                                                   OneHotEncoder(sparse_output=False))]),\n",
       "                                                  [&#x27;impute_cabin__Cabin&#x27;]),\n",
       "                                                 (&#x27;ohe&#x27;,\n",
       "                                                  OneHotEncoder(sparse_output=False),\n",
       "                                                  [&#x27;impute_categorical__HomePlanet&#x27;,\n",
       "                                                   &#x27;impute_categorical__CryoSleep&#x27;,\n",
       "                                                   &#x27;impute_categorical__VIP&#x27;]),\n",
       "                                                 (&#x27;or&#x27;, OrdinalEncoder(),\n",
       "                                                  [&#x27;impute_categorical__Destination&#x27;])])),\n",
       "                (&#x27;model&#x27;, HistGradientBoostingClassifier())])</pre></div></div></div><div class=\"sk-serial\"><div class=\"sk-item sk-dashed-wrapped\"><div class=\"sk-label-container\"><div class=\"sk-label sk-toggleable\"><input class=\"sk-toggleable__control sk-hidden--visually\" id=\"sk-estimator-id-46\" type=\"checkbox\" ><label for=\"sk-estimator-id-46\" class=\"sk-toggleable__label sk-toggleable__label-arrow\">impute: ColumnTransformer</label><div class=\"sk-toggleable__content\"><pre>ColumnTransformer(transformers=[(&#x27;impute_numerical&#x27;, SimpleImputer(),\n",
       "                                 &lt;sklearn.compose._column_transformer.make_column_selector object at 0x166636e80&gt;),\n",
       "                                (&#x27;impute_cabin&#x27;,\n",
       "                                 SimpleImputer(fill_value=&#x27;NA&#x27;,\n",
       "                                               strategy=&#x27;constant&#x27;),\n",
       "                                 [&#x27;Cabin&#x27;]),\n",
       "                                (&#x27;impute_categorical&#x27;,\n",
       "                                 SimpleImputer(strategy=&#x27;most_frequent&#x27;),\n",
       "                                 [&#x27;HomePlanet&#x27;, &#x27;CryoSleep&#x27;, &#x27;Destination&#x27;,\n",
       "                                  &#x27;VIP&#x27;, &#x27;Name&#x27;])])</pre></div></div></div><div class=\"sk-parallel\"><div class=\"sk-parallel-item\"><div class=\"sk-item\"><div class=\"sk-label-container\"><div class=\"sk-label sk-toggleable\"><input class=\"sk-toggleable__control sk-hidden--visually\" id=\"sk-estimator-id-47\" type=\"checkbox\" ><label for=\"sk-estimator-id-47\" class=\"sk-toggleable__label sk-toggleable__label-arrow\">impute_numerical</label><div class=\"sk-toggleable__content\"><pre>&lt;sklearn.compose._column_transformer.make_column_selector object at 0x166636e80&gt;</pre></div></div></div><div class=\"sk-serial\"><div class=\"sk-item\"><div class=\"sk-estimator sk-toggleable\"><input class=\"sk-toggleable__control sk-hidden--visually\" id=\"sk-estimator-id-48\" type=\"checkbox\" ><label for=\"sk-estimator-id-48\" class=\"sk-toggleable__label sk-toggleable__label-arrow\">SimpleImputer</label><div class=\"sk-toggleable__content\"><pre>SimpleImputer()</pre></div></div></div></div></div></div><div class=\"sk-parallel-item\"><div class=\"sk-item\"><div class=\"sk-label-container\"><div class=\"sk-label sk-toggleable\"><input class=\"sk-toggleable__control sk-hidden--visually\" id=\"sk-estimator-id-49\" type=\"checkbox\" ><label for=\"sk-estimator-id-49\" class=\"sk-toggleable__label sk-toggleable__label-arrow\">impute_cabin</label><div class=\"sk-toggleable__content\"><pre>[&#x27;Cabin&#x27;]</pre></div></div></div><div class=\"sk-serial\"><div class=\"sk-item\"><div class=\"sk-estimator sk-toggleable\"><input class=\"sk-toggleable__control sk-hidden--visually\" id=\"sk-estimator-id-50\" type=\"checkbox\" ><label for=\"sk-estimator-id-50\" class=\"sk-toggleable__label sk-toggleable__label-arrow\">SimpleImputer</label><div class=\"sk-toggleable__content\"><pre>SimpleImputer(fill_value=&#x27;NA&#x27;, strategy=&#x27;constant&#x27;)</pre></div></div></div></div></div></div><div class=\"sk-parallel-item\"><div class=\"sk-item\"><div class=\"sk-label-container\"><div class=\"sk-label sk-toggleable\"><input class=\"sk-toggleable__control sk-hidden--visually\" id=\"sk-estimator-id-51\" type=\"checkbox\" ><label for=\"sk-estimator-id-51\" class=\"sk-toggleable__label sk-toggleable__label-arrow\">impute_categorical</label><div class=\"sk-toggleable__content\"><pre>[&#x27;HomePlanet&#x27;, &#x27;CryoSleep&#x27;, &#x27;Destination&#x27;, &#x27;VIP&#x27;, &#x27;Name&#x27;]</pre></div></div></div><div class=\"sk-serial\"><div class=\"sk-item\"><div class=\"sk-estimator sk-toggleable\"><input class=\"sk-toggleable__control sk-hidden--visually\" id=\"sk-estimator-id-52\" type=\"checkbox\" ><label for=\"sk-estimator-id-52\" class=\"sk-toggleable__label sk-toggleable__label-arrow\">SimpleImputer</label><div class=\"sk-toggleable__content\"><pre>SimpleImputer(strategy=&#x27;most_frequent&#x27;)</pre></div></div></div></div></div></div></div></div><div class=\"sk-item sk-dashed-wrapped\"><div class=\"sk-label-container\"><div class=\"sk-label sk-toggleable\"><input class=\"sk-toggleable__control sk-hidden--visually\" id=\"sk-estimator-id-53\" type=\"checkbox\" ><label for=\"sk-estimator-id-53\" class=\"sk-toggleable__label sk-toggleable__label-arrow\">fe: ColumnTransformer</label><div class=\"sk-toggleable__content\"><pre>ColumnTransformer(transformers=[(&#x27;fu_age&#x27;,\n",
       "                                 FeatureUnion(transformer_list=[(&#x27;fe_age_12&#x27;,\n",
       "                                                                 Binarizer(threshold=12)),\n",
       "                                                                (&#x27;fe_age_18&#x27;,\n",
       "                                                                 Binarizer(threshold=18)),\n",
       "                                                                (&#x27;fe_age_pass&#x27;,\n",
       "                                                                 &#x27;passthrough&#x27;)]),\n",
       "                                 [&#x27;impute_numerical__Age&#x27;]),\n",
       "                                (&#x27;pass&#x27;, &#x27;passthrough&#x27;, [1, 2, 3, 4, 5]),\n",
       "                                (&#x27;fe_cabin&#x27;,\n",
       "                                 Pipeline(steps=[(&#x27;extract_first_letter&#x27;,\n",
       "                                                  CabinTransformer()),\n",
       "                                                 (&#x27;ohe_first_letter&#x27;,\n",
       "                                                  OneHotEncoder(sparse_output=False))]),\n",
       "                                 [&#x27;impute_cabin__Cabin&#x27;]),\n",
       "                                (&#x27;ohe&#x27;, OneHotEncoder(sparse_output=False),\n",
       "                                 [&#x27;impute_categorical__HomePlanet&#x27;,\n",
       "                                  &#x27;impute_categorical__CryoSleep&#x27;,\n",
       "                                  &#x27;impute_categorical__VIP&#x27;]),\n",
       "                                (&#x27;or&#x27;, OrdinalEncoder(),\n",
       "                                 [&#x27;impute_categorical__Destination&#x27;])])</pre></div></div></div><div class=\"sk-parallel\"><div class=\"sk-parallel-item\"><div class=\"sk-item\"><div class=\"sk-label-container\"><div class=\"sk-label sk-toggleable\"><input class=\"sk-toggleable__control sk-hidden--visually\" id=\"sk-estimator-id-54\" type=\"checkbox\" ><label for=\"sk-estimator-id-54\" class=\"sk-toggleable__label sk-toggleable__label-arrow\">fu_age</label><div class=\"sk-toggleable__content\"><pre>[&#x27;impute_numerical__Age&#x27;]</pre></div></div></div><div class=\"sk-serial\"><div class=\"sk-item sk-dashed-wrapped\"><div class=\"sk-parallel\"><div class=\"sk-parallel-item\"><div class=\"sk-item\"><div class=\"sk-label-container\"><div class=\"sk-label sk-toggleable\"><label>fe_age_12</label></div></div><div class=\"sk-serial\"><div class=\"sk-item\"><div class=\"sk-estimator sk-toggleable\"><input class=\"sk-toggleable__control sk-hidden--visually\" id=\"sk-estimator-id-55\" type=\"checkbox\" ><label for=\"sk-estimator-id-55\" class=\"sk-toggleable__label sk-toggleable__label-arrow\">Binarizer</label><div class=\"sk-toggleable__content\"><pre>Binarizer(threshold=12)</pre></div></div></div></div></div></div><div class=\"sk-parallel-item\"><div class=\"sk-item\"><div class=\"sk-label-container\"><div class=\"sk-label sk-toggleable\"><label>fe_age_18</label></div></div><div class=\"sk-serial\"><div class=\"sk-item\"><div class=\"sk-estimator sk-toggleable\"><input class=\"sk-toggleable__control sk-hidden--visually\" id=\"sk-estimator-id-56\" type=\"checkbox\" ><label for=\"sk-estimator-id-56\" class=\"sk-toggleable__label sk-toggleable__label-arrow\">Binarizer</label><div class=\"sk-toggleable__content\"><pre>Binarizer(threshold=18)</pre></div></div></div></div></div></div><div class=\"sk-parallel-item\"><div class=\"sk-item\"><div class=\"sk-label-container\"><div class=\"sk-label sk-toggleable\"><label>fe_age_pass</label></div></div><div class=\"sk-serial\"><div class=\"sk-item\"><div class=\"sk-estimator sk-toggleable\"><input class=\"sk-toggleable__control sk-hidden--visually\" id=\"sk-estimator-id-57\" type=\"checkbox\" ><label for=\"sk-estimator-id-57\" class=\"sk-toggleable__label sk-toggleable__label-arrow\">passthrough</label><div class=\"sk-toggleable__content\"><pre>passthrough</pre></div></div></div></div></div></div></div></div></div></div></div><div class=\"sk-parallel-item\"><div class=\"sk-item\"><div class=\"sk-label-container\"><div class=\"sk-label sk-toggleable\"><input class=\"sk-toggleable__control sk-hidden--visually\" id=\"sk-estimator-id-58\" type=\"checkbox\" ><label for=\"sk-estimator-id-58\" class=\"sk-toggleable__label sk-toggleable__label-arrow\">pass</label><div class=\"sk-toggleable__content\"><pre>[1, 2, 3, 4, 5]</pre></div></div></div><div class=\"sk-serial\"><div class=\"sk-item\"><div class=\"sk-estimator sk-toggleable\"><input class=\"sk-toggleable__control sk-hidden--visually\" id=\"sk-estimator-id-59\" type=\"checkbox\" ><label for=\"sk-estimator-id-59\" class=\"sk-toggleable__label sk-toggleable__label-arrow\">passthrough</label><div class=\"sk-toggleable__content\"><pre>passthrough</pre></div></div></div></div></div></div><div class=\"sk-parallel-item\"><div class=\"sk-item\"><div class=\"sk-label-container\"><div class=\"sk-label sk-toggleable\"><input class=\"sk-toggleable__control sk-hidden--visually\" id=\"sk-estimator-id-60\" type=\"checkbox\" ><label for=\"sk-estimator-id-60\" class=\"sk-toggleable__label sk-toggleable__label-arrow\">fe_cabin</label><div class=\"sk-toggleable__content\"><pre>[&#x27;impute_cabin__Cabin&#x27;]</pre></div></div></div><div class=\"sk-serial\"><div class=\"sk-item\"><div class=\"sk-serial\"><div class=\"sk-item\"><div class=\"sk-estimator sk-toggleable\"><input class=\"sk-toggleable__control sk-hidden--visually\" id=\"sk-estimator-id-61\" type=\"checkbox\" ><label for=\"sk-estimator-id-61\" class=\"sk-toggleable__label sk-toggleable__label-arrow\">CabinTransformer</label><div class=\"sk-toggleable__content\"><pre>CabinTransformer()</pre></div></div></div><div class=\"sk-item\"><div class=\"sk-estimator sk-toggleable\"><input class=\"sk-toggleable__control sk-hidden--visually\" id=\"sk-estimator-id-62\" type=\"checkbox\" ><label for=\"sk-estimator-id-62\" class=\"sk-toggleable__label sk-toggleable__label-arrow\">OneHotEncoder</label><div class=\"sk-toggleable__content\"><pre>OneHotEncoder(sparse_output=False)</pre></div></div></div></div></div></div></div></div><div class=\"sk-parallel-item\"><div class=\"sk-item\"><div class=\"sk-label-container\"><div class=\"sk-label sk-toggleable\"><input class=\"sk-toggleable__control sk-hidden--visually\" id=\"sk-estimator-id-63\" type=\"checkbox\" ><label for=\"sk-estimator-id-63\" class=\"sk-toggleable__label sk-toggleable__label-arrow\">ohe</label><div class=\"sk-toggleable__content\"><pre>[&#x27;impute_categorical__HomePlanet&#x27;, &#x27;impute_categorical__CryoSleep&#x27;, &#x27;impute_categorical__VIP&#x27;]</pre></div></div></div><div class=\"sk-serial\"><div class=\"sk-item\"><div class=\"sk-estimator sk-toggleable\"><input class=\"sk-toggleable__control sk-hidden--visually\" id=\"sk-estimator-id-64\" type=\"checkbox\" ><label for=\"sk-estimator-id-64\" class=\"sk-toggleable__label sk-toggleable__label-arrow\">OneHotEncoder</label><div class=\"sk-toggleable__content\"><pre>OneHotEncoder(sparse_output=False)</pre></div></div></div></div></div></div><div class=\"sk-parallel-item\"><div class=\"sk-item\"><div class=\"sk-label-container\"><div class=\"sk-label sk-toggleable\"><input class=\"sk-toggleable__control sk-hidden--visually\" id=\"sk-estimator-id-65\" type=\"checkbox\" ><label for=\"sk-estimator-id-65\" class=\"sk-toggleable__label sk-toggleable__label-arrow\">or</label><div class=\"sk-toggleable__content\"><pre>[&#x27;impute_categorical__Destination&#x27;]</pre></div></div></div><div class=\"sk-serial\"><div class=\"sk-item\"><div class=\"sk-estimator sk-toggleable\"><input class=\"sk-toggleable__control sk-hidden--visually\" id=\"sk-estimator-id-66\" type=\"checkbox\" ><label for=\"sk-estimator-id-66\" class=\"sk-toggleable__label sk-toggleable__label-arrow\">OrdinalEncoder</label><div class=\"sk-toggleable__content\"><pre>OrdinalEncoder()</pre></div></div></div></div></div></div></div></div><div class=\"sk-item\"><div class=\"sk-estimator sk-toggleable\"><input class=\"sk-toggleable__control sk-hidden--visually\" id=\"sk-estimator-id-67\" type=\"checkbox\" ><label for=\"sk-estimator-id-67\" class=\"sk-toggleable__label sk-toggleable__label-arrow\">HistGradientBoostingClassifier</label><div class=\"sk-toggleable__content\"><pre>HistGradientBoostingClassifier()</pre></div></div></div></div></div></div></div>"
      ],
      "text/plain": [
       "Pipeline(steps=[('impute',\n",
       "                 ColumnTransformer(transformers=[('impute_numerical',\n",
       "                                                  SimpleImputer(),\n",
       "                                                  <sklearn.compose._column_transformer.make_column_selector object at 0x166636e80>),\n",
       "                                                 ('impute_cabin',\n",
       "                                                  SimpleImputer(fill_value='NA',\n",
       "                                                                strategy='constant'),\n",
       "                                                  ['Cabin']),\n",
       "                                                 ('impute_categorical',\n",
       "                                                  SimpleImputer(strategy='most_frequent'),\n",
       "                                                  ['HomePlanet', 'CryoSleep',\n",
       "                                                   'Destinatio...\n",
       "                                                  Pipeline(steps=[('extract_first_letter',\n",
       "                                                                   CabinTransformer()),\n",
       "                                                                  ('ohe_first_letter',\n",
       "                                                                   OneHotEncoder(sparse_output=False))]),\n",
       "                                                  ['impute_cabin__Cabin']),\n",
       "                                                 ('ohe',\n",
       "                                                  OneHotEncoder(sparse_output=False),\n",
       "                                                  ['impute_categorical__HomePlanet',\n",
       "                                                   'impute_categorical__CryoSleep',\n",
       "                                                   'impute_categorical__VIP']),\n",
       "                                                 ('or', OrdinalEncoder(),\n",
       "                                                  ['impute_categorical__Destination'])])),\n",
       "                ('model', HistGradientBoostingClassifier())])"
      ]
     },
     "execution_count": 66,
     "metadata": {},
     "output_type": "execute_result"
    }
   ],
   "source": [
    "pipe.fit(X_train, y)"
   ]
  },
  {
   "cell_type": "markdown",
   "id": "da1583ea",
   "metadata": {},
   "source": [
    "# Model Explainability"
   ]
  },
  {
   "cell_type": "code",
   "execution_count": 67,
   "id": "f793fc54",
   "metadata": {},
   "outputs": [
    {
     "data": {
      "text/html": [
       "<style>#sk-container-id-5 {color: black;background-color: white;}#sk-container-id-5 pre{padding: 0;}#sk-container-id-5 div.sk-toggleable {background-color: white;}#sk-container-id-5 label.sk-toggleable__label {cursor: pointer;display: block;width: 100%;margin-bottom: 0;padding: 0.3em;box-sizing: border-box;text-align: center;}#sk-container-id-5 label.sk-toggleable__label-arrow:before {content: \"▸\";float: left;margin-right: 0.25em;color: #696969;}#sk-container-id-5 label.sk-toggleable__label-arrow:hover:before {color: black;}#sk-container-id-5 div.sk-estimator:hover label.sk-toggleable__label-arrow:before {color: black;}#sk-container-id-5 div.sk-toggleable__content {max-height: 0;max-width: 0;overflow: hidden;text-align: left;background-color: #f0f8ff;}#sk-container-id-5 div.sk-toggleable__content pre {margin: 0.2em;color: black;border-radius: 0.25em;background-color: #f0f8ff;}#sk-container-id-5 input.sk-toggleable__control:checked~div.sk-toggleable__content {max-height: 200px;max-width: 100%;overflow: auto;}#sk-container-id-5 input.sk-toggleable__control:checked~label.sk-toggleable__label-arrow:before {content: \"▾\";}#sk-container-id-5 div.sk-estimator input.sk-toggleable__control:checked~label.sk-toggleable__label {background-color: #d4ebff;}#sk-container-id-5 div.sk-label input.sk-toggleable__control:checked~label.sk-toggleable__label {background-color: #d4ebff;}#sk-container-id-5 input.sk-hidden--visually {border: 0;clip: rect(1px 1px 1px 1px);clip: rect(1px, 1px, 1px, 1px);height: 1px;margin: -1px;overflow: hidden;padding: 0;position: absolute;width: 1px;}#sk-container-id-5 div.sk-estimator {font-family: monospace;background-color: #f0f8ff;border: 1px dotted black;border-radius: 0.25em;box-sizing: border-box;margin-bottom: 0.5em;}#sk-container-id-5 div.sk-estimator:hover {background-color: #d4ebff;}#sk-container-id-5 div.sk-parallel-item::after {content: \"\";width: 100%;border-bottom: 1px solid gray;flex-grow: 1;}#sk-container-id-5 div.sk-label:hover label.sk-toggleable__label {background-color: #d4ebff;}#sk-container-id-5 div.sk-serial::before {content: \"\";position: absolute;border-left: 1px solid gray;box-sizing: border-box;top: 0;bottom: 0;left: 50%;z-index: 0;}#sk-container-id-5 div.sk-serial {display: flex;flex-direction: column;align-items: center;background-color: white;padding-right: 0.2em;padding-left: 0.2em;position: relative;}#sk-container-id-5 div.sk-item {position: relative;z-index: 1;}#sk-container-id-5 div.sk-parallel {display: flex;align-items: stretch;justify-content: center;background-color: white;position: relative;}#sk-container-id-5 div.sk-item::before, #sk-container-id-5 div.sk-parallel-item::before {content: \"\";position: absolute;border-left: 1px solid gray;box-sizing: border-box;top: 0;bottom: 0;left: 50%;z-index: -1;}#sk-container-id-5 div.sk-parallel-item {display: flex;flex-direction: column;z-index: 1;position: relative;background-color: white;}#sk-container-id-5 div.sk-parallel-item:first-child::after {align-self: flex-end;width: 50%;}#sk-container-id-5 div.sk-parallel-item:last-child::after {align-self: flex-start;width: 50%;}#sk-container-id-5 div.sk-parallel-item:only-child::after {width: 0;}#sk-container-id-5 div.sk-dashed-wrapped {border: 1px dashed gray;margin: 0 0.4em 0.5em 0.4em;box-sizing: border-box;padding-bottom: 0.4em;background-color: white;}#sk-container-id-5 div.sk-label label {font-family: monospace;font-weight: bold;display: inline-block;line-height: 1.2em;}#sk-container-id-5 div.sk-label-container {text-align: center;}#sk-container-id-5 div.sk-container {/* jupyter's `normalize.less` sets `[hidden] { display: none; }` but bootstrap.min.css set `[hidden] { display: none !important; }` so we also need the `!important` here to be able to override the default hidden behavior on the sphinx rendered scikit-learn.org. See: https://github.com/scikit-learn/scikit-learn/issues/21755 */display: inline-block !important;position: relative;}#sk-container-id-5 div.sk-text-repr-fallback {display: none;}</style><div id=\"sk-container-id-5\" class=\"sk-top-container\"><div class=\"sk-text-repr-fallback\"><pre>Pipeline(steps=[(&#x27;impute&#x27;,\n",
       "                 ColumnTransformer(transformers=[(&#x27;impute_numerical&#x27;,\n",
       "                                                  SimpleImputer(),\n",
       "                                                  &lt;sklearn.compose._column_transformer.make_column_selector object at 0x166636e80&gt;),\n",
       "                                                 (&#x27;impute_cabin&#x27;,\n",
       "                                                  SimpleImputer(fill_value=&#x27;NA&#x27;,\n",
       "                                                                strategy=&#x27;constant&#x27;),\n",
       "                                                  [&#x27;Cabin&#x27;]),\n",
       "                                                 (&#x27;impute_categorical&#x27;,\n",
       "                                                  SimpleImputer(strategy=&#x27;most_frequent&#x27;),\n",
       "                                                  [&#x27;HomePlanet&#x27;, &#x27;CryoSleep&#x27;,\n",
       "                                                   &#x27;Destinatio...\n",
       "                                                  Pipeline(steps=[(&#x27;extract_first_letter&#x27;,\n",
       "                                                                   CabinTransformer()),\n",
       "                                                                  (&#x27;ohe_first_letter&#x27;,\n",
       "                                                                   OneHotEncoder(sparse_output=False))]),\n",
       "                                                  [&#x27;impute_cabin__Cabin&#x27;]),\n",
       "                                                 (&#x27;ohe&#x27;,\n",
       "                                                  OneHotEncoder(sparse_output=False),\n",
       "                                                  [&#x27;impute_categorical__HomePlanet&#x27;,\n",
       "                                                   &#x27;impute_categorical__CryoSleep&#x27;,\n",
       "                                                   &#x27;impute_categorical__VIP&#x27;]),\n",
       "                                                 (&#x27;or&#x27;, OrdinalEncoder(),\n",
       "                                                  [&#x27;impute_categorical__Destination&#x27;])])),\n",
       "                (&#x27;model&#x27;, HistGradientBoostingClassifier())])</pre><b>In a Jupyter environment, please rerun this cell to show the HTML representation or trust the notebook. <br />On GitHub, the HTML representation is unable to render, please try loading this page with nbviewer.org.</b></div><div class=\"sk-container\" hidden><div class=\"sk-item sk-dashed-wrapped\"><div class=\"sk-label-container\"><div class=\"sk-label sk-toggleable\"><input class=\"sk-toggleable__control sk-hidden--visually\" id=\"sk-estimator-id-68\" type=\"checkbox\" ><label for=\"sk-estimator-id-68\" class=\"sk-toggleable__label sk-toggleable__label-arrow\">Pipeline</label><div class=\"sk-toggleable__content\"><pre>Pipeline(steps=[(&#x27;impute&#x27;,\n",
       "                 ColumnTransformer(transformers=[(&#x27;impute_numerical&#x27;,\n",
       "                                                  SimpleImputer(),\n",
       "                                                  &lt;sklearn.compose._column_transformer.make_column_selector object at 0x166636e80&gt;),\n",
       "                                                 (&#x27;impute_cabin&#x27;,\n",
       "                                                  SimpleImputer(fill_value=&#x27;NA&#x27;,\n",
       "                                                                strategy=&#x27;constant&#x27;),\n",
       "                                                  [&#x27;Cabin&#x27;]),\n",
       "                                                 (&#x27;impute_categorical&#x27;,\n",
       "                                                  SimpleImputer(strategy=&#x27;most_frequent&#x27;),\n",
       "                                                  [&#x27;HomePlanet&#x27;, &#x27;CryoSleep&#x27;,\n",
       "                                                   &#x27;Destinatio...\n",
       "                                                  Pipeline(steps=[(&#x27;extract_first_letter&#x27;,\n",
       "                                                                   CabinTransformer()),\n",
       "                                                                  (&#x27;ohe_first_letter&#x27;,\n",
       "                                                                   OneHotEncoder(sparse_output=False))]),\n",
       "                                                  [&#x27;impute_cabin__Cabin&#x27;]),\n",
       "                                                 (&#x27;ohe&#x27;,\n",
       "                                                  OneHotEncoder(sparse_output=False),\n",
       "                                                  [&#x27;impute_categorical__HomePlanet&#x27;,\n",
       "                                                   &#x27;impute_categorical__CryoSleep&#x27;,\n",
       "                                                   &#x27;impute_categorical__VIP&#x27;]),\n",
       "                                                 (&#x27;or&#x27;, OrdinalEncoder(),\n",
       "                                                  [&#x27;impute_categorical__Destination&#x27;])])),\n",
       "                (&#x27;model&#x27;, HistGradientBoostingClassifier())])</pre></div></div></div><div class=\"sk-serial\"><div class=\"sk-item sk-dashed-wrapped\"><div class=\"sk-label-container\"><div class=\"sk-label sk-toggleable\"><input class=\"sk-toggleable__control sk-hidden--visually\" id=\"sk-estimator-id-69\" type=\"checkbox\" ><label for=\"sk-estimator-id-69\" class=\"sk-toggleable__label sk-toggleable__label-arrow\">impute: ColumnTransformer</label><div class=\"sk-toggleable__content\"><pre>ColumnTransformer(transformers=[(&#x27;impute_numerical&#x27;, SimpleImputer(),\n",
       "                                 &lt;sklearn.compose._column_transformer.make_column_selector object at 0x166636e80&gt;),\n",
       "                                (&#x27;impute_cabin&#x27;,\n",
       "                                 SimpleImputer(fill_value=&#x27;NA&#x27;,\n",
       "                                               strategy=&#x27;constant&#x27;),\n",
       "                                 [&#x27;Cabin&#x27;]),\n",
       "                                (&#x27;impute_categorical&#x27;,\n",
       "                                 SimpleImputer(strategy=&#x27;most_frequent&#x27;),\n",
       "                                 [&#x27;HomePlanet&#x27;, &#x27;CryoSleep&#x27;, &#x27;Destination&#x27;,\n",
       "                                  &#x27;VIP&#x27;, &#x27;Name&#x27;])])</pre></div></div></div><div class=\"sk-parallel\"><div class=\"sk-parallel-item\"><div class=\"sk-item\"><div class=\"sk-label-container\"><div class=\"sk-label sk-toggleable\"><input class=\"sk-toggleable__control sk-hidden--visually\" id=\"sk-estimator-id-70\" type=\"checkbox\" ><label for=\"sk-estimator-id-70\" class=\"sk-toggleable__label sk-toggleable__label-arrow\">impute_numerical</label><div class=\"sk-toggleable__content\"><pre>&lt;sklearn.compose._column_transformer.make_column_selector object at 0x166636e80&gt;</pre></div></div></div><div class=\"sk-serial\"><div class=\"sk-item\"><div class=\"sk-estimator sk-toggleable\"><input class=\"sk-toggleable__control sk-hidden--visually\" id=\"sk-estimator-id-71\" type=\"checkbox\" ><label for=\"sk-estimator-id-71\" class=\"sk-toggleable__label sk-toggleable__label-arrow\">SimpleImputer</label><div class=\"sk-toggleable__content\"><pre>SimpleImputer()</pre></div></div></div></div></div></div><div class=\"sk-parallel-item\"><div class=\"sk-item\"><div class=\"sk-label-container\"><div class=\"sk-label sk-toggleable\"><input class=\"sk-toggleable__control sk-hidden--visually\" id=\"sk-estimator-id-72\" type=\"checkbox\" ><label for=\"sk-estimator-id-72\" class=\"sk-toggleable__label sk-toggleable__label-arrow\">impute_cabin</label><div class=\"sk-toggleable__content\"><pre>[&#x27;Cabin&#x27;]</pre></div></div></div><div class=\"sk-serial\"><div class=\"sk-item\"><div class=\"sk-estimator sk-toggleable\"><input class=\"sk-toggleable__control sk-hidden--visually\" id=\"sk-estimator-id-73\" type=\"checkbox\" ><label for=\"sk-estimator-id-73\" class=\"sk-toggleable__label sk-toggleable__label-arrow\">SimpleImputer</label><div class=\"sk-toggleable__content\"><pre>SimpleImputer(fill_value=&#x27;NA&#x27;, strategy=&#x27;constant&#x27;)</pre></div></div></div></div></div></div><div class=\"sk-parallel-item\"><div class=\"sk-item\"><div class=\"sk-label-container\"><div class=\"sk-label sk-toggleable\"><input class=\"sk-toggleable__control sk-hidden--visually\" id=\"sk-estimator-id-74\" type=\"checkbox\" ><label for=\"sk-estimator-id-74\" class=\"sk-toggleable__label sk-toggleable__label-arrow\">impute_categorical</label><div class=\"sk-toggleable__content\"><pre>[&#x27;HomePlanet&#x27;, &#x27;CryoSleep&#x27;, &#x27;Destination&#x27;, &#x27;VIP&#x27;, &#x27;Name&#x27;]</pre></div></div></div><div class=\"sk-serial\"><div class=\"sk-item\"><div class=\"sk-estimator sk-toggleable\"><input class=\"sk-toggleable__control sk-hidden--visually\" id=\"sk-estimator-id-75\" type=\"checkbox\" ><label for=\"sk-estimator-id-75\" class=\"sk-toggleable__label sk-toggleable__label-arrow\">SimpleImputer</label><div class=\"sk-toggleable__content\"><pre>SimpleImputer(strategy=&#x27;most_frequent&#x27;)</pre></div></div></div></div></div></div></div></div><div class=\"sk-item sk-dashed-wrapped\"><div class=\"sk-label-container\"><div class=\"sk-label sk-toggleable\"><input class=\"sk-toggleable__control sk-hidden--visually\" id=\"sk-estimator-id-76\" type=\"checkbox\" ><label for=\"sk-estimator-id-76\" class=\"sk-toggleable__label sk-toggleable__label-arrow\">fe: ColumnTransformer</label><div class=\"sk-toggleable__content\"><pre>ColumnTransformer(transformers=[(&#x27;fu_age&#x27;,\n",
       "                                 FeatureUnion(transformer_list=[(&#x27;fe_age_12&#x27;,\n",
       "                                                                 Binarizer(threshold=12)),\n",
       "                                                                (&#x27;fe_age_18&#x27;,\n",
       "                                                                 Binarizer(threshold=18)),\n",
       "                                                                (&#x27;fe_age_pass&#x27;,\n",
       "                                                                 &#x27;passthrough&#x27;)]),\n",
       "                                 [&#x27;impute_numerical__Age&#x27;]),\n",
       "                                (&#x27;pass&#x27;, &#x27;passthrough&#x27;, [1, 2, 3, 4, 5]),\n",
       "                                (&#x27;fe_cabin&#x27;,\n",
       "                                 Pipeline(steps=[(&#x27;extract_first_letter&#x27;,\n",
       "                                                  CabinTransformer()),\n",
       "                                                 (&#x27;ohe_first_letter&#x27;,\n",
       "                                                  OneHotEncoder(sparse_output=False))]),\n",
       "                                 [&#x27;impute_cabin__Cabin&#x27;]),\n",
       "                                (&#x27;ohe&#x27;, OneHotEncoder(sparse_output=False),\n",
       "                                 [&#x27;impute_categorical__HomePlanet&#x27;,\n",
       "                                  &#x27;impute_categorical__CryoSleep&#x27;,\n",
       "                                  &#x27;impute_categorical__VIP&#x27;]),\n",
       "                                (&#x27;or&#x27;, OrdinalEncoder(),\n",
       "                                 [&#x27;impute_categorical__Destination&#x27;])])</pre></div></div></div><div class=\"sk-parallel\"><div class=\"sk-parallel-item\"><div class=\"sk-item\"><div class=\"sk-label-container\"><div class=\"sk-label sk-toggleable\"><input class=\"sk-toggleable__control sk-hidden--visually\" id=\"sk-estimator-id-77\" type=\"checkbox\" ><label for=\"sk-estimator-id-77\" class=\"sk-toggleable__label sk-toggleable__label-arrow\">fu_age</label><div class=\"sk-toggleable__content\"><pre>[&#x27;impute_numerical__Age&#x27;]</pre></div></div></div><div class=\"sk-serial\"><div class=\"sk-item sk-dashed-wrapped\"><div class=\"sk-parallel\"><div class=\"sk-parallel-item\"><div class=\"sk-item\"><div class=\"sk-label-container\"><div class=\"sk-label sk-toggleable\"><label>fe_age_12</label></div></div><div class=\"sk-serial\"><div class=\"sk-item\"><div class=\"sk-estimator sk-toggleable\"><input class=\"sk-toggleable__control sk-hidden--visually\" id=\"sk-estimator-id-78\" type=\"checkbox\" ><label for=\"sk-estimator-id-78\" class=\"sk-toggleable__label sk-toggleable__label-arrow\">Binarizer</label><div class=\"sk-toggleable__content\"><pre>Binarizer(threshold=12)</pre></div></div></div></div></div></div><div class=\"sk-parallel-item\"><div class=\"sk-item\"><div class=\"sk-label-container\"><div class=\"sk-label sk-toggleable\"><label>fe_age_18</label></div></div><div class=\"sk-serial\"><div class=\"sk-item\"><div class=\"sk-estimator sk-toggleable\"><input class=\"sk-toggleable__control sk-hidden--visually\" id=\"sk-estimator-id-79\" type=\"checkbox\" ><label for=\"sk-estimator-id-79\" class=\"sk-toggleable__label sk-toggleable__label-arrow\">Binarizer</label><div class=\"sk-toggleable__content\"><pre>Binarizer(threshold=18)</pre></div></div></div></div></div></div><div class=\"sk-parallel-item\"><div class=\"sk-item\"><div class=\"sk-label-container\"><div class=\"sk-label sk-toggleable\"><label>fe_age_pass</label></div></div><div class=\"sk-serial\"><div class=\"sk-item\"><div class=\"sk-estimator sk-toggleable\"><input class=\"sk-toggleable__control sk-hidden--visually\" id=\"sk-estimator-id-80\" type=\"checkbox\" ><label for=\"sk-estimator-id-80\" class=\"sk-toggleable__label sk-toggleable__label-arrow\">passthrough</label><div class=\"sk-toggleable__content\"><pre>passthrough</pre></div></div></div></div></div></div></div></div></div></div></div><div class=\"sk-parallel-item\"><div class=\"sk-item\"><div class=\"sk-label-container\"><div class=\"sk-label sk-toggleable\"><input class=\"sk-toggleable__control sk-hidden--visually\" id=\"sk-estimator-id-81\" type=\"checkbox\" ><label for=\"sk-estimator-id-81\" class=\"sk-toggleable__label sk-toggleable__label-arrow\">pass</label><div class=\"sk-toggleable__content\"><pre>[1, 2, 3, 4, 5]</pre></div></div></div><div class=\"sk-serial\"><div class=\"sk-item\"><div class=\"sk-estimator sk-toggleable\"><input class=\"sk-toggleable__control sk-hidden--visually\" id=\"sk-estimator-id-82\" type=\"checkbox\" ><label for=\"sk-estimator-id-82\" class=\"sk-toggleable__label sk-toggleable__label-arrow\">passthrough</label><div class=\"sk-toggleable__content\"><pre>passthrough</pre></div></div></div></div></div></div><div class=\"sk-parallel-item\"><div class=\"sk-item\"><div class=\"sk-label-container\"><div class=\"sk-label sk-toggleable\"><input class=\"sk-toggleable__control sk-hidden--visually\" id=\"sk-estimator-id-83\" type=\"checkbox\" ><label for=\"sk-estimator-id-83\" class=\"sk-toggleable__label sk-toggleable__label-arrow\">fe_cabin</label><div class=\"sk-toggleable__content\"><pre>[&#x27;impute_cabin__Cabin&#x27;]</pre></div></div></div><div class=\"sk-serial\"><div class=\"sk-item\"><div class=\"sk-serial\"><div class=\"sk-item\"><div class=\"sk-estimator sk-toggleable\"><input class=\"sk-toggleable__control sk-hidden--visually\" id=\"sk-estimator-id-84\" type=\"checkbox\" ><label for=\"sk-estimator-id-84\" class=\"sk-toggleable__label sk-toggleable__label-arrow\">CabinTransformer</label><div class=\"sk-toggleable__content\"><pre>CabinTransformer()</pre></div></div></div><div class=\"sk-item\"><div class=\"sk-estimator sk-toggleable\"><input class=\"sk-toggleable__control sk-hidden--visually\" id=\"sk-estimator-id-85\" type=\"checkbox\" ><label for=\"sk-estimator-id-85\" class=\"sk-toggleable__label sk-toggleable__label-arrow\">OneHotEncoder</label><div class=\"sk-toggleable__content\"><pre>OneHotEncoder(sparse_output=False)</pre></div></div></div></div></div></div></div></div><div class=\"sk-parallel-item\"><div class=\"sk-item\"><div class=\"sk-label-container\"><div class=\"sk-label sk-toggleable\"><input class=\"sk-toggleable__control sk-hidden--visually\" id=\"sk-estimator-id-86\" type=\"checkbox\" ><label for=\"sk-estimator-id-86\" class=\"sk-toggleable__label sk-toggleable__label-arrow\">ohe</label><div class=\"sk-toggleable__content\"><pre>[&#x27;impute_categorical__HomePlanet&#x27;, &#x27;impute_categorical__CryoSleep&#x27;, &#x27;impute_categorical__VIP&#x27;]</pre></div></div></div><div class=\"sk-serial\"><div class=\"sk-item\"><div class=\"sk-estimator sk-toggleable\"><input class=\"sk-toggleable__control sk-hidden--visually\" id=\"sk-estimator-id-87\" type=\"checkbox\" ><label for=\"sk-estimator-id-87\" class=\"sk-toggleable__label sk-toggleable__label-arrow\">OneHotEncoder</label><div class=\"sk-toggleable__content\"><pre>OneHotEncoder(sparse_output=False)</pre></div></div></div></div></div></div><div class=\"sk-parallel-item\"><div class=\"sk-item\"><div class=\"sk-label-container\"><div class=\"sk-label sk-toggleable\"><input class=\"sk-toggleable__control sk-hidden--visually\" id=\"sk-estimator-id-88\" type=\"checkbox\" ><label for=\"sk-estimator-id-88\" class=\"sk-toggleable__label sk-toggleable__label-arrow\">or</label><div class=\"sk-toggleable__content\"><pre>[&#x27;impute_categorical__Destination&#x27;]</pre></div></div></div><div class=\"sk-serial\"><div class=\"sk-item\"><div class=\"sk-estimator sk-toggleable\"><input class=\"sk-toggleable__control sk-hidden--visually\" id=\"sk-estimator-id-89\" type=\"checkbox\" ><label for=\"sk-estimator-id-89\" class=\"sk-toggleable__label sk-toggleable__label-arrow\">OrdinalEncoder</label><div class=\"sk-toggleable__content\"><pre>OrdinalEncoder()</pre></div></div></div></div></div></div></div></div><div class=\"sk-item\"><div class=\"sk-estimator sk-toggleable\"><input class=\"sk-toggleable__control sk-hidden--visually\" id=\"sk-estimator-id-90\" type=\"checkbox\" ><label for=\"sk-estimator-id-90\" class=\"sk-toggleable__label sk-toggleable__label-arrow\">HistGradientBoostingClassifier</label><div class=\"sk-toggleable__content\"><pre>HistGradientBoostingClassifier()</pre></div></div></div></div></div></div></div>"
      ],
      "text/plain": [
       "Pipeline(steps=[('impute',\n",
       "                 ColumnTransformer(transformers=[('impute_numerical',\n",
       "                                                  SimpleImputer(),\n",
       "                                                  <sklearn.compose._column_transformer.make_column_selector object at 0x166636e80>),\n",
       "                                                 ('impute_cabin',\n",
       "                                                  SimpleImputer(fill_value='NA',\n",
       "                                                                strategy='constant'),\n",
       "                                                  ['Cabin']),\n",
       "                                                 ('impute_categorical',\n",
       "                                                  SimpleImputer(strategy='most_frequent'),\n",
       "                                                  ['HomePlanet', 'CryoSleep',\n",
       "                                                   'Destinatio...\n",
       "                                                  Pipeline(steps=[('extract_first_letter',\n",
       "                                                                   CabinTransformer()),\n",
       "                                                                  ('ohe_first_letter',\n",
       "                                                                   OneHotEncoder(sparse_output=False))]),\n",
       "                                                  ['impute_cabin__Cabin']),\n",
       "                                                 ('ohe',\n",
       "                                                  OneHotEncoder(sparse_output=False),\n",
       "                                                  ['impute_categorical__HomePlanet',\n",
       "                                                   'impute_categorical__CryoSleep',\n",
       "                                                   'impute_categorical__VIP']),\n",
       "                                                 ('or', OrdinalEncoder(),\n",
       "                                                  ['impute_categorical__Destination'])])),\n",
       "                ('model', HistGradientBoostingClassifier())])"
      ]
     },
     "execution_count": 67,
     "metadata": {},
     "output_type": "execute_result"
    }
   ],
   "source": [
    "pipe"
   ]
  },
  {
   "cell_type": "code",
   "execution_count": 68,
   "id": "e6a2e4ab",
   "metadata": {},
   "outputs": [
    {
     "data": {
      "text/html": [
       "<style>#sk-container-id-6 {color: black;background-color: white;}#sk-container-id-6 pre{padding: 0;}#sk-container-id-6 div.sk-toggleable {background-color: white;}#sk-container-id-6 label.sk-toggleable__label {cursor: pointer;display: block;width: 100%;margin-bottom: 0;padding: 0.3em;box-sizing: border-box;text-align: center;}#sk-container-id-6 label.sk-toggleable__label-arrow:before {content: \"▸\";float: left;margin-right: 0.25em;color: #696969;}#sk-container-id-6 label.sk-toggleable__label-arrow:hover:before {color: black;}#sk-container-id-6 div.sk-estimator:hover label.sk-toggleable__label-arrow:before {color: black;}#sk-container-id-6 div.sk-toggleable__content {max-height: 0;max-width: 0;overflow: hidden;text-align: left;background-color: #f0f8ff;}#sk-container-id-6 div.sk-toggleable__content pre {margin: 0.2em;color: black;border-radius: 0.25em;background-color: #f0f8ff;}#sk-container-id-6 input.sk-toggleable__control:checked~div.sk-toggleable__content {max-height: 200px;max-width: 100%;overflow: auto;}#sk-container-id-6 input.sk-toggleable__control:checked~label.sk-toggleable__label-arrow:before {content: \"▾\";}#sk-container-id-6 div.sk-estimator input.sk-toggleable__control:checked~label.sk-toggleable__label {background-color: #d4ebff;}#sk-container-id-6 div.sk-label input.sk-toggleable__control:checked~label.sk-toggleable__label {background-color: #d4ebff;}#sk-container-id-6 input.sk-hidden--visually {border: 0;clip: rect(1px 1px 1px 1px);clip: rect(1px, 1px, 1px, 1px);height: 1px;margin: -1px;overflow: hidden;padding: 0;position: absolute;width: 1px;}#sk-container-id-6 div.sk-estimator {font-family: monospace;background-color: #f0f8ff;border: 1px dotted black;border-radius: 0.25em;box-sizing: border-box;margin-bottom: 0.5em;}#sk-container-id-6 div.sk-estimator:hover {background-color: #d4ebff;}#sk-container-id-6 div.sk-parallel-item::after {content: \"\";width: 100%;border-bottom: 1px solid gray;flex-grow: 1;}#sk-container-id-6 div.sk-label:hover label.sk-toggleable__label {background-color: #d4ebff;}#sk-container-id-6 div.sk-serial::before {content: \"\";position: absolute;border-left: 1px solid gray;box-sizing: border-box;top: 0;bottom: 0;left: 50%;z-index: 0;}#sk-container-id-6 div.sk-serial {display: flex;flex-direction: column;align-items: center;background-color: white;padding-right: 0.2em;padding-left: 0.2em;position: relative;}#sk-container-id-6 div.sk-item {position: relative;z-index: 1;}#sk-container-id-6 div.sk-parallel {display: flex;align-items: stretch;justify-content: center;background-color: white;position: relative;}#sk-container-id-6 div.sk-item::before, #sk-container-id-6 div.sk-parallel-item::before {content: \"\";position: absolute;border-left: 1px solid gray;box-sizing: border-box;top: 0;bottom: 0;left: 50%;z-index: -1;}#sk-container-id-6 div.sk-parallel-item {display: flex;flex-direction: column;z-index: 1;position: relative;background-color: white;}#sk-container-id-6 div.sk-parallel-item:first-child::after {align-self: flex-end;width: 50%;}#sk-container-id-6 div.sk-parallel-item:last-child::after {align-self: flex-start;width: 50%;}#sk-container-id-6 div.sk-parallel-item:only-child::after {width: 0;}#sk-container-id-6 div.sk-dashed-wrapped {border: 1px dashed gray;margin: 0 0.4em 0.5em 0.4em;box-sizing: border-box;padding-bottom: 0.4em;background-color: white;}#sk-container-id-6 div.sk-label label {font-family: monospace;font-weight: bold;display: inline-block;line-height: 1.2em;}#sk-container-id-6 div.sk-label-container {text-align: center;}#sk-container-id-6 div.sk-container {/* jupyter's `normalize.less` sets `[hidden] { display: none; }` but bootstrap.min.css set `[hidden] { display: none !important; }` so we also need the `!important` here to be able to override the default hidden behavior on the sphinx rendered scikit-learn.org. See: https://github.com/scikit-learn/scikit-learn/issues/21755 */display: inline-block !important;position: relative;}#sk-container-id-6 div.sk-text-repr-fallback {display: none;}</style><div id=\"sk-container-id-6\" class=\"sk-top-container\"><div class=\"sk-text-repr-fallback\"><pre>HistGradientBoostingClassifier()</pre><b>In a Jupyter environment, please rerun this cell to show the HTML representation or trust the notebook. <br />On GitHub, the HTML representation is unable to render, please try loading this page with nbviewer.org.</b></div><div class=\"sk-container\" hidden><div class=\"sk-item\"><div class=\"sk-estimator sk-toggleable\"><input class=\"sk-toggleable__control sk-hidden--visually\" id=\"sk-estimator-id-91\" type=\"checkbox\" checked><label for=\"sk-estimator-id-91\" class=\"sk-toggleable__label sk-toggleable__label-arrow\">HistGradientBoostingClassifier</label><div class=\"sk-toggleable__content\"><pre>HistGradientBoostingClassifier()</pre></div></div></div></div></div>"
      ],
      "text/plain": [
       "HistGradientBoostingClassifier()"
      ]
     },
     "execution_count": 68,
     "metadata": {},
     "output_type": "execute_result"
    }
   ],
   "source": [
    "pipe[-1]"
   ]
  },
  {
   "cell_type": "code",
   "execution_count": 69,
   "id": "e86af2f5",
   "metadata": {
    "scrolled": false
   },
   "outputs": [],
   "source": [
    "if isinstance(pipe[-1], DecisionTreeClassifier):\n",
    "    \n",
    "    fig = plt.figure(figsize = (15, 20))\n",
    "    ax = fig.subplots()\n",
    "\n",
    "    plot_tree(\n",
    "        decision_tree = pipe[-1],\n",
    "        feature_names = X_train_.columns,\n",
    "        ax = ax,\n",
    "        fontsize = 8\n",
    "    )\n",
    "\n",
    "    plt.tight_layout()"
   ]
  },
  {
   "cell_type": "markdown",
   "id": "c21f1de3",
   "metadata": {},
   "source": [
    "# Submission a Kaggle"
   ]
  },
  {
   "cell_type": "code",
   "execution_count": 70,
   "id": "879d0bf3",
   "metadata": {},
   "outputs": [],
   "source": [
    "y_pred = pipe.predict(X_test)"
   ]
  },
  {
   "cell_type": "code",
   "execution_count": 71,
   "id": "3d7d85d2",
   "metadata": {},
   "outputs": [
    {
     "data": {
      "text/plain": [
       "'2024_03_30_19_46_37'"
      ]
     },
     "execution_count": 71,
     "metadata": {},
     "output_type": "execute_result"
    }
   ],
   "source": [
    "timestamp = datetime.datetime.now().strftime(\"%Y_%m_%d_%H_%M_%S\")\n",
    "timestamp"
   ]
  },
  {
   "cell_type": "code",
   "execution_count": 72,
   "id": "744c7adc",
   "metadata": {},
   "outputs": [],
   "source": [
    "X_test_copy = X_test.copy(deep = True)"
   ]
  },
  {
   "cell_type": "code",
   "execution_count": 73,
   "id": "f051e2ef",
   "metadata": {},
   "outputs": [],
   "source": [
    "X_test_copy[\"Transported\"] = list(map(bool, y_pred))"
   ]
  },
  {
   "cell_type": "code",
   "execution_count": 74,
   "id": "777cf1cc",
   "metadata": {},
   "outputs": [],
   "source": [
    "(\n",
    "    X_test_copy\n",
    "    .reset_index()\n",
    "    [[\"PassengerId\", \"Transported\"]]\n",
    "    .to_csv(f\"submission_{timestamp}.csv\", index=False)\n",
    ")"
   ]
  },
  {
   "cell_type": "code",
   "execution_count": 75,
   "id": "c344cb04",
   "metadata": {},
   "outputs": [
    {
     "data": {
      "text/plain": [
       "0.02735999999999994"
      ]
     },
     "execution_count": 75,
     "metadata": {},
     "output_type": "execute_result"
    }
   ],
   "source": [
    "0.82043 - 0.79307"
   ]
  },
  {
   "cell_type": "code",
   "execution_count": null,
   "id": "e12a37ed",
   "metadata": {},
   "outputs": [],
   "source": []
  }
 ],
 "metadata": {
  "kernelspec": {
   "display_name": "env_sklearn_benchmark",
   "language": "python",
   "name": "env_sklearn_benchmark"
  },
  "language_info": {
   "codemirror_mode": {
    "name": "ipython",
    "version": 3
   },
   "file_extension": ".py",
   "mimetype": "text/x-python",
   "name": "python",
   "nbconvert_exporter": "python",
   "pygments_lexer": "ipython3",
   "version": "3.9.6"
  }
 },
 "nbformat": 4,
 "nbformat_minor": 5
}
