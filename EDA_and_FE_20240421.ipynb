{
 "cells": [
  {
   "cell_type": "markdown",
   "id": "3c0c9542",
   "metadata": {},
   "source": [
    "# Imports"
   ]
  },
  {
   "cell_type": "code",
   "execution_count": 1,
   "id": "87199426-35a2-4b64-9668-ef7c6ffe9874",
   "metadata": {},
   "outputs": [],
   "source": [
    "import os\n",
    "\n",
    "import datetime\n",
    "\n",
    "from typing import Union\n",
    "\n",
    "import numpy as np\n",
    "import pandas as pd\n",
    "\n",
    "import seaborn as sns\n",
    "\n",
    "import matplotlib\n",
    "import matplotlib.pyplot as plt\n",
    "%matplotlib inline\n",
    "\n",
    "from sklearn.base import BaseEstimator, TransformerMixin\n",
    "from sklearn.pipeline import Pipeline, FeatureUnion, FunctionTransformer\n",
    "from sklearn.compose import ColumnTransformer, make_column_selector, make_column_transformer\n",
    "from sklearn.impute import SimpleImputer\n",
    "from sklearn.preprocessing import Binarizer, OneHotEncoder, OrdinalEncoder, KBinsDiscretizer\n",
    "from sklearn.tree import DecisionTreeClassifier, plot_tree\n",
    "from sklearn.model_selection import cross_val_score\n",
    "from sklearn.ensemble import RandomForestClassifier, HistGradientBoostingClassifier, VotingClassifier\n",
    "\n",
    "import catboost\n",
    "import xgboost"
   ]
  },
  {
   "cell_type": "code",
   "execution_count": 2,
   "id": "cfbe49ba-7217-44de-8194-1ef1efe88c06",
   "metadata": {},
   "outputs": [],
   "source": [
    "import sklearn\n",
    "from sklearn import set_config"
   ]
  },
  {
   "cell_type": "code",
   "execution_count": 3,
   "id": "f0fd807c",
   "metadata": {},
   "outputs": [
    {
     "name": "stdout",
     "output_type": "stream",
     "text": [
      "scikit-learn version is 1.4.1.post1\n"
     ]
    }
   ],
   "source": [
    "print(f\"scikit-learn version is {sklearn.__version__}\")"
   ]
  },
  {
   "cell_type": "code",
   "execution_count": 4,
   "id": "70e7f5ad",
   "metadata": {},
   "outputs": [],
   "source": [
    "if sklearn.__version__ not in [\"1.2.0\", \"1.2.2\", \"1.4.1.post1\"]:\n",
    "    os.system(\"pip install scikit-learn==1.2.0\")"
   ]
  },
  {
   "cell_type": "markdown",
   "id": "a05b6d2c",
   "metadata": {},
   "source": [
    "# Global Configuration"
   ]
  },
  {
   "cell_type": "code",
   "execution_count": 5,
   "id": "dd90fcd5-9e92-42d0-9516-b5e9848c21e9",
   "metadata": {},
   "outputs": [],
   "source": [
    "set_config(transform_output=\"pandas\")"
   ]
  },
  {
   "cell_type": "code",
   "execution_count": 6,
   "id": "5b4991c5",
   "metadata": {},
   "outputs": [],
   "source": [
    "CWD = os.getcwd()\n",
    "KAGGLE = \"kaggle\" in CWD"
   ]
  },
  {
   "cell_type": "code",
   "execution_count": 7,
   "id": "ca0d8ccc",
   "metadata": {},
   "outputs": [
    {
     "name": "stdout",
     "output_type": "stream",
     "text": [
      "/Users/nicolaepopescul/Desktop/streams/20240328_sklearn_modelo_benchmark_ml\n"
     ]
    }
   ],
   "source": [
    "print(CWD)"
   ]
  },
  {
   "cell_type": "code",
   "execution_count": 8,
   "id": "26b93958-9737-4950-b01a-b7500bd2fc52",
   "metadata": {},
   "outputs": [
    {
     "name": "stdout",
     "output_type": "stream",
     "text": [
      "['test.csv', 'spaceship-titanic.zip', 'train.csv', 'sample_submission.csv']\n"
     ]
    }
   ],
   "source": [
    "if not KAGGLE:\n",
    "    PATH_INPUT = os.path.join(CWD, \"input\")\n",
    "    PATH_INPUT_TRAIN = os.path.join(PATH_INPUT, \"train.csv\")\n",
    "    PATH_INPUT_TEST = os.path.join(PATH_INPUT, \"test.csv\")\n",
    "    \n",
    "    print(os.listdir(PATH_INPUT))\n",
    "    \n",
    "else:\n",
    "    PATH_INPUT_TRAIN = \"/kaggle/input/spaceship-titanic/train.csv\"\n",
    "    PATH_INPUT_TEST = \"/kaggle/input/spaceship-titanic/test.csv\""
   ]
  },
  {
   "cell_type": "code",
   "execution_count": 9,
   "id": "208f90a7-8e63-4659-b83d-396ea490c5b3",
   "metadata": {},
   "outputs": [
    {
     "data": {
      "text/plain": [
       "['.DS_Store',\n",
       " '.git',\n",
       " '.gitignore',\n",
       " '.ipynb_checkpoints',\n",
       " 'EDA_and_FE_20240421.ipynb',\n",
       " 'Model_20240421.ipynb',\n",
       " 'catboost_info',\n",
       " 'input',\n",
       " 'notebooks',\n",
       " 'outputs',\n",
       " 'requirements.txt',\n",
       " 'src',\n",
       " 'venvs',\n",
       " 'videos']"
      ]
     },
     "execution_count": 9,
     "metadata": {},
     "output_type": "execute_result"
    }
   ],
   "source": [
    "sorted(os.listdir(CWD))"
   ]
  },
  {
   "cell_type": "markdown",
   "id": "d5ed6d14",
   "metadata": {},
   "source": [
    "# Helper functions"
   ]
  },
  {
   "cell_type": "code",
   "execution_count": 10,
   "id": "8bfa1522",
   "metadata": {},
   "outputs": [],
   "source": [
    "def load_data():\n",
    "    \n",
    "    X_train = pd.read_csv(PATH_INPUT_TRAIN).set_index(\"PassengerId\")\n",
    "    X_test = pd.read_csv(PATH_INPUT_TEST).set_index(\"PassengerId\")\n",
    "    \n",
    "    return X_train, X_test"
   ]
  },
  {
   "cell_type": "markdown",
   "id": "0b484da1",
   "metadata": {},
   "source": [
    "# Dataset loading & EDA"
   ]
  },
  {
   "cell_type": "code",
   "execution_count": 11,
   "id": "627d4f0d-2d43-478a-861b-89111db18547",
   "metadata": {},
   "outputs": [],
   "source": [
    "X, _ = load_data()"
   ]
  },
  {
   "cell_type": "code",
   "execution_count": 45,
   "id": "760b50b5",
   "metadata": {},
   "outputs": [
    {
     "data": {
      "text/plain": [
       "183"
      ]
     },
     "execution_count": 45,
     "metadata": {},
     "output_type": "execute_result"
    }
   ],
   "source": [
    "X[\"Spa\"].isnull().sum()"
   ]
  },
  {
   "cell_type": "code",
   "execution_count": 18,
   "id": "c2d286f9",
   "metadata": {},
   "outputs": [
    {
     "data": {
      "text/plain": [
       "count     8510.000000\n",
       "mean       311.138778\n",
       "std       1136.705535\n",
       "min          0.000000\n",
       "25%          0.000000\n",
       "50%          0.000000\n",
       "75%         59.000000\n",
       "max      22408.000000\n",
       "Name: Spa, dtype: float64"
      ]
     },
     "execution_count": 18,
     "metadata": {},
     "output_type": "execute_result"
    }
   ],
   "source": [
    "X[\"Spa\"].describe()"
   ]
  },
  {
   "cell_type": "code",
   "execution_count": 19,
   "id": "17b69ed1",
   "metadata": {},
   "outputs": [],
   "source": [
    "X[\"SpaBoolean\"] = X[\"Spa\"] > 0"
   ]
  },
  {
   "cell_type": "code",
   "execution_count": 20,
   "id": "e43d5073",
   "metadata": {},
   "outputs": [
    {
     "data": {
      "text/plain": [
       "SpaBoolean\n",
       "False    0.634465\n",
       "True     0.277464\n",
       "Name: Transported, dtype: float64"
      ]
     },
     "execution_count": 20,
     "metadata": {},
     "output_type": "execute_result"
    }
   ],
   "source": [
    "X.groupby([\"SpaBoolean\"])[\"Transported\"].mean()"
   ]
  },
  {
   "cell_type": "code",
   "execution_count": null,
   "id": "ff31abe0",
   "metadata": {},
   "outputs": [],
   "source": [
    "KBinsDiscretizer()"
   ]
  },
  {
   "cell_type": "code",
   "execution_count": 38,
   "id": "5c4eecfc",
   "metadata": {},
   "outputs": [],
   "source": [
    "kbins = KBinsDiscretizer(\n",
    "    n_bins = 20,\n",
    "    strategy = \"uniform\",\n",
    "    encode = \"ordinal\"\n",
    ")"
   ]
  },
  {
   "cell_type": "code",
   "execution_count": 39,
   "id": "b419f276",
   "metadata": {},
   "outputs": [],
   "source": [
    "X_ = X[X[\"Spa\"] > 0][[\"Spa\", \"Transported\"]]"
   ]
  },
  {
   "cell_type": "code",
   "execution_count": 40,
   "id": "808c9dae",
   "metadata": {},
   "outputs": [
    {
     "name": "stderr",
     "output_type": "stream",
     "text": [
      "/Users/nicolaepopescul/Desktop/streams/20240328_sklearn_modelo_benchmark_ml/venvs/env_skrub/lib/python3.10/site-packages/sklearn/preprocessing/_discretization.py:248: FutureWarning: In version 1.5 onwards, subsample=200_000 will be used by default. Set subsample explicitly to silence this warning in the mean time. Set subsample=None to disable subsampling explicitly.\n",
      "  warnings.warn(\n"
     ]
    }
   ],
   "source": [
    "X_[\"SpaBinned\"] = kbins.fit_transform(X_[[\"Spa\"]])"
   ]
  },
  {
   "cell_type": "code",
   "execution_count": 44,
   "id": "03f866af",
   "metadata": {},
   "outputs": [
    {
     "name": "stderr",
     "output_type": "stream",
     "text": [
      "/var/folders/m8/pkh7yz5j3_318g64strn1y680000gn/T/ipykernel_58908/815410111.py:2: FutureWarning: The provided callable <function mean at 0x103f4fd90> is currently using SeriesGroupBy.mean. In a future version of pandas, the provided callable will be used directly. To keep current behavior pass the string \"mean\" instead.\n",
      "  X_\n"
     ]
    },
    {
     "data": {
      "text/html": [
       "<div>\n",
       "<style scoped>\n",
       "    .dataframe tbody tr th:only-of-type {\n",
       "        vertical-align: middle;\n",
       "    }\n",
       "\n",
       "    .dataframe tbody tr th {\n",
       "        vertical-align: top;\n",
       "    }\n",
       "\n",
       "    .dataframe thead th {\n",
       "        text-align: right;\n",
       "    }\n",
       "</style>\n",
       "<table border=\"1\" class=\"dataframe\">\n",
       "  <thead>\n",
       "    <tr style=\"text-align: right;\">\n",
       "      <th>nr</th>\n",
       "      <th>1</th>\n",
       "      <th>2</th>\n",
       "      <th>4</th>\n",
       "      <th>5</th>\n",
       "      <th>7</th>\n",
       "      <th>8</th>\n",
       "      <th>10</th>\n",
       "      <th>12</th>\n",
       "      <th>21</th>\n",
       "      <th>52</th>\n",
       "      <th>72</th>\n",
       "      <th>107</th>\n",
       "      <th>282</th>\n",
       "      <th>2599</th>\n",
       "    </tr>\n",
       "    <tr>\n",
       "      <th>SpaBinned</th>\n",
       "      <th></th>\n",
       "      <th></th>\n",
       "      <th></th>\n",
       "      <th></th>\n",
       "      <th></th>\n",
       "      <th></th>\n",
       "      <th></th>\n",
       "      <th></th>\n",
       "      <th></th>\n",
       "      <th></th>\n",
       "      <th></th>\n",
       "      <th></th>\n",
       "      <th></th>\n",
       "      <th></th>\n",
       "    </tr>\n",
       "  </thead>\n",
       "  <tbody>\n",
       "    <tr>\n",
       "      <th>0.0</th>\n",
       "      <td>0.0</td>\n",
       "      <td>0.0</td>\n",
       "      <td>0.0</td>\n",
       "      <td>0.0</td>\n",
       "      <td>0.0</td>\n",
       "      <td>0.0</td>\n",
       "      <td>0.0</td>\n",
       "      <td>0.0</td>\n",
       "      <td>0.0</td>\n",
       "      <td>0.0</td>\n",
       "      <td>0.000000</td>\n",
       "      <td>0.000000</td>\n",
       "      <td>0.000000</td>\n",
       "      <td>0.318199</td>\n",
       "    </tr>\n",
       "    <tr>\n",
       "      <th>1.0</th>\n",
       "      <td>0.0</td>\n",
       "      <td>0.0</td>\n",
       "      <td>0.0</td>\n",
       "      <td>0.0</td>\n",
       "      <td>0.0</td>\n",
       "      <td>0.0</td>\n",
       "      <td>0.0</td>\n",
       "      <td>0.0</td>\n",
       "      <td>0.0</td>\n",
       "      <td>0.0</td>\n",
       "      <td>0.000000</td>\n",
       "      <td>0.000000</td>\n",
       "      <td>0.156028</td>\n",
       "      <td>0.000000</td>\n",
       "    </tr>\n",
       "    <tr>\n",
       "      <th>2.0</th>\n",
       "      <td>0.0</td>\n",
       "      <td>0.0</td>\n",
       "      <td>0.0</td>\n",
       "      <td>0.0</td>\n",
       "      <td>0.0</td>\n",
       "      <td>0.0</td>\n",
       "      <td>0.0</td>\n",
       "      <td>0.0</td>\n",
       "      <td>0.0</td>\n",
       "      <td>0.0</td>\n",
       "      <td>0.000000</td>\n",
       "      <td>0.102804</td>\n",
       "      <td>0.000000</td>\n",
       "      <td>0.000000</td>\n",
       "    </tr>\n",
       "    <tr>\n",
       "      <th>3.0</th>\n",
       "      <td>0.0</td>\n",
       "      <td>0.0</td>\n",
       "      <td>0.0</td>\n",
       "      <td>0.0</td>\n",
       "      <td>0.0</td>\n",
       "      <td>0.0</td>\n",
       "      <td>0.0</td>\n",
       "      <td>0.0</td>\n",
       "      <td>0.0</td>\n",
       "      <td>0.0</td>\n",
       "      <td>0.027778</td>\n",
       "      <td>0.000000</td>\n",
       "      <td>0.000000</td>\n",
       "      <td>0.000000</td>\n",
       "    </tr>\n",
       "    <tr>\n",
       "      <th>4.0</th>\n",
       "      <td>0.0</td>\n",
       "      <td>0.0</td>\n",
       "      <td>0.0</td>\n",
       "      <td>0.0</td>\n",
       "      <td>0.0</td>\n",
       "      <td>0.0</td>\n",
       "      <td>0.0</td>\n",
       "      <td>0.0</td>\n",
       "      <td>0.0</td>\n",
       "      <td>0.0</td>\n",
       "      <td>0.000000</td>\n",
       "      <td>0.000000</td>\n",
       "      <td>0.000000</td>\n",
       "      <td>0.000000</td>\n",
       "    </tr>\n",
       "    <tr>\n",
       "      <th>5.0</th>\n",
       "      <td>0.0</td>\n",
       "      <td>0.0</td>\n",
       "      <td>0.0</td>\n",
       "      <td>0.0</td>\n",
       "      <td>0.0</td>\n",
       "      <td>0.0</td>\n",
       "      <td>0.0</td>\n",
       "      <td>0.0</td>\n",
       "      <td>0.0</td>\n",
       "      <td>0.0</td>\n",
       "      <td>0.000000</td>\n",
       "      <td>0.000000</td>\n",
       "      <td>0.000000</td>\n",
       "      <td>0.000000</td>\n",
       "    </tr>\n",
       "    <tr>\n",
       "      <th>6.0</th>\n",
       "      <td>0.0</td>\n",
       "      <td>0.0</td>\n",
       "      <td>0.0</td>\n",
       "      <td>0.0</td>\n",
       "      <td>0.0</td>\n",
       "      <td>0.0</td>\n",
       "      <td>0.0</td>\n",
       "      <td>0.0</td>\n",
       "      <td>0.0</td>\n",
       "      <td>0.0</td>\n",
       "      <td>0.000000</td>\n",
       "      <td>0.000000</td>\n",
       "      <td>0.000000</td>\n",
       "      <td>0.000000</td>\n",
       "    </tr>\n",
       "    <tr>\n",
       "      <th>7.0</th>\n",
       "      <td>0.0</td>\n",
       "      <td>0.0</td>\n",
       "      <td>0.0</td>\n",
       "      <td>0.0</td>\n",
       "      <td>0.0</td>\n",
       "      <td>0.0</td>\n",
       "      <td>0.0</td>\n",
       "      <td>0.0</td>\n",
       "      <td>0.0</td>\n",
       "      <td>0.0</td>\n",
       "      <td>0.000000</td>\n",
       "      <td>0.000000</td>\n",
       "      <td>0.000000</td>\n",
       "      <td>0.000000</td>\n",
       "    </tr>\n",
       "    <tr>\n",
       "      <th>8.0</th>\n",
       "      <td>0.0</td>\n",
       "      <td>0.0</td>\n",
       "      <td>0.0</td>\n",
       "      <td>0.0</td>\n",
       "      <td>0.0</td>\n",
       "      <td>0.0</td>\n",
       "      <td>0.0</td>\n",
       "      <td>0.0</td>\n",
       "      <td>0.0</td>\n",
       "      <td>0.0</td>\n",
       "      <td>0.000000</td>\n",
       "      <td>0.000000</td>\n",
       "      <td>0.000000</td>\n",
       "      <td>0.000000</td>\n",
       "    </tr>\n",
       "    <tr>\n",
       "      <th>9.0</th>\n",
       "      <td>0.0</td>\n",
       "      <td>0.0</td>\n",
       "      <td>0.0</td>\n",
       "      <td>0.0</td>\n",
       "      <td>0.0</td>\n",
       "      <td>0.0</td>\n",
       "      <td>0.0</td>\n",
       "      <td>0.0</td>\n",
       "      <td>0.0</td>\n",
       "      <td>0.0</td>\n",
       "      <td>0.000000</td>\n",
       "      <td>0.000000</td>\n",
       "      <td>0.000000</td>\n",
       "      <td>0.000000</td>\n",
       "    </tr>\n",
       "    <tr>\n",
       "      <th>10.0</th>\n",
       "      <td>0.0</td>\n",
       "      <td>0.0</td>\n",
       "      <td>0.0</td>\n",
       "      <td>0.0</td>\n",
       "      <td>0.0</td>\n",
       "      <td>0.0</td>\n",
       "      <td>0.0</td>\n",
       "      <td>0.0</td>\n",
       "      <td>0.0</td>\n",
       "      <td>0.0</td>\n",
       "      <td>0.000000</td>\n",
       "      <td>0.000000</td>\n",
       "      <td>0.000000</td>\n",
       "      <td>0.000000</td>\n",
       "    </tr>\n",
       "    <tr>\n",
       "      <th>11.0</th>\n",
       "      <td>0.0</td>\n",
       "      <td>0.0</td>\n",
       "      <td>0.0</td>\n",
       "      <td>0.0</td>\n",
       "      <td>0.0</td>\n",
       "      <td>0.0</td>\n",
       "      <td>0.0</td>\n",
       "      <td>0.0</td>\n",
       "      <td>0.0</td>\n",
       "      <td>0.0</td>\n",
       "      <td>0.000000</td>\n",
       "      <td>0.000000</td>\n",
       "      <td>0.000000</td>\n",
       "      <td>0.000000</td>\n",
       "    </tr>\n",
       "    <tr>\n",
       "      <th>12.0</th>\n",
       "      <td>0.0</td>\n",
       "      <td>0.0</td>\n",
       "      <td>0.0</td>\n",
       "      <td>0.0</td>\n",
       "      <td>0.0</td>\n",
       "      <td>0.0</td>\n",
       "      <td>0.0</td>\n",
       "      <td>0.0</td>\n",
       "      <td>0.0</td>\n",
       "      <td>0.0</td>\n",
       "      <td>0.000000</td>\n",
       "      <td>0.000000</td>\n",
       "      <td>0.000000</td>\n",
       "      <td>0.000000</td>\n",
       "    </tr>\n",
       "    <tr>\n",
       "      <th>13.0</th>\n",
       "      <td>0.0</td>\n",
       "      <td>0.0</td>\n",
       "      <td>0.0</td>\n",
       "      <td>0.0</td>\n",
       "      <td>0.0</td>\n",
       "      <td>0.0</td>\n",
       "      <td>0.0</td>\n",
       "      <td>0.0</td>\n",
       "      <td>0.0</td>\n",
       "      <td>0.0</td>\n",
       "      <td>0.000000</td>\n",
       "      <td>0.000000</td>\n",
       "      <td>0.000000</td>\n",
       "      <td>0.000000</td>\n",
       "    </tr>\n",
       "    <tr>\n",
       "      <th>14.0</th>\n",
       "      <td>0.0</td>\n",
       "      <td>0.0</td>\n",
       "      <td>0.0</td>\n",
       "      <td>0.0</td>\n",
       "      <td>0.0</td>\n",
       "      <td>0.0</td>\n",
       "      <td>0.0</td>\n",
       "      <td>0.0</td>\n",
       "      <td>0.0</td>\n",
       "      <td>0.0</td>\n",
       "      <td>0.000000</td>\n",
       "      <td>0.000000</td>\n",
       "      <td>0.000000</td>\n",
       "      <td>0.000000</td>\n",
       "    </tr>\n",
       "    <tr>\n",
       "      <th>16.0</th>\n",
       "      <td>0.0</td>\n",
       "      <td>0.0</td>\n",
       "      <td>0.0</td>\n",
       "      <td>0.0</td>\n",
       "      <td>0.0</td>\n",
       "      <td>0.0</td>\n",
       "      <td>0.0</td>\n",
       "      <td>0.0</td>\n",
       "      <td>0.0</td>\n",
       "      <td>0.0</td>\n",
       "      <td>0.000000</td>\n",
       "      <td>0.000000</td>\n",
       "      <td>0.000000</td>\n",
       "      <td>0.000000</td>\n",
       "    </tr>\n",
       "    <tr>\n",
       "      <th>19.0</th>\n",
       "      <td>0.0</td>\n",
       "      <td>0.0</td>\n",
       "      <td>0.0</td>\n",
       "      <td>0.0</td>\n",
       "      <td>0.0</td>\n",
       "      <td>0.0</td>\n",
       "      <td>0.0</td>\n",
       "      <td>0.0</td>\n",
       "      <td>0.0</td>\n",
       "      <td>0.0</td>\n",
       "      <td>0.000000</td>\n",
       "      <td>0.000000</td>\n",
       "      <td>0.000000</td>\n",
       "      <td>0.000000</td>\n",
       "    </tr>\n",
       "  </tbody>\n",
       "</table>\n",
       "</div>"
      ],
      "text/plain": [
       "nr         1     2     4     5     7     8     10    12    21    52    \\\n",
       "SpaBinned                                                               \n",
       "0.0         0.0   0.0   0.0   0.0   0.0   0.0   0.0   0.0   0.0   0.0   \n",
       "1.0         0.0   0.0   0.0   0.0   0.0   0.0   0.0   0.0   0.0   0.0   \n",
       "2.0         0.0   0.0   0.0   0.0   0.0   0.0   0.0   0.0   0.0   0.0   \n",
       "3.0         0.0   0.0   0.0   0.0   0.0   0.0   0.0   0.0   0.0   0.0   \n",
       "4.0         0.0   0.0   0.0   0.0   0.0   0.0   0.0   0.0   0.0   0.0   \n",
       "5.0         0.0   0.0   0.0   0.0   0.0   0.0   0.0   0.0   0.0   0.0   \n",
       "6.0         0.0   0.0   0.0   0.0   0.0   0.0   0.0   0.0   0.0   0.0   \n",
       "7.0         0.0   0.0   0.0   0.0   0.0   0.0   0.0   0.0   0.0   0.0   \n",
       "8.0         0.0   0.0   0.0   0.0   0.0   0.0   0.0   0.0   0.0   0.0   \n",
       "9.0         0.0   0.0   0.0   0.0   0.0   0.0   0.0   0.0   0.0   0.0   \n",
       "10.0        0.0   0.0   0.0   0.0   0.0   0.0   0.0   0.0   0.0   0.0   \n",
       "11.0        0.0   0.0   0.0   0.0   0.0   0.0   0.0   0.0   0.0   0.0   \n",
       "12.0        0.0   0.0   0.0   0.0   0.0   0.0   0.0   0.0   0.0   0.0   \n",
       "13.0        0.0   0.0   0.0   0.0   0.0   0.0   0.0   0.0   0.0   0.0   \n",
       "14.0        0.0   0.0   0.0   0.0   0.0   0.0   0.0   0.0   0.0   0.0   \n",
       "16.0        0.0   0.0   0.0   0.0   0.0   0.0   0.0   0.0   0.0   0.0   \n",
       "19.0        0.0   0.0   0.0   0.0   0.0   0.0   0.0   0.0   0.0   0.0   \n",
       "\n",
       "nr             72        107       282       2599  \n",
       "SpaBinned                                          \n",
       "0.0        0.000000  0.000000  0.000000  0.318199  \n",
       "1.0        0.000000  0.000000  0.156028  0.000000  \n",
       "2.0        0.000000  0.102804  0.000000  0.000000  \n",
       "3.0        0.027778  0.000000  0.000000  0.000000  \n",
       "4.0        0.000000  0.000000  0.000000  0.000000  \n",
       "5.0        0.000000  0.000000  0.000000  0.000000  \n",
       "6.0        0.000000  0.000000  0.000000  0.000000  \n",
       "7.0        0.000000  0.000000  0.000000  0.000000  \n",
       "8.0        0.000000  0.000000  0.000000  0.000000  \n",
       "9.0        0.000000  0.000000  0.000000  0.000000  \n",
       "10.0       0.000000  0.000000  0.000000  0.000000  \n",
       "11.0       0.000000  0.000000  0.000000  0.000000  \n",
       "12.0       0.000000  0.000000  0.000000  0.000000  \n",
       "13.0       0.000000  0.000000  0.000000  0.000000  \n",
       "14.0       0.000000  0.000000  0.000000  0.000000  \n",
       "16.0       0.000000  0.000000  0.000000  0.000000  \n",
       "19.0       0.000000  0.000000  0.000000  0.000000  "
      ]
     },
     "execution_count": 44,
     "metadata": {},
     "output_type": "execute_result"
    }
   ],
   "source": [
    "(\n",
    "    X_\n",
    "    .groupby([\"SpaBinned\"])\n",
    "    .agg(\n",
    "        nr = (\"Spa\", len),\n",
    "        mean_target = (\"Transported\", np.mean)\n",
    "    )\n",
    "    .reset_index()\n",
    "    .pivot_table(\n",
    "        index = \"SpaBinned\",\n",
    "        columns = \"nr\",\n",
    "        values = \"mean_target\",\n",
    "        aggfunc = lambda val: val,\n",
    "        fill_value = 0\n",
    "    )\n",
    ")"
   ]
  },
  {
   "cell_type": "code",
   "execution_count": 27,
   "id": "1eb9786d",
   "metadata": {},
   "outputs": [
    {
     "data": {
      "text/html": [
       "<div>\n",
       "<style scoped>\n",
       "    .dataframe tbody tr th:only-of-type {\n",
       "        vertical-align: middle;\n",
       "    }\n",
       "\n",
       "    .dataframe tbody tr th {\n",
       "        vertical-align: top;\n",
       "    }\n",
       "\n",
       "    .dataframe thead th {\n",
       "        text-align: right;\n",
       "    }\n",
       "</style>\n",
       "<table border=\"1\" class=\"dataframe\">\n",
       "  <thead>\n",
       "    <tr style=\"text-align: right;\">\n",
       "      <th></th>\n",
       "      <th>Spa</th>\n",
       "      <th>Transported</th>\n",
       "      <th>SpaBinned</th>\n",
       "    </tr>\n",
       "    <tr>\n",
       "      <th>PassengerId</th>\n",
       "      <th></th>\n",
       "      <th></th>\n",
       "      <th></th>\n",
       "    </tr>\n",
       "  </thead>\n",
       "  <tbody>\n",
       "    <tr>\n",
       "      <th>0002_01</th>\n",
       "      <td>549.0</td>\n",
       "      <td>True</td>\n",
       "      <td>0.0</td>\n",
       "    </tr>\n",
       "    <tr>\n",
       "      <th>0003_01</th>\n",
       "      <td>6715.0</td>\n",
       "      <td>False</td>\n",
       "      <td>5.0</td>\n",
       "    </tr>\n",
       "    <tr>\n",
       "      <th>0003_02</th>\n",
       "      <td>3329.0</td>\n",
       "      <td>False</td>\n",
       "      <td>2.0</td>\n",
       "    </tr>\n",
       "    <tr>\n",
       "      <th>0004_01</th>\n",
       "      <td>565.0</td>\n",
       "      <td>True</td>\n",
       "      <td>0.0</td>\n",
       "    </tr>\n",
       "    <tr>\n",
       "      <th>0005_01</th>\n",
       "      <td>291.0</td>\n",
       "      <td>True</td>\n",
       "      <td>0.0</td>\n",
       "    </tr>\n",
       "    <tr>\n",
       "      <th>...</th>\n",
       "      <td>...</td>\n",
       "      <td>...</td>\n",
       "      <td>...</td>\n",
       "    </tr>\n",
       "    <tr>\n",
       "      <th>9275_02</th>\n",
       "      <td>50.0</td>\n",
       "      <td>False</td>\n",
       "      <td>0.0</td>\n",
       "    </tr>\n",
       "    <tr>\n",
       "      <th>9275_03</th>\n",
       "      <td>2.0</td>\n",
       "      <td>True</td>\n",
       "      <td>0.0</td>\n",
       "    </tr>\n",
       "    <tr>\n",
       "      <th>9276_01</th>\n",
       "      <td>1643.0</td>\n",
       "      <td>False</td>\n",
       "      <td>1.0</td>\n",
       "    </tr>\n",
       "    <tr>\n",
       "      <th>9279_01</th>\n",
       "      <td>1.0</td>\n",
       "      <td>True</td>\n",
       "      <td>0.0</td>\n",
       "    </tr>\n",
       "    <tr>\n",
       "      <th>9280_01</th>\n",
       "      <td>353.0</td>\n",
       "      <td>False</td>\n",
       "      <td>0.0</td>\n",
       "    </tr>\n",
       "  </tbody>\n",
       "</table>\n",
       "<p>3186 rows × 3 columns</p>\n",
       "</div>"
      ],
      "text/plain": [
       "                Spa  Transported  SpaBinned\n",
       "PassengerId                                \n",
       "0002_01       549.0         True        0.0\n",
       "0003_01      6715.0        False        5.0\n",
       "0003_02      3329.0        False        2.0\n",
       "0004_01       565.0         True        0.0\n",
       "0005_01       291.0         True        0.0\n",
       "...             ...          ...        ...\n",
       "9275_02        50.0        False        0.0\n",
       "9275_03         2.0         True        0.0\n",
       "9276_01      1643.0        False        1.0\n",
       "9279_01         1.0         True        0.0\n",
       "9280_01       353.0        False        0.0\n",
       "\n",
       "[3186 rows x 3 columns]"
      ]
     },
     "execution_count": 27,
     "metadata": {},
     "output_type": "execute_result"
    }
   ],
   "source": [
    "sns.heatmap()"
   ]
  },
  {
   "cell_type": "code",
   "execution_count": 17,
   "id": "4ed72925",
   "metadata": {},
   "outputs": [
    {
     "data": {
      "text/plain": [
       "0.6124467962728632"
      ]
     },
     "execution_count": 17,
     "metadata": {},
     "output_type": "execute_result"
    }
   ],
   "source": [
    "(X[\"Spa\"] == 0).sum()/X.shape[0]"
   ]
  },
  {
   "cell_type": "code",
   "execution_count": null,
   "id": "257c53b4",
   "metadata": {},
   "outputs": [],
   "source": [
    "(X[\"Spa\"] == 0).sum()/X.shape[0]"
   ]
  },
  {
   "cell_type": "code",
   "execution_count": 16,
   "id": "3812d6d7",
   "metadata": {},
   "outputs": [
    {
     "data": {
      "text/plain": [
       "5324"
      ]
     },
     "execution_count": 16,
     "metadata": {},
     "output_type": "execute_result"
    }
   ],
   "source": [
    "(X[\"Spa\"] == 0).sum()"
   ]
  },
  {
   "cell_type": "code",
   "execution_count": 12,
   "id": "41d3ea38",
   "metadata": {},
   "outputs": [
    {
     "data": {
      "text/plain": [
       "PassengerId\n",
       "0001_01       0.0\n",
       "0002_01     549.0\n",
       "0003_01    6715.0\n",
       "0003_02    3329.0\n",
       "0004_01     565.0\n",
       "            ...  \n",
       "9276_01    1643.0\n",
       "9278_01       0.0\n",
       "9279_01       1.0\n",
       "9280_01     353.0\n",
       "9280_02       0.0\n",
       "Name: Spa, Length: 8693, dtype: float64"
      ]
     },
     "execution_count": 12,
     "metadata": {},
     "output_type": "execute_result"
    }
   ],
   "source": [
    "X[\"Spa\"]"
   ]
  },
  {
   "cell_type": "code",
   "execution_count": null,
   "id": "ac774fed",
   "metadata": {},
   "outputs": [],
   "source": [
    "X[\"Cabin\"]"
   ]
  },
  {
   "cell_type": "code",
   "execution_count": null,
   "id": "c09ce138",
   "metadata": {},
   "outputs": [],
   "source": [
    "X_ = X[\"Cabin\"].str.split(\"/\", expand = True)"
   ]
  },
  {
   "cell_type": "code",
   "execution_count": null,
   "id": "6d2c4675",
   "metadata": {},
   "outputs": [],
   "source": [
    "X_.rename(\n",
    "    columns = {\n",
    "        0:\"FirstLetter\",\n",
    "        1:\"MiddleLetter\",\n",
    "        2:\"LastLetter\"\n",
    "    },\n",
    "    inplace = True\n",
    ")"
   ]
  },
  {
   "cell_type": "code",
   "execution_count": null,
   "id": "267626dd",
   "metadata": {},
   "outputs": [],
   "source": [
    "X = pd.concat(\n",
    "    [\n",
    "        X,\n",
    "        X_\n",
    "    ],\n",
    "    axis = 1\n",
    ")"
   ]
  },
  {
   "cell_type": "code",
   "execution_count": null,
   "id": "6b252e48",
   "metadata": {},
   "outputs": [],
   "source": [
    "X.shape"
   ]
  },
  {
   "cell_type": "code",
   "execution_count": null,
   "id": "af4c4161",
   "metadata": {},
   "outputs": [],
   "source": [
    "X[\"MiddleLetter\"].nunique()"
   ]
  },
  {
   "cell_type": "code",
   "execution_count": null,
   "id": "bbfdaa8f",
   "metadata": {},
   "outputs": [],
   "source": [
    "X[\"MiddleLetter\"].isnull().sum()"
   ]
  },
  {
   "cell_type": "code",
   "execution_count": null,
   "id": "8e58b1eb",
   "metadata": {},
   "outputs": [],
   "source": [
    "X[\"MiddleLetter\"] = X[\"MiddleLetter\"].astype(float)"
   ]
  },
  {
   "cell_type": "code",
   "execution_count": null,
   "id": "7fc57d21",
   "metadata": {},
   "outputs": [],
   "source": [
    "X[\"MiddleLetter\"] = X[\"MiddleLetter\"].fillna(2_000)"
   ]
  },
  {
   "cell_type": "code",
   "execution_count": null,
   "id": "348a83cf",
   "metadata": {},
   "outputs": [],
   "source": [
    "gbdf = (\n",
    "    X\n",
    "    .groupby([\"MiddleLetter\"])\n",
    "    .agg(\n",
    "        mean_transported  = (\"Transported\", np.mean),\n",
    "        nr_transported  = (\"Transported\", len)\n",
    "    )\n",
    "    .reset_index()\n",
    ")"
   ]
  },
  {
   "cell_type": "code",
   "execution_count": null,
   "id": "4bb16b76",
   "metadata": {},
   "outputs": [],
   "source": [
    "gbdf"
   ]
  },
  {
   "cell_type": "code",
   "execution_count": null,
   "id": "6e15c220",
   "metadata": {},
   "outputs": [],
   "source": [
    "gbdf[gbdf[\"MiddleLetter\"] >= 1_000]"
   ]
  },
  {
   "cell_type": "code",
   "execution_count": null,
   "id": "498ff131",
   "metadata": {},
   "outputs": [],
   "source": [
    "gbdf[(gbdf[\"nr_transported\"] == 1) & (gbdf[\"MiddleLetter\"] >= 1_000)]"
   ]
  },
  {
   "cell_type": "code",
   "execution_count": null,
   "id": "e43ba1bf",
   "metadata": {},
   "outputs": [],
   "source": [
    "gbdf[(gbdf[\"nr_transported\"] == 1) & (gbdf[\"MiddleLetter\"] >= 1_000)]"
   ]
  },
  {
   "cell_type": "code",
   "execution_count": null,
   "id": "60a168a4",
   "metadata": {},
   "outputs": [],
   "source": [
    "gbdf[gbdf[\"nr_transported\"] == 1]"
   ]
  },
  {
   "cell_type": "code",
   "execution_count": null,
   "id": "5e1f2a72",
   "metadata": {},
   "outputs": [],
   "source": [
    "(\n",
    "    X[\"MiddleLetter\"]\n",
    "    .value_counts()\n",
    "    .sort_index()\n",
    "    .plot(kind = \"kde\")\n",
    ")"
   ]
  },
  {
   "cell_type": "code",
   "execution_count": null,
   "id": "b3ff0542",
   "metadata": {},
   "outputs": [],
   "source": [
    "kbins = KBinsDiscretizer(\n",
    "    n_bins = 20,\n",
    "    strategy = \"uniform\",\n",
    "    encode = \"ordinal\"\n",
    ")\n",
    "\n",
    "X[\"MiddleLetterBinned\"] = kbins.fit_transform(X[[\"MiddleLetter\"]])"
   ]
  },
  {
   "cell_type": "code",
   "execution_count": null,
   "id": "4736d124",
   "metadata": {},
   "outputs": [],
   "source": [
    "gbdf = (\n",
    "    X\n",
    "    .groupby([\"MiddleLetterBinned\"])\n",
    "    .agg(\n",
    "        mean_transported  = (\"Transported\", np.mean),\n",
    "        nr_transported  = (\"Transported\", len)\n",
    "    )\n",
    "    .reset_index()\n",
    ")"
   ]
  },
  {
   "cell_type": "code",
   "execution_count": null,
   "id": "a53d9707",
   "metadata": {},
   "outputs": [],
   "source": [
    "gbdf.head()"
   ]
  },
  {
   "cell_type": "code",
   "execution_count": null,
   "id": "479086f1",
   "metadata": {},
   "outputs": [],
   "source": [
    "sns.heatmap(gbdf.set_index(\"MiddleLetterBinned\")[[\"mean_transported\"]])"
   ]
  },
  {
   "cell_type": "code",
   "execution_count": null,
   "id": "f95085d2",
   "metadata": {},
   "outputs": [],
   "source": [
    "X[\"TotalExpenses\"] = X.iloc[:, 6:11].sum(axis = 1)"
   ]
  },
  {
   "cell_type": "code",
   "execution_count": null,
   "id": "249ed166",
   "metadata": {},
   "outputs": [],
   "source": [
    "(\n",
    "    X\n",
    "    .groupby([\"HomePlanet\"])\n",
    "    .agg(\n",
    "        sum_expenses = (\"TotalExpenses\", np.sum),\n",
    "        mean_expenses = (\"TotalExpenses\", np.mean),\n",
    "        mean_transported = (\"Transported\", np.mean)\n",
    "    )\n",
    ")"
   ]
  },
  {
   "cell_type": "code",
   "execution_count": null,
   "id": "6bfbf54d",
   "metadata": {},
   "outputs": [],
   "source": [
    "X[\"TotalExpenses\"]"
   ]
  },
  {
   "cell_type": "code",
   "execution_count": null,
   "id": "ded24ff5",
   "metadata": {},
   "outputs": [],
   "source": [
    "X[\"RoomService\"].plot(kind = \"kde\")"
   ]
  },
  {
   "cell_type": "code",
   "execution_count": null,
   "id": "d13615ca",
   "metadata": {},
   "outputs": [],
   "source": [
    "X[\"RoomService\"].value_counts().sort_index()"
   ]
  },
  {
   "cell_type": "code",
   "execution_count": null,
   "id": "7dc52417",
   "metadata": {},
   "outputs": [],
   "source": [
    "nulls_per_row = X.isnull()"
   ]
  },
  {
   "cell_type": "code",
   "execution_count": null,
   "id": "b01ade8c",
   "metadata": {},
   "outputs": [],
   "source": [
    "sns.heatmap(nulls_per_row);"
   ]
  },
  {
   "cell_type": "code",
   "execution_count": null,
   "id": "eb125f17",
   "metadata": {},
   "outputs": [],
   "source": [
    "def bucketize_age(age):\n",
    "    \n",
    "    if 0 <= age < 10:\n",
    "        return \"[0-10)\"\n",
    "    \n",
    "    elif 10 <= age < 20:\n",
    "        return \"[10-20)\"\n",
    "    \n",
    "    elif 20 <= age < 30:\n",
    "        return \"[20-30)\"\n",
    "    \n",
    "    elif 30 <= age < 40:\n",
    "        return \"[30-40)\"\n",
    "    \n",
    "    elif 40 <= age < 50:\n",
    "        return \"[40-50)\"\n",
    "    \n",
    "    elif 50 <= age < 60:\n",
    "        return \"[50-60)\" \n",
    "    \n",
    "    elif 60 <= age < 70:\n",
    "        return \"[60-70)\"\n",
    "    \n",
    "    elif age >= 70:\n",
    "        return \"[70 - inf\""
   ]
  },
  {
   "cell_type": "code",
   "execution_count": null,
   "id": "d315cc4a",
   "metadata": {},
   "outputs": [],
   "source": [
    "Xc = X.copy(deep=True).dropna()"
   ]
  },
  {
   "cell_type": "code",
   "execution_count": null,
   "id": "52d286a1",
   "metadata": {},
   "outputs": [],
   "source": [
    "Xc[\"AgeBuketized\"] = Xc[\"Age\"].apply(bucketize_age)\n",
    "\n",
    "Xc[\"AgeKBinsDiscretized\"] = KBinsDiscretizer(\n",
    "    encode = \"ordinal\",\n",
    "    strategy = \"uniform\",\n",
    "    n_bins = 8\n",
    ").fit_transform(Xc[[\"Age\"]].dropna())"
   ]
  },
  {
   "cell_type": "code",
   "execution_count": null,
   "id": "b48c0c2f",
   "metadata": {},
   "outputs": [],
   "source": [
    "Xc[[\"AgeKBinsDiscretized\", \"AgeBuketized\"]].drop_duplicates().sort_values(\"AgeKBinsDiscretized\")"
   ]
  },
  {
   "cell_type": "code",
   "execution_count": null,
   "id": "4fe560c9",
   "metadata": {},
   "outputs": [],
   "source": [
    "(\n",
    "    Xc\n",
    "    .pivot_table(\n",
    "        index = \"AgeBuketized\",\n",
    "        columns = \"AgeKBinsDiscretized\",\n",
    "        values = \"Age\",\n",
    "        aggfunc = len,\n",
    "        margins = True,\n",
    "        fill_value = 0\n",
    "    )\n",
    ")"
   ]
  },
  {
   "cell_type": "code",
   "execution_count": null,
   "id": "b1c75a55",
   "metadata": {},
   "outputs": [],
   "source": [
    "Xc[[\"AgeKBinsDiscretized\", \"AgeBuketized\", \"Age\"]].drop_duplicates().sort_values(\"Age\")"
   ]
  },
  {
   "cell_type": "code",
   "execution_count": null,
   "id": "3e0fbf9a",
   "metadata": {},
   "outputs": [],
   "source": [
    "r_ = (\n",
    "    Xc\n",
    "    .groupby(\"AgeBuketized\")\n",
    "    .agg(\n",
    "        nr = (\"CryoSleep\", len),\n",
    "        mean_transported = (\"Transported\", np.mean)\n",
    "    )\n",
    "    .reset_index()\n",
    ")"
   ]
  },
  {
   "cell_type": "code",
   "execution_count": null,
   "id": "5cb28ce7",
   "metadata": {},
   "outputs": [],
   "source": [
    "r_"
   ]
  },
  {
   "cell_type": "code",
   "execution_count": null,
   "id": "773b2aef",
   "metadata": {},
   "outputs": [],
   "source": [
    "fig = plt.figure()\n",
    "ax = fig.subplots()\n",
    "\n",
    "ax.bar(x = r_[\"AgeBuketized\"], height = r_[\"nr\"], color = \"#A4CE95\")\n",
    "\n",
    "ax.set_ylim(bottom=0, top=3000)\n",
    "\n",
    "ax2 = ax.twinx()\n",
    "\n",
    "ax2.plot(r_[\"mean_transported\"], color = \"#6196A6\");"
   ]
  },
  {
   "cell_type": "code",
   "execution_count": null,
   "id": "a7f7e950",
   "metadata": {},
   "outputs": [],
   "source": [
    "(X.isnull().sum(axis = 1) == X.shape[1]).sum()"
   ]
  },
  {
   "cell_type": "code",
   "execution_count": null,
   "id": "a1f3a261",
   "metadata": {},
   "outputs": [],
   "source": [
    "(\n",
    "    X\n",
    "    .groupby(\"HomePlanet\")\n",
    "    [\"Transported\"]\n",
    "    .mean()\n",
    "    .sort_values(ascending = False)\n",
    "    .plot(kind = \"bar\")\n",
    ");"
   ]
  },
  {
   "cell_type": "code",
   "execution_count": null,
   "id": "87a66d16",
   "metadata": {},
   "outputs": [],
   "source": [
    "X.head()"
   ]
  },
  {
   "cell_type": "code",
   "execution_count": null,
   "id": "af7ce311",
   "metadata": {},
   "outputs": [],
   "source": [
    "_ = (\n",
    "    X\n",
    "    .groupby([\"HomePlanet\", \"CryoSleep\"])\n",
    "    .agg(\n",
    "        nr_rows = (\"Cabin\", len),\n",
    "        transported_ratio = (\"Transported\", np.mean)\n",
    "    )\n",
    "    .assign(\n",
    "        nr_rows_pct = lambda df: round((df[\"nr_rows\"]/df[\"nr_rows\"].sum())*100, 2),\n",
    "        transported_ratio = lambda df: round(df[\"transported_ratio\"] * 100, 2)\n",
    "    )\n",
    ");"
   ]
  },
  {
   "cell_type": "code",
   "execution_count": null,
   "id": "b29bee69",
   "metadata": {},
   "outputs": [],
   "source": [
    "_"
   ]
  },
  {
   "cell_type": "code",
   "execution_count": null,
   "id": "ad900dbc",
   "metadata": {},
   "outputs": [],
   "source": [
    "X[\"LenCabin\"] = X[\"Cabin\"].apply(lambda cabin: len(str(cabin)))"
   ]
  },
  {
   "cell_type": "code",
   "execution_count": null,
   "id": "1f31923a",
   "metadata": {},
   "outputs": [],
   "source": [
    "X.groupby([\"LenCabin\"]).size()"
   ]
  },
  {
   "cell_type": "code",
   "execution_count": null,
   "id": "e4d13379",
   "metadata": {},
   "outputs": [],
   "source": [
    "X[X[\"LenCabin\"] == 5].head()"
   ]
  },
  {
   "cell_type": "code",
   "execution_count": null,
   "id": "34ca359f",
   "metadata": {},
   "outputs": [],
   "source": [
    "X[\"Cabin\"].fillna(\"NA\", inplace = True)"
   ]
  },
  {
   "cell_type": "code",
   "execution_count": null,
   "id": "75cae4e2",
   "metadata": {},
   "outputs": [],
   "source": [
    "X[\"CabinFirstLetter\"] = X[\"Cabin\"].apply(lambda cabin: cabin[0] if cabin != \"NA\" else cabin)\n",
    "X[\"CabinLastLetter\"] = X[\"Cabin\"].apply(lambda cabin: cabin[-1] if cabin != \"NA\" else cabin)"
   ]
  },
  {
   "cell_type": "code",
   "execution_count": null,
   "id": "29075ff0",
   "metadata": {},
   "outputs": [],
   "source": [
    "X[\"CabinFirstLetter\"].value_counts().sort_index()"
   ]
  },
  {
   "cell_type": "code",
   "execution_count": null,
   "id": "8b493322",
   "metadata": {},
   "outputs": [],
   "source": [
    "X[\"CabinLastLetter\"].value_counts().sort_index()"
   ]
  },
  {
   "cell_type": "code",
   "execution_count": null,
   "id": "c2d4c839",
   "metadata": {},
   "outputs": [],
   "source": [
    "X[\"Cabin\"].sample(10)"
   ]
  },
  {
   "cell_type": "code",
   "execution_count": null,
   "id": "bcf993d3",
   "metadata": {},
   "outputs": [],
   "source": [
    "(\n",
    "    X\n",
    "    .groupby([\"CabinFirstLetter\"])\n",
    "    [\"Transported\"]\n",
    "    .mean()\n",
    "    .sort_index()\n",
    ")"
   ]
  },
  {
   "cell_type": "code",
   "execution_count": null,
   "id": "b5138e57",
   "metadata": {},
   "outputs": [],
   "source": [
    "(\n",
    "    X\n",
    "    .groupby([\"CabinLastLetter\"])\n",
    "    [\"Transported\"]\n",
    "    .mean()\n",
    "    .sort_index()\n",
    ")"
   ]
  },
  {
   "cell_type": "code",
   "execution_count": null,
   "id": "dd5d3341",
   "metadata": {},
   "outputs": [],
   "source": [
    "pd.concat([\n",
    "    (\n",
    "        X\n",
    "        .groupby([\"CabinFirstLetter\", \"CabinLastLetter\"])\n",
    "        [\"Transported\"]\n",
    "        .mean()\n",
    "        .sort_index()\n",
    "        .unstack()\n",
    "    ),\n",
    "    (\n",
    "        X\n",
    "        .groupby([\"CabinFirstLetter\"])\n",
    "        [\"Transported\"]\n",
    "        .mean()\n",
    "        .sort_index()\n",
    "    )], axis = 1)"
   ]
  },
  {
   "cell_type": "code",
   "execution_count": null,
   "id": "66565f24-b1e3-42fd-aadb-511c504645b2",
   "metadata": {},
   "outputs": [],
   "source": [
    "X.describe()"
   ]
  },
  {
   "cell_type": "code",
   "execution_count": null,
   "id": "463efae3-d71e-4cf2-943c-711c20e1110f",
   "metadata": {},
   "outputs": [],
   "source": [
    "X.isnull().sum()"
   ]
  },
  {
   "cell_type": "code",
   "execution_count": null,
   "id": "28234a6f-21ee-45a3-82b8-a15647ea2862",
   "metadata": {},
   "outputs": [],
   "source": [
    "X.shape"
   ]
  },
  {
   "cell_type": "code",
   "execution_count": null,
   "id": "c832f7e5",
   "metadata": {},
   "outputs": [],
   "source": [
    "(\n",
    "    X\n",
    "    .pivot_table(\n",
    "        index = \"HomePlanet\",\n",
    "        columns = \"Destination\",\n",
    "        values = \"Transported\",\n",
    "        aggfunc = [len, np.mean],\n",
    "        margins = True\n",
    "    )\n",
    ")"
   ]
  },
  {
   "cell_type": "code",
   "execution_count": null,
   "id": "1b091bf4",
   "metadata": {},
   "outputs": [],
   "source": [
    "X[\"Name\"].fillna(\"NA\").apply(lambda name: len(name.split(\" \"))).value_counts()"
   ]
  },
  {
   "cell_type": "code",
   "execution_count": null,
   "id": "0c0b55c8",
   "metadata": {},
   "outputs": [],
   "source": [
    "X.head()"
   ]
  },
  {
   "cell_type": "code",
   "execution_count": null,
   "id": "0c70a8c1",
   "metadata": {},
   "outputs": [],
   "source": [
    "X[\"Surname\"] = X[\"Name\"].fillna(\"NA\").apply(lambda name: name.split(\" \")[1] if name != \"NA\" else name)"
   ]
  },
  {
   "cell_type": "code",
   "execution_count": null,
   "id": "ef7df9dc",
   "metadata": {},
   "outputs": [],
   "source": [
    "X[\"Surname\"]"
   ]
  },
  {
   "cell_type": "code",
   "execution_count": null,
   "id": "724160cf",
   "metadata": {},
   "outputs": [],
   "source": [
    "(\n",
    "    X\n",
    "    .groupby([\"Surname\"])\n",
    "    [\"Transported\"]\n",
    "    .mean()\n",
    ")"
   ]
  },
  {
   "cell_type": "code",
   "execution_count": null,
   "id": "a31bb6fe",
   "metadata": {},
   "outputs": [],
   "source": [
    "(\n",
    "    X\n",
    "    .groupby([\"Surname\"])\n",
    "    [\"Transported\"]\n",
    "    .mean()\n",
    "    .value_counts(normalize=True)\n",
    "    .sort_index()\n",
    ")"
   ]
  },
  {
   "cell_type": "code",
   "execution_count": null,
   "id": "81e3c6a8",
   "metadata": {},
   "outputs": [],
   "source": [
    "del X, _"
   ]
  }
 ],
 "metadata": {
  "kernelspec": {
   "display_name": "env_skrub",
   "language": "python",
   "name": "env_skrub"
  },
  "language_info": {
   "codemirror_mode": {
    "name": "ipython",
    "version": 3
   },
   "file_extension": ".py",
   "mimetype": "text/x-python",
   "name": "python",
   "nbconvert_exporter": "python",
   "pygments_lexer": "ipython3",
   "version": "3.10.14"
  }
 },
 "nbformat": 4,
 "nbformat_minor": 5
}
